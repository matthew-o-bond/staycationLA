{
 "cells": [
  {
   "cell_type": "markdown",
   "metadata": {},
   "source": [
    "Goals:\n",
    "-evaluate whether a pricing test running on the site has been successful\n",
    "-focus on user segmentation and provide insights about segments who behave differently \n",
    "\n",
    "Questions:\n",
    "1. Should the company sell its software for \\\\$39 or \\\\$59?\n",
    "\n",
    "2. The VP of Product is interested in having a holistic view into user behavior, especially focusing on actionable insights that might increase conversion rate. What are your main findings looking at the data?\n",
    "\n",
    "3. The VP of Product feels that the test has been running for too long and she should have been able to get statistically significant results in a shorter time. Do you agree with her intuition? After how many days would you have stopped the test? Please, explain why."
   ]
  },
  {
   "cell_type": "markdown",
   "metadata": {},
   "source": [
    "Answers:\n",
    "\n",
    "Q1: The higher price results in significantly fewer sales but increases profit overall, therefore the company would be more profitable if it raised prices (10% increase in profit)\n",
    "\n",
    "\n",
    "Q2: Across all data in the experiment and looking at only the higher price test results, the following variables significantly increase conversion rate:\n",
    "\n",
    "operating system (iOS and mac users are almost 2x more likely than android and windows)\n",
    "\n",
    "marketing source (friend referrals are 2-3x more likely to purchase than ads, seo, or direct traffic)\n",
    "\n",
    "search engine used for seo and ads (google > facebook > other > yahoo or bing. Google users are twice as likely to purchase than yahoo or bing)\n",
    "\n",
    "\n",
    "Q3: to get the same effect size as this study with power = 0.8 and alpha = 0.05, you \"only\" needed 122,638 responses. If 316,800 responses total in 110 days, about 2,880 responses/day. \n",
    "122,638/2,880 = 42.6 days, so the experiment could have been ended after 43 days. \n",
    "\n"
   ]
  },
  {
   "cell_type": "markdown",
   "metadata": {},
   "source": [
    "Recommendations:\n",
    "\n",
    "To increase profitability, I recommend raising the product price to $59 dollars. \n",
    "\n",
    "To increase conversion rate, I recommend incentivizing friend referrals (such as through the use of a discount code for friends and rebate for the recommender), because the highest converstion rate of any variable in this study is from friend recommendations. Advertisements should be targeted to mac/ios users, ads and seo should focus on google and facebook. "
   ]
  },
  {
   "cell_type": "markdown",
   "metadata": {},
   "source": [
    "With additional time, I would like to analyze how sales changed over date, and whether time of day is correlated with conversion rate. I would also convert gps points to state names so that state effects on conversion rate could be assessed to further target consumer advertising. "
   ]
  },
  {
   "cell_type": "code",
   "execution_count": 30,
   "metadata": {},
   "outputs": [],
   "source": [
    "%matplotlib inline\n",
    "import matplotlib.pyplot as plt\n",
    "\n",
    "#Load libraries for data processing\n",
    "import pandas as pd #data processing, CSV file I/O (e.g. pd.read_csv)\n",
    "import numpy as np\n",
    "from scipy.stats import norm\n",
    "import seaborn as sns # visualization"
   ]
  },
  {
   "cell_type": "code",
   "execution_count": null,
   "metadata": {},
   "outputs": [],
   "source": []
  },
  {
   "cell_type": "code",
   "execution_count": 31,
   "metadata": {},
   "outputs": [
    {
     "data": {
      "text/html": [
       "<div>\n",
       "<style scoped>\n",
       "    .dataframe tbody tr th:only-of-type {\n",
       "        vertical-align: middle;\n",
       "    }\n",
       "\n",
       "    .dataframe tbody tr th {\n",
       "        vertical-align: top;\n",
       "    }\n",
       "\n",
       "    .dataframe thead th {\n",
       "        text-align: right;\n",
       "    }\n",
       "</style>\n",
       "<table border=\"1\" class=\"dataframe\">\n",
       "  <thead>\n",
       "    <tr style=\"text-align: right;\">\n",
       "      <th></th>\n",
       "      <th>Unnamed: 0</th>\n",
       "      <th>user_id</th>\n",
       "      <th>timestamp</th>\n",
       "      <th>source</th>\n",
       "      <th>device</th>\n",
       "      <th>operative_system</th>\n",
       "      <th>test</th>\n",
       "      <th>price</th>\n",
       "      <th>converted</th>\n",
       "    </tr>\n",
       "  </thead>\n",
       "  <tbody>\n",
       "    <tr>\n",
       "      <th>0</th>\n",
       "      <td>0</td>\n",
       "      <td>604839</td>\n",
       "      <td>2015-05-08 03:38:34</td>\n",
       "      <td>ads_facebook</td>\n",
       "      <td>mobile</td>\n",
       "      <td>iOS</td>\n",
       "      <td>0</td>\n",
       "      <td>39.0</td>\n",
       "      <td>0</td>\n",
       "    </tr>\n",
       "    <tr>\n",
       "      <th>1</th>\n",
       "      <td>1</td>\n",
       "      <td>624057</td>\n",
       "      <td>2015-05-10 21:08:46</td>\n",
       "      <td>seo-google</td>\n",
       "      <td>mobile</td>\n",
       "      <td>android</td>\n",
       "      <td>0</td>\n",
       "      <td>39.0</td>\n",
       "      <td>0</td>\n",
       "    </tr>\n",
       "    <tr>\n",
       "      <th>2</th>\n",
       "      <td>2</td>\n",
       "      <td>317970</td>\n",
       "      <td>2015-04-04 15:01:23</td>\n",
       "      <td>ads-bing</td>\n",
       "      <td>mobile</td>\n",
       "      <td>android</td>\n",
       "      <td>0</td>\n",
       "      <td>39.0</td>\n",
       "      <td>0</td>\n",
       "    </tr>\n",
       "    <tr>\n",
       "      <th>3</th>\n",
       "      <td>3</td>\n",
       "      <td>685636</td>\n",
       "      <td>2015-05-07 07:26:01</td>\n",
       "      <td>direct_traffic</td>\n",
       "      <td>mobile</td>\n",
       "      <td>iOS</td>\n",
       "      <td>1</td>\n",
       "      <td>59.0</td>\n",
       "      <td>0</td>\n",
       "    </tr>\n",
       "    <tr>\n",
       "      <th>4</th>\n",
       "      <td>4</td>\n",
       "      <td>820854</td>\n",
       "      <td>2015-05-24 11:04:40</td>\n",
       "      <td>ads_facebook</td>\n",
       "      <td>web</td>\n",
       "      <td>mac</td>\n",
       "      <td>0</td>\n",
       "      <td>39.0</td>\n",
       "      <td>0</td>\n",
       "    </tr>\n",
       "    <tr>\n",
       "      <th>...</th>\n",
       "      <td>...</td>\n",
       "      <td>...</td>\n",
       "      <td>...</td>\n",
       "      <td>...</td>\n",
       "      <td>...</td>\n",
       "      <td>...</td>\n",
       "      <td>...</td>\n",
       "      <td>...</td>\n",
       "      <td>...</td>\n",
       "    </tr>\n",
       "    <tr>\n",
       "      <th>316795</th>\n",
       "      <td>316795</td>\n",
       "      <td>17427</td>\n",
       "      <td>2015-04-11 09:29:15</td>\n",
       "      <td>ads_facebook</td>\n",
       "      <td>web</td>\n",
       "      <td>windows</td>\n",
       "      <td>0</td>\n",
       "      <td>39.0</td>\n",
       "      <td>0</td>\n",
       "    </tr>\n",
       "    <tr>\n",
       "      <th>316796</th>\n",
       "      <td>316796</td>\n",
       "      <td>687787</td>\n",
       "      <td>2015-03-16 23:31:55</td>\n",
       "      <td>direct_traffic</td>\n",
       "      <td>web</td>\n",
       "      <td>windows</td>\n",
       "      <td>0</td>\n",
       "      <td>39.0</td>\n",
       "      <td>0</td>\n",
       "    </tr>\n",
       "    <tr>\n",
       "      <th>316797</th>\n",
       "      <td>316797</td>\n",
       "      <td>618863</td>\n",
       "      <td>2015-04-11 01:35:19</td>\n",
       "      <td>ads-google</td>\n",
       "      <td>web</td>\n",
       "      <td>mac</td>\n",
       "      <td>0</td>\n",
       "      <td>39.0</td>\n",
       "      <td>0</td>\n",
       "    </tr>\n",
       "    <tr>\n",
       "      <th>316798</th>\n",
       "      <td>316798</td>\n",
       "      <td>154636</td>\n",
       "      <td>2015-05-14 05:46:42</td>\n",
       "      <td>friend_referral</td>\n",
       "      <td>mobile</td>\n",
       "      <td>android</td>\n",
       "      <td>0</td>\n",
       "      <td>39.0</td>\n",
       "      <td>0</td>\n",
       "    </tr>\n",
       "    <tr>\n",
       "      <th>316799</th>\n",
       "      <td>316799</td>\n",
       "      <td>832372</td>\n",
       "      <td>2015-03-08 17:12:33</td>\n",
       "      <td>ads_facebook</td>\n",
       "      <td>mobile</td>\n",
       "      <td>android</td>\n",
       "      <td>1</td>\n",
       "      <td>59.0</td>\n",
       "      <td>0</td>\n",
       "    </tr>\n",
       "  </tbody>\n",
       "</table>\n",
       "<p>316800 rows × 9 columns</p>\n",
       "</div>"
      ],
      "text/plain": [
       "        Unnamed: 0  user_id            timestamp           source  device  \\\n",
       "0                0   604839  2015-05-08 03:38:34     ads_facebook  mobile   \n",
       "1                1   624057  2015-05-10 21:08:46       seo-google  mobile   \n",
       "2                2   317970  2015-04-04 15:01:23         ads-bing  mobile   \n",
       "3                3   685636  2015-05-07 07:26:01   direct_traffic  mobile   \n",
       "4                4   820854  2015-05-24 11:04:40     ads_facebook     web   \n",
       "...            ...      ...                  ...              ...     ...   \n",
       "316795      316795    17427  2015-04-11 09:29:15     ads_facebook     web   \n",
       "316796      316796   687787  2015-03-16 23:31:55   direct_traffic     web   \n",
       "316797      316797   618863  2015-04-11 01:35:19       ads-google     web   \n",
       "316798      316798   154636  2015-05-14 05:46:42  friend_referral  mobile   \n",
       "316799      316799   832372  2015-03-08 17:12:33     ads_facebook  mobile   \n",
       "\n",
       "       operative_system  test  price  converted  \n",
       "0                   iOS     0   39.0          0  \n",
       "1               android     0   39.0          0  \n",
       "2               android     0   39.0          0  \n",
       "3                   iOS     1   59.0          0  \n",
       "4                   mac     0   39.0          0  \n",
       "...                 ...   ...    ...        ...  \n",
       "316795          windows     0   39.0          0  \n",
       "316796          windows     0   39.0          0  \n",
       "316797              mac     0   39.0          0  \n",
       "316798          android     0   39.0          0  \n",
       "316799          android     1   59.0          0  \n",
       "\n",
       "[316800 rows x 9 columns]"
      ]
     },
     "execution_count": 31,
     "metadata": {},
     "output_type": "execute_result"
    }
   ],
   "source": [
    "#read the csf\n",
    "experiment = pd.read_csv(\"..//test_results.csv\", index_col=None)\n",
    "experiment"
   ]
  },
  {
   "cell_type": "code",
   "execution_count": 32,
   "metadata": {},
   "outputs": [
    {
     "data": {
      "text/html": [
       "<div>\n",
       "<style scoped>\n",
       "    .dataframe tbody tr th:only-of-type {\n",
       "        vertical-align: middle;\n",
       "    }\n",
       "\n",
       "    .dataframe tbody tr th {\n",
       "        vertical-align: top;\n",
       "    }\n",
       "\n",
       "    .dataframe thead th {\n",
       "        text-align: right;\n",
       "    }\n",
       "</style>\n",
       "<table border=\"1\" class=\"dataframe\">\n",
       "  <thead>\n",
       "    <tr style=\"text-align: right;\">\n",
       "      <th></th>\n",
       "      <th>user_id</th>\n",
       "      <th>city</th>\n",
       "      <th>country</th>\n",
       "      <th>lat</th>\n",
       "      <th>long</th>\n",
       "    </tr>\n",
       "  </thead>\n",
       "  <tbody>\n",
       "    <tr>\n",
       "      <th>0</th>\n",
       "      <td>510335</td>\n",
       "      <td>Peabody</td>\n",
       "      <td>USA</td>\n",
       "      <td>42.53</td>\n",
       "      <td>-70.97</td>\n",
       "    </tr>\n",
       "    <tr>\n",
       "      <th>1</th>\n",
       "      <td>89568</td>\n",
       "      <td>Reno</td>\n",
       "      <td>USA</td>\n",
       "      <td>39.54</td>\n",
       "      <td>-119.82</td>\n",
       "    </tr>\n",
       "    <tr>\n",
       "      <th>2</th>\n",
       "      <td>434134</td>\n",
       "      <td>Rialto</td>\n",
       "      <td>USA</td>\n",
       "      <td>34.11</td>\n",
       "      <td>-117.39</td>\n",
       "    </tr>\n",
       "    <tr>\n",
       "      <th>3</th>\n",
       "      <td>289769</td>\n",
       "      <td>Carson City</td>\n",
       "      <td>USA</td>\n",
       "      <td>39.15</td>\n",
       "      <td>-119.74</td>\n",
       "    </tr>\n",
       "    <tr>\n",
       "      <th>4</th>\n",
       "      <td>939586</td>\n",
       "      <td>Chicago</td>\n",
       "      <td>USA</td>\n",
       "      <td>41.84</td>\n",
       "      <td>-87.68</td>\n",
       "    </tr>\n",
       "    <tr>\n",
       "      <th>...</th>\n",
       "      <td>...</td>\n",
       "      <td>...</td>\n",
       "      <td>...</td>\n",
       "      <td>...</td>\n",
       "      <td>...</td>\n",
       "    </tr>\n",
       "    <tr>\n",
       "      <th>275611</th>\n",
       "      <td>485975</td>\n",
       "      <td>Atlanta</td>\n",
       "      <td>USA</td>\n",
       "      <td>33.76</td>\n",
       "      <td>-84.42</td>\n",
       "    </tr>\n",
       "    <tr>\n",
       "      <th>275612</th>\n",
       "      <td>35479</td>\n",
       "      <td>Los Angeles</td>\n",
       "      <td>USA</td>\n",
       "      <td>34.11</td>\n",
       "      <td>-118.41</td>\n",
       "    </tr>\n",
       "    <tr>\n",
       "      <th>275613</th>\n",
       "      <td>516519</td>\n",
       "      <td>Chicago</td>\n",
       "      <td>USA</td>\n",
       "      <td>41.84</td>\n",
       "      <td>-87.68</td>\n",
       "    </tr>\n",
       "    <tr>\n",
       "      <th>275614</th>\n",
       "      <td>984877</td>\n",
       "      <td>Tampa</td>\n",
       "      <td>USA</td>\n",
       "      <td>27.96</td>\n",
       "      <td>-82.48</td>\n",
       "    </tr>\n",
       "    <tr>\n",
       "      <th>275615</th>\n",
       "      <td>232078</td>\n",
       "      <td>Springfield</td>\n",
       "      <td>USA</td>\n",
       "      <td>44.05</td>\n",
       "      <td>-122.98</td>\n",
       "    </tr>\n",
       "  </tbody>\n",
       "</table>\n",
       "<p>275616 rows × 5 columns</p>\n",
       "</div>"
      ],
      "text/plain": [
       "        user_id         city country    lat    long\n",
       "0        510335      Peabody     USA  42.53  -70.97\n",
       "1         89568         Reno     USA  39.54 -119.82\n",
       "2        434134       Rialto     USA  34.11 -117.39\n",
       "3        289769  Carson City     USA  39.15 -119.74\n",
       "4        939586      Chicago     USA  41.84  -87.68\n",
       "...         ...          ...     ...    ...     ...\n",
       "275611   485975      Atlanta     USA  33.76  -84.42\n",
       "275612    35479  Los Angeles     USA  34.11 -118.41\n",
       "275613   516519      Chicago     USA  41.84  -87.68\n",
       "275614   984877        Tampa     USA  27.96  -82.48\n",
       "275615   232078  Springfield     USA  44.05 -122.98\n",
       "\n",
       "[275616 rows x 5 columns]"
      ]
     },
     "execution_count": 32,
     "metadata": {},
     "output_type": "execute_result"
    }
   ],
   "source": [
    "users = pd.read_csv(\"../user_table.csv\", index_col=None)\n",
    "users"
   ]
  },
  {
   "cell_type": "code",
   "execution_count": 33,
   "metadata": {},
   "outputs": [
    {
     "data": {
      "text/html": [
       "<div>\n",
       "<style scoped>\n",
       "    .dataframe tbody tr th:only-of-type {\n",
       "        vertical-align: middle;\n",
       "    }\n",
       "\n",
       "    .dataframe tbody tr th {\n",
       "        vertical-align: top;\n",
       "    }\n",
       "\n",
       "    .dataframe thead th {\n",
       "        text-align: right;\n",
       "    }\n",
       "</style>\n",
       "<table border=\"1\" class=\"dataframe\">\n",
       "  <thead>\n",
       "    <tr style=\"text-align: right;\">\n",
       "      <th></th>\n",
       "      <th>user_id</th>\n",
       "      <th>timestamp</th>\n",
       "      <th>source</th>\n",
       "      <th>device</th>\n",
       "      <th>operative_system</th>\n",
       "      <th>test</th>\n",
       "      <th>price</th>\n",
       "      <th>converted</th>\n",
       "      <th>city</th>\n",
       "      <th>country</th>\n",
       "      <th>lat</th>\n",
       "      <th>long</th>\n",
       "    </tr>\n",
       "  </thead>\n",
       "  <tbody>\n",
       "    <tr>\n",
       "      <th>0</th>\n",
       "      <td>604839</td>\n",
       "      <td>2015-05-08 03:38:34</td>\n",
       "      <td>ads_facebook</td>\n",
       "      <td>mobile</td>\n",
       "      <td>iOS</td>\n",
       "      <td>0</td>\n",
       "      <td>39.0</td>\n",
       "      <td>0</td>\n",
       "      <td>Buffalo</td>\n",
       "      <td>USA</td>\n",
       "      <td>42.89</td>\n",
       "      <td>-78.86</td>\n",
       "    </tr>\n",
       "    <tr>\n",
       "      <th>1</th>\n",
       "      <td>624057</td>\n",
       "      <td>2015-05-10 21:08:46</td>\n",
       "      <td>seo-google</td>\n",
       "      <td>mobile</td>\n",
       "      <td>android</td>\n",
       "      <td>0</td>\n",
       "      <td>39.0</td>\n",
       "      <td>0</td>\n",
       "      <td>Lakeville</td>\n",
       "      <td>USA</td>\n",
       "      <td>44.68</td>\n",
       "      <td>-93.24</td>\n",
       "    </tr>\n",
       "    <tr>\n",
       "      <th>2</th>\n",
       "      <td>317970</td>\n",
       "      <td>2015-04-04 15:01:23</td>\n",
       "      <td>ads-bing</td>\n",
       "      <td>mobile</td>\n",
       "      <td>android</td>\n",
       "      <td>0</td>\n",
       "      <td>39.0</td>\n",
       "      <td>0</td>\n",
       "      <td>Parma</td>\n",
       "      <td>USA</td>\n",
       "      <td>41.38</td>\n",
       "      <td>-81.73</td>\n",
       "    </tr>\n",
       "    <tr>\n",
       "      <th>3</th>\n",
       "      <td>685636</td>\n",
       "      <td>2015-05-07 07:26:01</td>\n",
       "      <td>direct_traffic</td>\n",
       "      <td>mobile</td>\n",
       "      <td>iOS</td>\n",
       "      <td>1</td>\n",
       "      <td>59.0</td>\n",
       "      <td>0</td>\n",
       "      <td>Fayetteville</td>\n",
       "      <td>USA</td>\n",
       "      <td>35.07</td>\n",
       "      <td>-78.90</td>\n",
       "    </tr>\n",
       "    <tr>\n",
       "      <th>4</th>\n",
       "      <td>820854</td>\n",
       "      <td>2015-05-24 11:04:40</td>\n",
       "      <td>ads_facebook</td>\n",
       "      <td>web</td>\n",
       "      <td>mac</td>\n",
       "      <td>0</td>\n",
       "      <td>39.0</td>\n",
       "      <td>0</td>\n",
       "      <td>Fishers</td>\n",
       "      <td>USA</td>\n",
       "      <td>39.95</td>\n",
       "      <td>-86.02</td>\n",
       "    </tr>\n",
       "    <tr>\n",
       "      <th>...</th>\n",
       "      <td>...</td>\n",
       "      <td>...</td>\n",
       "      <td>...</td>\n",
       "      <td>...</td>\n",
       "      <td>...</td>\n",
       "      <td>...</td>\n",
       "      <td>...</td>\n",
       "      <td>...</td>\n",
       "      <td>...</td>\n",
       "      <td>...</td>\n",
       "      <td>...</td>\n",
       "      <td>...</td>\n",
       "    </tr>\n",
       "    <tr>\n",
       "      <th>316795</th>\n",
       "      <td>17427</td>\n",
       "      <td>2015-04-11 09:29:15</td>\n",
       "      <td>ads_facebook</td>\n",
       "      <td>web</td>\n",
       "      <td>windows</td>\n",
       "      <td>0</td>\n",
       "      <td>39.0</td>\n",
       "      <td>0</td>\n",
       "      <td>NaN</td>\n",
       "      <td>NaN</td>\n",
       "      <td>NaN</td>\n",
       "      <td>NaN</td>\n",
       "    </tr>\n",
       "    <tr>\n",
       "      <th>316796</th>\n",
       "      <td>687787</td>\n",
       "      <td>2015-03-16 23:31:55</td>\n",
       "      <td>direct_traffic</td>\n",
       "      <td>web</td>\n",
       "      <td>windows</td>\n",
       "      <td>0</td>\n",
       "      <td>39.0</td>\n",
       "      <td>0</td>\n",
       "      <td>Bell Gardens</td>\n",
       "      <td>USA</td>\n",
       "      <td>33.97</td>\n",
       "      <td>-118.15</td>\n",
       "    </tr>\n",
       "    <tr>\n",
       "      <th>316797</th>\n",
       "      <td>618863</td>\n",
       "      <td>2015-04-11 01:35:19</td>\n",
       "      <td>ads-google</td>\n",
       "      <td>web</td>\n",
       "      <td>mac</td>\n",
       "      <td>0</td>\n",
       "      <td>39.0</td>\n",
       "      <td>0</td>\n",
       "      <td>West Seneca</td>\n",
       "      <td>USA</td>\n",
       "      <td>42.84</td>\n",
       "      <td>-78.75</td>\n",
       "    </tr>\n",
       "    <tr>\n",
       "      <th>316798</th>\n",
       "      <td>154636</td>\n",
       "      <td>2015-05-14 05:46:42</td>\n",
       "      <td>friend_referral</td>\n",
       "      <td>mobile</td>\n",
       "      <td>android</td>\n",
       "      <td>0</td>\n",
       "      <td>39.0</td>\n",
       "      <td>0</td>\n",
       "      <td>Walnut Creek</td>\n",
       "      <td>USA</td>\n",
       "      <td>37.90</td>\n",
       "      <td>-122.04</td>\n",
       "    </tr>\n",
       "    <tr>\n",
       "      <th>316799</th>\n",
       "      <td>832372</td>\n",
       "      <td>2015-03-08 17:12:33</td>\n",
       "      <td>ads_facebook</td>\n",
       "      <td>mobile</td>\n",
       "      <td>android</td>\n",
       "      <td>1</td>\n",
       "      <td>59.0</td>\n",
       "      <td>0</td>\n",
       "      <td>Chicago</td>\n",
       "      <td>USA</td>\n",
       "      <td>41.84</td>\n",
       "      <td>-87.68</td>\n",
       "    </tr>\n",
       "  </tbody>\n",
       "</table>\n",
       "<p>316800 rows × 12 columns</p>\n",
       "</div>"
      ],
      "text/plain": [
       "        user_id            timestamp           source  device  \\\n",
       "0        604839  2015-05-08 03:38:34     ads_facebook  mobile   \n",
       "1        624057  2015-05-10 21:08:46       seo-google  mobile   \n",
       "2        317970  2015-04-04 15:01:23         ads-bing  mobile   \n",
       "3        685636  2015-05-07 07:26:01   direct_traffic  mobile   \n",
       "4        820854  2015-05-24 11:04:40     ads_facebook     web   \n",
       "...         ...                  ...              ...     ...   \n",
       "316795    17427  2015-04-11 09:29:15     ads_facebook     web   \n",
       "316796   687787  2015-03-16 23:31:55   direct_traffic     web   \n",
       "316797   618863  2015-04-11 01:35:19       ads-google     web   \n",
       "316798   154636  2015-05-14 05:46:42  friend_referral  mobile   \n",
       "316799   832372  2015-03-08 17:12:33     ads_facebook  mobile   \n",
       "\n",
       "       operative_system  test  price  converted          city country    lat  \\\n",
       "0                   iOS     0   39.0          0       Buffalo     USA  42.89   \n",
       "1               android     0   39.0          0     Lakeville     USA  44.68   \n",
       "2               android     0   39.0          0         Parma     USA  41.38   \n",
       "3                   iOS     1   59.0          0  Fayetteville     USA  35.07   \n",
       "4                   mac     0   39.0          0       Fishers     USA  39.95   \n",
       "...                 ...   ...    ...        ...           ...     ...    ...   \n",
       "316795          windows     0   39.0          0           NaN     NaN    NaN   \n",
       "316796          windows     0   39.0          0  Bell Gardens     USA  33.97   \n",
       "316797              mac     0   39.0          0   West Seneca     USA  42.84   \n",
       "316798          android     0   39.0          0  Walnut Creek     USA  37.90   \n",
       "316799          android     1   59.0          0       Chicago     USA  41.84   \n",
       "\n",
       "          long  \n",
       "0       -78.86  \n",
       "1       -93.24  \n",
       "2       -81.73  \n",
       "3       -78.90  \n",
       "4       -86.02  \n",
       "...        ...  \n",
       "316795     NaN  \n",
       "316796 -118.15  \n",
       "316797  -78.75  \n",
       "316798 -122.04  \n",
       "316799  -87.68  \n",
       "\n",
       "[316800 rows x 12 columns]"
      ]
     },
     "execution_count": 33,
     "metadata": {},
     "output_type": "execute_result"
    }
   ],
   "source": [
    "#join the two dfs- left join to make sure all experiment data is included\n",
    "full=experiment.merge(users, on='user_id', how='left')\n",
    "full=full.drop(['Unnamed: 0'], axis=1) #drop extra column\n",
    "full"
   ]
  },
  {
   "cell_type": "code",
   "execution_count": 34,
   "metadata": {},
   "outputs": [
    {
     "name": "stdout",
     "output_type": "stream",
     "text": [
      "<class 'pandas.core.frame.DataFrame'>\n",
      "Int64Index: 316800 entries, 0 to 316799\n",
      "Data columns (total 12 columns):\n",
      " #   Column            Non-Null Count   Dtype  \n",
      "---  ------            --------------   -----  \n",
      " 0   user_id           316800 non-null  int64  \n",
      " 1   timestamp         316466 non-null  object \n",
      " 2   source            316488 non-null  object \n",
      " 3   device            316800 non-null  object \n",
      " 4   operative_system  296461 non-null  object \n",
      " 5   test              316800 non-null  int64  \n",
      " 6   price             316800 non-null  float64\n",
      " 7   converted         316800 non-null  int64  \n",
      " 8   city              275616 non-null  object \n",
      " 9   country           275616 non-null  object \n",
      " 10  lat               275616 non-null  float64\n",
      " 11  long              275616 non-null  float64\n",
      "dtypes: float64(3), int64(3), object(6)\n",
      "memory usage: 31.4+ MB\n"
     ]
    }
   ],
   "source": [
    "# Review data types with \"info()\".\n",
    "full.info()"
   ]
  },
  {
   "cell_type": "code",
   "execution_count": 35,
   "metadata": {},
   "outputs": [],
   "source": [
    "# </= 10% of data are missing from operating system, city, country, lat/long"
   ]
  },
  {
   "cell_type": "code",
   "execution_count": 36,
   "metadata": {},
   "outputs": [
    {
     "data": {
      "text/plain": [
       "user_id             False\n",
       "timestamp            True\n",
       "source               True\n",
       "device              False\n",
       "operative_system     True\n",
       "test                False\n",
       "price               False\n",
       "converted           False\n",
       "city                 True\n",
       "country              True\n",
       "lat                  True\n",
       "long                 True\n",
       "dtype: bool"
      ]
     },
     "execution_count": 36,
     "metadata": {},
     "output_type": "execute_result"
    }
   ],
   "source": [
    "#check for missing variables\n",
    "full.isnull().any()"
   ]
  },
  {
   "cell_type": "code",
   "execution_count": 37,
   "metadata": {},
   "outputs": [],
   "source": [
    "#more data are missing from timestamp and source"
   ]
  },
  {
   "cell_type": "code",
   "execution_count": 38,
   "metadata": {},
   "outputs": [],
   "source": [
    "#split timestamp into time and date\n",
    "full[['date','time']] = full.timestamp.str.split(expand=True) "
   ]
  },
  {
   "cell_type": "code",
   "execution_count": 39,
   "metadata": {},
   "outputs": [
    {
     "data": {
      "text/html": [
       "<div>\n",
       "<style scoped>\n",
       "    .dataframe tbody tr th:only-of-type {\n",
       "        vertical-align: middle;\n",
       "    }\n",
       "\n",
       "    .dataframe tbody tr th {\n",
       "        vertical-align: top;\n",
       "    }\n",
       "\n",
       "    .dataframe thead th {\n",
       "        text-align: right;\n",
       "    }\n",
       "</style>\n",
       "<table border=\"1\" class=\"dataframe\">\n",
       "  <thead>\n",
       "    <tr style=\"text-align: right;\">\n",
       "      <th></th>\n",
       "      <th>user_id</th>\n",
       "      <th>timestamp</th>\n",
       "      <th>source</th>\n",
       "      <th>device</th>\n",
       "      <th>operative_system</th>\n",
       "      <th>test</th>\n",
       "      <th>price</th>\n",
       "      <th>converted</th>\n",
       "      <th>city</th>\n",
       "      <th>country</th>\n",
       "      <th>lat</th>\n",
       "      <th>long</th>\n",
       "      <th>date</th>\n",
       "      <th>time</th>\n",
       "    </tr>\n",
       "  </thead>\n",
       "  <tbody>\n",
       "    <tr>\n",
       "      <th>count</th>\n",
       "      <td>316800.000000</td>\n",
       "      <td>316466</td>\n",
       "      <td>316488</td>\n",
       "      <td>316800</td>\n",
       "      <td>296461</td>\n",
       "      <td>316800.000000</td>\n",
       "      <td>3.168000e+05</td>\n",
       "      <td>316800.000000</td>\n",
       "      <td>275616</td>\n",
       "      <td>275616</td>\n",
       "      <td>275616.000000</td>\n",
       "      <td>275616.000000</td>\n",
       "      <td>316466</td>\n",
       "      <td>316466</td>\n",
       "    </tr>\n",
       "    <tr>\n",
       "      <th>unique</th>\n",
       "      <td>NaN</td>\n",
       "      <td>141147</td>\n",
       "      <td>12</td>\n",
       "      <td>2</td>\n",
       "      <td>8</td>\n",
       "      <td>NaN</td>\n",
       "      <td>NaN</td>\n",
       "      <td>NaN</td>\n",
       "      <td>923</td>\n",
       "      <td>1</td>\n",
       "      <td>NaN</td>\n",
       "      <td>NaN</td>\n",
       "      <td>175</td>\n",
       "      <td>60711</td>\n",
       "    </tr>\n",
       "    <tr>\n",
       "      <th>top</th>\n",
       "      <td>NaN</td>\n",
       "      <td>2015-04-12 11:51:16</td>\n",
       "      <td>direct_traffic</td>\n",
       "      <td>mobile</td>\n",
       "      <td>windows</td>\n",
       "      <td>NaN</td>\n",
       "      <td>NaN</td>\n",
       "      <td>NaN</td>\n",
       "      <td>New York</td>\n",
       "      <td>USA</td>\n",
       "      <td>NaN</td>\n",
       "      <td>NaN</td>\n",
       "      <td>2015-03-20</td>\n",
       "      <td>12:04:48</td>\n",
       "    </tr>\n",
       "    <tr>\n",
       "      <th>freq</th>\n",
       "      <td>NaN</td>\n",
       "      <td>12</td>\n",
       "      <td>60307</td>\n",
       "      <td>186471</td>\n",
       "      <td>100878</td>\n",
       "      <td>NaN</td>\n",
       "      <td>NaN</td>\n",
       "      <td>NaN</td>\n",
       "      <td>25748</td>\n",
       "      <td>275616</td>\n",
       "      <td>NaN</td>\n",
       "      <td>NaN</td>\n",
       "      <td>7235</td>\n",
       "      <td>36</td>\n",
       "    </tr>\n",
       "    <tr>\n",
       "      <th>mean</th>\n",
       "      <td>499281.341840</td>\n",
       "      <td>NaN</td>\n",
       "      <td>NaN</td>\n",
       "      <td>NaN</td>\n",
       "      <td>NaN</td>\n",
       "      <td>0.360079</td>\n",
       "      <td>6.457590e+06</td>\n",
       "      <td>0.018333</td>\n",
       "      <td>NaN</td>\n",
       "      <td>NaN</td>\n",
       "      <td>37.111680</td>\n",
       "      <td>-93.981772</td>\n",
       "      <td>NaN</td>\n",
       "      <td>NaN</td>\n",
       "    </tr>\n",
       "    <tr>\n",
       "      <th>std</th>\n",
       "      <td>288591.154044</td>\n",
       "      <td>NaN</td>\n",
       "      <td>NaN</td>\n",
       "      <td>NaN</td>\n",
       "      <td>NaN</td>\n",
       "      <td>0.480024</td>\n",
       "      <td>6.797307e+07</td>\n",
       "      <td>0.134154</td>\n",
       "      <td>NaN</td>\n",
       "      <td>NaN</td>\n",
       "      <td>5.209627</td>\n",
       "      <td>18.086486</td>\n",
       "      <td>NaN</td>\n",
       "      <td>NaN</td>\n",
       "    </tr>\n",
       "    <tr>\n",
       "      <th>min</th>\n",
       "      <td>3.000000</td>\n",
       "      <td>NaN</td>\n",
       "      <td>NaN</td>\n",
       "      <td>NaN</td>\n",
       "      <td>NaN</td>\n",
       "      <td>0.000000</td>\n",
       "      <td>3.900000e+01</td>\n",
       "      <td>0.000000</td>\n",
       "      <td>NaN</td>\n",
       "      <td>NaN</td>\n",
       "      <td>19.700000</td>\n",
       "      <td>-157.800000</td>\n",
       "      <td>NaN</td>\n",
       "      <td>NaN</td>\n",
       "    </tr>\n",
       "    <tr>\n",
       "      <th>25%</th>\n",
       "      <td>249525.750000</td>\n",
       "      <td>NaN</td>\n",
       "      <td>NaN</td>\n",
       "      <td>NaN</td>\n",
       "      <td>NaN</td>\n",
       "      <td>0.000000</td>\n",
       "      <td>3.900000e+01</td>\n",
       "      <td>0.000000</td>\n",
       "      <td>NaN</td>\n",
       "      <td>NaN</td>\n",
       "      <td>33.660000</td>\n",
       "      <td>-112.200000</td>\n",
       "      <td>NaN</td>\n",
       "      <td>NaN</td>\n",
       "    </tr>\n",
       "    <tr>\n",
       "      <th>50%</th>\n",
       "      <td>499021.500000</td>\n",
       "      <td>NaN</td>\n",
       "      <td>NaN</td>\n",
       "      <td>NaN</td>\n",
       "      <td>NaN</td>\n",
       "      <td>0.000000</td>\n",
       "      <td>3.900000e+01</td>\n",
       "      <td>0.000000</td>\n",
       "      <td>NaN</td>\n",
       "      <td>NaN</td>\n",
       "      <td>37.740000</td>\n",
       "      <td>-88.930000</td>\n",
       "      <td>NaN</td>\n",
       "      <td>NaN</td>\n",
       "    </tr>\n",
       "    <tr>\n",
       "      <th>75%</th>\n",
       "      <td>749025.500000</td>\n",
       "      <td>NaN</td>\n",
       "      <td>NaN</td>\n",
       "      <td>NaN</td>\n",
       "      <td>NaN</td>\n",
       "      <td>1.000000</td>\n",
       "      <td>5.900000e+01</td>\n",
       "      <td>0.000000</td>\n",
       "      <td>NaN</td>\n",
       "      <td>NaN</td>\n",
       "      <td>40.700000</td>\n",
       "      <td>-78.910000</td>\n",
       "      <td>NaN</td>\n",
       "      <td>NaN</td>\n",
       "    </tr>\n",
       "    <tr>\n",
       "      <th>max</th>\n",
       "      <td>1000000.000000</td>\n",
       "      <td>NaN</td>\n",
       "      <td>NaN</td>\n",
       "      <td>NaN</td>\n",
       "      <td>NaN</td>\n",
       "      <td>1.000000</td>\n",
       "      <td>9.998843e+08</td>\n",
       "      <td>1.000000</td>\n",
       "      <td>NaN</td>\n",
       "      <td>NaN</td>\n",
       "      <td>61.180000</td>\n",
       "      <td>30.310000</td>\n",
       "      <td>NaN</td>\n",
       "      <td>NaN</td>\n",
       "    </tr>\n",
       "  </tbody>\n",
       "</table>\n",
       "</div>"
      ],
      "text/plain": [
       "               user_id            timestamp          source  device  \\\n",
       "count    316800.000000               316466          316488  316800   \n",
       "unique             NaN               141147              12       2   \n",
       "top                NaN  2015-04-12 11:51:16  direct_traffic  mobile   \n",
       "freq               NaN                   12           60307  186471   \n",
       "mean     499281.341840                  NaN             NaN     NaN   \n",
       "std      288591.154044                  NaN             NaN     NaN   \n",
       "min           3.000000                  NaN             NaN     NaN   \n",
       "25%      249525.750000                  NaN             NaN     NaN   \n",
       "50%      499021.500000                  NaN             NaN     NaN   \n",
       "75%      749025.500000                  NaN             NaN     NaN   \n",
       "max     1000000.000000                  NaN             NaN     NaN   \n",
       "\n",
       "       operative_system           test         price      converted      city  \\\n",
       "count            296461  316800.000000  3.168000e+05  316800.000000    275616   \n",
       "unique                8            NaN           NaN            NaN       923   \n",
       "top             windows            NaN           NaN            NaN  New York   \n",
       "freq             100878            NaN           NaN            NaN     25748   \n",
       "mean                NaN       0.360079  6.457590e+06       0.018333       NaN   \n",
       "std                 NaN       0.480024  6.797307e+07       0.134154       NaN   \n",
       "min                 NaN       0.000000  3.900000e+01       0.000000       NaN   \n",
       "25%                 NaN       0.000000  3.900000e+01       0.000000       NaN   \n",
       "50%                 NaN       0.000000  3.900000e+01       0.000000       NaN   \n",
       "75%                 NaN       1.000000  5.900000e+01       0.000000       NaN   \n",
       "max                 NaN       1.000000  9.998843e+08       1.000000       NaN   \n",
       "\n",
       "       country            lat           long        date      time  \n",
       "count   275616  275616.000000  275616.000000      316466    316466  \n",
       "unique       1            NaN            NaN         175     60711  \n",
       "top        USA            NaN            NaN  2015-03-20  12:04:48  \n",
       "freq    275616            NaN            NaN        7235        36  \n",
       "mean       NaN      37.111680     -93.981772         NaN       NaN  \n",
       "std        NaN       5.209627      18.086486         NaN       NaN  \n",
       "min        NaN      19.700000    -157.800000         NaN       NaN  \n",
       "25%        NaN      33.660000    -112.200000         NaN       NaN  \n",
       "50%        NaN      37.740000     -88.930000         NaN       NaN  \n",
       "75%        NaN      40.700000     -78.910000         NaN       NaN  \n",
       "max        NaN      61.180000      30.310000         NaN       NaN  "
      ]
     },
     "execution_count": 39,
     "metadata": {},
     "output_type": "execute_result"
    }
   ],
   "source": [
    "#EDA\n",
    "\n",
    "plt.rcParams['figure.figsize'] = (15,8) \n",
    "plt.rcParams['axes.titlesize'] = 'large'\n",
    "\n",
    "#basic descriptive statistics\n",
    "full.describe(include='all')"
   ]
  },
  {
   "cell_type": "code",
   "execution_count": 16,
   "metadata": {},
   "outputs": [
    {
     "data": {
      "text/plain": [
       "<matplotlib.axes._subplots.AxesSubplot at 0x7ff7de4b69a0>"
      ]
     },
     "execution_count": 16,
     "metadata": {},
     "output_type": "execute_result"
    },
    {
     "data": {
      "image/png": "[encoded data removed]",
      "text/plain": [
       "<Figure size 720x576 with 1 Axes>"
      ]
     },
     "metadata": {},
     "output_type": "display_data"
    }
   ],
   "source": [
    "#lets get the frequency of conversion (sales=1, no sales=0)\n",
    "sns.set_style(\"white\")\n",
    "sns.set_context({\"figure.figsize\": (10, 8)})\n",
    "sns.countplot(full['converted'],label='Count',palette=\"Set3\")"
   ]
  },
  {
   "cell_type": "code",
   "execution_count": null,
   "metadata": {},
   "outputs": [],
   "source": [
    "#about 30x fewer sales than visitors"
   ]
  },
  {
   "cell_type": "code",
   "execution_count": 23,
   "metadata": {},
   "outputs": [
    {
     "data": {
      "image/png": "[encoded data removed]",
      "text/plain": [
       "<Figure size 1080x720 with 6 Axes>"
      ]
     },
     "metadata": {},
     "output_type": "display_data"
    }
   ],
   "source": [
    "#Plot histograms of variables\n",
    "hist_mean=full.hist(bins=10, figsize=(15, 10),grid=False,)"
   ]
  },
  {
   "cell_type": "code",
   "execution_count": null,
   "metadata": {},
   "outputs": [],
   "source": [
    "#the country column contains only USA, but the GPS locations indicate sales from regions north and east of USA, possibly canada, uk/western europe, north africa. The gps might be an error, or the USA label might be an error (or the )\n",
    "#price should match test, but it does not"
   ]
  },
  {
   "cell_type": "code",
   "execution_count": 24,
   "metadata": {},
   "outputs": [],
   "source": [
    "full=full.drop(['price'], axis=1) #drop price column because it is unreliable- use test column instead"
   ]
  },
  {
   "cell_type": "code",
   "execution_count": null,
   "metadata": {},
   "outputs": [],
   "source": [
    "#make new column to clean up operating system data (eg match \"android\" and \"anroid\")\n",
    "full['OS'] = full['operative_system']\n",
    "full['OS'] = full['OS'].str.replace('anroid','android')\n",
    "full['OS'] = full['OS'].str.replace('apple','mac')\n",
    "full['OS'] = full['OS'].str.replace('i0S','iOS')\n",
    "full['OS'] = full['OS'].str.replace('wnddows','windows')"
   ]
  },
  {
   "cell_type": "code",
   "execution_count": 55,
   "metadata": {},
   "outputs": [],
   "source": [
    "#make new column to redivide marketing source\n",
    "full['marketing'] = full['source']\n",
    "full['marketing'] = full['marketing'].str.replace('ads-bing','ads')\n",
    "full['marketing'] = full['marketing'].str.replace('ads-google','ads')\n",
    "full['marketing'] = full['marketing'].str.replace('ads-yahoo','ads')\n",
    "full['marketing'] = full['marketing'].str.replace('ads_facebook','ads')\n",
    "full['marketing'] = full['marketing'].str.replace('ads_other','ads')\n",
    "full['marketing'] = full['marketing'].str.replace('seo-bing','seo')\n",
    "full['marketing'] = full['marketing'].str.replace('seo-google','seo')\n",
    "full['marketing'] = full['marketing'].str.replace('seo-yahoo','seo')\n",
    "full['marketing'] = full['marketing'].str.replace('seo_facebook','seo')\n",
    "full['marketing'] = full['marketing'].str.replace('seo-other','seo')"
   ]
  },
  {
   "cell_type": "code",
   "execution_count": 101,
   "metadata": {},
   "outputs": [],
   "source": [
    "#make new column to redivide search engine ad and SEO source\n",
    "full['search'] = full['source']\n",
    "full['search'] = full['search'].str.replace('ads-bing','bing')\n",
    "full['search'] = full['search'].str.replace('ads-google','google')\n",
    "full['search'] = full['search'].str.replace('ads-yahoo','yahoo')\n",
    "full['search'] = full['search'].str.replace('ads_facebook','facebook')\n",
    "full['search'] = full['search'].str.replace('ads_other','other')\n",
    "full['search'] = full['search'].str.replace('seo-bing','bing')\n",
    "full['search'] = full['search'].str.replace('seo-google','google')\n",
    "full['search'] = full['search'].str.replace('seo-yahoo','yahoo')\n",
    "full['search'] = full['search'].str.replace('seo_facebook','facebook')\n",
    "full['search'] = full['search'].str.replace('seo-other','other')\n",
    "#full['search'] = full['search'].replace('direct_traffic', None)\n",
    "#full['search'] = full['search'].replace('friend_referral', None)\n",
    "#full['search'] = (full['search'] == 'direct_traffic'] = None)\n",
    "#full['search'] = (full['search'] == 'friend_referral'] = None)\n",
    "full['search'] = full['search'].str.replace('direct_traffic', '')\n",
    "full['search'] = full['search'].str.replace('friend_referral', '')\n",
    "full = full.replace('', np.NaN)\n"
   ]
  },
  {
   "cell_type": "code",
   "execution_count": 102,
   "metadata": {},
   "outputs": [
    {
     "data": {
      "text/html": [
       "<div>\n",
       "<style scoped>\n",
       "    .dataframe tbody tr th:only-of-type {\n",
       "        vertical-align: middle;\n",
       "    }\n",
       "\n",
       "    .dataframe tbody tr th {\n",
       "        vertical-align: top;\n",
       "    }\n",
       "\n",
       "    .dataframe thead th {\n",
       "        text-align: right;\n",
       "    }\n",
       "</style>\n",
       "<table border=\"1\" class=\"dataframe\">\n",
       "  <thead>\n",
       "    <tr style=\"text-align: right;\">\n",
       "      <th></th>\n",
       "      <th>user_id</th>\n",
       "      <th>timestamp</th>\n",
       "      <th>source</th>\n",
       "      <th>device</th>\n",
       "      <th>operative_system</th>\n",
       "      <th>test</th>\n",
       "      <th>converted</th>\n",
       "      <th>city</th>\n",
       "      <th>country</th>\n",
       "      <th>lat</th>\n",
       "      <th>long</th>\n",
       "      <th>OS</th>\n",
       "      <th>marketing</th>\n",
       "      <th>search</th>\n",
       "    </tr>\n",
       "  </thead>\n",
       "  <tbody>\n",
       "    <tr>\n",
       "      <th>3</th>\n",
       "      <td>685636</td>\n",
       "      <td>2015-05-07 07:26:01</td>\n",
       "      <td>direct_traffic</td>\n",
       "      <td>mobile</td>\n",
       "      <td>iOS</td>\n",
       "      <td>1</td>\n",
       "      <td>0</td>\n",
       "      <td>Fayetteville</td>\n",
       "      <td>USA</td>\n",
       "      <td>35.07</td>\n",
       "      <td>-78.90</td>\n",
       "      <td>iOS</td>\n",
       "      <td>direct_traffic</td>\n",
       "      <td>NaN</td>\n",
       "    </tr>\n",
       "    <tr>\n",
       "      <th>7</th>\n",
       "      <td>798371</td>\n",
       "      <td>2015-03-15 08:19:29</td>\n",
       "      <td>ads-bing</td>\n",
       "      <td>mobile</td>\n",
       "      <td>android</td>\n",
       "      <td>1</td>\n",
       "      <td>1</td>\n",
       "      <td>East Orange</td>\n",
       "      <td>USA</td>\n",
       "      <td>40.77</td>\n",
       "      <td>-74.21</td>\n",
       "      <td>android</td>\n",
       "      <td>ads</td>\n",
       "      <td>bing</td>\n",
       "    </tr>\n",
       "    <tr>\n",
       "      <th>8</th>\n",
       "      <td>447194</td>\n",
       "      <td>2015-03-28 12:28:10</td>\n",
       "      <td>ads_facebook</td>\n",
       "      <td>web</td>\n",
       "      <td>windows</td>\n",
       "      <td>1</td>\n",
       "      <td>0</td>\n",
       "      <td>Dayton</td>\n",
       "      <td>USA</td>\n",
       "      <td>39.78</td>\n",
       "      <td>-84.20</td>\n",
       "      <td>windows</td>\n",
       "      <td>ads</td>\n",
       "      <td>facebook</td>\n",
       "    </tr>\n",
       "    <tr>\n",
       "      <th>9</th>\n",
       "      <td>431639</td>\n",
       "      <td>2015-04-24 12:42:18</td>\n",
       "      <td>ads_facebook</td>\n",
       "      <td>web</td>\n",
       "      <td>windows</td>\n",
       "      <td>1</td>\n",
       "      <td>0</td>\n",
       "      <td>Richmond</td>\n",
       "      <td>USA</td>\n",
       "      <td>37.53</td>\n",
       "      <td>-77.47</td>\n",
       "      <td>windows</td>\n",
       "      <td>ads</td>\n",
       "      <td>facebook</td>\n",
       "    </tr>\n",
       "    <tr>\n",
       "      <th>15</th>\n",
       "      <td>552048</td>\n",
       "      <td>2015-03-22 08:58:32</td>\n",
       "      <td>ads-bing</td>\n",
       "      <td>web</td>\n",
       "      <td>windows</td>\n",
       "      <td>1</td>\n",
       "      <td>0</td>\n",
       "      <td>Culver City</td>\n",
       "      <td>USA</td>\n",
       "      <td>34.01</td>\n",
       "      <td>-118.40</td>\n",
       "      <td>windows</td>\n",
       "      <td>ads</td>\n",
       "      <td>bing</td>\n",
       "    </tr>\n",
       "    <tr>\n",
       "      <th>...</th>\n",
       "      <td>...</td>\n",
       "      <td>...</td>\n",
       "      <td>...</td>\n",
       "      <td>...</td>\n",
       "      <td>...</td>\n",
       "      <td>...</td>\n",
       "      <td>...</td>\n",
       "      <td>...</td>\n",
       "      <td>...</td>\n",
       "      <td>...</td>\n",
       "      <td>...</td>\n",
       "      <td>...</td>\n",
       "      <td>...</td>\n",
       "      <td>...</td>\n",
       "    </tr>\n",
       "    <tr>\n",
       "      <th>316777</th>\n",
       "      <td>190563</td>\n",
       "      <td>2015-05-17 12:03:19</td>\n",
       "      <td>seo_facebook</td>\n",
       "      <td>mobile</td>\n",
       "      <td>android</td>\n",
       "      <td>1</td>\n",
       "      <td>0</td>\n",
       "      <td>New Haven</td>\n",
       "      <td>USA</td>\n",
       "      <td>41.31</td>\n",
       "      <td>-72.92</td>\n",
       "      <td>android</td>\n",
       "      <td>seo</td>\n",
       "      <td>facebook</td>\n",
       "    </tr>\n",
       "    <tr>\n",
       "      <th>316778</th>\n",
       "      <td>796427</td>\n",
       "      <td>2015-04-02 09:33:18</td>\n",
       "      <td>seo-google</td>\n",
       "      <td>web</td>\n",
       "      <td>windows</td>\n",
       "      <td>1</td>\n",
       "      <td>0</td>\n",
       "      <td>Norwalk</td>\n",
       "      <td>USA</td>\n",
       "      <td>33.91</td>\n",
       "      <td>-118.08</td>\n",
       "      <td>windows</td>\n",
       "      <td>seo</td>\n",
       "      <td>google</td>\n",
       "    </tr>\n",
       "    <tr>\n",
       "      <th>316782</th>\n",
       "      <td>964001</td>\n",
       "      <td>2015-05-05 13:31:19</td>\n",
       "      <td>ads_other</td>\n",
       "      <td>web</td>\n",
       "      <td>windows</td>\n",
       "      <td>1</td>\n",
       "      <td>0</td>\n",
       "      <td>Athens-Clarke</td>\n",
       "      <td>USA</td>\n",
       "      <td>33.95</td>\n",
       "      <td>-83.39</td>\n",
       "      <td>windows</td>\n",
       "      <td>ads</td>\n",
       "      <td>other</td>\n",
       "    </tr>\n",
       "    <tr>\n",
       "      <th>316794</th>\n",
       "      <td>388438</td>\n",
       "      <td>2015-05-20 11:34:44</td>\n",
       "      <td>seo-google</td>\n",
       "      <td>web</td>\n",
       "      <td>windows</td>\n",
       "      <td>1</td>\n",
       "      <td>0</td>\n",
       "      <td>Joliet</td>\n",
       "      <td>USA</td>\n",
       "      <td>41.53</td>\n",
       "      <td>-88.12</td>\n",
       "      <td>windows</td>\n",
       "      <td>seo</td>\n",
       "      <td>google</td>\n",
       "    </tr>\n",
       "    <tr>\n",
       "      <th>316799</th>\n",
       "      <td>832372</td>\n",
       "      <td>2015-03-08 17:12:33</td>\n",
       "      <td>ads_facebook</td>\n",
       "      <td>mobile</td>\n",
       "      <td>android</td>\n",
       "      <td>1</td>\n",
       "      <td>0</td>\n",
       "      <td>Chicago</td>\n",
       "      <td>USA</td>\n",
       "      <td>41.84</td>\n",
       "      <td>-87.68</td>\n",
       "      <td>android</td>\n",
       "      <td>ads</td>\n",
       "      <td>facebook</td>\n",
       "    </tr>\n",
       "  </tbody>\n",
       "</table>\n",
       "<p>114073 rows × 14 columns</p>\n",
       "</div>"
      ],
      "text/plain": [
       "        user_id            timestamp          source  device operative_system  \\\n",
       "3        685636  2015-05-07 07:26:01  direct_traffic  mobile              iOS   \n",
       "7        798371  2015-03-15 08:19:29        ads-bing  mobile          android   \n",
       "8        447194  2015-03-28 12:28:10    ads_facebook     web          windows   \n",
       "9        431639  2015-04-24 12:42:18    ads_facebook     web          windows   \n",
       "15       552048  2015-03-22 08:58:32        ads-bing     web          windows   \n",
       "...         ...                  ...             ...     ...              ...   \n",
       "316777   190563  2015-05-17 12:03:19    seo_facebook  mobile          android   \n",
       "316778   796427  2015-04-02 09:33:18      seo-google     web          windows   \n",
       "316782   964001  2015-05-05 13:31:19       ads_other     web          windows   \n",
       "316794   388438  2015-05-20 11:34:44      seo-google     web          windows   \n",
       "316799   832372  2015-03-08 17:12:33    ads_facebook  mobile          android   \n",
       "\n",
       "        test  converted           city country    lat    long       OS  \\\n",
       "3          1          0   Fayetteville     USA  35.07  -78.90      iOS   \n",
       "7          1          1    East Orange     USA  40.77  -74.21  android   \n",
       "8          1          0         Dayton     USA  39.78  -84.20  windows   \n",
       "9          1          0       Richmond     USA  37.53  -77.47  windows   \n",
       "15         1          0    Culver City     USA  34.01 -118.40  windows   \n",
       "...      ...        ...            ...     ...    ...     ...      ...   \n",
       "316777     1          0      New Haven     USA  41.31  -72.92  android   \n",
       "316778     1          0        Norwalk     USA  33.91 -118.08  windows   \n",
       "316782     1          0  Athens-Clarke     USA  33.95  -83.39  windows   \n",
       "316794     1          0         Joliet     USA  41.53  -88.12  windows   \n",
       "316799     1          0        Chicago     USA  41.84  -87.68  android   \n",
       "\n",
       "             marketing    search  \n",
       "3       direct_traffic       NaN  \n",
       "7                  ads      bing  \n",
       "8                  ads  facebook  \n",
       "9                  ads  facebook  \n",
       "15                 ads      bing  \n",
       "...                ...       ...  \n",
       "316777             seo  facebook  \n",
       "316778             seo    google  \n",
       "316782             ads     other  \n",
       "316794             seo    google  \n",
       "316799             ads  facebook  \n",
       "\n",
       "[114073 rows x 14 columns]"
      ]
     },
     "execution_count": 102,
     "metadata": {},
     "output_type": "execute_result"
    }
   ],
   "source": [
    "#make new df for only people who were in the higher price trial\n",
    "price59 =  full['test']==1\n",
    "# filter rows for year 2002 using  the boolean variable\n",
    "new_price = full[price59]\n",
    "new_price"
   ]
  },
  {
   "cell_type": "code",
   "execution_count": 110,
   "metadata": {},
   "outputs": [
    {
     "ename": "GeocoderError",
     "evalue": "Error REQUEST_DENIED\nQuery: https://maps.google.com/maps/api/geocode/json?latlng=42.890000%2C-78.860000&sensor=false&bounds=&region=&language=",
     "output_type": "error",
     "traceback": [
      "\u001b[0;31m---------------------------------------------------------------------------\u001b[0m",
      "\u001b[0;31mGeocoderError\u001b[0m                             Traceback (most recent call last)",
      "\u001b[0;32m<ipython-input-110-12852529df43>\u001b[0m in \u001b[0;36m<module>\u001b[0;34m\u001b[0m\n\u001b[1;32m      1\u001b[0m \u001b[0;32mfrom\u001b[0m \u001b[0mpygeocoder\u001b[0m \u001b[0;32mimport\u001b[0m \u001b[0mGeocoder\u001b[0m\u001b[0;34m\u001b[0m\u001b[0;34m\u001b[0m\u001b[0m\n\u001b[1;32m      2\u001b[0m \u001b[0;31m# Convert longitude and latitude to a location\u001b[0m\u001b[0;34m\u001b[0m\u001b[0;34m\u001b[0m\u001b[0;34m\u001b[0m\u001b[0m\n\u001b[0;32m----> 3\u001b[0;31m \u001b[0mresults\u001b[0m \u001b[0;34m=\u001b[0m \u001b[0mGeocoder\u001b[0m\u001b[0;34m.\u001b[0m\u001b[0mreverse_geocode\u001b[0m\u001b[0;34m(\u001b[0m\u001b[0mfull\u001b[0m\u001b[0;34m[\u001b[0m\u001b[0;34m'lat'\u001b[0m\u001b[0;34m]\u001b[0m\u001b[0;34m[\u001b[0m\u001b[0;36m0\u001b[0m\u001b[0;34m]\u001b[0m\u001b[0;34m,\u001b[0m \u001b[0mfull\u001b[0m\u001b[0;34m[\u001b[0m\u001b[0;34m'long'\u001b[0m\u001b[0;34m]\u001b[0m\u001b[0;34m[\u001b[0m\u001b[0;36m0\u001b[0m\u001b[0;34m]\u001b[0m\u001b[0;34m)\u001b[0m\u001b[0;34m\u001b[0m\u001b[0;34m\u001b[0m\u001b[0m\n\u001b[0m\u001b[1;32m      4\u001b[0m \u001b[0mresults\u001b[0m\u001b[0;34m.\u001b[0m\u001b[0madministrative_area_level_1\u001b[0m\u001b[0;34m\u001b[0m\u001b[0;34m\u001b[0m\u001b[0m\n",
      "\u001b[0;32m~/anaconda3/envs/insight/lib/python3.8/site-packages/pygeocoder.py\u001b[0m in \u001b[0;36mreverse_geocode\u001b[0;34m(self, lat, lng, sensor, bounds, region, language)\u001b[0m\n\u001b[1;32m    163\u001b[0m             \u001b[0;32mreturn\u001b[0m \u001b[0mGeocoderResult\u001b[0m\u001b[0;34m(\u001b[0m\u001b[0mself\u001b[0m\u001b[0;34m.\u001b[0m\u001b[0mget_data\u001b[0m\u001b[0;34m(\u001b[0m\u001b[0mparams\u001b[0m\u001b[0;34m=\u001b[0m\u001b[0mparams\u001b[0m\u001b[0;34m)\u001b[0m\u001b[0;34m)\u001b[0m\u001b[0;34m\u001b[0m\u001b[0;34m\u001b[0m\u001b[0m\n\u001b[1;32m    164\u001b[0m         \u001b[0;32melse\u001b[0m\u001b[0;34m:\u001b[0m\u001b[0;34m\u001b[0m\u001b[0;34m\u001b[0m\u001b[0m\n\u001b[0;32m--> 165\u001b[0;31m             \u001b[0;32mreturn\u001b[0m \u001b[0mGeocoderResult\u001b[0m\u001b[0;34m(\u001b[0m\u001b[0mGeocoder\u001b[0m\u001b[0;34m.\u001b[0m\u001b[0mget_data\u001b[0m\u001b[0;34m(\u001b[0m\u001b[0mparams\u001b[0m\u001b[0;34m=\u001b[0m\u001b[0mparams\u001b[0m\u001b[0;34m)\u001b[0m\u001b[0;34m)\u001b[0m\u001b[0;34m\u001b[0m\u001b[0;34m\u001b[0m\u001b[0m\n\u001b[0m\u001b[1;32m    166\u001b[0m \u001b[0;34m\u001b[0m\u001b[0m\n\u001b[1;32m    167\u001b[0m     \u001b[0;32mdef\u001b[0m \u001b[0mset_proxy\u001b[0m\u001b[0;34m(\u001b[0m\u001b[0mself\u001b[0m\u001b[0;34m,\u001b[0m \u001b[0mproxy\u001b[0m\u001b[0;34m)\u001b[0m\u001b[0;34m:\u001b[0m\u001b[0;34m\u001b[0m\u001b[0;34m\u001b[0m\u001b[0m\n",
      "\u001b[0;32m~/anaconda3/envs/insight/lib/python3.8/site-packages/pygeocoder.py\u001b[0m in \u001b[0;36mget_data\u001b[0;34m(self, params)\u001b[0m\n\u001b[1;32m    210\u001b[0m \u001b[0;34m\u001b[0m\u001b[0m\n\u001b[1;32m    211\u001b[0m         \u001b[0;32mif\u001b[0m \u001b[0mresponse_json\u001b[0m\u001b[0;34m[\u001b[0m\u001b[0;34m'status'\u001b[0m\u001b[0;34m]\u001b[0m \u001b[0;34m!=\u001b[0m \u001b[0mGeocoderError\u001b[0m\u001b[0;34m.\u001b[0m\u001b[0mG_GEO_OK\u001b[0m\u001b[0;34m:\u001b[0m\u001b[0;34m\u001b[0m\u001b[0;34m\u001b[0m\u001b[0m\n\u001b[0;32m--> 212\u001b[0;31m             \u001b[0;32mraise\u001b[0m \u001b[0mGeocoderError\u001b[0m\u001b[0;34m(\u001b[0m\u001b[0mresponse_json\u001b[0m\u001b[0;34m[\u001b[0m\u001b[0;34m'status'\u001b[0m\u001b[0;34m]\u001b[0m\u001b[0;34m,\u001b[0m \u001b[0mresponse\u001b[0m\u001b[0;34m.\u001b[0m\u001b[0murl\u001b[0m\u001b[0;34m)\u001b[0m\u001b[0;34m\u001b[0m\u001b[0;34m\u001b[0m\u001b[0m\n\u001b[0m\u001b[1;32m    213\u001b[0m         \u001b[0;32mreturn\u001b[0m \u001b[0mresponse_json\u001b[0m\u001b[0;34m[\u001b[0m\u001b[0;34m'results'\u001b[0m\u001b[0;34m]\u001b[0m\u001b[0;34m\u001b[0m\u001b[0;34m\u001b[0m\u001b[0m\n\u001b[1;32m    214\u001b[0m \u001b[0;34m\u001b[0m\u001b[0m\n",
      "\u001b[0;31mGeocoderError\u001b[0m: Error REQUEST_DENIED\nQuery: https://maps.google.com/maps/api/geocode/json?latlng=42.890000%2C-78.860000&sensor=false&bounds=&region=&language="
     ]
    }
   ],
   "source": [
    "from pygeocoder import Geocoder\n",
    "# Convert longitude and latitude to a location\n",
    "results = Geocoder.reverse_geocode(full['lat'][0], full['long'][0])\n",
    "results.administrative_area_level_1"
   ]
  },
  {
   "cell_type": "code",
   "execution_count": null,
   "metadata": {},
   "outputs": [],
   "source": []
  },
  {
   "cell_type": "code",
   "execution_count": null,
   "metadata": {},
   "outputs": [],
   "source": []
  },
  {
   "cell_type": "code",
   "execution_count": null,
   "metadata": {},
   "outputs": [],
   "source": []
  },
  {
   "cell_type": "markdown",
   "metadata": {},
   "source": [
    "Question 1. Should the company sell its software for $39 or $59? \n",
    "Method: test whether price (test) predicts converstion rate using chi squared test because we have two categorical variables: bought (yes/no) and price (low/high)"
   ]
  },
  {
   "cell_type": "code",
   "execution_count": 65,
   "metadata": {},
   "outputs": [
    {
     "name": "stdout",
     "output_type": "stream",
     "text": [
      "converted       0     1\n",
      "test                   \n",
      "0          198692  4035\n",
      "1          112300  1773\n"
     ]
    }
   ],
   "source": [
    "#make contingency table for chi squared test\n",
    "contin = pd.crosstab(full['test'],full['converted'],margins = False)\n",
    "print(contin)"
   ]
  },
  {
   "cell_type": "code",
   "execution_count": 66,
   "metadata": {},
   "outputs": [],
   "source": [
    "def chitest(contingency_table):\n",
    "    '''\n",
    "    function takes contingency table and returns chi squared statistics to evaluate whether the groups are statistically independent (the null hypothesis) or statistically independent (the alternative hypothesis)\n",
    "    '''\n",
    "    \n",
    "    stat, p, dof, expected = chi2_contingency(contingency_table)\n",
    "    print('dof=%d' % dof)\n",
    "    print(expected)\n",
    "\n",
    "    # interpret test-statistic\n",
    "    prob = 0.95\n",
    "    critical = chi2.ppf(prob, dof)\n",
    "    print('probability=%.3f, critical=%.3f, stat=%.3f' % (prob, critical, stat))\n",
    "    if abs(stat) >= critical:\n",
    "        print('Dependent (reject H0)')\n",
    "    else:\n",
    "        print('Independent (fail to reject H0)')\n",
    "\n",
    "    # interpret p-value\n",
    "    alpha = 1.0 - prob\n",
    "    print('significance=%.3f, p=%.3f' % (alpha, p))\n",
    "    if p <= alpha:\n",
    "        print('Dependent (reject H0)')\n",
    "    else:\n",
    "        print('Independent (fail to reject H0)')"
   ]
  },
  {
   "cell_type": "code",
   "execution_count": 67,
   "metadata": {},
   "outputs": [
    {
     "name": "stdout",
     "output_type": "stream",
     "text": [
      "dof=1\n",
      "[[199010.33833333   3716.66166667]\n",
      " [111981.66166667   2091.33833333]]\n",
      "probability=0.950, critical=3.841, stat=76.895\n",
      "Dependent (reject H0)\n",
      "significance=0.050, p=0.000\n",
      "Dependent (reject H0)\n"
     ]
    }
   ],
   "source": [
    "chitest(contin)"
   ]
  },
  {
   "cell_type": "code",
   "execution_count": null,
   "metadata": {},
   "outputs": [],
   "source": [
    "#chi squared test confirms that the higher price is significantly associated with lower sales. "
   ]
  },
  {
   "cell_type": "code",
   "execution_count": 25,
   "metadata": {},
   "outputs": [
    {
     "data": {
      "text/plain": [
       "test\n",
       "0    0.019904\n",
       "1    0.015543\n",
       "Name: converted, dtype: float64"
      ]
     },
     "execution_count": 25,
     "metadata": {},
     "output_type": "execute_result"
    }
   ],
   "source": [
    "#calculate conversion rate for two prices\n",
    "full.groupby('test')['converted'].mean()"
   ]
  },
  {
   "cell_type": "code",
   "execution_count": null,
   "metadata": {},
   "outputs": [],
   "source": [
    "#increased price had almost 25% less sales than lower price"
   ]
  },
  {
   "cell_type": "code",
   "execution_count": 32,
   "metadata": {},
   "outputs": [
    {
     "name": "stdout",
     "output_type": "stream",
     "text": [
      "0.7762560000000001 0.917037\n"
     ]
    }
   ],
   "source": [
    "#compare value of sales at old and new prices given the conversion rates\n",
    "old_price = 39*0.019904\n",
    "new_price = 59*0.015543\n",
    "print(old_price, new_price)"
   ]
  },
  {
   "cell_type": "code",
   "execution_count": null,
   "metadata": {},
   "outputs": [],
   "source": [
    "#the new price results in fewer sales but increases profit overall, therefore the company would be more profitable if it raised prices"
   ]
  },
  {
   "cell_type": "code",
   "execution_count": null,
   "metadata": {},
   "outputs": [],
   "source": []
  },
  {
   "cell_type": "code",
   "execution_count": null,
   "metadata": {},
   "outputs": [],
   "source": []
  },
  {
   "cell_type": "markdown",
   "metadata": {},
   "source": [
    "Question 2. The VP of Product is interested in having a holistic view into user behavior, especially focusing on actionable insights that might increase conversion rate. What are your main findings looking at the data? \n",
    "Method: test which variables affect conversion rate \n",
    "chi squared test for source, device, operating system\n",
    "(binomial regression of timestamp and lat/long?)\n"
   ]
  },
  {
   "cell_type": "code",
   "execution_count": 68,
   "metadata": {},
   "outputs": [
    {
     "name": "stdout",
     "output_type": "stream",
     "text": [
      "converted      0     1\n",
      "OS                    \n",
      "android    73816  1119\n",
      "iOS        93334  2131\n",
      "mac        24483   602\n",
      "windows    99264  1712\n",
      "dof=3\n",
      "[[73528.61487683  1406.38512317]\n",
      " [93673.30645515  1791.69354485]\n",
      " [24614.20303176   470.79696824]\n",
      " [99080.87563626  1895.12436374]]\n",
      "probability=0.950, critical=7.815, stat=180.631\n",
      "Dependent (reject H0)\n",
      "significance=0.050, p=0.000\n",
      "Dependent (reject H0)\n"
     ]
    }
   ],
   "source": [
    "#marketing source that led to the user coming to the site\n",
    "\n",
    "#make contingency table for chi squared test\n",
    "contin = pd.crosstab(full['OS'],full['converted'],margins = False)\n",
    "print(contin)\n",
    "\n",
    "chitest(contin)"
   ]
  },
  {
   "cell_type": "code",
   "execution_count": 40,
   "metadata": {},
   "outputs": [
    {
     "data": {
      "text/plain": [
       "OS\n",
       "android    0.014933\n",
       "iOS        0.022322\n",
       "mac        0.023998\n",
       "windows    0.016955\n",
       "Name: converted, dtype: float64"
      ]
     },
     "execution_count": 40,
     "metadata": {},
     "output_type": "execute_result"
    }
   ],
   "source": [
    "#calculate conversion rate for operating systems\n",
    "full.groupby('OS')['converted'].mean()"
   ]
  },
  {
   "cell_type": "markdown",
   "metadata": {},
   "source": [
    "iOS and mac users are significantly more likely to purchase than android and windows users- what about at the new price? "
   ]
  },
  {
   "cell_type": "code",
   "execution_count": 69,
   "metadata": {},
   "outputs": [
    {
     "name": "stdout",
     "output_type": "stream",
     "text": [
      "converted      0    1\n",
      "OS                   \n",
      "android    26395  330\n",
      "iOS        32938  672\n",
      "mac         8534  185\n",
      "windows    36862  523\n",
      "dof=3\n",
      "[[26295.64844653   429.35155347]\n",
      " [33070.03720441   539.96279559]\n",
      " [ 8578.92455773   140.07544227]\n",
      " [36784.38979134   600.61020866]]\n",
      "probability=0.950, critical=7.815, stat=81.015\n",
      "Dependent (reject H0)\n",
      "significance=0.050, p=0.000\n",
      "Dependent (reject H0)\n"
     ]
    }
   ],
   "source": [
    "#make contingency table for chi squared test\n",
    "contin = pd.crosstab(new_price['OS'],new_price['converted'],margins = False)\n",
    "print(contin)\n",
    "\n",
    "chitest(contin)"
   ]
  },
  {
   "cell_type": "code",
   "execution_count": 45,
   "metadata": {},
   "outputs": [
    {
     "data": {
      "text/plain": [
       "OS\n",
       "android    0.012348\n",
       "iOS        0.019994\n",
       "mac        0.021218\n",
       "windows    0.013990\n",
       "Name: converted, dtype: float64"
      ]
     },
     "execution_count": 45,
     "metadata": {},
     "output_type": "execute_result"
    }
   ],
   "source": [
    "#calculate conversion rate for operating systems\n",
    "new_price.groupby('OS')['converted'].mean()"
   ]
  },
  {
   "cell_type": "markdown",
   "metadata": {},
   "source": [
    "iOS and mac users are still significantly more likely than android and windows users to purchase at the new price- almost twice as likely!"
   ]
  },
  {
   "cell_type": "code",
   "execution_count": null,
   "metadata": {},
   "outputs": [],
   "source": []
  },
  {
   "cell_type": "code",
   "execution_count": 70,
   "metadata": {},
   "outputs": [
    {
     "name": "stdout",
     "output_type": "stream",
     "text": [
      "dof=1\n",
      "[[183052.365   3418.635]\n",
      " [127939.635   2389.365]]\n",
      "probability=0.950, critical=3.841, stat=1.210\n",
      "Independent (fail to reject H0)\n",
      "significance=0.050, p=0.271\n",
      "Independent (fail to reject H0)\n"
     ]
    }
   ],
   "source": [
    "#device that led to the user coming to the site\n",
    "\n",
    "#make contingency table for chi squared test\n",
    "contin = pd.crosstab(full['device'],full['converted'],margins = False)\n",
    "\n",
    "chitest(contin)"
   ]
  },
  {
   "cell_type": "markdown",
   "metadata": {},
   "source": [
    "mobile users are not significantly more likely to purchase than non-mobile users- what about at the new price? "
   ]
  },
  {
   "cell_type": "code",
   "execution_count": 71,
   "metadata": {},
   "outputs": [
    {
     "name": "stdout",
     "output_type": "stream",
     "text": [
      "converted      0     1\n",
      "device                \n",
      "mobile     64925  1065\n",
      "web        47375   708\n",
      "dof=1\n",
      "[[64964.33862527  1025.66137473]\n",
      " [47335.66137473   747.33862527]]\n",
      "probability=0.950, critical=3.841, stat=3.544\n",
      "Independent (fail to reject H0)\n",
      "significance=0.050, p=0.060\n",
      "Independent (fail to reject H0)\n"
     ]
    }
   ],
   "source": [
    "#make contingency table for chi squared test\n",
    "contin = pd.crosstab(new_price['device'],new_price['converted'],margins = False)\n",
    "print(contin)\n",
    "\n",
    "chitest(contin)"
   ]
  },
  {
   "cell_type": "markdown",
   "metadata": {},
   "source": [
    "mobile users are still not significantly more likely to purchase at the new price than non-mobile users"
   ]
  },
  {
   "cell_type": "code",
   "execution_count": null,
   "metadata": {},
   "outputs": [],
   "source": []
  },
  {
   "cell_type": "code",
   "execution_count": 72,
   "metadata": {},
   "outputs": [
    {
     "name": "stdout",
     "output_type": "stream",
     "text": [
      "converted             0     1\n",
      "marketing                    \n",
      "ads              169706  3223\n",
      "direct_traffic    59564   743\n",
      "friend_referral   19872   800\n",
      "seo               61539  1041\n",
      "dof=3\n",
      "[[169756.05599264   3172.94400736]\n",
      " [ 59200.47226751   1106.52773249]\n",
      " [ 20292.70503779    379.29496221]\n",
      " [ 61431.76670206   1148.23329794]]\n",
      "probability=0.950, critical=7.815, stat=608.026\n",
      "Dependent (reject H0)\n",
      "significance=0.050, p=0.000\n",
      "Dependent (reject H0)\n"
     ]
    }
   ],
   "source": [
    "#marketing source that led to the user coming to the site\n",
    "\n",
    "#make contingency table for chi squared test\n",
    "contin = pd.crosstab(full['marketing'],full['converted'],margins = False)\n",
    "print(contin)\n",
    "\n",
    "chitest(contin)"
   ]
  },
  {
   "cell_type": "code",
   "execution_count": 59,
   "metadata": {},
   "outputs": [
    {
     "data": {
      "text/plain": [
       "marketing\n",
       "ads                0.018638\n",
       "direct_traffic     0.012320\n",
       "friend_referral    0.038700\n",
       "seo                0.016635\n",
       "Name: converted, dtype: float64"
      ]
     },
     "execution_count": 59,
     "metadata": {},
     "output_type": "execute_result"
    }
   ],
   "source": [
    "#calculate conversion rate for  device\n",
    "full.groupby('marketing')['converted'].mean()"
   ]
  },
  {
   "cell_type": "markdown",
   "metadata": {},
   "source": [
    "friend referrals are significantly more likely to purchase than other categories- what about at the new price? "
   ]
  },
  {
   "cell_type": "code",
   "execution_count": 73,
   "metadata": {},
   "outputs": [
    {
     "name": "stdout",
     "output_type": "stream",
     "text": [
      "converted            0    1\n",
      "marketing                  \n",
      "ads              61368  989\n",
      "direct_traffic   21362  218\n",
      "friend_referral   7300  252\n",
      "seo              22150  313\n",
      "dof=3\n",
      "[[61387.32325892   969.67674108]\n",
      " [21244.42221286   335.57778714]\n",
      " [ 7434.56332491   117.43667509]\n",
      " [22113.69120331   349.30879669]]\n",
      "probability=0.950, critical=7.815, stat=202.695\n",
      "Dependent (reject H0)\n",
      "significance=0.050, p=0.000\n",
      "Dependent (reject H0)\n"
     ]
    }
   ],
   "source": [
    "#make contingency table for chi squared test\n",
    "contin = pd.crosstab(new_price['marketing'],new_price['converted'],margins = False)\n",
    "print(contin)\n",
    "\n",
    "chitest(contin)"
   ]
  },
  {
   "cell_type": "code",
   "execution_count": 61,
   "metadata": {},
   "outputs": [
    {
     "data": {
      "text/plain": [
       "marketing\n",
       "ads                0.015860\n",
       "direct_traffic     0.010102\n",
       "friend_referral    0.033369\n",
       "seo                0.013934\n",
       "Name: converted, dtype: float64"
      ]
     },
     "execution_count": 61,
     "metadata": {},
     "output_type": "execute_result"
    }
   ],
   "source": [
    "#calculate conversion rate for  device\n",
    "new_price.groupby('marketing')['converted'].mean()"
   ]
  },
  {
   "cell_type": "markdown",
   "metadata": {},
   "source": [
    "friend referrals are 2-3x more likely to purchase than other categories of marketing"
   ]
  },
  {
   "cell_type": "code",
   "execution_count": null,
   "metadata": {},
   "outputs": [],
   "source": []
  },
  {
   "cell_type": "code",
   "execution_count": 103,
   "metadata": {},
   "outputs": [
    {
     "name": "stdout",
     "output_type": "stream",
     "text": [
      "converted      0     1\n",
      "search                \n",
      "bing       24675   325\n",
      "facebook   73050  1472\n",
      "google     80809  1670\n",
      "other      38525   574\n",
      "yahoo      14186   223\n",
      "dof=4\n",
      "[[24547.3633704    452.6366296 ]\n",
      " [73172.74452356  1349.25547644]\n",
      " [80985.6793371   1493.3206629 ]\n",
      " [38391.09441677   707.90558323]\n",
      " [14148.11835216   260.88164784]]\n",
      "probability=0.950, critical=9.488, stat=100.715\n",
      "Dependent (reject H0)\n",
      "significance=0.050, p=0.000\n",
      "Dependent (reject H0)\n"
     ]
    }
   ],
   "source": [
    "#search engine that led to the user coming to the site\n",
    "full2 = full[full['search'].notna()]\n",
    "#full2 = full[~full.search.str.contains(\"NaN\")]\n",
    "\n",
    "#make contingency table for chi squared test\n",
    "contin = pd.crosstab(full2['search'],full2['converted'],margins = False)\n",
    "print(contin)\n",
    "\n",
    "chitest(contin)"
   ]
  },
  {
   "cell_type": "code",
   "execution_count": 104,
   "metadata": {},
   "outputs": [
    {
     "data": {
      "text/plain": [
       "search\n",
       "bing        0.013000\n",
       "facebook    0.019753\n",
       "google      0.020248\n",
       "other       0.014681\n",
       "yahoo       0.015476\n",
       "Name: converted, dtype: float64"
      ]
     },
     "execution_count": 104,
     "metadata": {},
     "output_type": "execute_result"
    }
   ],
   "source": [
    "#calculate conversion rate \n",
    "full2.groupby('search')['converted'].mean()"
   ]
  },
  {
   "cell_type": "markdown",
   "metadata": {},
   "source": [
    "seo and ads on facebook and google are significantly more likely to purchase than other categories- what about at the new price? "
   ]
  },
  {
   "cell_type": "code",
   "execution_count": 105,
   "metadata": {},
   "outputs": [
    {
     "name": "stdout",
     "output_type": "stream",
     "text": [
      "converted      0    1\n",
      "search               \n",
      "bing        8984   90\n",
      "facebook   26568  430\n",
      "google     29003  551\n",
      "other      13774  174\n",
      "yahoo       5189   57\n",
      "dof=4\n",
      "[[ 8934.71270927   139.28729073]\n",
      " [26583.57656213   414.42343787]\n",
      " [29100.34157038   453.65842962]\n",
      " [13733.89606225   214.10393775]\n",
      " [ 5165.47309597    80.52690403]]\n",
      "probability=0.950, critical=9.488, stat=54.129\n",
      "Dependent (reject H0)\n",
      "significance=0.050, p=0.000\n",
      "Dependent (reject H0)\n"
     ]
    }
   ],
   "source": [
    "new_price2 = new_price[new_price['search'].notna()]\n",
    "\n",
    "#make contingency table for chi squared test\n",
    "contin = pd.crosstab(new_price['search'],new_price2['converted'],margins = False)\n",
    "print(contin)\n",
    "\n",
    "chitest(contin)"
   ]
  },
  {
   "cell_type": "code",
   "execution_count": 106,
   "metadata": {},
   "outputs": [
    {
     "data": {
      "text/plain": [
       "search\n",
       "bing        0.009918\n",
       "facebook    0.015927\n",
       "google      0.018644\n",
       "other       0.012475\n",
       "yahoo       0.010865\n",
       "Name: converted, dtype: float64"
      ]
     },
     "execution_count": 106,
     "metadata": {},
     "output_type": "execute_result"
    }
   ],
   "source": [
    "#calculate conversion rate \n",
    "new_price2.groupby('search')['converted'].mean()"
   ]
  },
  {
   "cell_type": "markdown",
   "metadata": {},
   "source": [
    "seo and ads on facebook and google are significantly more likely to purchase than other categories- twice as likely in some cases! google > facebook > other > yahoo or bing"
   ]
  },
  {
   "cell_type": "code",
   "execution_count": null,
   "metadata": {},
   "outputs": [],
   "source": []
  },
  {
   "cell_type": "code",
   "execution_count": null,
   "metadata": {},
   "outputs": [],
   "source": []
  },
  {
   "cell_type": "markdown",
   "metadata": {},
   "source": [
    "Q3: The VP of Product feels that the test has been running for too long and she should have been able to get statistically significant results in a shorter time. Do you agree with her intuition? After how many days would you have stopped the test? Please, explain why.\n",
    "Method: estimate sample size"
   ]
  },
  {
   "cell_type": "code",
   "execution_count": 27,
   "metadata": {},
   "outputs": [],
   "source": [
    "import statsmodels.stats.power as smp\n",
    "n_levels_variable_a = 2\n",
    "n_levels_variable_b = 2\n",
    "test=smp.GofChisquarePower().solve_power(effect_size=0.008, nobs=None, alpha=0.05, power=0.8)\n",
    "#smp.GofChisquarePower().solve_power(0.346, power=.8, n_bins=(n_levels_variable_a-1)*(n_levels_variable_b-1), alpha=0.05)\n",
    "#chipower.solve_power(0.1, nobs=None, alpha=0.05, power=0.9) # Returns ~1050"
   ]
  },
  {
   "cell_type": "code",
   "execution_count": 28,
   "metadata": {},
   "outputs": [
    {
     "data": {
      "text/plain": [
       "122638.4454582215"
      ]
     },
     "execution_count": 28,
     "metadata": {},
     "output_type": "execute_result"
    }
   ],
   "source": [
    "test"
   ]
  },
  {
   "cell_type": "code",
   "execution_count": null,
   "metadata": {},
   "outputs": [],
   "source": [
    "#\"only\" needed 122,638 responses. If 316,800 responses total in 110 days, about 2,880 responses/day. \n",
    "#122,638/2,880 = 42.6 days, so the experiment could have been ended after 43 days. \n"
   ]
  },
  {
   "cell_type": "code",
   "execution_count": null,
   "metadata": {},
   "outputs": [],
   "source": []
  },
  {
   "cell_type": "code",
   "execution_count": null,
   "metadata": {},
   "outputs": [],
   "source": []
  },
  {
   "cell_type": "code",
   "execution_count": null,
   "metadata": {},
   "outputs": [],
   "source": []
  },
  {
   "cell_type": "code",
   "execution_count": null,
   "metadata": {},
   "outputs": [],
   "source": []
  },
  {
   "cell_type": "code",
   "execution_count": null,
   "metadata": {},
   "outputs": [],
   "source": []
  },
  {
   "cell_type": "code",
   "execution_count": null,
   "metadata": {},
   "outputs": [],
   "source": []
  },
  {
   "cell_type": "code",
   "execution_count": null,
   "metadata": {},
   "outputs": [],
   "source": []
  },
  {
   "cell_type": "code",
   "execution_count": null,
   "metadata": {},
   "outputs": [],
   "source": []
  },
  {
   "cell_type": "code",
   "execution_count": null,
   "metadata": {},
   "outputs": [],
   "source": [
    "#pick effect size forumula: https://www.leeds.ac.uk/educol/documents/00002182.htm#:~:text=Effect%20size%20is%20a%20simple,confounding%20this%20with%20sample%20size."
   ]
  },
  {
   "cell_type": "code",
   "execution_count": 41,
   "metadata": {
    "collapsed": true
   },
   "outputs": [
    {
     "ename": "TypeError",
     "evalue": "'<' not supported between instances of 'float' and 'str'",
     "output_type": "error",
     "traceback": [
      "\u001b[0;31m---------------------------------------------------------------------------\u001b[0m",
      "\u001b[0;31mTypeError\u001b[0m                                 Traceback (most recent call last)",
      "\u001b[0;32m<ipython-input-41-55863dc765be>\u001b[0m in \u001b[0;36m<module>\u001b[0;34m\u001b[0m\n\u001b[0;32m----> 1\u001b[0;31m \u001b[0mmin\u001b[0m\u001b[0;34m(\u001b[0m\u001b[0mfull\u001b[0m\u001b[0;34m[\u001b[0m\u001b[0;34m'date'\u001b[0m\u001b[0;34m]\u001b[0m\u001b[0;34m)\u001b[0m\u001b[0;34m\u001b[0m\u001b[0;34m\u001b[0m\u001b[0m\n\u001b[0m\u001b[1;32m      2\u001b[0m \u001b[0mmax\u001b[0m\u001b[0;34m(\u001b[0m\u001b[0mfull\u001b[0m\u001b[0;34m[\u001b[0m\u001b[0;34m'date'\u001b[0m\u001b[0;34m]\u001b[0m\u001b[0;34m)\u001b[0m\u001b[0;34m\u001b[0m\u001b[0;34m\u001b[0m\u001b[0m\n",
      "\u001b[0;31mTypeError\u001b[0m: '<' not supported between instances of 'float' and 'str'"
     ]
    }
   ],
   "source": [
    "min(full['date'])\n",
    "max(full['date'])"
   ]
  },
  {
   "cell_type": "code",
   "execution_count": 40,
   "metadata": {
    "collapsed": true
   },
   "outputs": [
    {
     "ename": "TypeError",
     "evalue": "'<=' not supported between instances of 'str' and 'float'",
     "output_type": "error",
     "traceback": [
      "\u001b[0;31m---------------------------------------------------------------------------\u001b[0m",
      "\u001b[0;31mTypeError\u001b[0m                                 Traceback (most recent call last)",
      "\u001b[0;32m<ipython-input-40-f9469a18aff3>\u001b[0m in \u001b[0;36m<module>\u001b[0;34m\u001b[0m\n\u001b[0;32m----> 1\u001b[0;31m \u001b[0mprint\u001b[0m \u001b[0;34m(\u001b[0m\u001b[0mfull\u001b[0m\u001b[0;34m.\u001b[0m\u001b[0mdate\u001b[0m\u001b[0;34m.\u001b[0m\u001b[0mmin\u001b[0m\u001b[0;34m(\u001b[0m\u001b[0;34m)\u001b[0m\u001b[0;34m)\u001b[0m\u001b[0;34m\u001b[0m\u001b[0;34m\u001b[0m\u001b[0m\n\u001b[0m\u001b[1;32m      2\u001b[0m \u001b[0mprint\u001b[0m \u001b[0;34m(\u001b[0m\u001b[0mfull\u001b[0m\u001b[0;34m.\u001b[0m\u001b[0mdate\u001b[0m\u001b[0;34m.\u001b[0m\u001b[0mmax\u001b[0m\u001b[0;34m(\u001b[0m\u001b[0;34m)\u001b[0m\u001b[0;34m)\u001b[0m\u001b[0;34m\u001b[0m\u001b[0;34m\u001b[0m\u001b[0m\n",
      "\u001b[0;32m~/anaconda3/envs/insight/lib/python3.8/site-packages/pandas/core/generic.py\u001b[0m in \u001b[0;36mstat_func\u001b[0;34m(self, axis, skipna, level, numeric_only, **kwargs)\u001b[0m\n\u001b[1;32m  11212\u001b[0m         \u001b[0;32mif\u001b[0m \u001b[0mlevel\u001b[0m \u001b[0;32mis\u001b[0m \u001b[0;32mnot\u001b[0m \u001b[0;32mNone\u001b[0m\u001b[0;34m:\u001b[0m\u001b[0;34m\u001b[0m\u001b[0;34m\u001b[0m\u001b[0m\n\u001b[1;32m  11213\u001b[0m             \u001b[0;32mreturn\u001b[0m \u001b[0mself\u001b[0m\u001b[0;34m.\u001b[0m\u001b[0m_agg_by_level\u001b[0m\u001b[0;34m(\u001b[0m\u001b[0mname\u001b[0m\u001b[0;34m,\u001b[0m \u001b[0maxis\u001b[0m\u001b[0;34m=\u001b[0m\u001b[0maxis\u001b[0m\u001b[0;34m,\u001b[0m \u001b[0mlevel\u001b[0m\u001b[0;34m=\u001b[0m\u001b[0mlevel\u001b[0m\u001b[0;34m,\u001b[0m \u001b[0mskipna\u001b[0m\u001b[0;34m=\u001b[0m\u001b[0mskipna\u001b[0m\u001b[0;34m)\u001b[0m\u001b[0;34m\u001b[0m\u001b[0;34m\u001b[0m\u001b[0m\n\u001b[0;32m> 11214\u001b[0;31m         return self._reduce(\n\u001b[0m\u001b[1;32m  11215\u001b[0m             \u001b[0mf\u001b[0m\u001b[0;34m,\u001b[0m \u001b[0mname\u001b[0m\u001b[0;34m,\u001b[0m \u001b[0maxis\u001b[0m\u001b[0;34m=\u001b[0m\u001b[0maxis\u001b[0m\u001b[0;34m,\u001b[0m \u001b[0mskipna\u001b[0m\u001b[0;34m=\u001b[0m\u001b[0mskipna\u001b[0m\u001b[0;34m,\u001b[0m \u001b[0mnumeric_only\u001b[0m\u001b[0;34m=\u001b[0m\u001b[0mnumeric_only\u001b[0m\u001b[0;34m\u001b[0m\u001b[0;34m\u001b[0m\u001b[0m\n\u001b[1;32m  11216\u001b[0m         )\n",
      "\u001b[0;32m~/anaconda3/envs/insight/lib/python3.8/site-packages/pandas/core/series.py\u001b[0m in \u001b[0;36m_reduce\u001b[0;34m(self, op, name, axis, skipna, numeric_only, filter_type, **kwds)\u001b[0m\n\u001b[1;32m   3889\u001b[0m                 )\n\u001b[1;32m   3890\u001b[0m             \u001b[0;32mwith\u001b[0m \u001b[0mnp\u001b[0m\u001b[0;34m.\u001b[0m\u001b[0merrstate\u001b[0m\u001b[0;34m(\u001b[0m\u001b[0mall\u001b[0m\u001b[0;34m=\u001b[0m\u001b[0;34m\"ignore\"\u001b[0m\u001b[0;34m)\u001b[0m\u001b[0;34m:\u001b[0m\u001b[0;34m\u001b[0m\u001b[0;34m\u001b[0m\u001b[0m\n\u001b[0;32m-> 3891\u001b[0;31m                 \u001b[0;32mreturn\u001b[0m \u001b[0mop\u001b[0m\u001b[0;34m(\u001b[0m\u001b[0mdelegate\u001b[0m\u001b[0;34m,\u001b[0m \u001b[0mskipna\u001b[0m\u001b[0;34m=\u001b[0m\u001b[0mskipna\u001b[0m\u001b[0;34m,\u001b[0m \u001b[0;34m**\u001b[0m\u001b[0mkwds\u001b[0m\u001b[0;34m)\u001b[0m\u001b[0;34m\u001b[0m\u001b[0;34m\u001b[0m\u001b[0m\n\u001b[0m\u001b[1;32m   3892\u001b[0m \u001b[0;34m\u001b[0m\u001b[0m\n\u001b[1;32m   3893\u001b[0m         \u001b[0;31m# TODO(EA) dispatch to Index\u001b[0m\u001b[0;34m\u001b[0m\u001b[0;34m\u001b[0m\u001b[0;34m\u001b[0m\u001b[0m\n",
      "\u001b[0;32m~/anaconda3/envs/insight/lib/python3.8/site-packages/pandas/core/nanops.py\u001b[0m in \u001b[0;36mf\u001b[0;34m(values, axis, skipna, **kwds)\u001b[0m\n\u001b[1;32m    123\u001b[0m                     \u001b[0mresult\u001b[0m \u001b[0;34m=\u001b[0m \u001b[0malt\u001b[0m\u001b[0;34m(\u001b[0m\u001b[0mvalues\u001b[0m\u001b[0;34m,\u001b[0m \u001b[0maxis\u001b[0m\u001b[0;34m=\u001b[0m\u001b[0maxis\u001b[0m\u001b[0;34m,\u001b[0m \u001b[0mskipna\u001b[0m\u001b[0;34m=\u001b[0m\u001b[0mskipna\u001b[0m\u001b[0;34m,\u001b[0m \u001b[0;34m**\u001b[0m\u001b[0mkwds\u001b[0m\u001b[0;34m)\u001b[0m\u001b[0;34m\u001b[0m\u001b[0;34m\u001b[0m\u001b[0m\n\u001b[1;32m    124\u001b[0m             \u001b[0;32melse\u001b[0m\u001b[0;34m:\u001b[0m\u001b[0;34m\u001b[0m\u001b[0;34m\u001b[0m\u001b[0m\n\u001b[0;32m--> 125\u001b[0;31m                 \u001b[0mresult\u001b[0m \u001b[0;34m=\u001b[0m \u001b[0malt\u001b[0m\u001b[0;34m(\u001b[0m\u001b[0mvalues\u001b[0m\u001b[0;34m,\u001b[0m \u001b[0maxis\u001b[0m\u001b[0;34m=\u001b[0m\u001b[0maxis\u001b[0m\u001b[0;34m,\u001b[0m \u001b[0mskipna\u001b[0m\u001b[0;34m=\u001b[0m\u001b[0mskipna\u001b[0m\u001b[0;34m,\u001b[0m \u001b[0;34m**\u001b[0m\u001b[0mkwds\u001b[0m\u001b[0;34m)\u001b[0m\u001b[0;34m\u001b[0m\u001b[0;34m\u001b[0m\u001b[0m\n\u001b[0m\u001b[1;32m    126\u001b[0m \u001b[0;34m\u001b[0m\u001b[0m\n\u001b[1;32m    127\u001b[0m             \u001b[0;32mreturn\u001b[0m \u001b[0mresult\u001b[0m\u001b[0;34m\u001b[0m\u001b[0;34m\u001b[0m\u001b[0m\n",
      "\u001b[0;32m~/anaconda3/envs/insight/lib/python3.8/site-packages/pandas/core/nanops.py\u001b[0m in \u001b[0;36mreduction\u001b[0;34m(values, axis, skipna, mask)\u001b[0m\n\u001b[1;32m    835\u001b[0m                 \u001b[0mresult\u001b[0m \u001b[0;34m=\u001b[0m \u001b[0mnp\u001b[0m\u001b[0;34m.\u001b[0m\u001b[0mnan\u001b[0m\u001b[0;34m\u001b[0m\u001b[0;34m\u001b[0m\u001b[0m\n\u001b[1;32m    836\u001b[0m         \u001b[0;32melse\u001b[0m\u001b[0;34m:\u001b[0m\u001b[0;34m\u001b[0m\u001b[0;34m\u001b[0m\u001b[0m\n\u001b[0;32m--> 837\u001b[0;31m             \u001b[0mresult\u001b[0m \u001b[0;34m=\u001b[0m \u001b[0mgetattr\u001b[0m\u001b[0;34m(\u001b[0m\u001b[0mvalues\u001b[0m\u001b[0;34m,\u001b[0m \u001b[0mmeth\u001b[0m\u001b[0;34m)\u001b[0m\u001b[0;34m(\u001b[0m\u001b[0maxis\u001b[0m\u001b[0;34m)\u001b[0m\u001b[0;34m\u001b[0m\u001b[0;34m\u001b[0m\u001b[0m\n\u001b[0m\u001b[1;32m    838\u001b[0m \u001b[0;34m\u001b[0m\u001b[0m\n\u001b[1;32m    839\u001b[0m         \u001b[0mresult\u001b[0m \u001b[0;34m=\u001b[0m \u001b[0m_wrap_results\u001b[0m\u001b[0;34m(\u001b[0m\u001b[0mresult\u001b[0m\u001b[0;34m,\u001b[0m \u001b[0mdtype\u001b[0m\u001b[0;34m,\u001b[0m \u001b[0mfill_value\u001b[0m\u001b[0;34m)\u001b[0m\u001b[0;34m\u001b[0m\u001b[0;34m\u001b[0m\u001b[0m\n",
      "\u001b[0;32m~/anaconda3/envs/insight/lib/python3.8/site-packages/numpy/core/_methods.py\u001b[0m in \u001b[0;36m_amin\u001b[0;34m(a, axis, out, keepdims, initial, where)\u001b[0m\n\u001b[1;32m     32\u001b[0m def _amin(a, axis=None, out=None, keepdims=False,\n\u001b[1;32m     33\u001b[0m           initial=_NoValue, where=True):\n\u001b[0;32m---> 34\u001b[0;31m     \u001b[0;32mreturn\u001b[0m \u001b[0mumr_minimum\u001b[0m\u001b[0;34m(\u001b[0m\u001b[0ma\u001b[0m\u001b[0;34m,\u001b[0m \u001b[0maxis\u001b[0m\u001b[0;34m,\u001b[0m \u001b[0;32mNone\u001b[0m\u001b[0;34m,\u001b[0m \u001b[0mout\u001b[0m\u001b[0;34m,\u001b[0m \u001b[0mkeepdims\u001b[0m\u001b[0;34m,\u001b[0m \u001b[0minitial\u001b[0m\u001b[0;34m,\u001b[0m \u001b[0mwhere\u001b[0m\u001b[0;34m)\u001b[0m\u001b[0;34m\u001b[0m\u001b[0;34m\u001b[0m\u001b[0m\n\u001b[0m\u001b[1;32m     35\u001b[0m \u001b[0;34m\u001b[0m\u001b[0m\n\u001b[1;32m     36\u001b[0m def _sum(a, axis=None, dtype=None, out=None, keepdims=False,\n",
      "\u001b[0;31mTypeError\u001b[0m: '<=' not supported between instances of 'str' and 'float'"
     ]
    }
   ],
   "source": [
    "print (full.date.min())\n",
    "print (full.date.max())"
   ]
  },
  {
   "cell_type": "code",
   "execution_count": 42,
   "metadata": {},
   "outputs": [],
   "source": [
    "full[\"test\"]= full[\"date\"].str.find(\">=\") "
   ]
  },
  {
   "cell_type": "code",
   "execution_count": 43,
   "metadata": {},
   "outputs": [
    {
     "data": {
      "text/html": [
       "<div>\n",
       "<style scoped>\n",
       "    .dataframe tbody tr th:only-of-type {\n",
       "        vertical-align: middle;\n",
       "    }\n",
       "\n",
       "    .dataframe tbody tr th {\n",
       "        vertical-align: top;\n",
       "    }\n",
       "\n",
       "    .dataframe thead th {\n",
       "        text-align: right;\n",
       "    }\n",
       "</style>\n",
       "<table border=\"1\" class=\"dataframe\">\n",
       "  <thead>\n",
       "    <tr style=\"text-align: right;\">\n",
       "      <th></th>\n",
       "      <th>user_id</th>\n",
       "      <th>timestamp</th>\n",
       "      <th>source</th>\n",
       "      <th>device</th>\n",
       "      <th>operative_system</th>\n",
       "      <th>test</th>\n",
       "      <th>price</th>\n",
       "      <th>converted</th>\n",
       "      <th>city</th>\n",
       "      <th>country</th>\n",
       "      <th>lat</th>\n",
       "      <th>long</th>\n",
       "      <th>date</th>\n",
       "      <th>time</th>\n",
       "    </tr>\n",
       "  </thead>\n",
       "  <tbody>\n",
       "    <tr>\n",
       "      <th>0</th>\n",
       "      <td>604839</td>\n",
       "      <td>2015-05-08 03:38:34</td>\n",
       "      <td>ads_facebook</td>\n",
       "      <td>mobile</td>\n",
       "      <td>iOS</td>\n",
       "      <td>-1.0</td>\n",
       "      <td>39.0</td>\n",
       "      <td>0</td>\n",
       "      <td>Buffalo</td>\n",
       "      <td>USA</td>\n",
       "      <td>42.89</td>\n",
       "      <td>-78.86</td>\n",
       "      <td>2015-05-08</td>\n",
       "      <td>03:38:34</td>\n",
       "    </tr>\n",
       "    <tr>\n",
       "      <th>1</th>\n",
       "      <td>624057</td>\n",
       "      <td>2015-05-10 21:08:46</td>\n",
       "      <td>seo-google</td>\n",
       "      <td>mobile</td>\n",
       "      <td>android</td>\n",
       "      <td>-1.0</td>\n",
       "      <td>39.0</td>\n",
       "      <td>0</td>\n",
       "      <td>Lakeville</td>\n",
       "      <td>USA</td>\n",
       "      <td>44.68</td>\n",
       "      <td>-93.24</td>\n",
       "      <td>2015-05-10</td>\n",
       "      <td>21:08:46</td>\n",
       "    </tr>\n",
       "    <tr>\n",
       "      <th>2</th>\n",
       "      <td>317970</td>\n",
       "      <td>2015-04-04 15:01:23</td>\n",
       "      <td>ads-bing</td>\n",
       "      <td>mobile</td>\n",
       "      <td>android</td>\n",
       "      <td>-1.0</td>\n",
       "      <td>39.0</td>\n",
       "      <td>0</td>\n",
       "      <td>Parma</td>\n",
       "      <td>USA</td>\n",
       "      <td>41.38</td>\n",
       "      <td>-81.73</td>\n",
       "      <td>2015-04-04</td>\n",
       "      <td>15:01:23</td>\n",
       "    </tr>\n",
       "    <tr>\n",
       "      <th>3</th>\n",
       "      <td>685636</td>\n",
       "      <td>2015-05-07 07:26:01</td>\n",
       "      <td>direct_traffic</td>\n",
       "      <td>mobile</td>\n",
       "      <td>iOS</td>\n",
       "      <td>-1.0</td>\n",
       "      <td>59.0</td>\n",
       "      <td>0</td>\n",
       "      <td>Fayetteville</td>\n",
       "      <td>USA</td>\n",
       "      <td>35.07</td>\n",
       "      <td>-78.90</td>\n",
       "      <td>2015-05-07</td>\n",
       "      <td>07:26:01</td>\n",
       "    </tr>\n",
       "    <tr>\n",
       "      <th>4</th>\n",
       "      <td>820854</td>\n",
       "      <td>2015-05-24 11:04:40</td>\n",
       "      <td>ads_facebook</td>\n",
       "      <td>web</td>\n",
       "      <td>mac</td>\n",
       "      <td>-1.0</td>\n",
       "      <td>39.0</td>\n",
       "      <td>0</td>\n",
       "      <td>Fishers</td>\n",
       "      <td>USA</td>\n",
       "      <td>39.95</td>\n",
       "      <td>-86.02</td>\n",
       "      <td>2015-05-24</td>\n",
       "      <td>11:04:40</td>\n",
       "    </tr>\n",
       "    <tr>\n",
       "      <th>...</th>\n",
       "      <td>...</td>\n",
       "      <td>...</td>\n",
       "      <td>...</td>\n",
       "      <td>...</td>\n",
       "      <td>...</td>\n",
       "      <td>...</td>\n",
       "      <td>...</td>\n",
       "      <td>...</td>\n",
       "      <td>...</td>\n",
       "      <td>...</td>\n",
       "      <td>...</td>\n",
       "      <td>...</td>\n",
       "      <td>...</td>\n",
       "      <td>...</td>\n",
       "    </tr>\n",
       "    <tr>\n",
       "      <th>316795</th>\n",
       "      <td>17427</td>\n",
       "      <td>2015-04-11 09:29:15</td>\n",
       "      <td>ads_facebook</td>\n",
       "      <td>web</td>\n",
       "      <td>windows</td>\n",
       "      <td>-1.0</td>\n",
       "      <td>39.0</td>\n",
       "      <td>0</td>\n",
       "      <td>NaN</td>\n",
       "      <td>NaN</td>\n",
       "      <td>NaN</td>\n",
       "      <td>NaN</td>\n",
       "      <td>2015-04-11</td>\n",
       "      <td>09:29:15</td>\n",
       "    </tr>\n",
       "    <tr>\n",
       "      <th>316796</th>\n",
       "      <td>687787</td>\n",
       "      <td>2015-03-16 23:31:55</td>\n",
       "      <td>direct_traffic</td>\n",
       "      <td>web</td>\n",
       "      <td>windows</td>\n",
       "      <td>-1.0</td>\n",
       "      <td>39.0</td>\n",
       "      <td>0</td>\n",
       "      <td>Bell Gardens</td>\n",
       "      <td>USA</td>\n",
       "      <td>33.97</td>\n",
       "      <td>-118.15</td>\n",
       "      <td>2015-03-16</td>\n",
       "      <td>23:31:55</td>\n",
       "    </tr>\n",
       "    <tr>\n",
       "      <th>316797</th>\n",
       "      <td>618863</td>\n",
       "      <td>2015-04-11 01:35:19</td>\n",
       "      <td>ads-google</td>\n",
       "      <td>web</td>\n",
       "      <td>mac</td>\n",
       "      <td>-1.0</td>\n",
       "      <td>39.0</td>\n",
       "      <td>0</td>\n",
       "      <td>West Seneca</td>\n",
       "      <td>USA</td>\n",
       "      <td>42.84</td>\n",
       "      <td>-78.75</td>\n",
       "      <td>2015-04-11</td>\n",
       "      <td>01:35:19</td>\n",
       "    </tr>\n",
       "    <tr>\n",
       "      <th>316798</th>\n",
       "      <td>154636</td>\n",
       "      <td>2015-05-14 05:46:42</td>\n",
       "      <td>friend_referral</td>\n",
       "      <td>mobile</td>\n",
       "      <td>android</td>\n",
       "      <td>-1.0</td>\n",
       "      <td>39.0</td>\n",
       "      <td>0</td>\n",
       "      <td>Walnut Creek</td>\n",
       "      <td>USA</td>\n",
       "      <td>37.90</td>\n",
       "      <td>-122.04</td>\n",
       "      <td>2015-05-14</td>\n",
       "      <td>05:46:42</td>\n",
       "    </tr>\n",
       "    <tr>\n",
       "      <th>316799</th>\n",
       "      <td>832372</td>\n",
       "      <td>2015-03-08 17:12:33</td>\n",
       "      <td>ads_facebook</td>\n",
       "      <td>mobile</td>\n",
       "      <td>android</td>\n",
       "      <td>-1.0</td>\n",
       "      <td>59.0</td>\n",
       "      <td>0</td>\n",
       "      <td>Chicago</td>\n",
       "      <td>USA</td>\n",
       "      <td>41.84</td>\n",
       "      <td>-87.68</td>\n",
       "      <td>2015-03-08</td>\n",
       "      <td>17:12:33</td>\n",
       "    </tr>\n",
       "  </tbody>\n",
       "</table>\n",
       "<p>316800 rows × 14 columns</p>\n",
       "</div>"
      ],
      "text/plain": [
       "        user_id            timestamp           source  device  \\\n",
       "0        604839  2015-05-08 03:38:34     ads_facebook  mobile   \n",
       "1        624057  2015-05-10 21:08:46       seo-google  mobile   \n",
       "2        317970  2015-04-04 15:01:23         ads-bing  mobile   \n",
       "3        685636  2015-05-07 07:26:01   direct_traffic  mobile   \n",
       "4        820854  2015-05-24 11:04:40     ads_facebook     web   \n",
       "...         ...                  ...              ...     ...   \n",
       "316795    17427  2015-04-11 09:29:15     ads_facebook     web   \n",
       "316796   687787  2015-03-16 23:31:55   direct_traffic     web   \n",
       "316797   618863  2015-04-11 01:35:19       ads-google     web   \n",
       "316798   154636  2015-05-14 05:46:42  friend_referral  mobile   \n",
       "316799   832372  2015-03-08 17:12:33     ads_facebook  mobile   \n",
       "\n",
       "       operative_system  test  price  converted          city country    lat  \\\n",
       "0                   iOS  -1.0   39.0          0       Buffalo     USA  42.89   \n",
       "1               android  -1.0   39.0          0     Lakeville     USA  44.68   \n",
       "2               android  -1.0   39.0          0         Parma     USA  41.38   \n",
       "3                   iOS  -1.0   59.0          0  Fayetteville     USA  35.07   \n",
       "4                   mac  -1.0   39.0          0       Fishers     USA  39.95   \n",
       "...                 ...   ...    ...        ...           ...     ...    ...   \n",
       "316795          windows  -1.0   39.0          0           NaN     NaN    NaN   \n",
       "316796          windows  -1.0   39.0          0  Bell Gardens     USA  33.97   \n",
       "316797              mac  -1.0   39.0          0   West Seneca     USA  42.84   \n",
       "316798          android  -1.0   39.0          0  Walnut Creek     USA  37.90   \n",
       "316799          android  -1.0   59.0          0       Chicago     USA  41.84   \n",
       "\n",
       "          long        date      time  \n",
       "0       -78.86  2015-05-08  03:38:34  \n",
       "1       -93.24  2015-05-10  21:08:46  \n",
       "2       -81.73  2015-04-04  15:01:23  \n",
       "3       -78.90  2015-05-07  07:26:01  \n",
       "4       -86.02  2015-05-24  11:04:40  \n",
       "...        ...         ...       ...  \n",
       "316795     NaN  2015-04-11  09:29:15  \n",
       "316796 -118.15  2015-03-16  23:31:55  \n",
       "316797  -78.75  2015-04-11  01:35:19  \n",
       "316798 -122.04  2015-05-14  05:46:42  \n",
       "316799  -87.68  2015-03-08  17:12:33  \n",
       "\n",
       "[316800 rows x 14 columns]"
      ]
     },
     "execution_count": 43,
     "metadata": {},
     "output_type": "execute_result"
    }
   ],
   "source": [
    "full"
   ]
  },
  {
   "cell_type": "code",
   "execution_count": null,
   "metadata": {},
   "outputs": [],
   "source": []
  }
 ],
 "metadata": {
  "kernelspec": {
   "display_name": "Python 3",
   "language": "python",
   "name": "python3"
  },
  "language_info": {
   "codemirror_mode": {
    "name": "ipython",
    "version": 3
   },
   "file_extension": ".py",
   "mimetype": "text/x-python",
   "name": "python",
   "nbconvert_exporter": "python",
   "pygments_lexer": "ipython3",
   "version": "3.8.3"
  }
 },
 "nbformat": 4,
 "nbformat_minor": 4
}
