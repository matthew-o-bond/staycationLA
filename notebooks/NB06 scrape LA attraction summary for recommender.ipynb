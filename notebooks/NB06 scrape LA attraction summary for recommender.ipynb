{
 "cells": [
  {
   "cell_type": "code",
   "execution_count": 56,
   "metadata": {},
   "outputs": [
    {
     "data": {
      "text/plain": [
       "'/home/matthew/anaconda3/envs/insight/staycationLA/notebooks'"
      ]
     },
     "execution_count": 56,
     "metadata": {},
     "output_type": "execute_result"
    }
   ],
   "source": [
    "import os\n",
    "os.getcwd()"
   ]
  },
  {
   "cell_type": "code",
   "execution_count": 57,
   "metadata": {},
   "outputs": [],
   "source": [
    "#modified from https://github.com/giuseppegambino/Scraping-TripAdvisor-with-Python-2019/blob/master/tripadvisorSelenium.ipynb"
   ]
  },
  {
   "cell_type": "code",
   "execution_count": 58,
   "metadata": {},
   "outputs": [],
   "source": [
    "# and https://stackoverflow.com/questions/53965295/selenium-beautifulsoup-python-loop-through-multiple-pages/53965437"
   ]
  },
  {
   "cell_type": "code",
   "execution_count": null,
   "metadata": {},
   "outputs": [],
   "source": []
  },
  {
   "cell_type": "code",
   "execution_count": 65,
   "metadata": {},
   "outputs": [],
   "source": [
    "import csv\n",
    "import time\n",
    "from selenium import webdriver\n",
    "from selenium.common.exceptions import NoSuchElementException\n",
    "from bs4 import BeautifulSoup\n",
    "import pandas as pd \n",
    "import requests\n",
    "import re"
   ]
  },
  {
   "cell_type": "code",
   "execution_count": 92,
   "metadata": {},
   "outputs": [],
   "source": [
    "def scrape(driver):\n",
    "    '''\n",
    "    function to scrape data about each LA attraction- eg photo, rating, website, gps. If/else statements account for differences in html structure across reviews\n",
    "    '''\n",
    "    \n",
    "    m = re.findall('''\"latitude\":\"([0-9, .-]*?)\",\"longitude\":\"([0-9, .-]*?)\"''', requests.get(url).text)\n",
    "\n",
    "    if (check_exists_by_xpath(\"//span[contains(@class, 'ui_bubble_rating bubble_')]\")):  \n",
    "        string=driver.find_element_by_xpath(\".//span[contains(@class, 'ui_bubble_rating bubble_')]\").get_attribute(\"class\")\n",
    "        data = string.split(\"_\")\n",
    "\n",
    "    # to save in a csv file.:  url, gps, rating, type, name, # reviews, picture URL  \n",
    "        if (check_exists_by_xpath(\"//span[contains(@class, 'ttractions-attraction-review-header-attraction-review-header__reviewCount--3cEMP attractions-attraction-review-header-attraction-review-header__dotted_link--3p26D')]\")):  \n",
    "            if (check_exists_by_xpath(\"//a[@rel='noopener noreferrer']\")): \n",
    "                csvWriter.writerow([url, data[3], m, driver.find_element_by_xpath(\".//a[@rel='noopener noreferrer']\").get_attribute(\"href\"), driver.find_element_by_xpath(\".//a[@class='attractions-attraction-review-header-AttractionLinks__dotted_link--Pt2MP']\").text, driver.find_element_by_xpath(\".//h1[@class='ui_header h1']\").text, driver.find_element_by_xpath(\".//span[@class='attractions-attraction-review-header-attraction-review-header__reviewCount--3cEMP attractions-attraction-review-header-attraction-review-header__dotted_link--3p26D']\").text.replace(\" Reviews\", \"\"), driver.find_element_by_xpath(\".//div[@class='ZVAUHZqh']\").get_attribute(\"style\")])\n",
    "                csvFile.flush()\n",
    "                driver.close()\n",
    "            else:\n",
    "                csvWriter.writerow([url, data[3], m, \"\", driver.find_element_by_xpath(\".//a[@class='attractions-attraction-review-header-AttractionLinks__dotted_link--Pt2MP']\").text, driver.find_element_by_xpath(\".//h1[@class='ui_header h1']\").text, driver.find_element_by_xpath(\".//span[@class='attractions-attraction-review-header-attraction-review-header__reviewCount--3cEMP attractions-attraction-review-header-attraction-review-header__dotted_link--3p26D']\").text.replace(\" Reviews\", \"\"), \"\"])\n",
    "                csvFile.flush()\n",
    "                driver.close()\n",
    "\n",
    "        elif (check_exists_by_xpath(\"//span[contains(@class, 'attractions-contact-card-ContactCard__dottedUnderline--3jH_p')]\")):\n",
    "            # to expand the review \n",
    "            driver.find_element_by_xpath(\"//span[@class='attractions-contact-card-ContactCard__dottedUnderline--3jH_p']\").click()\n",
    "            time.sleep(1)\n",
    "            csvWriter.writerow([url, data[3], m, driver.find_element_by_xpath(\".//a[@class='_2wKz--mA _27M8V6YV']\").get_attribute(\"href\"), driver.find_element_by_xpath(\".//a[@class='attractions-supplier-profile-SupplierCategories__categoryLink--2FAUo']\").text, driver.find_element_by_xpath(\".//h1[@class='attractions-supplier-profile-SupplierProfile__supplierName--3FHWX']\").text, driver.find_element_by_xpath(\".//span[@class='reviewCount styleguide-bubble-rating-BubbleRatingWithReviewCount__reviewCount--37tMc']\").text.replace(\" reviews\", \"\"), \"\"]) \n",
    "            csvFile.flush()\n",
    "            driver.close()\n",
    "        #elif (check_exists_by_xpath(\"//span[@class='attractions-attraction-review-location-NearbyLocation__classification--eg0Mu']\")): \n",
    "        else:\n",
    "            driver.close()\n",
    "    else:\n",
    "        driver.close()\n",
    "    "
   ]
  },
  {
   "cell_type": "code",
   "execution_count": null,
   "metadata": {},
   "outputs": [],
   "source": []
  },
  {
   "cell_type": "code",
   "execution_count": null,
   "metadata": {},
   "outputs": [],
   "source": []
  },
  {
   "cell_type": "code",
   "execution_count": 115,
   "metadata": {},
   "outputs": [
    {
     "data": {
      "text/plain": [
       "1715"
      ]
     },
     "execution_count": 115,
     "metadata": {},
     "output_type": "execute_result"
    }
   ],
   "source": [
    "\n",
    "len(URLs2)"
   ]
  },
  {
   "cell_type": "code",
   "execution_count": 110,
   "metadata": {},
   "outputs": [
    {
     "data": {
      "text/html": [
       "<div>\n",
       "<style scoped>\n",
       "    .dataframe tbody tr th:only-of-type {\n",
       "        vertical-align: middle;\n",
       "    }\n",
       "\n",
       "    .dataframe tbody tr th {\n",
       "        vertical-align: top;\n",
       "    }\n",
       "\n",
       "    .dataframe thead th {\n",
       "        text-align: right;\n",
       "    }\n",
       "</style>\n",
       "<table border=\"1\" class=\"dataframe\">\n",
       "  <thead>\n",
       "    <tr style=\"text-align: right;\">\n",
       "      <th></th>\n",
       "      <th>URL</th>\n",
       "    </tr>\n",
       "  </thead>\n",
       "  <tbody>\n",
       "    <tr>\n",
       "      <th>249</th>\n",
       "      <td>https://www.tripadvisor.com/Attraction_Review-g32648-d17721502-Reviews-El_Dorado_Park_West-Long_...</td>\n",
       "    </tr>\n",
       "    <tr>\n",
       "      <th>250</th>\n",
       "      <td>https://www.tripadvisor.com/Attraction_Review-g32648-d8608633-Reviews-The_Garage_Theatre-Long_Be...</td>\n",
       "    </tr>\n",
       "    <tr>\n",
       "      <th>251</th>\n",
       "      <td>https://www.tripadvisor.com/Attraction_Review-g32648-d14108794-Reviews-Liberation_Brewing_Compan...</td>\n",
       "    </tr>\n",
       "    <tr>\n",
       "      <th>252</th>\n",
       "      <td>https://www.tripadvisor.com/Attraction_Review-g32648-d6700296-Reviews-The_Bembridge_Heritage-Lon...</td>\n",
       "    </tr>\n",
       "    <tr>\n",
       "      <th>253</th>\n",
       "      <td>https://www.tripadvisor.com/Attraction_Review-g32648-d17395026-Reviews-American_Merchant_Marine_...</td>\n",
       "    </tr>\n",
       "    <tr>\n",
       "      <th>...</th>\n",
       "      <td>...</td>\n",
       "    </tr>\n",
       "    <tr>\n",
       "      <th>1758</th>\n",
       "      <td>https://www.tripadvisor.com/Attraction_Review-g33250-d6198429-Reviews-Galaxy_Sports_Bar-West_Cov...</td>\n",
       "    </tr>\n",
       "    <tr>\n",
       "      <th>1759</th>\n",
       "      <td>https://www.tripadvisor.com/Attraction_Review-g33250-d7050554-Reviews-Serenity_Zen_Massage_Refle...</td>\n",
       "    </tr>\n",
       "    <tr>\n",
       "      <th>1760</th>\n",
       "      <td>https://www.tripadvisor.com/Attraction_Review-g33250-d16658171-Reviews-Bowlero-West_Covina_Calif...</td>\n",
       "    </tr>\n",
       "    <tr>\n",
       "      <th>1761</th>\n",
       "      <td>https://www.tripadvisor.com/Attraction_Review-g33250-d12150677-Reviews-Jump_n_Jammin-West_Covina...</td>\n",
       "    </tr>\n",
       "    <tr>\n",
       "      <th>1762</th>\n",
       "      <td>https://www.tripadvisor.com/Attraction_Review-g33250-d5846040-Reviews-Around_The_Corner_Bar_And_...</td>\n",
       "    </tr>\n",
       "  </tbody>\n",
       "</table>\n",
       "<p>1466 rows × 1 columns</p>\n",
       "</div>"
      ],
      "text/plain": [
       "                                                                                                      URL\n",
       "249   https://www.tripadvisor.com/Attraction_Review-g32648-d17721502-Reviews-El_Dorado_Park_West-Long_...\n",
       "250   https://www.tripadvisor.com/Attraction_Review-g32648-d8608633-Reviews-The_Garage_Theatre-Long_Be...\n",
       "251   https://www.tripadvisor.com/Attraction_Review-g32648-d14108794-Reviews-Liberation_Brewing_Compan...\n",
       "252   https://www.tripadvisor.com/Attraction_Review-g32648-d6700296-Reviews-The_Bembridge_Heritage-Lon...\n",
       "253   https://www.tripadvisor.com/Attraction_Review-g32648-d17395026-Reviews-American_Merchant_Marine_...\n",
       "...                                                                                                   ...\n",
       "1758  https://www.tripadvisor.com/Attraction_Review-g33250-d6198429-Reviews-Galaxy_Sports_Bar-West_Cov...\n",
       "1759  https://www.tripadvisor.com/Attraction_Review-g33250-d7050554-Reviews-Serenity_Zen_Massage_Refle...\n",
       "1760  https://www.tripadvisor.com/Attraction_Review-g33250-d16658171-Reviews-Bowlero-West_Covina_Calif...\n",
       "1761  https://www.tripadvisor.com/Attraction_Review-g33250-d12150677-Reviews-Jump_n_Jammin-West_Covina...\n",
       "1762  https://www.tripadvisor.com/Attraction_Review-g33250-d5846040-Reviews-Around_The_Corner_Bar_And_...\n",
       "\n",
       "[1466 rows x 1 columns]"
      ]
     },
     "execution_count": 110,
     "metadata": {},
     "output_type": "execute_result"
    }
   ],
   "source": [
    "#URLs2"
   ]
  },
  {
   "cell_type": "code",
   "execution_count": 160,
   "metadata": {},
   "outputs": [
    {
     "data": {
      "text/plain": [
       "[79]"
      ]
     },
     "execution_count": 160,
     "metadata": {},
     "output_type": "execute_result"
    }
   ],
   "source": [
    "# Load in the dataframe\n",
    "URLs = pd.read_csv(\"../data/processed/LA_combined_URLs.csv\")\n",
    "URLs2 = URLs.drop_duplicates()\n",
    "urls = URLs2['URL'].tolist()\n",
    "[i for i, s in enumerate(urls) if 'Bella_Lu' in s]"
   ]
  },
  {
   "cell_type": "code",
   "execution_count": 161,
   "metadata": {},
   "outputs": [
    {
     "data": {
      "text/html": [
       "<div>\n",
       "<style scoped>\n",
       "    .dataframe tbody tr th:only-of-type {\n",
       "        vertical-align: middle;\n",
       "    }\n",
       "\n",
       "    .dataframe tbody tr th {\n",
       "        vertical-align: top;\n",
       "    }\n",
       "\n",
       "    .dataframe thead th {\n",
       "        text-align: right;\n",
       "    }\n",
       "</style>\n",
       "<table border=\"1\" class=\"dataframe\">\n",
       "  <thead>\n",
       "    <tr style=\"text-align: right;\">\n",
       "      <th></th>\n",
       "      <th>URL</th>\n",
       "    </tr>\n",
       "  </thead>\n",
       "  <tbody>\n",
       "    <tr>\n",
       "      <th>81</th>\n",
       "      <td>https://www.tripadvisor.com/Attraction_Review-g32984-d12207838-Reviews-The_Artists_Studio_Galler...</td>\n",
       "    </tr>\n",
       "    <tr>\n",
       "      <th>82</th>\n",
       "      <td>https://www.tripadvisor.com/Attraction_Review-g32984-d8550941-Reviews-Regal_Promenade_Stadium_13...</td>\n",
       "    </tr>\n",
       "    <tr>\n",
       "      <th>83</th>\n",
       "      <td>https://www.tripadvisor.com/Attraction_Review-g32984-d7184317-Reviews-Cowboy_Boot_Camp-Rolling_H...</td>\n",
       "    </tr>\n",
       "    <tr>\n",
       "      <th>84</th>\n",
       "      <td>https://www.tripadvisor.com/Attraction_Review-g32984-d14950324-Reviews-Healing_Touch_Bodywork-Ro...</td>\n",
       "    </tr>\n",
       "    <tr>\n",
       "      <th>85</th>\n",
       "      <td>https://www.tripadvisor.com/Attraction_Review-g32735-d4089239-Reviews-Montebello_Barnyard_Zoo-Mo...</td>\n",
       "    </tr>\n",
       "    <tr>\n",
       "      <th>...</th>\n",
       "      <td>...</td>\n",
       "    </tr>\n",
       "    <tr>\n",
       "      <th>1758</th>\n",
       "      <td>https://www.tripadvisor.com/Attraction_Review-g33250-d6198429-Reviews-Galaxy_Sports_Bar-West_Cov...</td>\n",
       "    </tr>\n",
       "    <tr>\n",
       "      <th>1759</th>\n",
       "      <td>https://www.tripadvisor.com/Attraction_Review-g33250-d7050554-Reviews-Serenity_Zen_Massage_Refle...</td>\n",
       "    </tr>\n",
       "    <tr>\n",
       "      <th>1760</th>\n",
       "      <td>https://www.tripadvisor.com/Attraction_Review-g33250-d16658171-Reviews-Bowlero-West_Covina_Calif...</td>\n",
       "    </tr>\n",
       "    <tr>\n",
       "      <th>1761</th>\n",
       "      <td>https://www.tripadvisor.com/Attraction_Review-g33250-d12150677-Reviews-Jump_n_Jammin-West_Covina...</td>\n",
       "    </tr>\n",
       "    <tr>\n",
       "      <th>1762</th>\n",
       "      <td>https://www.tripadvisor.com/Attraction_Review-g33250-d5846040-Reviews-Around_The_Corner_Bar_And_...</td>\n",
       "    </tr>\n",
       "  </tbody>\n",
       "</table>\n",
       "<p>1634 rows × 1 columns</p>\n",
       "</div>"
      ],
      "text/plain": [
       "                                                                                                      URL\n",
       "81    https://www.tripadvisor.com/Attraction_Review-g32984-d12207838-Reviews-The_Artists_Studio_Galler...\n",
       "82    https://www.tripadvisor.com/Attraction_Review-g32984-d8550941-Reviews-Regal_Promenade_Stadium_13...\n",
       "83    https://www.tripadvisor.com/Attraction_Review-g32984-d7184317-Reviews-Cowboy_Boot_Camp-Rolling_H...\n",
       "84    https://www.tripadvisor.com/Attraction_Review-g32984-d14950324-Reviews-Healing_Touch_Bodywork-Ro...\n",
       "85    https://www.tripadvisor.com/Attraction_Review-g32735-d4089239-Reviews-Montebello_Barnyard_Zoo-Mo...\n",
       "...                                                                                                   ...\n",
       "1758  https://www.tripadvisor.com/Attraction_Review-g33250-d6198429-Reviews-Galaxy_Sports_Bar-West_Cov...\n",
       "1759  https://www.tripadvisor.com/Attraction_Review-g33250-d7050554-Reviews-Serenity_Zen_Massage_Refle...\n",
       "1760  https://www.tripadvisor.com/Attraction_Review-g33250-d16658171-Reviews-Bowlero-West_Covina_Calif...\n",
       "1761  https://www.tripadvisor.com/Attraction_Review-g33250-d12150677-Reviews-Jump_n_Jammin-West_Covina...\n",
       "1762  https://www.tripadvisor.com/Attraction_Review-g33250-d5846040-Reviews-Around_The_Corner_Bar_And_...\n",
       "\n",
       "[1634 rows x 1 columns]"
      ]
     },
     "execution_count": 161,
     "metadata": {},
     "output_type": "execute_result"
    }
   ],
   "source": [
    "#del flat_list2[:1630] #starting at 1300 to make go faster (stubhub_center)\n",
    "URLs2 = URLs2.iloc[81:]\n",
    "pd.options.display.max_colwidth = 100\n",
    "URLs2"
   ]
  },
  {
   "cell_type": "code",
   "execution_count": 162,
   "metadata": {},
   "outputs": [
    {
     "ename": "KeyboardInterrupt",
     "evalue": "",
     "output_type": "error",
     "traceback": [
      "\u001b[0;31m----------------------------------------------------------\u001b[0m",
      "\u001b[0;31mKeyboardInterrupt\u001b[0m        Traceback (most recent call last)",
      "\u001b[0;32m<ipython-input-162-80d7702cc568>\u001b[0m in \u001b[0;36m<module>\u001b[0;34m\u001b[0m\n\u001b[1;32m      7\u001b[0m         \u001b[0;31m# insert the tripadvisor's website of one attraction\u001b[0m\u001b[0;34m\u001b[0m\u001b[0;34m\u001b[0m\u001b[0;34m\u001b[0m\u001b[0m\n\u001b[1;32m      8\u001b[0m     \u001b[0mdriver\u001b[0m\u001b[0;34m.\u001b[0m\u001b[0mget\u001b[0m\u001b[0;34m(\u001b[0m\u001b[0murl\u001b[0m\u001b[0;34m)\u001b[0m\u001b[0;34m\u001b[0m\u001b[0;34m\u001b[0m\u001b[0m\n\u001b[0;32m----> 9\u001b[0;31m     \u001b[0mtime\u001b[0m\u001b[0;34m.\u001b[0m\u001b[0msleep\u001b[0m\u001b[0;34m(\u001b[0m\u001b[0;36m5\u001b[0m\u001b[0;34m)\u001b[0m\u001b[0;34m\u001b[0m\u001b[0;34m\u001b[0m\u001b[0m\n\u001b[0m\u001b[1;32m     10\u001b[0m     \u001b[0mscrape\u001b[0m\u001b[0;34m(\u001b[0m\u001b[0mdriver\u001b[0m\u001b[0;34m)\u001b[0m\u001b[0;34m\u001b[0m\u001b[0;34m\u001b[0m\u001b[0m\n",
      "\u001b[0;31mKeyboardInterrupt\u001b[0m: "
     ]
    }
   ],
   "source": [
    "for url in URLs2['URL']:\n",
    "    data = url.split(\"-\")\n",
    "    # open the file to save the review\n",
    "    csvFile = open(\"/home/matthew/anaconda3/envs/insight/staycationLA/data/raw/recdata_LA_\" + data[4] + \"_url.csv\", 'a')\n",
    "    csvWriter = csv.writer(csvFile)\n",
    "    driver = webdriver.Chrome(\"/home/matthew/Downloads/chromedriver\")\n",
    "        # insert the tripadvisor's website of one attraction \n",
    "    driver.get(url)\n",
    "    time.sleep(5)\n",
    "    scrape(driver)"
   ]
  },
  {
   "cell_type": "code",
   "execution_count": 98,
   "metadata": {
    "collapsed": true
   },
   "outputs": [
    {
     "ename": "NoSuchElementException",
     "evalue": "Message: no such element: Unable to locate element: {\"method\":\"xpath\",\"selector\":\".//a[@class='attractions-attraction-review-header-AttractionLinks__dotted_link--Pt2MP']\"}\n  (Session info: chrome=83.0.4103.97)\n",
     "output_type": "error",
     "traceback": [
      "\u001b[0;31m----------------------------------------------------------\u001b[0m",
      "\u001b[0;31mNoSuchElementException\u001b[0m   Traceback (most recent call last)",
      "\u001b[0;32m<ipython-input-98-547db0dd7bdd>\u001b[0m in \u001b[0;36m<module>\u001b[0;34m\u001b[0m\n\u001b[0;32m----> 1\u001b[0;31m \u001b[0mscrape\u001b[0m\u001b[0;34m(\u001b[0m\u001b[0mdriver\u001b[0m\u001b[0;34m)\u001b[0m\u001b[0;34m\u001b[0m\u001b[0;34m\u001b[0m\u001b[0m\n\u001b[0m",
      "\u001b[0;32m<ipython-input-92-10fd6c08411c>\u001b[0m in \u001b[0;36mscrape\u001b[0;34m(driver)\u001b[0m\n\u001b[1;32m     10\u001b[0m         \u001b[0;32mif\u001b[0m \u001b[0;34m(\u001b[0m\u001b[0mcheck_exists_by_xpath\u001b[0m\u001b[0;34m(\u001b[0m\u001b[0;34m\"//span[contains(@class, 'ttractions-attraction-review-header-attraction-review-header__reviewCount--3cEMP attractions-attraction-review-header-attraction-review-header__dotted_link--3p26D')]\"\u001b[0m\u001b[0;34m)\u001b[0m\u001b[0;34m)\u001b[0m\u001b[0;34m:\u001b[0m\u001b[0;34m\u001b[0m\u001b[0;34m\u001b[0m\u001b[0m\n\u001b[1;32m     11\u001b[0m             \u001b[0;32mif\u001b[0m \u001b[0;34m(\u001b[0m\u001b[0mcheck_exists_by_xpath\u001b[0m\u001b[0;34m(\u001b[0m\u001b[0;34m\"//a[@rel='noopener noreferrer']\"\u001b[0m\u001b[0;34m)\u001b[0m\u001b[0;34m)\u001b[0m\u001b[0;34m:\u001b[0m\u001b[0;34m\u001b[0m\u001b[0;34m\u001b[0m\u001b[0m\n\u001b[0;32m---> 12\u001b[0;31m                 \u001b[0mcsvWriter\u001b[0m\u001b[0;34m.\u001b[0m\u001b[0mwriterow\u001b[0m\u001b[0;34m(\u001b[0m\u001b[0;34m[\u001b[0m\u001b[0murl\u001b[0m\u001b[0;34m,\u001b[0m \u001b[0mdata\u001b[0m\u001b[0;34m[\u001b[0m\u001b[0;36m3\u001b[0m\u001b[0;34m]\u001b[0m\u001b[0;34m,\u001b[0m \u001b[0mm\u001b[0m\u001b[0;34m,\u001b[0m \u001b[0mdriver\u001b[0m\u001b[0;34m.\u001b[0m\u001b[0mfind_element_by_xpath\u001b[0m\u001b[0;34m(\u001b[0m\u001b[0;34m\".//a[@rel='noopener noreferrer']\"\u001b[0m\u001b[0;34m)\u001b[0m\u001b[0;34m.\u001b[0m\u001b[0mget_attribute\u001b[0m\u001b[0;34m(\u001b[0m\u001b[0;34m\"href\"\u001b[0m\u001b[0;34m)\u001b[0m\u001b[0;34m,\u001b[0m \u001b[0mdriver\u001b[0m\u001b[0;34m.\u001b[0m\u001b[0mfind_element_by_xpath\u001b[0m\u001b[0;34m(\u001b[0m\u001b[0;34m\".//a[@class='attractions-attraction-review-header-AttractionLinks__dotted_link--Pt2MP']\"\u001b[0m\u001b[0;34m)\u001b[0m\u001b[0;34m.\u001b[0m\u001b[0mtext\u001b[0m\u001b[0;34m,\u001b[0m \u001b[0mdriver\u001b[0m\u001b[0;34m.\u001b[0m\u001b[0mfind_element_by_xpath\u001b[0m\u001b[0;34m(\u001b[0m\u001b[0;34m\".//h1[@class='ui_header h1']\"\u001b[0m\u001b[0;34m)\u001b[0m\u001b[0;34m.\u001b[0m\u001b[0mtext\u001b[0m\u001b[0;34m,\u001b[0m \u001b[0mdriver\u001b[0m\u001b[0;34m.\u001b[0m\u001b[0mfind_element_by_xpath\u001b[0m\u001b[0;34m(\u001b[0m\u001b[0;34m\".//span[@class='attractions-attraction-review-header-attraction-review-header__reviewCount--3cEMP attractions-attraction-review-header-attraction-review-header__dotted_link--3p26D']\"\u001b[0m\u001b[0;34m)\u001b[0m\u001b[0;34m.\u001b[0m\u001b[0mtext\u001b[0m\u001b[0;34m.\u001b[0m\u001b[0mreplace\u001b[0m\u001b[0;34m(\u001b[0m\u001b[0;34m\" Reviews\"\u001b[0m\u001b[0;34m,\u001b[0m \u001b[0;34m\"\"\u001b[0m\u001b[0;34m)\u001b[0m\u001b[0;34m,\u001b[0m \u001b[0mdriver\u001b[0m\u001b[0;34m.\u001b[0m\u001b[0mfind_element_by_xpath\u001b[0m\u001b[0;34m(\u001b[0m\u001b[0;34m\".//div[@class='ZVAUHZqh']\"\u001b[0m\u001b[0;34m)\u001b[0m\u001b[0;34m.\u001b[0m\u001b[0mget_attribute\u001b[0m\u001b[0;34m(\u001b[0m\u001b[0;34m\"style\"\u001b[0m\u001b[0;34m)\u001b[0m\u001b[0;34m]\u001b[0m\u001b[0;34m)\u001b[0m\u001b[0;34m\u001b[0m\u001b[0;34m\u001b[0m\u001b[0m\n\u001b[0m\u001b[1;32m     13\u001b[0m                 \u001b[0mcsvFile\u001b[0m\u001b[0;34m.\u001b[0m\u001b[0mflush\u001b[0m\u001b[0;34m(\u001b[0m\u001b[0;34m)\u001b[0m\u001b[0;34m\u001b[0m\u001b[0;34m\u001b[0m\u001b[0m\n\u001b[1;32m     14\u001b[0m                 \u001b[0mdriver\u001b[0m\u001b[0;34m.\u001b[0m\u001b[0mclose\u001b[0m\u001b[0;34m(\u001b[0m\u001b[0;34m)\u001b[0m\u001b[0;34m\u001b[0m\u001b[0;34m\u001b[0m\u001b[0m\n",
      "\u001b[0;32m~/anaconda3/envs/insight/lib/python3.8/site-packages/selenium/webdriver/remote/webdriver.py\u001b[0m in \u001b[0;36mfind_element_by_xpath\u001b[0;34m(self, xpath)\u001b[0m\n\u001b[1;32m    392\u001b[0m             \u001b[0melement\u001b[0m \u001b[0;34m=\u001b[0m \u001b[0mdriver\u001b[0m\u001b[0;34m.\u001b[0m\u001b[0mfind_element_by_xpath\u001b[0m\u001b[0;34m(\u001b[0m\u001b[0;34m'//div/td[1]'\u001b[0m\u001b[0;34m)\u001b[0m\u001b[0;34m\u001b[0m\u001b[0;34m\u001b[0m\u001b[0m\n\u001b[1;32m    393\u001b[0m         \"\"\"\n\u001b[0;32m--> 394\u001b[0;31m         \u001b[0;32mreturn\u001b[0m \u001b[0mself\u001b[0m\u001b[0;34m.\u001b[0m\u001b[0mfind_element\u001b[0m\u001b[0;34m(\u001b[0m\u001b[0mby\u001b[0m\u001b[0;34m=\u001b[0m\u001b[0mBy\u001b[0m\u001b[0;34m.\u001b[0m\u001b[0mXPATH\u001b[0m\u001b[0;34m,\u001b[0m \u001b[0mvalue\u001b[0m\u001b[0;34m=\u001b[0m\u001b[0mxpath\u001b[0m\u001b[0;34m)\u001b[0m\u001b[0;34m\u001b[0m\u001b[0;34m\u001b[0m\u001b[0m\n\u001b[0m\u001b[1;32m    395\u001b[0m \u001b[0;34m\u001b[0m\u001b[0m\n\u001b[1;32m    396\u001b[0m     \u001b[0;32mdef\u001b[0m \u001b[0mfind_elements_by_xpath\u001b[0m\u001b[0;34m(\u001b[0m\u001b[0mself\u001b[0m\u001b[0;34m,\u001b[0m \u001b[0mxpath\u001b[0m\u001b[0;34m)\u001b[0m\u001b[0;34m:\u001b[0m\u001b[0;34m\u001b[0m\u001b[0;34m\u001b[0m\u001b[0m\n",
      "\u001b[0;32m~/anaconda3/envs/insight/lib/python3.8/site-packages/selenium/webdriver/remote/webdriver.py\u001b[0m in \u001b[0;36mfind_element\u001b[0;34m(self, by, value)\u001b[0m\n\u001b[1;32m    974\u001b[0m                 \u001b[0mby\u001b[0m \u001b[0;34m=\u001b[0m \u001b[0mBy\u001b[0m\u001b[0;34m.\u001b[0m\u001b[0mCSS_SELECTOR\u001b[0m\u001b[0;34m\u001b[0m\u001b[0;34m\u001b[0m\u001b[0m\n\u001b[1;32m    975\u001b[0m                 \u001b[0mvalue\u001b[0m \u001b[0;34m=\u001b[0m \u001b[0;34m'[name=\"%s\"]'\u001b[0m \u001b[0;34m%\u001b[0m \u001b[0mvalue\u001b[0m\u001b[0;34m\u001b[0m\u001b[0;34m\u001b[0m\u001b[0m\n\u001b[0;32m--> 976\u001b[0;31m         return self.execute(Command.FIND_ELEMENT, {\n\u001b[0m\u001b[1;32m    977\u001b[0m             \u001b[0;34m'using'\u001b[0m\u001b[0;34m:\u001b[0m \u001b[0mby\u001b[0m\u001b[0;34m,\u001b[0m\u001b[0;34m\u001b[0m\u001b[0;34m\u001b[0m\u001b[0m\n\u001b[1;32m    978\u001b[0m             'value': value})['value']\n",
      "\u001b[0;32m~/anaconda3/envs/insight/lib/python3.8/site-packages/selenium/webdriver/remote/webdriver.py\u001b[0m in \u001b[0;36mexecute\u001b[0;34m(self, driver_command, params)\u001b[0m\n\u001b[1;32m    319\u001b[0m         \u001b[0mresponse\u001b[0m \u001b[0;34m=\u001b[0m \u001b[0mself\u001b[0m\u001b[0;34m.\u001b[0m\u001b[0mcommand_executor\u001b[0m\u001b[0;34m.\u001b[0m\u001b[0mexecute\u001b[0m\u001b[0;34m(\u001b[0m\u001b[0mdriver_command\u001b[0m\u001b[0;34m,\u001b[0m \u001b[0mparams\u001b[0m\u001b[0;34m)\u001b[0m\u001b[0;34m\u001b[0m\u001b[0;34m\u001b[0m\u001b[0m\n\u001b[1;32m    320\u001b[0m         \u001b[0;32mif\u001b[0m \u001b[0mresponse\u001b[0m\u001b[0;34m:\u001b[0m\u001b[0;34m\u001b[0m\u001b[0;34m\u001b[0m\u001b[0m\n\u001b[0;32m--> 321\u001b[0;31m             \u001b[0mself\u001b[0m\u001b[0;34m.\u001b[0m\u001b[0merror_handler\u001b[0m\u001b[0;34m.\u001b[0m\u001b[0mcheck_response\u001b[0m\u001b[0;34m(\u001b[0m\u001b[0mresponse\u001b[0m\u001b[0;34m)\u001b[0m\u001b[0;34m\u001b[0m\u001b[0;34m\u001b[0m\u001b[0m\n\u001b[0m\u001b[1;32m    322\u001b[0m             response['value'] = self._unwrap_value(\n\u001b[1;32m    323\u001b[0m                 response.get('value', None))\n",
      "\u001b[0;32m~/anaconda3/envs/insight/lib/python3.8/site-packages/selenium/webdriver/remote/errorhandler.py\u001b[0m in \u001b[0;36mcheck_response\u001b[0;34m(self, response)\u001b[0m\n\u001b[1;32m    240\u001b[0m                 \u001b[0malert_text\u001b[0m \u001b[0;34m=\u001b[0m \u001b[0mvalue\u001b[0m\u001b[0;34m[\u001b[0m\u001b[0;34m'alert'\u001b[0m\u001b[0;34m]\u001b[0m\u001b[0;34m.\u001b[0m\u001b[0mget\u001b[0m\u001b[0;34m(\u001b[0m\u001b[0;34m'text'\u001b[0m\u001b[0;34m)\u001b[0m\u001b[0;34m\u001b[0m\u001b[0;34m\u001b[0m\u001b[0m\n\u001b[1;32m    241\u001b[0m             \u001b[0;32mraise\u001b[0m \u001b[0mexception_class\u001b[0m\u001b[0;34m(\u001b[0m\u001b[0mmessage\u001b[0m\u001b[0;34m,\u001b[0m \u001b[0mscreen\u001b[0m\u001b[0;34m,\u001b[0m \u001b[0mstacktrace\u001b[0m\u001b[0;34m,\u001b[0m \u001b[0malert_text\u001b[0m\u001b[0;34m)\u001b[0m\u001b[0;34m\u001b[0m\u001b[0;34m\u001b[0m\u001b[0m\n\u001b[0;32m--> 242\u001b[0;31m         \u001b[0;32mraise\u001b[0m \u001b[0mexception_class\u001b[0m\u001b[0;34m(\u001b[0m\u001b[0mmessage\u001b[0m\u001b[0;34m,\u001b[0m \u001b[0mscreen\u001b[0m\u001b[0;34m,\u001b[0m \u001b[0mstacktrace\u001b[0m\u001b[0;34m)\u001b[0m\u001b[0;34m\u001b[0m\u001b[0;34m\u001b[0m\u001b[0m\n\u001b[0m\u001b[1;32m    243\u001b[0m \u001b[0;34m\u001b[0m\u001b[0m\n\u001b[1;32m    244\u001b[0m     \u001b[0;32mdef\u001b[0m \u001b[0m_value_or_default\u001b[0m\u001b[0;34m(\u001b[0m\u001b[0mself\u001b[0m\u001b[0;34m,\u001b[0m \u001b[0mobj\u001b[0m\u001b[0;34m,\u001b[0m \u001b[0mkey\u001b[0m\u001b[0;34m,\u001b[0m \u001b[0mdefault\u001b[0m\u001b[0;34m)\u001b[0m\u001b[0;34m:\u001b[0m\u001b[0;34m\u001b[0m\u001b[0;34m\u001b[0m\u001b[0m\n",
      "\u001b[0;31mNoSuchElementException\u001b[0m: Message: no such element: Unable to locate element: {\"method\":\"xpath\",\"selector\":\".//a[@class='attractions-attraction-review-header-AttractionLinks__dotted_link--Pt2MP']\"}\n  (Session info: chrome=83.0.4103.97)\n"
     ]
    }
   ],
   "source": [
    "scrape(driver)"
   ]
  },
  {
   "cell_type": "code",
   "execution_count": null,
   "metadata": {},
   "outputs": [],
   "source": []
  },
  {
   "cell_type": "code",
   "execution_count": null,
   "metadata": {},
   "outputs": [],
   "source": []
  },
  {
   "cell_type": "code",
   "execution_count": null,
   "metadata": {},
   "outputs": [],
   "source": []
  }
 ],
 "metadata": {
  "kernelspec": {
   "display_name": "Python 3",
   "language": "python",
   "name": "python3"
  },
  "language_info": {
   "codemirror_mode": {
    "name": "ipython",
    "version": 3
   },
   "file_extension": ".py",
   "mimetype": "text/x-python",
   "name": "python",
   "nbconvert_exporter": "python",
   "pygments_lexer": "ipython3",
   "version": "3.8.3"
  }
 },
 "nbformat": 4,
 "nbformat_minor": 4
}
