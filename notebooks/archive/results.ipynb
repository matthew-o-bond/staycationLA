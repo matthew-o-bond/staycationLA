{
 "cells": [
  {
   "cell_type": "code",
   "execution_count": 1,
   "metadata": {},
   "outputs": [
    {
     "data": {
      "text/plain": [
       "'/home/matthew/anaconda3/envs/insight/staycationLA/notebooks'"
      ]
     },
     "execution_count": 1,
     "metadata": {},
     "output_type": "execute_result"
    }
   ],
   "source": [
    "import os\n",
    "os.getcwd()"
   ]
  },
  {
   "cell_type": "code",
   "execution_count": 2,
   "metadata": {},
   "outputs": [],
   "source": [
    "# Import packages\n",
    "\n",
    "#from flask import Flask, render_template, redirect, request\n",
    "#from app import app\n",
    "import heapq\n",
    "import numpy as np\n",
    "import pickle    \n",
    "from sklearn.metrics.pairwise import linear_kernel\n",
    "from sklearn.feature_extraction.text import TfidfVectorizer"
   ]
  },
  {
   "cell_type": "code",
   "execution_count": null,
   "metadata": {},
   "outputs": [],
   "source": [
    "#take cityname from website, return best match"
   ]
  },
  {
   "cell_type": "code",
   "execution_count": 19,
   "metadata": {},
   "outputs": [],
   "source": [
    "#LAreviews=[mill, mjt, mbr, balboa, labrea]"
   ]
  },
  {
   "cell_type": "code",
   "execution_count": 3,
   "metadata": {},
   "outputs": [],
   "source": [
    "import pickle\n",
    "with open('../data/cleaned/LAreviews.pkl', 'rb') as f:    #../../../ each ../ goes up one folder level\n",
    "    LAreviews = pickle.load(f)"
   ]
  },
  {
   "cell_type": "code",
   "execution_count": null,
   "metadata": {},
   "outputs": [],
   "source": []
  },
  {
   "cell_type": "code",
   "execution_count": 23,
   "metadata": {},
   "outputs": [],
   "source": [
    "#print(LAreviews)"
   ]
  },
  {
   "cell_type": "code",
   "execution_count": 4,
   "metadata": {},
   "outputs": [],
   "source": [
    "cityname = \"sydney\"\n",
    "import pickle\n",
    "with open('../data/cleaned/' + cityname + '.pkl', 'rb') as f:\n",
    "    citydata = pickle.load(f)"
   ]
  },
  {
   "cell_type": "code",
   "execution_count": 22,
   "metadata": {},
   "outputs": [],
   "source": [
    "cityname = \"cusco\"\n",
    "import pickle\n",
    "with open('../data/cleaned/' + cityname + '.pkl', 'rb') as f:\n",
    "    citydata = pickle.load(f)"
   ]
  },
  {
   "cell_type": "code",
   "execution_count": 37,
   "metadata": {},
   "outputs": [],
   "source": [
    "cityname = \"santorini\"\n",
    "import pickle\n",
    "with open('../data/cleaned/' + cityname + '.pkl', 'rb') as f:\n",
    "    citydata = pickle.load(f)"
   ]
  },
  {
   "cell_type": "code",
   "execution_count": 52,
   "metadata": {},
   "outputs": [],
   "source": [
    "cityname = \"phuket\"\n",
    "import pickle\n",
    "with open('../data/cleaned/' + cityname + '.pkl', 'rb') as f:\n",
    "    citydata = pickle.load(f)"
   ]
  },
  {
   "cell_type": "code",
   "execution_count": 68,
   "metadata": {},
   "outputs": [],
   "source": [
    "cityname = \"paris\"\n",
    "import pickle\n",
    "with open('../data/cleaned/' + cityname + '.pkl', 'rb') as f:\n",
    "    citydata = pickle.load(f)"
   ]
  },
  {
   "cell_type": "code",
   "execution_count": 84,
   "metadata": {},
   "outputs": [],
   "source": [
    "cityname = \"istanbul\"\n",
    "import pickle\n",
    "with open('../data/cleaned/' + cityname + '.pkl', 'rb') as f:\n",
    "    citydata = pickle.load(f)"
   ]
  },
  {
   "cell_type": "code",
   "execution_count": 85,
   "metadata": {},
   "outputs": [],
   "source": [
    "LAreviews.insert(0, citydata)\n",
    "#print(LAreviews)"
   ]
  },
  {
   "cell_type": "code",
   "execution_count": 86,
   "metadata": {},
   "outputs": [],
   "source": [
    "from sklearn.feature_extraction.text import TfidfVectorizer\n",
    "#https://stackoverflow.com/questions/12118720/python-tf-idf-cosine-to-find-document-similarity\n",
    "tfidf = TfidfVectorizer().fit_transform(LAreviews)\n",
    "#tfidf"
   ]
  },
  {
   "cell_type": "code",
   "execution_count": 87,
   "metadata": {},
   "outputs": [],
   "source": [
    "from sklearn.metrics.pairwise import linear_kernel\n",
    "cosine_similarities = linear_kernel(tfidf[0:1], tfidf).flatten()\n",
    "#cosine_similarities"
   ]
  },
  {
   "cell_type": "code",
   "execution_count": 88,
   "metadata": {},
   "outputs": [],
   "source": [
    "#type(cosine_similarities)"
   ]
  },
  {
   "cell_type": "code",
   "execution_count": 89,
   "metadata": {},
   "outputs": [],
   "source": [
    "test=np.delete(cosine_similarities, 0)"
   ]
  },
  {
   "cell_type": "code",
   "execution_count": 74,
   "metadata": {},
   "outputs": [],
   "source": [
    "#print(test)"
   ]
  },
  {
   "cell_type": "code",
   "execution_count": null,
   "metadata": {},
   "outputs": [],
   "source": []
  },
  {
   "cell_type": "code",
   "execution_count": null,
   "metadata": {},
   "outputs": [],
   "source": []
  },
  {
   "cell_type": "code",
   "execution_count": 90,
   "metadata": {},
   "outputs": [],
   "source": [
    "m=heapq.nlargest(10, test)"
   ]
  },
  {
   "cell_type": "code",
   "execution_count": 91,
   "metadata": {},
   "outputs": [
    {
     "data": {
      "text/plain": [
       "[0.7172230648185036,\n",
       " 0.7102337701653559,\n",
       " 0.7092873330399883,\n",
       " 0.7074404434647871,\n",
       " 0.7011511121907753,\n",
       " 0.6948268421213731,\n",
       " 0.6892391490694942,\n",
       " 0.6888485373283233,\n",
       " 0.6819568583077248,\n",
       " 0.6818402380816174]"
      ]
     },
     "execution_count": 91,
     "metadata": {},
     "output_type": "execute_result"
    }
   ],
   "source": [
    "m"
   ]
  },
  {
   "cell_type": "code",
   "execution_count": 92,
   "metadata": {},
   "outputs": [],
   "source": [
    "#m = max(test)\n",
    "#place=[i for i, j in enumerate(test) if j == m]"
   ]
  },
  {
   "cell_type": "code",
   "execution_count": 93,
   "metadata": {},
   "outputs": [],
   "source": [
    "li = []\n",
    "\n",
    "for n in m:\n",
    "    place=[i for i, j in enumerate(test) if j == n]\n",
    "    #print(place)\n",
    "    \n",
    "    li.append(place)"
   ]
  },
  {
   "cell_type": "code",
   "execution_count": 94,
   "metadata": {},
   "outputs": [],
   "source": [
    "#li"
   ]
  },
  {
   "cell_type": "code",
   "execution_count": 95,
   "metadata": {},
   "outputs": [],
   "source": [
    "import pickle\n",
    "with open('../data/cleaned/LAdict.pkl', 'rb') as f:    #../../../ each ../ goes up one folder level\n",
    "    LAdict = pickle.load(f)"
   ]
  },
  {
   "cell_type": "code",
   "execution_count": 96,
   "metadata": {},
   "outputs": [],
   "source": [
    "li2 = []\n",
    "for l in li:\n",
    "    num = int(''.join(map(str,l)))\n",
    "    num\n",
    "    #print(LAdict[num,])\n",
    "    li2.append(LAdict[num,])"
   ]
  },
  {
   "cell_type": "code",
   "execution_count": 97,
   "metadata": {
    "scrolled": true
   },
   "outputs": [
    {
     "data": {
      "text/plain": [
       "[['LA_Lancaster_Performing_Arts_Center'],\n",
       " ['LA_Brentwood_Country_Mart'],\n",
       " ['LA_Griffins_of_Kinsale_url'],\n",
       " ['LA_Paddle_House'],\n",
       " ['LA_Downey_History_Center_url'],\n",
       " ['LA_Rogue_Machine_Theatre_url'],\n",
       " ['LA_Hollywood_Bowl_Museum_url'],\n",
       " ['LA_Hilltop_Park'],\n",
       " ['LA_Star_Helicopters'],\n",
       " ['LA_Dorothy_Chandler_Pavilion_url']]"
      ]
     },
     "execution_count": 97,
     "metadata": {},
     "output_type": "execute_result"
    }
   ],
   "source": [
    "li2"
   ]
  },
  {
   "cell_type": "code",
   "execution_count": 19,
   "metadata": {},
   "outputs": [],
   "source": [
    "import pickle\n",
    "with open('../data/cleaned/fast_sydney.pkl', 'wb') as f:    #../../../ each ../ goes up one folder level\n",
    "    pickle.dump(li2, f)"
   ]
  },
  {
   "cell_type": "code",
   "execution_count": 36,
   "metadata": {},
   "outputs": [],
   "source": [
    "import pickle\n",
    "with open('../data/cleaned/fast_cusco.pkl', 'wb') as f:    #../../../ each ../ goes up one folder level\n",
    "    pickle.dump(li2, f)"
   ]
  },
  {
   "cell_type": "code",
   "execution_count": 51,
   "metadata": {},
   "outputs": [],
   "source": [
    "import pickle\n",
    "with open('../data/cleaned/fast_santorini.pkl', 'wb') as f:    #../../../ each ../ goes up one folder level\n",
    "    pickle.dump(li2, f)"
   ]
  },
  {
   "cell_type": "code",
   "execution_count": 67,
   "metadata": {},
   "outputs": [],
   "source": [
    "import pickle\n",
    "with open('../data/cleaned/fast_phuket.pkl', 'wb') as f:    #../../../ each ../ goes up one folder level\n",
    "    pickle.dump(li2, f)"
   ]
  },
  {
   "cell_type": "code",
   "execution_count": 83,
   "metadata": {},
   "outputs": [],
   "source": [
    "import pickle\n",
    "with open('../data/cleaned/fast_paris.pkl', 'wb') as f:    #../../../ each ../ goes up one folder level\n",
    "    pickle.dump(li2, f)"
   ]
  },
  {
   "cell_type": "code",
   "execution_count": 98,
   "metadata": {},
   "outputs": [],
   "source": [
    "import pickle\n",
    "with open('../data/cleaned/fast_istanbul.pkl', 'wb') as f:    #../../../ each ../ goes up one folder level\n",
    "    pickle.dump(li2, f)"
   ]
  },
  {
   "cell_type": "code",
   "execution_count": 20,
   "metadata": {},
   "outputs": [],
   "source": [
    "cityname = \"sydney\"\n",
    "import pickle\n",
    "with open('../data/cleaned/fast_' + cityname + '.pkl', 'rb') as f:\n",
    "    citydata = pickle.load(f)"
   ]
  },
  {
   "cell_type": "code",
   "execution_count": 21,
   "metadata": {},
   "outputs": [
    {
     "data": {
      "text/plain": [
       "[['LA_Hollywood_Murals_You_Are_the_Star_url'],\n",
       " ['LA_Dave_Buster_s_Arcade_url'],\n",
       " ['LA_Powell_Library_url'],\n",
       " ['LA_Dignity_Health_Sports_Park_url'],\n",
       " ['LA_Ten_Mile_Brewing'],\n",
       " ['LA_Mob_Accountant_presented_by_Felix_Escape_Games_url'],\n",
       " ['LA_FUNBOX_url'],\n",
       " ['LA_Amir_s_Garden_url'],\n",
       " ['LA_McBride_Trail_url'],\n",
       " ['LA_Venice_Room_url']]"
      ]
     },
     "execution_count": 21,
     "metadata": {},
     "output_type": "execute_result"
    }
   ],
   "source": [
    "citydata"
   ]
  },
  {
   "cell_type": "code",
   "execution_count": null,
   "metadata": {},
   "outputs": [],
   "source": []
  },
  {
   "cell_type": "code",
   "execution_count": null,
   "metadata": {},
   "outputs": [],
   "source": []
  },
  {
   "cell_type": "code",
   "execution_count": null,
   "metadata": {},
   "outputs": [],
   "source": []
  },
  {
   "cell_type": "code",
   "execution_count": 63,
   "metadata": {
    "scrolled": true
   },
   "outputs": [],
   "source": []
  },
  {
   "cell_type": "code",
   "execution_count": null,
   "metadata": {},
   "outputs": [],
   "source": []
  },
  {
   "cell_type": "code",
   "execution_count": null,
   "metadata": {},
   "outputs": [],
   "source": []
  },
  {
   "cell_type": "code",
   "execution_count": 24,
   "metadata": {},
   "outputs": [
    {
     "name": "stdout",
     "output_type": "stream",
     "text": [
      "['LA_Ports_O_Call_Village_url']\n"
     ]
    }
   ],
   "source": [
    "print(LAdict[num,])"
   ]
  },
  {
   "cell_type": "code",
   "execution_count": 25,
   "metadata": {},
   "outputs": [
    {
     "data": {
      "text/plain": [
       "[287]"
      ]
     },
     "execution_count": 25,
     "metadata": {},
     "output_type": "execute_result"
    }
   ],
   "source": [
    "[num,]"
   ]
  },
  {
   "cell_type": "code",
   "execution_count": null,
   "metadata": {},
   "outputs": [],
   "source": []
  }
 ],
 "metadata": {
  "kernelspec": {
   "display_name": "Python 3",
   "language": "python",
   "name": "python3"
  },
  "language_info": {
   "codemirror_mode": {
    "name": "ipython",
    "version": 3
   },
   "file_extension": ".py",
   "mimetype": "text/x-python",
   "name": "python",
   "nbconvert_exporter": "python",
   "pygments_lexer": "ipython3",
   "version": "3.8.3"
  }
 },
 "nbformat": 4,
 "nbformat_minor": 4
}
