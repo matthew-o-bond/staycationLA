{
 "cells": [
  {
   "cell_type": "code",
   "execution_count": 1,
   "metadata": {},
   "outputs": [],
   "source": [
    "import os\n",
    "os.getcwd()"
   ]
  },
  {
   "cell_type": "code",
   "execution_count": 2,
   "metadata": {},
   "outputs": [],
   "source": [
    "#modified from https://github.com/giuseppegambino/Scraping-TripAdvisor-with-Python-2019/blob/master/tripadvisorSelenium.ipynb and https://stackoverflow.com/questions/53965295/selenium-beautifulsoup-python-loop-through-multiple-pages/53965437"
   ]
  },
  {
   "cell_type": "code",
   "execution_count": 3,
   "metadata": {},
   "outputs": [],
   "source": [
    "#pip install selenium\n",
    "#pip install bs4"
   ]
  },
  {
   "cell_type": "code",
   "execution_count": 4,
   "metadata": {},
   "outputs": [],
   "source": [
    "import csv\n",
    "import time\n",
    "from selenium import webdriver\n",
    "from selenium.common.exceptions import NoSuchElementException\n",
    "from bs4 import BeautifulSoup\n",
    "import pandas as pd \n",
    "import requests\n",
    "import pickle\n",
    "import re"
   ]
  },
  {
   "cell_type": "code",
   "execution_count": 5,
   "metadata": {},
   "outputs": [],
   "source": [
    "# function to check if the button is on the page, to avoid miss-click problem\n",
    "def check_exists_by_xpath(xpath):\n",
    "    try:\n",
    "        driver.find_element_by_xpath(xpath)\n",
    "    except NoSuchElementException:\n",
    "        return False\n",
    "    return True"
   ]
  },
  {
   "cell_type": "code",
   "execution_count": 6,
   "metadata": {},
   "outputs": [],
   "source": [
    "def scrape(driver):\n",
    "\n",
    "    if (check_exists_by_xpath(\"//a[contains(@class, 'ui_tab social-profile-ProfileTab__ui_tab--3f5yN') and contains(@data-tab-name, 'Travel map')]\")):\n",
    "        try:\n",
    "            # to open travel map tab\n",
    "            driver.find_element_by_xpath(\"//a[contains(@class, 'ui_tab social-profile-ProfileTab__ui_tab--3f5yN') and contains(@data-tab-name, 'Travel map')]\").click()\n",
    "            time.sleep(5)\n",
    "\n",
    "            driver.switch_to.window(driver.window_handles[1])\n",
    "            mapURL = (driver.current_url)\n",
    "            map_source = requests.get(mapURL)\n",
    "            m = re.findall('''\"flags\":\\[([a-z, \"]*?)\\],\"name\":\"(.*?)\"''', map_source.text)\n",
    "            n = [(tag, place, user) for (tag, place) in m]\n",
    "            df = pd.DataFrame(n, columns=[\"tag\", \"place\", \"user\"])\n",
    "            df.to_csv(r'C:\\\\Users\\Mehrdad\\Documents\\Insight\\Matthew\\data\\raw/user_LA_' + user + '.csv', index = False, header=True)\n",
    "            driver.close()\n",
    "            driver.switch_to.window(driver.window_handles[0])\n",
    "            driver.close()\n",
    "        except requests.exceptions.ConnectionError:\n",
    "            print(\"ConnectionError\")\n",
    "            driver.close()\n",
    "    "
   ]
  },
  {
   "cell_type": "code",
   "execution_count": 7,
   "metadata": {},
   "outputs": [],
   "source": [
    "#mehrdad- change the file path in line 14 above"
   ]
  },
  {
   "cell_type": "code",
   "execution_count": 8,
   "metadata": {},
   "outputs": [],
   "source": [
    "#load list of usernames\n",
    "with open('C:\\\\Users\\Mehrdad\\Documents\\Insight\\Matthew\\data/processed/userlist.pkl', 'rb') as f:\n",
    "    usernames = pickle.load(f)"
   ]
  },
  {
   "cell_type": "code",
   "execution_count": 9,
   "metadata": {},
   "outputs": [
    {
     "data": {
      "text/plain": [
       "24937"
      ]
     },
     "execution_count": 9,
     "metadata": {},
     "output_type": "execute_result"
    }
   ],
   "source": [
    "len(usernames)"
   ]
  },
  {
   "cell_type": "code",
   "execution_count": 10,
   "metadata": {},
   "outputs": [],
   "source": [
    "#remove duplicates\n",
    "usernames2=[ x for x in usernames if \" \" not in x ]"
   ]
  },
  {
   "cell_type": "code",
   "execution_count": 11,
   "metadata": {},
   "outputs": [
    {
     "data": {
      "text/plain": [
       "16792"
      ]
     },
     "execution_count": 11,
     "metadata": {},
     "output_type": "execute_result"
    }
   ],
   "source": [
    "len(usernames2)"
   ]
  },
  {
   "cell_type": "code",
   "execution_count": 12,
   "metadata": {},
   "outputs": [
    {
     "data": {
      "text/plain": [
       "3440"
      ]
     },
     "execution_count": 12,
     "metadata": {},
     "output_type": "execute_result"
    }
   ],
   "source": [
    "#find last user I scraped before sending script to mehrdad\n",
    "usernames2.index(\"ebs0303\")"
   ]
  },
  {
   "cell_type": "code",
   "execution_count": 13,
   "metadata": {},
   "outputs": [],
   "source": [
    "n = 3441\n",
    "del usernames2[:n]\n",
    "#print (usernames2)"
   ]
  },
  {
   "cell_type": "code",
   "execution_count": null,
   "metadata": {},
   "outputs": [],
   "source": []
  },
  {
   "cell_type": "code",
   "execution_count": null,
   "metadata": {},
   "outputs": [
    {
     "name": "stdout",
     "output_type": "stream",
     "text": [
      "ConnectionError\n",
      "ConnectionError\n",
      "ConnectionError\n",
      "ConnectionError\n",
      "ConnectionError\n",
      "ConnectionError\n",
      "ConnectionError\n",
      "ConnectionError\n",
      "ConnectionError\n",
      "ConnectionError\n",
      "ConnectionError\n",
      "ConnectionError\n",
      "ConnectionError\n"
     ]
    }
   ],
   "source": [
    "for user in usernames2:\n",
    "    # import the webdriver, chrome driver is recommended\n",
    "    driver = webdriver.Chrome(\"C:\\\\Users\\Mehrdad\\Downloads/chromedriver\")\n",
    "    # insert the tripadvisor's website of one attraction \n",
    "    driver.get(\"https://www.tripadvisor.com/Profile/\" + user)\n",
    "    time.sleep(5)\n",
    "    scrape(driver)"
   ]
  },
  {
   "cell_type": "code",
   "execution_count": null,
   "metadata": {},
   "outputs": [],
   "source": []
  },
  {
   "cell_type": "code",
   "execution_count": null,
   "metadata": {},
   "outputs": [],
   "source": []
  },
  {
   "cell_type": "code",
   "execution_count": null,
   "metadata": {},
   "outputs": [],
   "source": []
  },
  {
   "cell_type": "code",
   "execution_count": null,
   "metadata": {},
   "outputs": [],
   "source": [
    "df"
   ]
  },
  {
   "cell_type": "code",
   "execution_count": null,
   "metadata": {},
   "outputs": [],
   "source": []
  },
  {
   "cell_type": "code",
   "execution_count": null,
   "metadata": {},
   "outputs": [],
   "source": []
  },
  {
   "cell_type": "code",
   "execution_count": null,
   "metadata": {},
   "outputs": [],
   "source": []
  },
  {
   "cell_type": "code",
   "execution_count": null,
   "metadata": {},
   "outputs": [],
   "source": []
  },
  {
   "cell_type": "code",
   "execution_count": null,
   "metadata": {},
   "outputs": [],
   "source": []
  }
 ],
 "metadata": {
  "kernelspec": {
   "display_name": "Python 3",
   "language": "python",
   "name": "python3"
  },
  "language_info": {
   "codemirror_mode": {
    "name": "ipython",
    "version": 3
   },
   "file_extension": ".py",
   "mimetype": "text/x-python",
   "name": "python",
   "nbconvert_exporter": "python",
   "pygments_lexer": "ipython3",
   "version": "3.8.3"
  }
 },
 "nbformat": 4,
 "nbformat_minor": 4
}
