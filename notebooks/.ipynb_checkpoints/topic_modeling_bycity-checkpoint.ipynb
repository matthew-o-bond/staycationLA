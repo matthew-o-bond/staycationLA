{
 "cells": [
  {
   "cell_type": "code",
   "execution_count": 1,
   "metadata": {},
   "outputs": [
    {
     "data": {
      "text/plain": [
       "'/home/matthew/anaconda3/envs/insight/staycationLA/notebooks'"
      ]
     },
     "execution_count": 1,
     "metadata": {},
     "output_type": "execute_result"
    }
   ],
   "source": [
    "import os\n",
    "os.getcwd()"
   ]
  },
  {
   "cell_type": "code",
   "execution_count": 2,
   "metadata": {},
   "outputs": [],
   "source": [
    "#modified from \n",
    "#https://towardsdatascience.com/topic-modeling-quora-questions-with-lda-nmf-aff8dce5e1dd\n",
    "#https://towardsdatascience.com/end-to-end-topic-modeling-in-python-latent-dirichlet-allocation-lda-35ce4ed6b3e0"
   ]
  },
  {
   "cell_type": "code",
   "execution_count": 3,
   "metadata": {},
   "outputs": [],
   "source": [
    "#pip install plotly"
   ]
  },
  {
   "cell_type": "code",
   "execution_count": null,
   "metadata": {
    "scrolled": true
   },
   "outputs": [],
   "source": []
  },
  {
   "cell_type": "code",
   "execution_count": 2,
   "metadata": {},
   "outputs": [],
   "source": [
    "# Import packages\n",
    "\n",
    "import re, nltk, spacy, string\n",
    "\n",
    "from sklearn.decomposition import LatentDirichletAllocation\n",
    "from sklearn.feature_extraction.text import CountVectorizer, TfidfVectorizer\n",
    "from pprint import pprint\n",
    "\n",
    "import pyLDAvis\n",
    "import pyLDAvis.sklearn\n",
    "import matplotlib.pyplot as plt\n",
    "%matplotlib inline\n",
    "\n",
    "from plotly.offline import plot\n",
    "import plotly.graph_objects as go\n",
    "import plotly.express as px\n",
    "import pandas as pd\n",
    "from nltk.corpus import stopwords\n",
    "from nltk import word_tokenize\n",
    "import seaborn as sns"
   ]
  },
  {
   "cell_type": "code",
   "execution_count": null,
   "metadata": {},
   "outputs": [],
   "source": [
    "reviews = pd.read_csv(\"../data/processed/LA_combined_reviews.csv\", index_col=None)\n",
    "print('We have',len(reviews), 'reviews in the data')"
   ]
  },
  {
   "cell_type": "code",
   "execution_count": null,
   "metadata": {},
   "outputs": [],
   "source": [
    "reviews = reviews[reviews['stars'] > 35]\n",
    "\n",
    "for filename in all_filenames:\n",
    "    \n",
    "    reviews[\"all_text\"] = reviews[\"title\"] + \" \" + reviews[\"text\"]\n",
    "    \n",
    "    #reviews1=positive_review_string(reviews)\n",
    "\n",
    "    reviews1 = reviews.lower()\n",
    "    # collecting a list of stop words from nltk and punctuation form\n",
    "    # string class and create single array.\n",
    "\n",
    "    #corpus= [remove_punctuation(corpus) for t in corpus]\n",
    "    reviews1= \" \".join(re.sub(\"([^0-9A-Za-z \\t])|(\\w+:\\/\\/\\S+)\", \" \", reviews1).split())\n",
    "\n",
    "    reviews1 = re.sub(r'[0-9]+', '', reviews1)\n",
    "    #print(x2) \n",
    "\n",
    "    # remove stop words from string.\n",
    "    stopset = [stopwords.words('english')]  \n",
    "    # word_tokenize is used to tokenize the input reviews1 in word tokens.\n",
    "    reviews1 = \" \".join([i for i in word_tokenize(reviews1) if i not in stopset])\n",
    "\n",
    "\n",
    "    #identify words\n",
    "    wordList = re.sub(\"[^\\w]\", \" \",  reviews1).split()\n",
    "\n",
    "    # initialize an empty string \n",
    "    str1 = \" \" \n",
    "    # return string   \n",
    "    wordstring=(str1.join(wordList)) \n",
    "    #twin=[attraction_name, wordstring]\n",
    "    #print(wordstring)    \n",
    "\n",
    "#frame = pd.concat(li, axis=0, ignore_index=True)\n",
    "#export to csv\n",
    "#frame.to_csv( \"../processed/LA_cleaned_combined_reviews.csv\", index=False, encoding='utf-8-sig')"
   ]
  },
  {
   "cell_type": "code",
   "execution_count": null,
   "metadata": {},
   "outputs": [],
   "source": []
  },
  {
   "cell_type": "code",
   "execution_count": null,
   "metadata": {},
   "outputs": [],
   "source": []
  },
  {
   "cell_type": "code",
   "execution_count": null,
   "metadata": {},
   "outputs": [],
   "source": []
  },
  {
   "cell_type": "code",
   "execution_count": null,
   "metadata": {},
   "outputs": [],
   "source": []
  },
  {
   "cell_type": "code",
   "execution_count": null,
   "metadata": {},
   "outputs": [],
   "source": [
    "df = pd.read_csv('quora_challenge.csv')\n",
    "print('We have',len(df), 'questions in the data')"
   ]
  },
  {
   "cell_type": "code",
   "execution_count": 3,
   "metadata": {},
   "outputs": [],
   "source": [
    "def positive_review_string(reviews):\n",
    "    #set rating to be 4-5 stars only\n",
    "    reviews = reviews[reviews['stars'] > 35]\n",
    "    reviews[\"all_text\"] = reviews[\"title\"] + \" \" + reviews[\"text\"]\n",
    "    #make into list\n",
    "    reviews_texts = reviews['all_text'].tolist()\n",
    "    #type(reviews_texts_pos)\n",
    "\n",
    "    #make into string\n",
    "    # initialize an empty string \n",
    "    str1 = \" \" \n",
    "    # return string   \n",
    "    reviews2=(str1.join(reviews_texts)) \n",
    "    return(reviews2)"
   ]
  },
  {
   "cell_type": "code",
   "execution_count": 4,
   "metadata": {},
   "outputs": [],
   "source": [
    "namelist= ['phuket', 'santorini', 'cusco', 'sydney', 'istanbul', 'florence', 'cape_town', 'havana', 'jaipur', 'luxor', 'marrakech', 'rio', 'salzburg', \"beijing\", \"st_petersburg\", 'edinburgh', 'lisbon', 'berlin']\n",
    "numlist= [103, 163, 108, 122, 293, 281, 107, 126, 113, 172, 166, 91, 73, 149, 116, 163, 117, 162]"
   ]
  },
  {
   "cell_type": "code",
   "execution_count": 5,
   "metadata": {
    "scrolled": true
   },
   "outputs": [
    {
     "name": "stderr",
     "output_type": "stream",
     "text": [
      "<ipython-input-3-edc3f7e91a6f>:4: SettingWithCopyWarning:\n",
      "\n",
      "\n",
      "A value is trying to be set on a copy of a slice from a DataFrame.\n",
      "Try using .loc[row_indexer,col_indexer] = value instead\n",
      "\n",
      "See the caveats in the documentation: https://pandas.pydata.org/pandas-docs/stable/user_guide/indexing.html#returning-a-view-versus-a-copy\n",
      "\n"
     ]
    }
   ],
   "source": [
    "li = []\n",
    "for name, num in zip(namelist, numlist):\n",
    "    raw= pd.read_csv(\"../data/raw/city_\" + name + \".csv\", names=['stars', 'title', 'text'])\n",
    "    #../../../ each ../ goes up one folder level\n",
    "\n",
    "    #remove reviews that are not in english\n",
    "    english=raw[0:num]\n",
    "    english = english.drop_duplicates()\n",
    "    reviews_pos=positive_review_string(english)\n",
    "    row= (reviews_pos, name)\n",
    "    li.append(row)\n",
    "\n",
    "    \n",
    "    \n",
    "    #appended_data = pd.concat(li)\n",
    "    #data2=appended_data.reset_index(drop=True)"
   ]
  },
  {
   "cell_type": "code",
   "execution_count": 50,
   "metadata": {
    "collapsed": true
   },
   "outputs": [
    {
     "data": {
      "text/plain": [
       "'“Berlin & salsa 2014” Last year I decided to visit Germany, the country where I spent a year of my student’s life back in 1995. I always wanted to come back just for holidays. This time I went to Berlin, where have never been before. Beside of getting know the historical capital, I wanted to participate in world famous Berlin Salsa Congress.I was surprised of the local hospitality, especially the guide Martha. I followed her recommendations and \\'secret tips\\' for tourists.If you plan to visit Berlin, I would highly recommend you to experience a dinner in a rotating restaurant on top of the highest building of the capital \\'The Berlin TV Tower\".Unexpected choice of good vine and just amazing food you\\'ll enjoy being above the night city. 10 out of 10!Moreover I\\'ll never regret choosing a half-day walking tour through Mitte (the city historical centre). I love history and Martha gave us just perfect opportunity to plunge into the time of Hitler\\'s Germany. It changed my imagination of \\'\\'how it was\\'\\'...Beside, the cultural city has many nice restaurants you can choose from related to your taste buds or nationality. I remember we had ordered a traditional German grilled goose...yummm!And for sure the salsa congress was amazing. I would never forget there are so many good dancers in Berlin! If you enjoy Latin music/dancing, there are couple of salsa clubs open couple of days a week. One of my favorite was Cuban style \\'Havana\\' club. Highly recommended. “Berlinon our own” We had visited Berlin 3 times since 2010. We stayed in apartments that is in East Berlin. Affortable-around 60Euro for a night with all you need (except washing machine). We cooked our dinner as we got tired after a days trip around the city.Other than sight seeing, we visited the flea markets that open around the week one after the other. The one at the JFK visited square is the best.We managed thru the town though not many German there communicate in English when we enquire about the way. Subway system is great but be sure buy ticket (7days is the best 26Euro if you stay that long) for inspectors are very hard working and plain clothed. Once caught= fine of 42 Euro.We had been to the Nazi bomb shelter (guide talks in English).Plan your trip ahead and take the Bus-101 ? that moves around the Center-Alexandaplax. Public one with your day bus ticket=free. “Gemaldegalerie - one of Europe\\'s great Art Galleries” Ranks with Uffizi,Louvre,Prado etc, New gallery which has included some of the paintings from the Bode Museum. Particularly strong on Northern Rennaissance painters - Breughels, Holbeins,Cranach Durer Rembrandt. The only problem is that there are so many great paintings that you can become exhausted by the time you get to the Italian rooms - which are absolutely magnificent (from Siena,Giotto,Fra Angelico through to Caravaggio). However, decide to make a day of it and visit the Restaurant for lunch. The food was extremely good, reasonably priced and the surroundings were pleasant .Instead of getting the Berlin Card (which doesn\\'t cover this and many of the Museums in former West Berlin) we got a Museum Card which covers all Berlin\\'s Museums.Next to Berlin Philharmonic. Nearest underground is Potzdamer Platz. “Original Berlin Walks” I took Tour 1 and though my feet hurt after the tour, I was very satisfied. Our tour guide, Ashleigh, was excellent. She was very knowledgeable, interesting and put everyone at ease. Clearly she loves Berlin and she helped us learn to appreciate Berlin\\'s past, present and future. “Famous Walk - Insider Tour” What a fantastic experience! A great way to get a good introduction into the history of Berlin. Our tour guide, Michael was very informative, very energetic and really kept us involved from start to finish. This guy-de knows what he\\'s talking about!!!Giulia. “Berlin - One of Europe\\'s Best Kept Family Vacation Secrets” After many years of \\'thinking about it\\' we finally got a trip to Berlin in March and absolutely loved it. Not the old fashioned, post war government town at all. Great night life. Obviously an enormously interesting history both in the city sights and, in particular, the museums. Culturally diverse and lots of great restaurant options on both ends of town.Highly recommend this as a trip for families, particularly with teen aged kids who are able to appreciate the rich texture that is life in today\\'s Berlin. “A Very New City” I came here as a 16-year old on a school trip, for a period of four days, three nights. And to tell you the truth my classmates and I had very mixed feelings about the city as a whole. The city (of which was for the most part destroyed during WWII by the Soviets) looked relatively ugly and seemed to remind me of a combination between Moscow\\'s outskirts and some towns in the USA (this being on both sides of the city).That being said, some places were quite aesthetic and had a great ambiance accompagnying them. The Alexander Platz and the Friedrichstrasse metro areas were a great place to stop and eat dinner at one of Berlin\\'s great restaurants.The restaurants in Berlin were great: The food is relatively good, the beer is... well the geographic location says it all, and all this goodness comes to a very low price. Berlin is surprisingly cheap compared to France, the UK, Italy, or any other part of Western Europe.Finally, I\\'d like to finish by saying that the people of Berlin are probably the most disciplined people I have ever seen. They will always follow the road signs/panels and will always help out when you are in need for it.**** Berlin, a generally enjoyable experience. “A weekend in Berlin with no museums.” We just had a weekend in Berlin and did not visit a single museum. Not that Berlin doesn\\'t have fabulous museums, the Pergamon is one of the best in the world, it\\'s just that we found so many other things to do this visit. Start with the flea markets - the best we found is Flea Market Arkonaplatz, but we had fun finding and visiting others. Then there is the East Wall Gallery. This is the longest stretch of wall still standing and the road side of the wall has been used by artists to paint murals - they are amazing and it is a facinating walk. There is also an S-bahn stop at one end and a U-bahn stop at the other, so you only have to walk one way. Finally, for one of the best shawarma\\'s you will ever eat try the tiny little Turkish restaurant on Oranienburger Strasse, near Hackescher Markt S-bahn station. It\\'s along the section which has the trams going one way away from the station on the left side of the street (in the tram direction). When the weather is good you can sit outside at trestle tables. “Deserves its reputation” We had heard from many friends rave reviews for Berlin, so we decided to spend Easter there. The result has vindicated us.The old city (the former East Berlin) is wonderful, both in terms of building\\'s architecture, and natural beauty, with it\\'s two rivers and canals running through it. The museums are amazing - especially the Pergamon Museum, which is one of the best in the world in my opinion.The former West Berlin is a modern city without any particular attractions except the parks - the Tiergarden and Charlottenburgh, also the homonymous palace. Do not miss the Kaiser Wilhelm Gedachtniskirche.Although most modern hotels are located in former West Berlin, around the Potsdamer platz and Kurfursttendamm, the commercial center of former West Berlin, prefer a hotel close to Unter den Linden, to be located near the main attractions.I also suggest a day trip to Potsdam, a beautiful small town 40 minutes away by train. You can walk through the amazing gardens of the palace, although the palace itself is in bad situation.From cultural point of view, the city has several Jazz club, but we could not find anything that we liked - perhaps because of the Easter period. We attended a concert in the oranzeri Charlottenburgh, which indented to resemble Bach\\'s time (dresses, lights etc), but the result was poor. On the other hand the Easter concert at the Berliner Dom was remarkable, since the building is beautiful and appropriate for classical music performances.On Berlin\\'s negative side\\'s I can only mention the behavior of the employees - waiters, museum and transport staff etc, who are arrogant and rude in many cases.If you find yourself in Berlin do not forget to visit also Gendarmmenmarkt, a magnificent square with the Konzerthaus and two symmetrically placed beautiful temples at both ends of the square, with very nice bars and restaurants around, the area Hackesche Hofe, where you can walk in the shadow of beautiful buildings, the square Bebelplatz, surrounded by magnificent historic buildings and museums, the medieval area Nikolaiviertel for a ride and lunch at the quaint restaurants and of course the Brandenburger Tor and the Reichstag, which requires an application a few days ago via internet, so you can get inside. Finally a walk in the Tiergarden\\'s Neuer See for a cold beer in Beergarden is a necessary component of your trip. “Berlin - the European monopoly of history and culture” Every time when we visit Berlin we find new exciting experiences.We prefor East-Berlin, especially \"Prenzlauer Berg\", the area around \"Hackische Höfe\" (Scheunenviertel) and Friedrichshain. The town is changing allways. Last year I visited Berlin four times and I find new surprizes every time even I have visited the place just for three month ago. In this years Berlin change and develops more than any other big cities in Europe. “Nice days in Berlin” We have recently visited Berlin and had a great experience. It is a beautiful city, with many things to see and it is easy to get around by underground or other trains. There are many out-door cafes and restaurants. We shall be back again. “WOW ! What a fantastic City” Excellent public transport,very warm and friendly people,fab history,all the usual tourist sites are even better than the hype,I love city breaks and this place is the best !!!!! “Beautiful!” This is a very historic yet modern, high tech, beautiful city! A must see! “Berlin - A fascinating city” We just spent three days in Berlin and I was fascinated by the city. I had previously been there in 1970 when it was a divided city so I was curious to see the changes. And there have been many! Our hotel (a Hilton - very nice but just a big hotel) was in what had been East Berlin. The first thing we noticed was the line of bricks in the sidewalk to designate where the Berlin Wall had stood. This gives a constant reminder, wherever you go, of the strange and dark past of the city. This line ran past our hotel, as well as the Russian Monument and the Brandenburg Gate. Sections of the Wall do remain and small museums are dedicated to those who lived behind the Wall and those who died trying to escape. Unfortunately, Checkpoint Charlie is somewhat of a joke nowadays. Once the only way an American could travel from West Berlin to East, it now sits in the middle of a busy street with fake soldiers standing in front. On a happier note, the former East Berlin is now just as modern and prosperous as the West. Beautiful churches and new government buildings (which can best be seen on a boat ride on the Spree River) mix with wonderful museums. There are too many to see; the two we visited and loved were the Gemaldegalerie, with its collection of Old Masters paintings, and the Pergamonmuseum, with one of the world\\'s most impressive archaeological collections. The Tiergarten is a lovely place to take a stroll, and if you have time, don\\'t miss a Kabaret show in the evening! “It is a nice city” I went to Berlin on June 2010 for a business trip. I spent there 5 days. Its not a city of extravaganza but something is there which you can feel, you can feel the history Germany, the development. It has also a natural beaut. “Berlin - multicultural” Berlin is one of the youngest capitol in Europe due to past events - iron curtain and influence of four different occupants it becomes such interesting. This mixture gives today incredible colorful city. Everyone can find something great to do in this almost 4 milion citizens metropoly. For those who likes walk through the city and look for attractions outside it is great idea for weekend break. Potsdamer Platz, Regirungs Viertel and Alexander Platz in my opinion are the best places to see and visit. System of public transport in Berlin in my opinion is very accurate i fast so the best idea is to leave car in P+R place and change for Tube (U-Bahn), Street Train (S-Bahn) or buses. Berlin also is one of most \"green\" city in the world. There are a lot of parks, green squares where is opportunity to rest for a minute. In my opinion the best kebabs are in Berlin - if You will visit this city You must try it. “City of sights and history” Berlin is one of my favourite cities.I\\'m not into old builidings and architecture, but even I was impressed with the buildings.History of the place and monuments is amazing, including seeing what is left of the Wall, and learning about this once divided city.Too many sights to list, but tripadvisor is a great place to start your research.I recommend getting a Berlin Welcome card, vlaid for 48 or 72 hours, which gives unlimited travel on the busses (try the 100 and 200 for the sights), tubes trains and trams. Also gives you discount on many attractions, and it will pay for itself after just a few uses, the nest bargain to be had in Berlin.It\\'s a small city, well the tourist bit is, and walking aruund is no problem.I recommend going up the TV tower, great view, and worth the wait (1 hour). “Berlin, Germany” We spent three nights and had four full days in Berlin.Not a pretty city but you have to bear in mind that most of it was flattened during the second world war but it is so interesting.On our first day we took the bus tour just really to get a feel for the size of the city. This prepared us well for the following day and the highlight of our trip which was the walking tour by Original Berlin Walks. It was a four hour walk (which actually turned into more like five). Our guide was a lovely Irishman named Finn Ballard. He was very knowledgeable and not only taught us everything about Berlin (including where to find a club held in a bank vault) but also asked our opinion too and so cheap at 12 Euros per person.We stayed at the Palace Hotel which we was lovely and had a great breakfast.Two Italian restaurants we would recommend are Bocca di Bacco on Friedrichstrasse where we had a special anniversary dinner so it was a little more pricey. The other called Zwolf Apostel on Bleibtreustrasse (passage) where the pizza\\'s are huge and the house red wine is delicious The atmosphere still manages to be cosy even though it is not a small restaurant.A word to the wise, scaffolding is not metal pipes fixed together as it is here, in Berlin it takes the form of office blocks as we found out when we were trying to find the Kaiser Wilhelm Memorial Church on Kurfurstendamm. Don\\'t be put off by the new grey modern church beside it, inside it is beautiful.Overall it was not a romantic city for an anniversary but it was just such a fantastically interesting place to be. “Weekend in Berlin” from the weather to the hotel (Melia) to the Guided tours, it was an excellent weekend. 18/4/11, tour one was a city walking tour (4 hours) that took in a lot of the famous and historical parts of the city, complimented by a very knowledgable and enthusiastic guide called Jim. 19/4/11,Second tour was the trip to Sachsenhausen Concentration Camp, not everyones cup of tea but treated by the guide Fin, with respect and his display of reverence was wholly suitable to the occasion. we will be returning to see the Museums and the Potsdam area, three days was not enough but highly rewarding. Wayne & Bev Isle of Man “The best guiding experience in Berlin” The Berlin Experts- Private Walking ToursGuides can in many cities make your travel experience many times better than a bus ride, or following some guide book; we were fortunate to have had Jeremy Minsberg as our guide for 5 exciting days of walking. So many areas of the city were accessible by just walking, from the many memorials, museum island, churches, major area of retail, department stores, endless dining choices, all of which Jeremy carefully explained as we went on each day.When you visit segments of the old Berlin Wall, having Jeremy explain the various parts, where some people did escape, and how they did it, and the attempt of the East Germans to block news and the West, to the small brass plates in the ground by homes where Jews were picked up and sent away to concentration camps.Today 75 % of those living in berlin were not even born at the end of the war, yet they are not forgetting the horrors and the state and city has made a very clear position to be open of it.Fun things included a visit the worlds largest automobile showroom, Mercedes Benz with old cars from the 20 and 30\\'s as well as brand new cars of which some are displayed hanging in the air. Cool really.My wife and I have visited most the major cities in Europe and this was the by far our best experience. Berlin harbors new and exciting architecture as well as a lot of history from the wars. From the WW II war, there is so much to see and learn, so many moving experiences and memorials, and museums. The city has a lot of culture, we were able to experience the Berlin Symphony at the Philharmonic Hall as well as seeing new areas as the Sony Plaza.For the history one cannot imagine the memorials, so moving, such as the Holocaust Memorial and museum, the Jewish Museum, The newest, Topography of Terrors, as well as seeing the city the amazing glass central rail station, 5 levels and the Chancellors offices and residence, Embassy row, the government glass offices, a theme of new openness, and the old Reichstag. From the other tourist places, Brandenburg Gate, Soviet war memorial and park, The Track 17 site and all the new construction in the East side, formerly East Berlin, the city is now very vibrant.At every site we were explained what led to it, what has become of each area of the city and so much more. Clearly Jeremy has a great track record, and I highly would recommend anyone looking to learn and enjoy Berlin more to use Jeremy. He is a world of knowledge, a human Google mind, and fun to be with. “The WALL” My husband and I spent the day, a Sunday, in Berlin. I was not expecting it to be much fun, but was visiting because my husband wanted to see Germany.The city is unbelievable, there is no lack of things to do or places to go. On the day we were there, we started with a bus tour of the city, followed with a visit to an Octoberfest celebration. What fun! The city is beautiful, I wish we had more time, but sadly we had to get back in the car and off to another city that evening. “Berlin a beautiful City” We visited July10, weather was beautiful! We stayed at the L\\'angleterre hotel, which was decorated to a really high standard giving it an air of class. However the restaurant was a little expensive, so we ate out, there are so many places to choose from. And It was just up the road from Checkpoint Charlie. easy to get around the City from there. The train from the airport & the U Bahn were both simple to use, efficient and reasonably priced.I had gone with pre conceived ideas of this City - Wow how this visit changed my mind, it was full of Historical landmarks, it was fascinating and interesting. Everyone was friendly and welcoming. Berlin was an exciting place to be.Take the time to book a river cruise, where you are able to soak up the atmosphere and see so much more. We recommend a visit to Dressler restaurant near to the Brandenburger gates, full of culinary delights.The Holocaust museum and the memorial are a must as is the Gendarmenmrkt. What else can we say but cant wait to return and definitely worth a visit. Fantastic place!!!!!!!!!!!! “Berlin - Torn apart in 20th century, now unified and vibrant.” Berlin cannot escape its past. The city has seen everything in the past 100 years, yet its people are resilient survivors with a great sense of ironic humour.The remains of the wall are still there, and there is a distinction between the former east and the west, but the new vibrant centre of the city is undoubtedly in the Friedrichstrasse and Alexanderplatz areas, and towering skyscrapers overhang the Potsdamer platz which in the DDR days was a wasteland.It is fascinating to walk around old and new. Checkpoint Charlie, the Wall walk with poignant reminders of victims of Cold War brutality, and just around the corner brand new shops, businesses and a sense of a place which has come through the dark days.Berliners are really friendly, some older ones nostalgic for the past, the younger ones aware of their history. The DDR Museum was crowded when we visited, and not just with curious foreigners but with Berliners reliving their own family history.The transport system is superbly efficient. Trams run in the east of the city, buses in the west, and the U-bahn and S-bahn run everywhere. You only have to wait a few minutes for anything. From Tegel airport you can catch the TXL bus into the city as far as Alexanderplatz or switch onto a U-bahn before that for a swift transfer.There\\'s almost too much to do in a short visit. Cafes, bars and restaurants everywhere, night clubs of course, and many museums. Take a tram to the Museum Insel, see the Pergamon Altar, Nefertiti next door in the Neues Museum, and Caspar David Friedrich\\'s paintings in the National Gallery. Then there are all the superb examples of the Jugenstil or Art Nouveau architecture, as well as the Norman Foster glass dome on the Reichstag.Like concerts? Then a U-bahn to Potsdamerplatz and a stroll to the Philharmonie to hear the world famous Berliner Philharmoniker is a must.December finds the city full of Christmas Markets. There are eight markets to choose from. We liked the one in front of the Schloss Charlottenburg, but others at Alexanderplatz, Gendarmenmarkt and Potsdamerplatz are equally good, with artisans making wooden toys, blowing glass baubles or selling interesting knitwear, not forgetting the inimitable sausage and gluhwein stalls.We found St Nikolai viertel a good place to eat. It\\'s away from the brashness of new Berlin epitomised in the Ku-dam area, and has several restaurants serving traditional hearty Berlin food. On a cold snowy night in December, this ticks all the boxes!As we went in the winter we did not go for long walks in the Tiergarten, hire bikes or Trabants, take a boat cruise on the Spree, or wander for long outside, all of which would be delightful in the Spring or summer.Berlin is a city for all seasons. Go and enjoy it! “The new October 2010 Berlin” I had a great reluctance because of food: I really don\\'t like sausages and fatty sauces and schitzels galore. My wife and I were taken aback by the availability of clean food: crispy vegetables; nice wine; choice of non-German fare. We were ecstatic. Berlin was so easy to travel in every direction with the U-bahn and S-Bahn combined, It was so sincere in its acceptance of Hitler demeanors of the past and the reconstructed Germany of the future. So peaceful and modern. Its teenagers so disciplined and reasonable in public transport and restaurants. No Tattoos and rings in the nose. Berlin was a revelation.And the daily cost was below that of Paris for same luxury stay. And the museums were less exhausting than the Louvre or the Hermitage in St-Petersburgh, Russia. In short, we really appreciated a clean city, an affordable place, a well organized cultural centre. Wondrful memories of Berlin 2010. “The bear has it!!” A fantastic city. Friendly, good public transport and steeped in history. 3 days was not enough, so returning in the spring. The hotel was really good and local facilities excellent. “Berlin!” Berlin is one of the most beautiful cities in Europe!!!You need minimum 5 days to see all things!Museum Insel,Fernsehrturm, The Holocaust momument, Brademburg Gate,Checkpoint Charlie and of course the Berlin Wall!I went for two days and it was not enough! “Much better than I expected” The city center is easy to navigate by bus, especially bus 100 & 200, and rail. We stayed at the Radisson blu with an amazing humongous beautiful aquarium in it\\'s lobby across from museum island. Besides the recommended museums, make sure you leave time for the Bode museum. We enjoyed food shopping at the Galeria Alexanderplatz. We enjoyed the italian restaurant in their food court. The Reichstag building gives a great view and story of the city and it\\'s free; worth it at twice the price. Enjoy a concert at the Berlin Dom if you get the chance. San Succi and Nues Palace, especially Nues were good. The memorial to the lost 6 million Jews, especially the underground exhibit is a must, near Brandenburg Tor. We love the cookies, pastries and chocolates of Linders 2 blocks south of Uter De Linden on Friedenreich Str. Charlottenburg Palace was very nice, though the main part is closed on Mondays. Nearby is a very nice greek restaurant called Zeye. The gyro plate was very good as was their soup. The waitress was super sweet though she spoke very little English. The only bad problem we had was that the cab driver that drove us to the airport drove away with one our suitcases. I suspect that this type of theft is common because he knew that if we persue him we miss our international flight. Don\\'t let it happen to you. “My favorite!!” Berlin is \\'the\\' city for all. The city is quite diverse with its many landmarks based on history. A nice, rough and tough city I would say. A must visit for all! “‘‘Great city, great family vacation’’” We were in Berlin with our little son and had a great time. I think we only touched upon the surface of Berlin but was pleased with what we did and would definitely come back. Lots of history in & around it. One of my personal highlights of our Berlin trip was visiting the Brandenburg Tor. The places we have been are; Brandenburg Tor, The Holocaust Memorial (Memorial to the Murdered Jews of Europe), Berlin Wall, Adlon Kempinski, Zoologischer Garten (Berlin Zoo), Parliament Building (Reichstag), Charlottenburg Palace (Schloss Charlottenburg), Kaufhaus des Westens (KaDeWe), Alexanderplatz, Potsdamer Platz,Kreuzberg, Friedrichstrasse, Vapiano Restaurant, Television Tower(Fernsehturm)...there are still loads of things to do & has to see in Berlin, we have notel all would definitely go again, All in all a great time was had in Berlin!! “Ya.. Berlin!” Berlin is such a fun city. There is so much to see and do while there. There are all the classic places that you must visit the first time as a tourist. Example: Reichstag, Brandenburg Gate, the remaining stretches of the Berlin Wall and the Wall Victims Memorial. Of course in the summer there are the markets which are open on different days around the city like the sunday market in Mauer Park. Then in the winter there are the Christmas markets open all over the city where people stand out in the cold drinking Gluhwein. The summer is by far the better time to see the city. Public transportation is really good and you can get to anywhere pretty quickly (provided it\\'s not under construction). A good way to see the city is to Rent a bike and ride around, either on a tour or just on a self made tour. Lots of the sights are close enough that a day going from place to place on a bike makes sense. There are lots of bike lanes and places to lock it up. “Infamous Third Reich Sites” I was in Berlin, Germany in Oct. of 2010 and wanted to see the main sites remaining from Nazi Germany. I was very pleased with the tour offered by Original Berlin Walks and my guide, Jim. He was very well informed and was able to give you a real insiders idea of what went on during this important period. I would give this tour and guide my highest recommendation. “Berlin -Europe\\'s most fascinating City Break destination.” There are few european cities that have established themselves as recently as in the last ten to fifteen years, to be one of the \"must see\" destinations of europe. Berlin however is definitely one of them.I was fortunate enough to be in the city for the first time in 1988. The year before the fall of the wall and I found it to be a depressing, grey, underdeveloped mess. The East was even worse but it at least held the curiosity factor of being behind the Iron Curtain.When I returned in 1993, things had obviously began to change drastically. The skyline was a veritable Meccano forrest of cranes and piledrivers.The infrastructure for tourism was beginning to show the shoots of growth but only really took hold with the preparations and subsequent staging of the 2006 FIFA World Cup.Today the city is unrecognisable from that first experience of a divided metropolis.New buildings have replaced vaccuous stretches of former \"No Mans Land\" at Potsdammer Platz and along the banks of the river Spree.Old buildings have been restored to their former glory. The Humboldt University and Gerdarmenmarkt. being just two of many.The real essence of Berlin as a city worth visiting however, remains its ability to still fascinate, repulse and surprise the visitor.Remnants of the Third Reich and Cold War still pervade parts of the city with a vibrant and varied tour network making all this avalable to those willing and wishing to learn and observe.Berlin and the Berliners do not have the stuffiness and (perceived) exclusivity of Munich and Bavarians. It is very much a welcoming city with a transport network second to none, making all parts of the greater Berlin area from Pankow to Potsdam and Spandau, easily accessible in a matter of minutes rather than hours. A point worth considering especially as accommodations away from the centre offer considerably better deals than those in the centre itself.Berlin is still comparitively cheap destination to visit compared to the likes of London,Paris and Munich but I fear this will change with the rapidly inreasing tourist traffic, particularly in the summer months.My last piece of advice would be, don\\'t think about visiting Berlin, just do it. No matter your interests or reasons for travelling , you will not be disappointed.Probably the best advert I can think of for the city is the excellent series made by Matt Frei for the BBC, simply called \"Berlin\" it consummatley encapsulates the past, present, future, good and bad of this wonderful city and is well worth the investment of money and time before your visit. “Excellent tour guide (original berlin walks)” I did a tour with original berlin walks and the tour guides name was Jim. He was very knowledgeable and very passionate about the history he was telling us about. A++ “My review of Berlin Germany” I have recently returned from a trip to Berlin Germany - I was last there in 2002. I have to say that the changes I saw were many and not all for the best. I think the German government needs to seriously consider getting the graffiti under control. I have never seen so much of it in my life in any city. It looks horrible and in fact makes the city look blighted. Not only was the graffiti out of control, the trash on the streets was just as bad. I was in the ‘good’ part of town and the trash was everywhere. I know they have budget problems like most countries do right now, but I think the city would be far more attractive to tourists if it were cleaner and the graffiti was removed. They spent billions on a huge Bahnhoff , but much of it is unused, they could have more properly managed that money and perhaps set aside some for city cleanup. The Berlin people were so friendly and nice, the city has many things to see and do, but in my view, the city is really looking shabby… “So much to do in Berlin” Berlin a modern big city with lots to do. There is so much history to see in Berlin. Start by having a German breakfast or grab a coffee from any of the local coffee shops or starbucks. Then Your off and running. Your going to need transportation to get around the city. I recomend the train. You can buy an all day pass or for several days and not have to worry about paying all the time. Just keep your stub in your back pocket. Be sure to validate it before getting on to the train. Parliment house (Reichstag) should be your first stop. Get there early to avoid the long lines. Next Visit the Jewish Holocaust memorail right next to it. These huge big blocks cover the area where Hittlers bunker use to be. There is an entrance to the memorial underground Dont miss it. Be sure and get a listening device in your language. Next hop accross the street to the tiergarten. You can stroll through this huge park or just check out some of the things in it. Like the memorail for the homosexuals killed in the holocaust. Its right across from the Jewish memorial. Then go check out Brandenburg Gate. Walk down Unter den Linden and look for the place where the nazis did their book burning. There is a moving memorial there. By this time its time for lunch. There are tons of places to eat. If your on the go you can get lunch at a standing table. Or if you would rather rest your feet find an sit down style place. Next go check out check point charlie. This is where the americans had set up between the berlin wall. If you have time go see the east side gallery. Its the remaing Berlin wall but artist have painted very good art work all over it. It is a bit long to see the whole thing, so you might want to make that another day. You will need to hop the train to get there. If its dinner you seek try Potsdamer Platz. Lots of places to have a very nice sit down dinner. I recommend the jagur snitchel. Look for the very first traffic light in the world right across the street. Right around there is the place where the movie Valkirie was based off. There is a memorail there for the Germans who tried to throw over the Nazi party. A lot is in German but there is stuff in english. This is just a part of what you can expience in Berlin. There is an exciting night life including a Cabaret. My suggestion is to plan on being there for a week if you can, and see things at a leasure pace. Get a map of the city from your hotel showing you the points of interest and train stations to get around. The German people are great and most all speak english. I spent three days in Berlin and raced around trying to see everything. I will be returning for at least a week so I can take my time and enjoy what the city has to offer. “Fantastic city in Germany” I have visited many cities in Germany, but Berlin is definately my favourite. The whole city just has a vibe that is great and walking around is a pleasant experience. The famous sites of the city are worth seeing and the museums are fantastic. The city is planned out really well and the streets lined with trees look beautiful. The Lindern area is lovely, and our hotel was situated here which allowed us to walk everywhere. The Potzdamer Platz is new and has swanky buildings, with the Sony Centre being it\\'s main attraction. Its restaurants are fantastic for lunch and chilling for a leisurely cup of coffee. The Brandenberg Gate is amazing and its surrounding garden and streets are really nice to stroll. My experience of this city has been amazing, its history, its architecture and the people have all made it a city not to be missed. For those who adore Europe, Berlin should surely be added to their wish list of cities to visit. “Original Berlin Walks - Guide Johanna” My first visit to Berlin , in which I only had a day to see the maximum. Quite by chance I found a leaflet advertising the \"Original Berlin Walks \". The leaflet gives very clear instructions how to join the walking tour and we were 14 in the group guided by Johanna. American she has lived in Berlin for 16 years and has first hand knowledge of her subject with a natural ability to communicate this. The tour, which lasted approximately 4 hours, was mainly to see buildings , streets, monuments etc. in former East Berlin. We started at the Hackescher Markt S-Bahn station. The tour amongst other points of interest included the Museum Island, Unter den Linden, Brandenburg Gate, part of the Berlin Wall, Memorial to the Holocaust, Check point Charlie etc. Thoroughly recommended.A snippet at € 10 ( Ten Euros) for a pensioner ! “Short midweek break” First time to Berlin. Excellent value for money having booked with Urquhart Sky Travel.The Best Western Mitte Hotel, just off Friedrichstrasse, was bright, very clean and modern. The staff were extremely helpful and all spoke very good English and didnt laugh when we tried to converse in German. The rooms were a tad small but for all the time spent in them, acceptable. Bedding and towels changed every day and a choise of bedding. Only negative thing, no coffee/tea making facilities as we have in British hotels, must be a continental thing.Breakfast was so varied you could have something different every day for two weeks.Food everywhere very good, but two restaurants we found excelled, The Lucky Star and the Boulevard, restaurants on Friedrichstrasse. Both two minutes walk from the hotel.Travel within Berlin and to the outskirts very reasonable. There are three zones radiating from the centre of the city and the dearest is A+B+C zone, (the outer zone), at e2. 50. Buses, trams, trains and underground all come under the same zoning system. Makes travelling easy.Was wary about mentioning the War while there, but the locals talk about it all the time as it seems to have benefitted them more than us. The City bus tour which took about 2 hours plus 1 hour on the river tour, was good value for money and related to the traveller all the monuments and memorials and new buildings that have appeared since the war.A very clean city and the people law abiding and very trusting. Drivers are crazy but that appears to be a continental thing.The holiday allowed us 3 and a half days of sight seeing from Glasgow. Will need to go back again to see the sights that there was insufficient time to see.Only thing, you have to be very careful crossing roads, remember the traffic comes from the opposite direction.Highly recommended. “My favourite city in the world” As a 20th Century history nerd I loved Berlin. This historic city is bustling with history everywhere you turn. Berlin has been the battle line on which every major conflict of the last 100 years has been fought. From the first Great War to WWII and all the way through the Cold War.From walking along the remains of a Wall that once stood for oppression and divisiveness to the new government bulding behind the Reichstag that is encompassed entirely by glass to allow for quite literal \"transparency in government\" to avoid the perils created when Hitler was allow to plot in secrecy. The subtle monument to the loss of knowledge that occurred during the Nazi book-burning at Bebelplatz - an empty underground library is a striking choice that really encapsulates the gravity of the event. The Monument to the Fallen Soviet Soldiers that liberated Germany from Nazi rule and the infamous Television Tower - a testament to Communism designed by a Sweedish Capitalist! The Tiergarten is incredible just to sit in or play frisbee or walk around or have a picnic!Berlin is a fantastically cosmopolitan city with something to offer anyone. Accepting of all lifestyles and providing any type of entertainment a person could hope to find. Berlin is my favourite city in the world and I have been around I would rank Berlin above...- New York- London- Paris- Toronto- Vancouver- Montreal- Rome- Edinburgh- Honolulu- Melbourne- Florence- BarcelonaIf you are in Europe, do yourself a favour. Go to Berlin. If you are not sure where you want to travel, follow the same advice. You will not be disappointed. “Don\\'t miss Berlin, an amazing city” I recently spent two weeks touring Germany. I had expected Munich or the Black Forest to be my favorite places, but Berlin surprised me. If you travel there, be sure to visit Brandenburg Tor (gate) and see all the foreign embassies within walking distance. The new ultra-modern train station is stunning. History abounds. Check Point Charlie is just few blocks from the Berlin Hilton in the city center. Fragments of the Berlin Wall still stand, covered in grafitti, and if you see a path way cutting across a street, that marks where the wall once stood dividing Berlin into East and West. St. Hedwig\\'s Cathedral has been rebuilt. The outside resembles the original architecture, while the inside is modern and strikingly beautiful. Shoppers should not miss KaDeWe, the large department store; the staff are very service-oriented, and many speak English.The people were friendly and willing to work with my very limitedcommand of their language. Just one caution: For medical reasons we needed decaffeinated coffee. Except for the Hilton hotel, this was very difficult to find. I would recommend bringing instant decaf coffee packaged in straws to carry with you. “chilled out town where everything works” My brothers and I spent a long weekend in Berlin recently. What a great choice that was! You can\\'t go wrong in Berlin! For starters, everything is about half the price of any other major European city. Eating out is great and there\\'s an incredible choice of restaurants, bars and cafes, where the service is friendly, the food really good and the company relaxed. All the traditional sights are as good as you expect them to be, and the best part is the public transport: efficient, plentiful, punctual and cheap. Get a Berlin Welcome card and Guidebook as soon as you arrive; it\\'s good for one, two or three days, and costs about €21. You not only have access to all public transport - UBahn, SBahn, buses and trams - but you also get 25% discount off the admission prices to most museums, galleries, etc. And they really give you the discount - no quibbles. Doesn\\'t apply in the Pergamonmuseum, but it\\'s the best ever antiquities museum. See it. Berlin is great for walking down beautiful, tree lined streets, but it\\'s very spread out, so you need to use public transport. Do the Fat Bike Tour - it\\'s great fun. Segway Tours are very expensive, but if you\\'ve got the dough...This is a seriously chilled-out town, no sense of rush or pressure. Great fun - go there! “A place to discover” We wpent 10 days in Berlin and it was fantastic.Everybody can find something he likes in that town:museums (around 1000...), parks, nature, cheap food, architecture, history, technology...people are adorable and they love when you make the effort to speak a little german. (I did not know a word before leaving and now I know how to buy transportation ticket, food and drinks... i\\'m quite proud hahaha)weather is funny, as there is no mountains to keep the town away from clouds or rains, the sun comes and goes, 2 rain drops and then sun, a bit of wind and then sun even in september it was not too cold... :)Germany is really a country to be discovered in my opinion.Great place and great moments, we had some lovely holidays over there. “THE place to be for going out” As I stayed there for a dozen of weekends, I can say now that there\\'s no where in the world that can compete with Berlin when it comes to the sheer diversity and amount of it\\'s nightlife. Berlin is arguably the hippest city in the world, which means you can find everything from pubs housed in derelict ruins to funky beach bars along the river Spree. It is also knocking on Amsterdam\\'s door for the title of most liberal city in Europe and so as well as the standard rock, alternative and techno clubs you\\'ll also find some more off-beat establishments! “Original Berlin Walks” I was in Berlin for the 2010 Berlin Marathon and had time on the Saturday for a bit of siteseeing. I chose an Original Berlin Walk. Jim was our guide and he took us round all the main sites and gave us a quick overview and advice on which sites were best to go back to if we wanted a more in depth look. Jim was an American who had studied German history and had been living in Berlin for about 5 years. He certainly knew his topic and was extremely passionate about it. The tour was fascinating. I would have gone back for more on the Monday, but I couldn\\'t walk following my little jog on the Sunday!! “coolest city of the world” The coolest city in the world! “berlin..” Berlin, 17/09/10What a place i was blown away, I took a walking tour with INSIDER TOURS (famous walking tour). These guys really know there stuff, and in the 4hr walk seen everything there is to see, The tour guide was very thorougher and didn\\'t leave us wanting, even after the tour was over he (kenny) made sure we all knew where we where going and the best places to give more attention. Night life is amazing, the night is never over in berlin. “So much culture, history and amazing architecture” A contrast of the old and the new, a reminder of the Berlin Wall is there as well as the War and it is all very interesting, the parks are beautiful as well as the architecture, old and new live together. The palaces nearby have beautiful gardens and it is free to walk round. Transport always reliable and very good connections with the airports. I got the 7 day travel card for about £ 26 and I travelled around day and night everywhere and on buses, trams, metro. I loved it in Berlin and what a difference from when I was there before the Wall had come down. “The Best of Berlin” You might be on a business trip or an official meeting in Berlin, but you want to have a look around and you are short on time. Berlin is one of the exciting hubs of Europe. Berlin is the capital of Germany, since a long time, during the kingdom of Prussia, the German empire, the Weimar republic, the Third Reich and till present. In short from 1701 onwards it has been the capital. In this case you don\\'t want to miss the best tourist attractions of this amazing city, here are the few places that you must see in Berlin.Brandenburg gate:It\\'s one most recognized places of Germany. Number of embassies are also located here, Hotel Adlon, a very old and famous hotel, is situated near to it. It\\'s the places where most of the events like new year celebrations, concerts, etc are held through out the year. It\\'s the first spot very your tour should start from.Holocaust Memorial:This was made to remember the holocaust, and share the sympathies with Jews all over the world. It was inaugurated in 2005 and the construction cost is 25 million Euros.Location: Cora-Berliner strasseCheckpoint Charlie:From 1949 to 1990, present day Germany was divided into the east Germany and west Germany, this was the checkpost in the \"Berlin Wall\", which divided the country. This was also named \"checkpoint c\" by the allied forces at that time. Near to it you will also find leftover of the Berlin wall.Location: FriedrichstrasseMuseum Island:It\\'s a complex of five museums Altes Museum, Neues Museum, Alte Nationalgalerie, Bode Museum, Pergamon Museum. It\\'s also included in the UNESCO\\'s list of World site Heritage. These museums covers many works from classicism in architecture to Islamic arts.Location: BodesstrassePotsdamer Platz:This place is designed by Renzo Piano, one of the famous architect around the world. It also famous shopping hub and offers difference of varieties from electronics equipment to boutiques. Its one of most exciting places in <a target=\"_new\" rel=\"nofollow\" href=\"http://journey-germany.com/berlin.html\">Berlin</a>.There are be many other places which you can explore if you have time, but these places mentioned above shouldn\\'t be missed. “Berlin Walking Tour” I visited Berlin on a two week vacation because my wife wanted to see the city. I thought I would be bored but it turned out to be an amazing experience. I would not have been able to appreciate the history of the Berlin without taking a walking tour. It was really due to the guide who didn\\'t just dispense facts but told a compelling story about how resilient the city is by constantly evolving. I believe the tour name was Inside Tours but I know the guide\\'s name was Mike Stack. I will never forget walking around Berlin and feeling as if I was living there during the time of the Keisers, through World War II, the Cold War and up to the present day of Berlin, which is filled with amazing art, musuems and shops. Take it from someone who never intended to go that it is worth it. I also recommend finding Mr. Stack and taking his tour since it is a riveting experience. “Berlin is one of my favourite cities.” It feels very special to walk around down-town Berlin and to experience the whole Berlin, not something divided in two.Visiting Kaise-Wilhelm\\'s Church. To have an icecream up in East-Berlin\\'s TV tower, to visit museums and just to be there. I really like it. “A must visit city, uber trendy” An amazing city, the shopping is great, the city is welcoming and open to visitors. There is so much to see and do. Berlin is opened about its history and welcomes you to explore. “Fat Tyre Bike Tours Berlin” The perfect way to see the city, a nice easy ride through some of the most beautiful parts of the city. We only had two days in the city and did an afternoon tour after a very late night. The guide knew so much about the city and it\\'s history, was very witty and enthusiastic. Central meeting place, great bikes, great price and so much fun. Learned so much and had a lovely stop off for a quick bite which turned out to be one of the best meals on my travels. We took to doing bike trips everywhere after this but none quite compared. “Berlin so much to do and see” We have just returned from a week in Berlin. There is so much to do and see in this historic city. The city is very easy to get around buy the berlin city ticket and you can ride all of the local tranport systems with it (Just be careful when validating the ticket that you validate it on the correct side). Definitely would recommend the walking tours the guides are so knowledgeable about the city and can answer any question you ask right away. Berlin Insider tours was the one we used and I cannot praise them enough.You will never be short of finding somewhere to eat we had some really good experiences in the restaurants we picked.Would definitely go back again fro another visit. “Nice City in the world” The free walking tour is kind of exhausting, but it\\'s useful. i love boating along the river. i love Kebab and the transportation is very convenient but complicated. generally, everything is fine. I\\'ll go to Berlin again “Always Something to Do” If you come to Germany, you MUST come to Berlin. Not only are there many of the typical tourist attractions which you hear about in the tourist guides, and yes, they are amazing. Sights such as the Brandenburg Tor, The Reichstag, Museem Insel are all amazing structures. However, Berlin\\'s night life is second to none. You can go out any day of the week, whether it be at a gay nightclub or a reggae party with everyone having dreads down to their knees. The city has something for everyone, young or old, gay or straight, normal or really, really strange. You must visit Berlin! “Berlin with teens” We rented a 3 bedroom flat in the Moabit district of Berlin from Berlinlofts.com. Highly recommend the Skyloft on Stephanstrasse 60. The flat was huge by European standards and the owner, Stephan Himmel was very accommodating and professional to deal with. The only negative to this flat was it was on the 5th floor in a walk up building, so I\\'d recommend it for families in pretty good physical shape. The flat is a short busride then a ubahn to the Mitte, or center. Once you\\'re in the flat, the views of Berlin from the terrace are amazing..and at 109 Euros per night, it\\'s a steal for the amount of space.Definitely buy a Welcome Card which gets you on all public transportation as well as discounts at some attractions (Fat Tire tours). The pass covered our transportation to the concentration camp as well as Pottsdam.Our teens loved the Fat Tire Tour and visiting the East Gallery- the part of the Berlin Wall that is covered with murals.The food is very multiculural in Berlin...A little bit of everything...and the kaser spaetzel was a big hit with all our kids.Overall, Berlin is a fun and educational city..not too big to navigate..the 5 days we spent there were not too busy with time to relax each day. The german people are friendly and very accommodating and most speak some english. “Great city to visit.” Don\\'t hesitate to visit this city. Plenty to see and do and a real feeling of history no matter where you go. People friendly and everything is well run and organised. Good value for meals and drinks also. “Sandeman\\'s Walking tour in Berlin” I stopped in Berlin for two days to see a friend and did not make any plans. But at the hotel I found out about the alternative Berlin walking tour. I took it with Fin as the guide. It was a great introduction to street art and other things you would never hear about in normal tours. This really rocked.As I enjoyed the tour so much I took the Sandeman\\'s free city tour lead by Sam. And my friend who has lived in Berlin for twelve years came along. It was a great tour! We enjoyed the walk. The guide Sam was informative and told the story well. My friend was very impressed by how Sam could condense the German history into 16 minutes.I really like Berlin, its energy and its artistic spirit. The walking tours really put things in context for me. “Love it for its plentiful history!” Berlin is probably not the most aesthetic city in Europe but definitely one with the most eventful history. Capital of Germany under Prussian rule, scene of the democratic revolution after WW I and Nazi takeover 14 years later, destroyed during WW II and the world in a nutshell being split in a soviet and western part afterwards with the wonderful reunion in 1989. Fazit: For me being interested in history I go there several times every year and discover something new everytime. My strongest recommendation!!! “AIR LIKE DRAUGHT CHAMPAGNE” My first breath of Berlin air...crisp, exhilarating, extra dry, like draught champagne from the Cote de Blanc, and certainly not the kind of city I had thought of or even read about in the newspapers. I was indeed pleasantly surprised to find a city as welcoming as any I have visited over several years. That wretched wall has now been removed albeit that large parts still remain as a stark reminder to freedoms lost and fought for in years past, and (anyhow) the graffiti here makes for some intriguing reading. A wonderful and pleasant trip along the Kurfurstendam, through the centre of the main thoroughfares of Charlottenburg and onto Schmargendorf, via Unter den Linden, is a real boon for shoppers and sightseers alike. The street cafes are in some ways reminiscent of Paris, but the Burghaqualahr, where dancing and the arrangement of table telephones are ideally provided to give that extra special touch of relaxation and friendly familiarity to those who might otherwise be alone in a city full of excitement and promise, away from England\\'s sandy beaches. “The perfect city” I moved in berlin for one year and I hope do never change this city with others. I think it\\'s amazing, you can find everything that you want, it\\'s for every kind of person. you can find every kind of shops for all budgets. you can find every kind of restaurant for every taste. you can find every kind of hotel for every need! there are a lot of interesting museums that you can visit for free on thursday! every evening you can choose among hundreads amusement. the best way to visit the city is by bicycle, you can discovery every corner! come to berlin! it\\'s the city for everyone! “Great way to see Berlin” We were part of the Insider Walking Tour of Berlin in April 10. It is a fantastic tour we met near the Zoological Gardens and travel through parts of Berlin. Our tour guide was Mike and he was fabulous. A New Zealander but so passionate about Eurpoean history. His knowledge was great and his enthusaism was brilliant. I would highly recommend this tour. A great introduction to the beautiful city of Berlin. A fantastic day. “The place to be...for a while” Its a love hate game. Berlin is an ever changing city. It has a reputation of being cheap to live in if you like unhealthy food, to live in an apartment with no proper heating in minus tempuraters yes. It has well become one of the most popular worldwide destinations especially for young artists and ex pats. It has great parties, galleries and architecture. The more tourists come and stay the more pleasant it becomes. If you do end up living here reality will hit, you will need to learn the language and most service people are very rude, so going to the doctor, ordering and daily life things can become very frustrating and make you want to leave. Such a shame because it could be on of the worlds best cities. “fabulous time can be had in Berlin, Germany.” You should go to Berlin for your city-holiday. It has everything in spades. Lots of green parks, wonderful architecture, good shopping areas, easy transport connections with the \"three- day Welcome card\". I particularly recommend Potsdam - Park Sanssouci + Hollandisches Viertel, for a day out of centre. A cool day of shopping and chilling at the Hackesche Hofe and the rest of the Scheunenviertel. An evening visit to Sir Norman Foster\\'s Reichstag Dome (last admission 10p.m.) and a boat trip on the river, when the sun is out and many people are just sitting by the river, enjoying a beer or two. “The best city in the whole world” Berlin is probably the one European city with the most interesting history of the 20th century: After being the centre of the Nazi regime and one of its last bastions it was divided for nearly 40 years, not only geographically, but ideologically as well. Nevertheless Berlin, for various reasons is one of the best (some say the best) places one can go to:Obviously discovering the history of Berlin is one of the most common motives for visiting this great town, where the past can be experienced on virtually every street corner. The authorities did a great job in coming to terms with Berlin`s past: there are a great number of interesting museums, including the Museum der deutschen Geschichte (the museum of German history), the Stasi-Ausstellung (an exhibition of the GDR secret service) and the Jüdisches Museum (the Jewish museum). However, there are not only great museums dealing with the German past, but loads of different historical exhibitions and memorials as well, including the Holocaust Memorial, the East Side Gallery (a 1.3 km long section of the Berlin Wall that has been transferred into a huge Gallery featuring many great artists like Keith Harring), Checkpoint Charlie (the most important former crossing point between West and East Germany, featuring three great and free exhibitions dealing with the German past) and many more historically interesting places.Considering all these great historical places, one could assume that Berlin is a city that clings on the past, which is a vital error, because Berlin is a modern, buzzing city as well. One of the most alive districts is Kreuzberg, a meeting place for all kind of artists, individualists, Hippies and environmentalists. The whole neighbourhood seems to be on the streets all day, shopping at huge exotic markets, enjoying a traditional Berliner Weiße (a Berlin beer) in one of the seemingly thousands of cosy pubs or enjoying great exotic or local food. A must when visiting Kreuzberg is walking along the Oranienstraße and experiencing the whole richness of this quarter at once.Another recommendable district to visit is Prenzlauer Berg, which is famous for its great cafes and its Southern flair. The best day to go there is Sunday because then you can visit the Mauerpark Flohmarkt, a flea market where you can buy a great number of different products, including not only typical flea market stuff, but also devotional objects of the GDR, pieces of the Berlin Wall, t-shirts designed by young “guerrilla designers” and again loads of different exotic dishes. After visiting the flea market it is highly recommendable to walk down the Kastanienallee and grab a coffee at one of the great cafes there.Visitors to Berlin should also not miss the Alexanderplatz, formerly known as the centre of East Berlin, where nowadays visitors have the chance to take an elevator up Germany`s tallest TV tower and enjoy a remarkable sight of the whole town. The memorial of Marx and Engels is located beneath the tower and worth having a look at. A little bit further away, but within walking distance, is the Brandenburger Tor, probably one of the most impressive sights in Berlin.Although it is a nice walk, visitors do not have to walk to the Brandenburger Tor, but they can use Berlin`s well-organised public transportation system instead, which includes busses, the S-Bahn and the underground. There are special tickets for visitors, which can also be purchased in combination with entrance tickets for museums. For visiting purposes tourist coaches are also very recommendable, because these coaches cover nearly all important interesting places on their tour and the price (€ 15) is quite reasonable. Berlin also offers a great number of places where visitors can rent bicycles and then have a marvellous ride through all the gorgeous parks or along the many rivers of the city. A speciality of Berlin is the so called Trabbi-Tour, where tourists can rent former GDR`s cars and enjoy a ride through town.Not only Berlin`s transport system covers various needs, but the accommodation service as well: There are plenty different hotels, pensions, apartments and youth hostels, satisfies all needs. One place that can be highly recommended is the OSTEL, a hotel that has been equipped with GDR furniture only and which provides a rather nostalgic atmosphere. A cheaper, but also nice place to stay is the Three Pigs Hostel, located in the centre of town. This hostel offers two-bed rooms as well as huge rooms accomodating up to eight people.Berlin also is famous for its huge variety of places to eat. For example one can stroll through vivid districts like Kreuzberg and stop at a Currybude (places where the famous German Currywurst is sold) or grab a kebab or an Asian noodle dish at one of the many foreign venues. Alternatively visitors can visit one of the many great restaurants scattered all over the city. A very special feature of Berlin`s gastronomy are the so called “guerrilla-cooking” places, where non-corporate cooks offer great food for only a handful of guests, who have to register online (via facebook) to be part of the special clientele.Even more famous is Berlin`s nightlife: as in most big European cities every night there are dozens of concerts, musicals and operas, but much more interesting and special is Berlin`s pub-nightlife. Especially Kreuzberg and Friedrichshain offer a huge variety of pubs serving every need one could have. The great thing about these places is that although each pub or bar is special in its way, visitors can always be sure to be welcomed warmly by the landlord or lady. One of the most witty and original places is Schmitz Katze, a great pub located right in the centre of Kreuzberg, where not only the beer but the music as well is brilliant.So be it either for the historical background, the sights, the food or the nightlife – Berlin is definitely worth visiting, as well in the summer or in the winter. “Pleasant surprise ...Berlin” While Berlin had never been on my top list of places to visit I couldn\\'t resisit the lure of a free place to stay. Berlin is hip, cultural, safe, full of history (good and bad) and surprisingly affordable. The city is easy to maneuver, public transportation excellent (be sure to stamp your day transport pass at original point of entry ...they do occasionally check) and food top of the line. For the younger crowd the beach bars that open along the river front in the warm weather are great ...was lucky enough to be there during some world cup games and every location had large screen tv\\'s televising all the games. The usual tourist spots, Checkpoint Charlie, Berlin Wall were busy but this is not a crowded city. Don\\'t expect the manicured gardens and parks of Paris and London but expect things to be a fraction of the price of those cities. Do a little bit of homework on the culture but put Berlin on your list of cities to visit “kreuzburg berlin” just back from a weekend with 10 friends in Kreuzburg area of berlin. brilliant apartment.http://www.holiday-rentals.co.uk/p519766#propertyReviews.great food, sight seeing, beer and shopping. very laid back area with lovely friendly locals. highly recommend you give it a try. “My favorite place to visit in Berlin, Germany” I\\'ve been to Berlin in 2001. It was May 23 and 2ºC. Even though I could see the flowers begining to bloom in early spring.I spent one five days in the city and I can assure you all that the most exciting museum I\\'ve ever visited was The Pergamon Museum. It\\'s located in the Museum Islands, in the Spree river, and it was constructed in twenty years, from 1910 to 1930 (well... WW-I was in the middle of the works in 1914/18).The museum name was inspired in the \\'Pergamon Altar\\' which is a magnificent structure dedicated to Zeus, originally constructed in the GreeK city of Pegamon (now Bergama, in Turkey). It was also inspired in the \\'Market Gate of Miletus\\', all consisting of parts transported from Turkey.All these fabulous structures, almost entire cities, were underway in Babylon, Uruk, Assur, Miletus, Priene and Egypt.When I first looked at the Pergamon Altar I felt like eye drops in my eyes. But what made me breathless were The Ishtar Gate and the Processional Way, both from Babylon. The blue in the walls are heavens stuff. There\\'re no words to explain the thrill.The museum is wonderful, amazing for each collection object displayed. The museum was seriously damaged during the air attack on Berlin at the end of the WW-II.No one can die without knowing this gem of museums worldwide.Eliane Bonotto “my favourite tour in berlin” my friends and i went on a walking tour of berlin with the Insider tours co (walks in english) We chose walk number 1 and were guided by barney. We found the experience very interesting,infomative and entertaining.Barney struck the right note on the sensitive issues and managed to hold our attention throughout.we found the trip very good value and would not hesitate to recommend it. “The best feeling at all” Berlin is for some reason some of the nicest cities in Europe. The atmosphere is wonderful and there are so many nice people. It is not too big and not too noisy. But definitelly - cosmopolitan. “Short break in Berlin” Berlin is a beautiful and interesting city. Although much of the city was destroyed in the war, many buildings have been restored in the original style. The streets are wide giving a very open feel and trees are planted throughout the city streets. There are many museums and art galleries that are well worth a visit. The legacy of the war, the holocaust and the cold war are acknowledged in monuments and museums - all handled in a very honest and forthright way.A must to get your bearings is a walking tour of Berlin. We took a 4 hour tour with \"Insider Tours\" starting near the zoo. The tour guide, Michael, was very knowledgeable and witty.The beer was wonderful, the food delicious and reasonably priced.One small complaint was the overbearing curators in virtually all the museums and galleries. “Berlin 2010” We travelled to Berlin in Januaray 2010 for a four day winter break and had a great time. Although the weather was cold (-35C) it did not spoil our visit. The food and drink was very affordable compared to cities like Paris and there was lots of things to see and do. We visited the TV Tower (10 Euro\\'s) as well as the Hollow Church (Free). We had a walking tour of the city (10 Euro\\'s) and also went on the famous \"Fat Bike Tour\" (14 Euro\\'s). We also travelled to see Wansee House to take in a bit of history. The Metro system was very easy to use and the links to the outer areas were also good. We stayed at \"The Best Western Hotel\" on Frankfurter Allee and although this was a budget hotel it was clean and quiet. I had read reviews that the rooms were very hot and this was indeed the case but with the ambient temperatures getting so low at night this was not a big problem. City well worth the visit and we plan on having a summer break there eventually. “German capital” We found Berlin to be a friendly, cosmopolitan city with excellent transport facilities. There are interests & tourist sites to suit all ages and whilst history is limited to approx 11century, some of the modern history is obviously very facinating. This can be sampled on the free walking tour [donations], which if you get a passionate guide, is such an excellent way to pass just over 4 hours. We ate food from worldwide, restaurants to street food and to a good quality for a fair price. Berlin is on the revisit list “Berlin - amazing city” I spent 5 weeks in Berlin studying the German Language, and it was one the most wonderful experiences I\\'ve had in my life. Berlin\\'s museums are mostly free and they are so interesting! I mean for those history lovers....Berlin is the place!!! I know some people have had bad experiences with the public transportation.....that is true! they\\'re very strict on that....luckily I never had a problem because I always had my tikets validated and on time! the food is awesome....and the best of all.....Berlin is not expensive!! not alike other cities like London and Paris!! I found Berlin very affordable, the people were loving.....I like germans a lot....despite the history :> but I mean.....the Berlin Museum offerst such a great information about the city....I like postdamar platz a lot....KadaWe.....the story! it\\'s a huge store....and the perfumes......I\\'m coming back next summer for another full 4 week!!! LOVE BERLIN! “In Berlin Marjellchen Restaurant a must” I saw the Marjellchen rated above average for food on Trip Advisor so went there last night with friends. We didn\\'t have reservations but owners made us a place without hassle. It was in the outdoor area and, since a pleasant night, was most enjoyable. The food was fantastic - the six of us each had a different plate. I can recommend Marjellchen as a eating experience at a very reasonable pricing. But, suggest reservations !!walt from Frankfort, KY “Hiring a Guide in Berlin” This review relates to my guide experience in Berlin in Feb. of 2010. Jeremy Minsberg ( jeremy@the berlin expert.com ) is an ex-pat. who has lived in Berlin for the last 10 yrs. He speaks German fluently & knows the city & its history well. He will customize the tour ( 1/2 days or full days ) to the desire of the person or group, which can range from WW ll history to museums to shopping, etc. He is well prepared, organized, & friendly & communicates by e-mail with suggestions as well as creating an autobiography of himself for people to read. Berlin is a spread out city that is difficult to get around to see a great deal of unless one is with someone who is organized. His pricing is reasonable & based on what one thinks he is worth.I would recommend him strongly for anone who is interested in seeing Belin with a guide who has a sense of humor & is likable & intelligent. “Fat tyre BIKE TOUR” Great idea...which made our trip so much more enjoyableSee the highlights of berlin on BIKE ( the US type of California cruiser bike )Great orginasation at ALEXANDERPLATZ BERLIN- Fat tyre bike rental... Nice and knowledgableguides and good safe material...Ask vor Claryssa firstclass guideJohn and margareth Blogg Amsterdam ...and WE here KNOW bikes... “Insider walking tour” If you do nothing else in Berlin, which would be a shame, of course, you must do the Insider Tours Walking Tour. It is fabulous. Mike is so full of enthusiasm for his adopted city that he spent 5-1/2 hours with us (eleven random people) rather than the advertised 4 hours. We covered so many things with humor, insights and honesty. Info on internet. Do it! “Berlin.... a surprise!!!” It was an overnight stay. But I was totally drawn to this beautiful and very historical city. We stayed at the Berlin Hilton and was a really good location. It is a nice hotel too!...very near Charlie Checkpoint and to good restaurants.(Lutter & Wegner and Lowenbrau). The Gendarmenmarkt is just across the street. Anyway, I felt terrible not extending our stay in Berlin. It certainly will be in my list on our future European vacation. “citytour by Mike” Did a 4,5hour citywalk with insidertour by Mike. He gave interesting information and rally enjoyed the whole tour, not a dull moment! “Berlin by Boat - Berlin per Boot” I am a big fan of the Berlin waterways and like to recomend this video which I found on display in Amazon: \"Berlin per Boot\". It shows the waterways and a different type of holiday. You discover with the film team the waterways in and around Berlin and get a good insight. Its a different part of Berlin, hardly discovered by any tourist but in itself a interesting part of Berlin, with great beach bar\\'s, sailing clubs and restaurants along the rivers of Berlin. I learned that Berlin has 20.000 registered boat owners and like to leave it to your imagination what the average tourist misses ... “Berlin Welcome Card = Savings” Before you go to Berlin, buy a Berlin Welcome Card Explorer Pass.This pass offers unlimited travel in Berlin for 48 hrs up to 5 days.Use the city rail, subway, tram and bus. You can also buy a Berlin-Potsdam combination pass. The pass includes some great insider tips, guided tours, bike and boat tours and some reductions up to 50% or even free entry to many attractions.The fees start at 16.90 Euro per adult for 48 hrs and has additional options for families and groups for a little extra money up to 5 days.You can order your pass by going to orderservice@visitberlin.deor if you are already in Berlin, you can call +49030250025.Enjoy “Berlin is unforgetable ! ! !” It\\'s my first time in Berlin, but... What a city!!!Very polite and helpful people, the city is clean and the prices are really reasonable. You eat very well in Berlin!Lots of attractions, city tours, great nightlife. Please go and you won\\'t regret it! “First trip to Germany” We flew to Berlin last Tuesday using Easy Jet to Schoenfeld airport. The flight was very busy but was scheduled for early afternoon so that was a bonus. A short walk from the airport took us to the train station and we were able to purchase tickets to take us into the city. We had to get these stamped before getting on the train so they were verified for the time we were using them. We stayed at the Kurfurst Hotel in Kurfurstendam and this was excellent value, The hotel was very well situated, clean and comfortable room and a good selection of items for breakfast. The staff were extremely helpful and spoke excellent English. There is a small Italian restaurant at the end of the street (Bleibtraustrase) called the Via Veneto which was really good value and had a good choice on its menu. We took the city bus tour (20euros) which was good value and gave us a real idea of where everything was and the distances involved. The city is very exciting and has lots to offer a tourist. We got into the concert hall and watched the final rehearsal of Bach\\'s St Matthew Passion conducted by Sir Simon Rattle. The department store KaDeWe is well worth a visit and you will be amazed at the food section. “Walking Tours - Insider Tour” Took 3 walking tours in Berlin with Insider Tours (The Famous Insider Walk, Third Reich Berlin, & Cold War Berlin) in April 2010. They were simply excellent. Informative, entertaining, and not to be missed. Without them I would have not experienced so much of the details within Berlin - a city with such a rich history that has affected the world in recent times. I find it impossible to recommend them highly enough. Simply a must do. “Berlin - no kids - a mum and dad chill-out week-end” As forty-somethings I think we managed a Fri-Sun week-end thatreally put us in touch with the \\'cool\\' side of Berlin. We arrived on a Friday lunchtime flying into Tegel airport. Ignoring the taxis we went to the Bus Booking office where you can pay six euros for a Tagkarte which will get you unlimited travel for 24 hours on the trams, buses and U-Bahn. We bought three day-tickets in advance to save time. Taking the X5 bus direct into the West of Berlin we chose Louisa\\'s Place - a very comfortable hotel if you\\'re prepared to pay a bit extra. Upgrade and get the Superior apartment. It\\'s worth it. If you book in advance online, you can reserve a table at the Fernsehturn. We booked for a 6.30pm slot on a Friday and the view and meal were superb. A great vantage point and a romantic winner if you want to impress a partner.On the Saturday we travelled all around the city. KaDaWe - Berlin\\'s equivalent of Harrods has a cool cafe on the top floor.We visited the Liquidrom - and underground spa with indoor and outdoor sauna/swimming/massage facilities. This was recommended by another tripadvisor review. We totally endorse the recommendation. No need to book. Two hours of bliss. Check out the website first if you\\'re not convinced. We did set foot on Unter der Linden although it was rather too touristy for our taste. It ticks the boxes but it isn\\'t anything special. The Boros Art Collection however , was a totally unique and contemporary highlight if you fancy another cool twist. A two hour tour can be booked in advance. Parties of 10 only. Make sure you book an \\'english speaking\\' tour.Ten Euros - an artistic mental challenge but \\'uber cool\\'. Again see their website to book in advance.We ran out of time but I\\'m sure there are other less well-known\\'off-the-beaten-track\\' things to do in this great city. In general the german people were friendly, helpful and polite. Their spoken english is on a par with England so language is generally no barrier.Go - enjoy special time together - best city break we\\'ve ever taken. “What a fantastic place.....” Berlin is one fantastic place to visit. We went in January when it snowing and Germans know how to deal with snow. The transport system was clear, U Bahn, S Bahn all perfect without any problems. The streets clear in the major area\\'s (Brandenburg Gates, Checkpoint Charlie etc).The city is a wealth of history thanks to the World War, The Brandenburg Gates are a site to behold, Checkpoint Charlie with all the razamatazz with actors as guards and the gyspys begging isnt bad at all. The TV Tower is a thing of beauty and those lifts are like lightning.If you want to eat there\\'s plenty of places, a great spot is at a place called Alex thats located in the Sony centre, great food and hospitality. Plenty of places to eat especially the huge Haupbahnhof which is the main railway station that doubles for a huge shopping mall with 4 levels.Berlin is quite cheap to be fair, the travel tickets are 34 euro\\'s for 5 days and covers all area\\'s of the city. U Bahn, S Bahn, buses , trams and mainline trains around the city. The ticket is called the Berlin Welcome Card and not only deals in cheap travel it gives you massive discounts on a huge scale for all attractions in the city.I shall be returning in 2011 and I\\'m counting the days already. “Berlin, Now-Then & more Then” What can I say. Even if you don\\'t like history you will come to appreciate the struggles and hardships the German people went through. Their \"leaders\" got them into two world wars and then there was the occupation by the Russians for about 30 years. There are museums and exhibits dedicated the WW2-Hitler days and there are also museums and exhibits dedicated to the Cold War days.The public transportation is as good or better than Paris with the U-bahn and S-bahn and many busses & trams available all hours of the day.The food is great and there is a variety of inexpensive cusines to choose from.Sachsenhausen Concentration Camp, about 30 minutes north by rail is a great tour to take and you can get an english speaking guide at Alexanderplatz...there are many guides to choose from.The top of the Riestag dome is a very nice way to see the town as is the Fernestum(TV tower). i have alot of pictures on my facebook page here..http://www.facebook.com/home.php?#/photos.php?id=537622286Enjoy “The Most Modern City Ive Been In” Dont really have the time to go through the city sites one by one but I do have to say that Berlin is one of the most impressive cities Ive seen (and Ive seen a few!).Didnt really know much about the place before I went apart from Berlin wall, Brandenburg Gate so got a sightseeing tour for €20 which got me around for 2 days.Gotta say I was blown away by the modenity and tastefulness of the whole place. Visited Christmas markets which were atmospheric...had a few beers in various establishments which were thoroughly enjoyable.Very sorry to be only staying 3 days and definately goes top of the \"revisit\" list. “Fantastic, so much to see!” Thought Berlin was brill!! so many great restaurants and bars. Went when the Christmas markets were on and they were so magical!! Gendarmenmarkt square was the best for them, in the area of Stadmitte. This was also the shopping district with loads of bars and restaurants. Potsdamer platz is also a must see. Couldnt stress more how great the public transport is, tubes running every 5 mins, all night, trams everywhere and buses. Does not really matter where you stay coz transport is so great, but if you want to be central stay in Potsdamer platz. Loads of beautiful buildings, the Reichstag, Brandenburg gates, and and the victory column.Overall, a great place!! “Just Another Brick in the Wall: Berlin During the Wall Fall Celebration” Having arrived in Berlin after a late flight, I stepped out of the underground station freezing, lethargic and longing for sleep. Before I could add confusion to the list (my roommate and I had no idea how to find the friends we were meeting), something caught my eye. It was the Brandenburg Gate, illuminated by multi-colored spotlights. Though we began our Berlin sightseeing at one in the morning, this iconic landmark is just one of the must-sees when visiting this rich and vibrant city.Visiting Berlin this past weekend was an eye-opening experience. My friends and I partook in the 20th anniversary celebrations of the fall of the Berlin Wall. Though this perk exponentially added to our good time in the city, there are so many things to do in Berlin – ranging from historical sightseeing and shopping during the day to experiencing the thriving nightlife after the sun goes down.Though we only really had one day to spend there (though I wish I could have stayed for much, much longer!), we managed to see all of the sites we had planned. With only four hours of sleep and three cappuccinos to fuel our Berlin sightseeing, we bundled up and began our journey at the Brandenburg Gate. Yes, it is just as beautiful during the day as it is at night, with its towering pillars reaching skyward and crowned with a valiant soldier riding a chariot.We then made our way to the Holocaust Memorial, called the Monument. This vast memorial consists of a series of stone slabs varying in height along a sloped path. It’s made in such a way so as to create confusion and disorient the visitor, symbolizing how the human race lost its way.Next on our list was the Reichstag, or Parliament. Though this building was interesting to see, what caught our attention most were the numerous dominoes lined along the streets and bridge in celebration of the fall of the Wall. Students from schools and universities in the area painted each domino in order to contribute to the celebration. There were also open markets selling food and homemade souvenirs, as well as people dressed in bear outfits (don’t ask, I don’t know why either) and historic military outfits.Despite the cold, we strolled deeper through Berlin’s streets to get a better grasp of the city’s personality. We visited the new Anne Frank Museum, still under construction but worth the trip, and afterwards made our way to Mauer Park to see remains of the Berlin Wall. As we walked there, it was really interesting to see with my own eyes the stark difference between the former East and West. It was still obvious to distinguish which side was the East - with its very bland cement buildings, in comparison to the metropolitan and contemporary West. It was surreal to think that so much tension and struggle was present in this area (with some of it still lingering today) just two decades ago.Mauer Park was gorgeous, with the foliage a fiery red and orange painting the area with lively energy. Situated on top of a hill were the remnants of the Berlin Wall, decorated with spray paint and graffiti art from locals and visitors. Following suit, my friends and I signed our names on the wall (but with pens, since we didn’t come to Berlin equipped with spray paint). This experience in itself was so moving – I was touching history with my own hands, touching the wall that signified life and death to some people while it was still standing. Information galleries on the history of the wall were scattered throughout the city, informing visitors and those interested in the significance of the event.My friends and I then went to see the Berliner Dome and walk through Alexanderplatz, where local vendors were selling ‘Mauerfall’ themed souvenirs. Next on the list was Checkpoint Charlie, the point where East met West and symbolized the Cold War era when the country was divided. Though the original checkpoint was torn down due to its painful memories, my friends and I visited a replica, where we took pictures with dressed soldiers and visited the museum next to it. It was so interesting to learn the extreme lengths that people would put themselves through in order to get on the other side of the wall: hot air balloons, secret car compartments and manmade tunnels are just some of the measures used.Last but not least, we went to the Jüdisches Museum, which is housed in the former Collegienhaus (Old Building), which was first built in 1735. The building was almost completely destroyed during WWII, but was redone by architect Günter Hönow. A third and final remodeling was done to the building, giving the inside a more minimalist style crafted by architect Daniel Libeskind. The Jewish Museum is definitely worth paying a visit; it is one of the most high tech and interactive museums I’ve been to. The multiple exhibits show visitors through German and Jewish history through the use of pictures and texts, art and everyday objects, multimedia terminals and a historical exhibition depicting the struggles between the Jews and non-Jews.The most intriguing aspects of the museum are the Garden of Exile and Holocaust Tower. The Garden of Exile consists of 49 concrete steal with planted Russian olive at its top. The garden is meant to disorient the visitor, creating a sense of instability and represent a train wreck of history. The Holocaust Tower is entered through a steel door, and is made of concrete, with a single slit above the ground to let in natural light (pointless when I went after sunset, so when the doors closed it was pitch black) and noises from the street outside. This part of the museum is mean to commemorate the Jewish victims of mass murder.Though there was so much to do with the celebration taking place, if you\\'re there for longer than just a weekend or would like to know what else to do - look into what isango! or explore Trip Advisor further to see what they have to say to about this location. That way you can maximize your fun in Berlin! “The united Berlin has much to offer” As a teenager in 1969, I was able to cross through Checkpoint Charlie to visit East Berlin. Although we were not allowed to leave the tour bus, I took many photographs of buildings which remained in the same damaged condition following WWII. In 2009 I visited the united Berlin to find the majority of these buildings to be standing and fully restored. The Berlin Wall(except one street), watchtowers and guard houses are gone. Berlin is a vibrant and exciting place to visit. With the combining of East and West, the city now has multiple museums, opera houses and theatres. It is easy to tour on foot or with the efficient public transportation. The highlight of our touring was a day on bicycles with Fat Tire Bike Tours. You learn the history of the sites all with humor. You even stop in the large Tiergarten for lunch and of course, beer. The architecture of the city between the old and new is quite unique. In all, I would recommend a 3-4 day stay. “Berlin- a city changing” Recently returned from an extended trip to Europe. Berlin stood out as one of many places that we\\'ll be returning to visit. The people were friendly and for the most part helpful. Being only and English-speaker, I was fearful that I\\'d not be able to communicate with anyone, but most had enough Enlish to help us or answer questions. The city of Berlin is beautiful and continues to rebuild after the fall of the wall. It is a city the is easy to get around as the mass transit system is efficient and easy to navigate. We ate many lovely meals and had our choice of any type of fare we could want. The history and sights were many. Don\\'t miss visiting the Reichstad and tacking time to walk the dome at it\\'s top. The view of the city is beautiful and gives visitors a eyeful of the things that Berlin has to offer. The parks are well maintained and there are too many museums to mention. A recommendation is to get the Berlin City Pass as it will give you discounted access to many museums, restaurants, sites as well as allow you to travel on any of the buses, trams, trains or subway. We will return in the future, hope it can be soon. “One of the great cities of Europe” When Americans visit Europe they often opp for cities like Paris, Rome, London, Madrid, etc...They shy away from countries where the language barrier might be a real problem. Do not skip Berlin. The city is so cosmopolitan, almost everyone speaks fluent English. The city has an amazing public transportation system, which makes gettting around Berlin fast and inexpensive. There are wonderful restaurants: you can get everything from authentic German food to some of the best Thai food I have ever had. The museum\\'s are amazing. Top three things not to miss. 1. The Pergamon Museum, worth the trip on its own. 2. Rent bikes for the day and bike to all of Berlin\\'s great attractions from the Wall to and through the beautiful parks. 3. Take a boat ride down the River Spree and enjoy a cocktail on board. “Great for Siteseeing” Something for everyone - tons of great musuems, churches and memorials. Be sure and make a one day trip to Potsdam “Stay in Berlin” Wow, Berlin is an amazing city. So much rebuilding and rebirth, and very vibrant. “i loved berlin” While in Berlin, make sure you take one of those walking tours of the city. It will help you get started on where you want to go later on. I took the Sandeman\\'s New Europe Free Tour, which was excellent. It covered almost everything. The transportation system is excellent, so it should not be a problem figuring out how to get to the places you want to go to.Also, a tour I would recommend is the Sachsenhausen Concentration Camp tour. It is a very well preserved site with a great museum. It is almost 34 miles from Berlin and a train will get you there in 45 minutes. You can either go with a tour guide (I chose Sandeman\\'s again and it is not free) or just land up there and have an audio tour by yourself. One of the best tours I have ever taken..very complete and overwhelming.Those interested in the alternative berlin scene can look up some tours on the same. They take you along to check out some amazing street art, the absinthe tasting bit etc.. Or just go to Kreuzberg and get started there. Highly recommend checking out the east side of the remnants of Berlin wall for some excellent street art.Do go to the top of the Tv Tower in Berlin for a splendid view - sunset views are best. And even if you did the day time walking tour, do take a walk around the city at night. Most buildings and sites are very well lit. Reichstag is a must visit at night/late evening.Loved Berlin. Going back again sometime for sure! “Great City, def one to visit” This city has something for everyone. Me and my partner love to sight see. We did alot of research before went to ensure we visited as many places as possible. When we arrived at Schonefeld airport there was plenty of maps and guides available. We didnt bother with the Berlin Card and instead bought a all day travel pass for all zones A,B and C for 6euros each. We got the train into Berlin which took about 45mins. Whish in Berlin make sure you visit Sachenhausen, a concentration camp just outside the city. Id advise you to make your own way rather then paying 15 euros for the tour (which doesnt include travel costs) We took the Orianienburg line S1 from Potsdamer Platz and it took about an hour. When you arrive at Orianienburg (which is the end of the line) the camp is a ten/fifteen min walk. You can get a bus however the walk is the same walk the prisoners had to make to the camp so we wanted to walk instead. Its very well sign posted.Once at the camp the audio tour is 3 euros. The tour takes around 3/4 hours so make sure you wear comfortable shoes.There are loads of great shops in Kurfustendamm such as Gucci, Louis Vitton, Tommy and much more but if you like me at the other end there is also H&M, Zara and Mango,We found the trains the best means of transport and very reliable. The longest we had to wait was 10mins.Overall a great city and would go back again. “Berlin on a Budget” A walking tour of Berlin’s historic and must-see sights, for cheap.From Potsdamer Platz, through the Bradenburg Gate, over the Spree River, across the Lust Garten, and up the TV Tower by sunset, then on to the beer garden.Berlin is a city that wears its scars out there for everyone to see, but Berliners have a sense of humor that doesn’t mask, simply accompanies, their painfully sordid and massively influential history. This gives the city a personality that encourages fun, and there is plenty to be had.Potsdamer PlatzBegin your tour by visiting Potsdamer Platz where the New Berlin thrives on top of what was once bombed away in World War II and then split in half by the Wall. Renzo Piano headed the team of architects who designed “Potsdamer Platz-The Sequel” which now holds DaimlerCity, the Sony Center, and the Beisheim Center. The impressive buildings stand to make both visitors and Berliners proud.The WallWithin the square remains a few pieces of the Wall and stretching out in either direction one can observe the change in the stone of the sidewalk, street, restaurant floor, table runner, etc., representing the two-foot wide intrusion that once divided the city on itself. This line runs the entirety of where the Wall stood.Holocaust MemorialFollowing that line to the north, past the new American Embassy, is the Holocaust Memorial. The view from outside is far different from the inside, which might just be the feeling the architect, New Yorker Peter Eisenmann, was intending to evoke. Spend some time getting lost among the 2,711 blocks of concrete. It is free, sobering, and after seventeen years of planning, it is a work of art that is sure to leave its mark.Bradenburg GateContinuing north you’ll soon find the Bradenburg Gate. It is the only one left of 18 original city gates from 1791. It is where President Reagan asked Mr. Gorbachev to tear down the wall, and it is the greatest symbol of Germany’s reunification. Walk through the gates, where you’ll probably witness a demonstration, as it is the one place in Berlin where it is legal to protest.On your left will be Humboldt Universitat. Einstein, Marx, Engels, and the brothers Grimm are all alumni of Berlin’s oldest university. Across the river Spree, Museum Island holds a number of Berlin’s finest museums and your first views of the Berliner Dom’s copper topped cathedral. This soot stained building was once that of Prussian kings and was never cleaned from the bombings, though they don’t seem to darken its beauty.Lastly, on the other side of the river you’ll find the Red Town Hall, St Mary’s Church, and the TV tower. St. Mary’s (Marienkirche) is worth stepping into, and the square opposite, centered by a fountain where Neptune is represented with the rivers of Germany, is a choice place to people watch. The TV Tower has views of the whole city and is a spectacular place to watch the sun set. There is a rotating bar and restaurant at the top and it takes half an hour to complete a rotation.Prater Bier GartenFrom there it is to the beer and Prater Bier Garten, in Prenzlauer Berg, is as charming as it is authentic. For less than 20 Euro pick up one of the various brats for dinner and take your time sampling the assortment of stouts and pilsners under the chestnut trees of Berlin’s oldest beer garden. www.prater.comBerlin was once a cultural hub up there with Paris and New York City, and then it became one of the worst examples of what war can do to a city. Now it seems to reflect all of its past with a clear light pointing to the future. The history is as thick as the stouts, and the people are as flavorful as the brats; Berlin is a city that will not disappoint. “Best Place in Germany - Berlin” Berlin. Is a great city to visit. The public transport is fantastic. Hundreds of restaurants, pubs, cafes etc etc Numerous attractions, museums. The history of this city is fascinating and must never be forgotten. “Burgers Berlin -S Banhof Ost Kreuz in Berlin” I happend to find this Restaurant as I was meeting with friends in the Park. (www.Burgers-Berlin.com) They make REAL Burgers and have also a menu for the Vegetarian diet.If you have the craving for a Burger - give it a try.Sonntagstrasse 2 - 10245 Berlin “My favourite city in Europe” My favourite city in Europe, too much to do, art, culture, food, nightlife, architecture, shopping, very cool people...if unemployment wasn\\'t so high I\\'d move here...i miss the city already “Wonderful art scene” I just got back from a ten day trip to Berlin with my son (19) who is an art student. I am so glad that we went there! It had so much to entertain both of us, and it felt very safe. Neither of us speak any German but we had no problem at all finding very helpful people who spoke English. We stayed in the area of Mitte which I definitely recommend. I\\'ve written about our trip and included several slide shows on my travel blog http://www.flashnomad.com It gives ideas of what to do that would be suitable for anyone without little children. “Berlin, the vibrant friendly city” Berlin, Germany is a lovely vibrant city both in Summer and in winter. The Ku\\'damm, the longest shopping street is worth a visit every single day. The historical past is quite an attraction. The island of museums, the over 500 museums, the botanical garden, the zoo, Potsdamer Platz and parliament are worth visiting. A walk in the Unter den Linden in Summer, and a boat ride IS A MUST! Berlin cannot be seen in a day. You need at least a week or two. For party lovers, Kreuzberg district in former East is a must visit at night. For the romantic, Sansouncci castle in Potsdam district is fantastic, but take note that it is out of the city limits and will require a different ticket from the daily ticket! Security is almost 100 per cent assured but best avoid the quiet former east quarters when travelling alone. Rowdy drunk mobs can be found in certain underground stations, just be assured the police are never far and cctv cameras are everywhere, even in the trains. Transport isexpensive but VERY reliable and 24 hrs, clean and easy connections with many options, with a map even if you dont speak the language Berlin is easy to tour. It also has the most family friendly transport system with pushers, dogs, skates and bicycles all allowed. BUT no food allowed. Food and beer is cheap, and Turkisch pizza or doner is quite something for easy meal times, Try the currywurst too at street stands with a Berliner Kindle beer! “discovering Berlin with city segway tours is so much fun !” My husband and I had the best time discovering Berlinwith city segway tours. What a great way to get around !Carissa, our guide had a comprehensive knowledge of the city´s history and was a delight to be with. We definetely recommendthis unique sightseeing tour.T.V., Berlin “Berlin- LOVED IT!!” I had low expectations for Berlin. I thought that we would see some historical places and it would just be another big city...boy was I wrong! There were five of us (3 adults and 2 kids -ages 7 & 12) and we all loved Berlin!! I don\\'t even know where to start. We stayed on the Unter den Linden about 3 blocks from the Brandenberg Gate, so we walked everywhere. There are so many great cafes, pretty and wide boulevards and history around every corner. We took a boat ride along the Spree, walked to the top of the Reichtag, walked along Unter den Linden to the Brandenberg Gate and then the opposite direction to Alexanderplatz. We had a wonderful dinner at a cafe on Gendarnmarkt, saw Checkpoint Charlie and the Topography of Terror outdoor exhibit. We love Ampelmann on the stoplights, the friendly people and so many other things! No one was ever bored, which considering this was the end of a two week trip with kids was amazing. I actually like Berlin even more than Paris!! Oh, and the prices in Berlin are very reasonable considering it is a European capital! We can\\'t wait to go back! “Beautiful, amazing European city” Visited Berlin in 2005;ACCOMODATION: we stayed in a flat in Wedding, a small district outside Berlin city centre. Mostly a sort of immigrant population; lots of Turkish people and the atmosphere is generally easy. The hotels around are cheap, the avenues are pretty and its got a handy underground station that takes you straight to the centre of Berlin in 5-10mins. Theres a lovely lake in Wedding you can walk to OR take a quick & cheap tram to with a bar outside. The restaurants in Wedding are small and local but theyre great value for money and give traditional german cuisine.PEOPLE: German people are generally friendly but keep themselves to themselves. A nice easy atmosphere compared to Britain as they can smoke/drink when they like and do it leisurely, not over indulgent. So, you do feel safe at night and feel ok approaching people, most can speak a bit of english.FOOD: food was good; lots of hot dog and wurst take away stands. Their bakery chains are great selling fresh sandwiches and cakes. The restaurants in Wedding generally dont translate the menus into english as it isnt specifically tourist oriented bu the main restaurants in Berlin do. Apart from that they love cheese, potatoes, spinach, cakes and breads. There are the typical pizza and chinese chains though. I would also recommend the different types of beer; you truly cant get the same taste anywhere else.PLACES: Tiergarten; beautiful Central Park of Berlin with boating lakes, river, forest paths etc right across the road from it\\'s train station. Free to walk through and has a nice beer garden popular with locals. The Tiergarten Zoo is also amazing; the best zoo i have seen with lush gardens, many exotic animals in large, open & well kept enclosures. It isnt too expensive to get in and you can really spend a day there; wear comfy shoes!The Reichstag is also worth a visit but there is usually a big queue to get in and I dont think its worth it really.The Sony Centre in Potsdammer Platz is great at night and it contains an english cinema too - have a go its surreal! It all lit up beautifully at night and its worth spending a bit more and getting a great cocktail inside!The KaDeWe shop is definately worth a look in Postdammer Platz; its like the Harrods of Germany. The bottom floor is like a designer village; Gucci, Christian Lacroix, YSL, Ghost etc. Theres a jewellery and toy floor with the most opulant gifts you can think of but the best is the food floor on top; i have never seen such cakes as those!!! Designer cakes! And when you buy a slice (usually about 5€ a wedge) they wrap it up in branded tissue paper and give you a wee cardboard box with the designers name on it! Also chocolatiers at work, fine wines & whiskeys, cheeses & meats etc. Also really fancy stalls and cafes on this floor for lunch. If you dont intend to buy anything its still worth a wander!Unless you\\'re a history buff, I\\'d give checkpoint charlie/ berlin wall a miss. The checkpoint is on a busy mainstreet usually crowded with tourists so you dont get a good look before you are hassled on. The largest remaining section of the berlin wall is in a run down area of berlin and its just quite...sad..a wall where people lost their lives and thats all it is; a wall. So unless you\\'re interested in history, I\\'d give it a miss. “Berlin my favourite place in Europe!” Berlin...where to start! The city is massive it would take you a week to be able to see everything there is to see.However the cities transport network is second to none being so effiicent it couldnt be easier to get around.S bahn,U bahn trains,busses and metros serve the whole city.The Jewish people\\'s memorial museaum in the Unter dem linden area is an absolute must see-the building itself is interesting in design and the actual museam is very moving and deals with a difficult subject extremely well. Entry to both the permament and temporary exibition is 7 euros.Huas am checkpoint charlie was a good exibition too (12.50 euro entry) some very interesting parts of the exibition about escape attempts but a lot of reading.The area around the Brandenburg gate is packed with excellent cafes and bars,there is street entainment music and a general carnival type atmosphere.The reichstag is just beside the Brandenburg gate and is beautiful-you can walk around the dome inside (if your willing to queue for about an hour) the green outside is great for soaking up the atmosphere. Berlin has a lot of green open space for a big city the Tiergarten behind the Brandenburg gate is miles of trees and parkland in the middle of the city.The Gendermarkt and Bebelplatz are both big open squares which are well worth a visit.Alexandra platz which has the fernsentrum which you can get to the top of and is close to Niklovert (the old town) which is excellent for good typically german food and of course beirgartens! we also stumbled upon a lovely market selling all sorts of crafts and cool things!The sony centre area is also great and there is a big building which contains the fastest lift in europe (150m in 20seconds!) and has excellent views over the city centre! there are some lovely outside resturants and live music too!All in all Berlin was a beautiful,elegant city with sooo much to offer and so much to learn it is absloutly steeped in history and i loved learning about it.Transport is efficent,there is tonnes to see and do,the poeple are friendly and the place has a really energetic atmosphere and with ryanair flying from Edinburgh for next to nothing (we paid £60 return) why wait! i cant wait to go back! “Excellent for a city break” There is much more to do and see than i thought, and alot of recent history ( 20th centuary) Buy a berlin welcome card with unlimited train/bus and tram jounies together with discount on attractions. The best visit we made was to the Bundestag. the queue is usually about an hour to get up the dome but if you contact the bundestag in advance they can arrange for a tour in English which concludes with a visit tio the dome. the guide we have was superb and it was a very interesting tour. Also worthy of a visit was the Berlin Dome, Schloss Charlottenburg, open top bus tour, checkpoint charlie and the surrounding area. Eating and Drinking was qite reasonabl especially considering the value of the pound!! “One of the greatest cities of Europe and probably the world” It was my first trip back in 20 years; the last time Berlin was dominated by a very ugly wall. Today its a wonderful, thriving capital city. The public transport system is second to none; the sights are accessible and taking time to walk around may prove rewarding. Do your research before you travel - our you will just try to pack too much into a trip. Eating out is relatively inexpensive, (compared to London, The Hague, Amsterdam, Paris or Dublin), and the quality of food is amazing - if you like German food (I do).I will be back within a year. “Where to stay” Berlin is a lively, interesting city - lots of good sights, museums, coffee-shops and restaurants and great public transport. It\\'s not pretty or charming so don\\'t go with this view. We stayed in West Berlin, off Ku\\'Damm, where many hotels are located, but when I go again we shall be booking in the old East Berlin - it\\'s much more central for where as a tourist you want to be. “Berlin, The city where history lives” During the fall of 2008, I visited the historic city of Berlin. Incidently, it was the during the anniversary celebration of German reunification day. I stayed in a youth hostel. At 22 Euros, the arrangements were above average.I took the a ticket valid for 48 hours which gave me unlimited access to Bus, tram and train. The \"Berlin card\\' guide book was also quite useful during the trip.The trip started by visiting the famous Brandenburger Gate at Parisian plaza which stands as a testimony to the East-west divide before the fall of Berlin wall. From Brandenburger Gate, a daily waliking tour of Berlin is organized by a group of like-minded youngsters which they call \"The new europe\" tour. I decided to join it which I would say was quite an informative one. During this 5 hour tour, we visited the famous landmarks of Berlin e.g. Holocaust memorial, Checkpoint charlie, Humbolt university square, Berlin war memorial, Berliner dom(Cathedral) to mention few. I ended my day by roaming around Reichstag, the seat of the German parliament. It was a festive mood all around.The next day was planned for visitng the sister city of Berlin, Potsdam, the seat of Prussian Empire and it\\'s emperor \"Frederick the Great\". I would recommend Potsdam tour by bicycle(called bike in Germany) as one would be able to relish the exotic palaces, gardens, architectures and monuments to the fullest. The bike shops are just outside the Potsdam station and they will charge around 9-10 Euros. Major attractions of Potsdam are Neus Schloss (New Palace) and San Souci palace. But the natural beauty of the place is what attracted me the most and till date it remains one of the most beautiful places I have ever visited. If someone is short of time and planning to visit Berlin on an weekend, both Belin and Potsdam can be covered, though it would be a bit on the fast track. “my favorite city is berlin” we have visited berlin twice once in the summer time and once in the winter and each time we have found it amazing. we took the 101 tour bus up beside the alexander platz train station and got to see all the sights getting on and off as we wished. the brandonburge gates, the reighstag, check point charlie are all on route. it costs about 3eruo. we stayed in the parkinn hotel which is the tallest hotel we have ever stayed in 36 floors. the view is fantastic. on a good day you will see for miles around. it cost us around 150 euro for 3nights b+b and the service was second to none. the place to go at night is called hackesure market which is a mixture of tapas bars an irish bar and a 24hour bar which has a dance floor. you can get the tram handy at the alexander platz train station. shopping is good in the europa centre which is easy to get to on the 101 bus. we used it alot even when we were not sight seeing. the winter is cold so wrap up. we went to the jewish museam which is well worth a look. its so sad all the familys that suffered. it gives a history of the generations who where killed. the q to get into the reighstag is very very very long so get there early if thats what you want to see. “My favourite Historic place overseas” Last year, I\\'ve been to Berlin on an official paid trip given by my company I work for, Cultuzz India Pvt. Ltd. Its my first ever foreign trip, thanks to my boss Dr. Reinhard Vogel. And as expected, Its just rocking experience. On one side, you got to see, the beautiful greenery strip through out the place and on the other side, a great feel of walking through history.The people over there are very welcoming and almost all when looked into their eyes, just greet you. They are very glad to extend their help when ever we needed. The only problem would be many of them do not understand English. However, we can still manage good with signs and gestures.There are many many historic places in here. We in fact see many commercial buildings, apartments which are partly historic (half destroyed during the war) and partly newly constructed. The architecture of the old and new buildings is simply outstanding. Great to see such great architectural beauties.The best part is the local trains. I think no one can beat their timings. You got to see a display that reads the next train would reach in so many minutes and there it is exactly on time. The underground train stations are one more good experience, where you got to see some historic (black and white) huge photographs, some people playing music etc.The historic museums are the topping of the trip. There is in fact a museum island where it just consists of museums. Though could not see all of them in the short span of the business trip, but the only one I\\'ve seen contains a huge treasure of past. One whole day would have also been not enough for just going over it. “Berlin - very cold but still uber cool” I went to Berlin just after Christmas this year for a cheap and decidedly random city break (although I\\'ve always been meaning to). The weather was some point beyond freezing. I tramped around the city with pretty much everything I packed and still felt jack frost\\'s icy fingers around my extremities. As such we didn\\'t do too much sightseeing proper but opted instead to cafe hop around certain districts which seem to pay off quite well as an alternative experience. We were based in Prenzlauer Berg, a cheaper but clean and interesting area to the north of Mitte stuffed full of organic and upmarket cafes and restaurants. We also managed to take in Kreuzberg which while being \\'trendy\\' for quite some time now is still a vibrant area to visit with plenty of boho hang outs and shops. The night life around Oranien Strasse drew us back to the area for two nights in succession. All in all, it was a very brief and bitterly cold affair but definitely worth the money and a return visit later in the year. “A great location in Berlin” In October 2008 my husband James and I visited Berlin, a placethat James had longed to go for many years. I was not so keen as I thought it may be old and depressing. How wrong was I!During our 3 nights, 4 days we stayed at the Marriott Hotel.It\\'s great location, lovely rooms and pleasant helpful staff were strong contributing factors to a most delightfully pleasant and educational stay. On arrival at the hotel I took the advice of some of your other Trip Advisor members and asked to be upgraded to the Club /Biz floor. This was a great decision. The young man at the reception desk spoke fluent English, was extremely well informed about all areas of interest and he presented with excellent public relation skills. The reception staff in the Club/Biz lounge were equally helpful with one staff member recommending and arranging a much needed hairdressing appointment at the very modern salon just across the street. I was equally impressed by the friendliness of the staff at the salon and the hairdo was excellent.Not only was this hotel excellent in itself, it is so near to so many of the attractions of interest, also to transport, quality restaurants as well as a supermarket selling good quality eat in or take-away food.Our lovely room which was spotlessly clean with very comfortable beds looked out over old Berlin. This was interesting to look at in daylite and was a pretty site at night; from our french verandah window one could extend the view to include looking up the street toward the square.If we ever return to Berlin the Marriott would be our first hotel of choice. We have given a high recommendation to our travel agent. Thank you Trip Advisor. “the dancing spaghetti” the dancing sphaghetti symbolises the warmth of berliners who have cute nicknames for the places of interest. on the hop-on-hop-off bus, one gets a complete overview of the city- a marvellous synchronization of the old and the new, where history mixes seamlessly at every nook and corner of life, amazing any visitor. it would not be an exaggeration to say that the city is an amazing mix of the traditional and modern, the east and the west. the dancing spaghetti is the name given to a prominent modern structure with shining spirals looking upwards, an aesthetic wonder. “Tips on a stay in Berlin” A recent trip of 10 days to Berlin, gave me the opportunity to offer the following tips: stay as close to Freiderchstrasse train station as possible. There are some great hostels just north of the River Spree in that area. The best bookstore is south of the bridge on the Freiderichstrasse. The best South Asia food at very reasonable rates (esp. at lunch time) is north of the bridge (same area) towards the historical Jewish synagogue. The Fine Arts museum (painting gallery) off the Sony Center was my favorite. The Turkish area (Kreuzberg) is full of great restos and atmosphere. If I had to do it again, I would sign up for a walking tour of Hitler\\'s Berlin for a quicker and more knowledgeable experience. The local bus 100 gives a great \"tour\" for the price of regular bus fare. The area around the Berlin Zoo is a ZOO!!! So many tourists, but a visit inside the Ka DeWe dept. store is a must. It \\'s unlike anything I\\'ve ever seen. Don\\'t miss the food courts upstairs!!! To escape the madness, take a long walk in the Tiergarten or leave the city for Postdam...a quaint Dutch-like village with the Sanssouci Palace on the outskirts. “top German city” Me and me good wife visited this wonderful citylast year and had one of the best city breaks we have ever done.Berlin has some wonderful culture and great nightlife.We began with the Jewish museum in Berlin which covers the history of the Jewish people dating back two Millennia.I would recommend this museum to anyone,not just people who are serious about history,after visiting this place i became to undersand what a great contribution the Jewish people made to Germany and i also learned how they we\\'re persecuted long before the nazi regime of the second world war.The Jewish memorial is also worth a visit,as are Brandenberg tor and the goverment building the Reichstag.However the Berliner Dom for me is th most imposing and beautiful building in the city,this can be found near museum island which is also well worth a visit.My top tip for Berlin though,would have to be the walking tours.I usually take the bus tours, but decided to try a walking one for a change.You will be able to collect leaflets from the tourist information and most hotels telling you which tours are available.I decided to do the history of Berlin tour,but you can do a second world war tour,which included a visit to the nearby concentration camp.I can\\'t recommend these tours highly enough,our guide was extremely informative and showed us some wonderful sites dating back may years and also gave us some great information on the Berlin wall,the last days of Adolf Hitler and the Nazi regime in the bunker(standing above this place which is now just a resedential area was very creepy)In the evenings we stayed in the Alexanderplatz area of the city,plenty going on here in th evenings.As usual the German food was great as was the beer.If you can i would suggest finding an authentic German restaurant, “beautiful and touching” I went to Berlin Germany July 11th-13th, and while it was a short stay it was awesome...in the real definition of the word. I laughed in a bier garten, was in awe at the sights, cried in the checkpoint charlie museum, and was truly changed by the city and the attitude of its people. Though no one really reached out to me, I felt welcome and content by the city and its inhabitants with every smile and light hearted conversation. I can\\'t wait to go back!!! “Great place for history lovers” Berlin is the first place I have been to in Germany, and it definitely impressed me.I went for three days with two of my girlfriends for a weekend getaway (living in London at the time). The history in the city is unbelievable. We took a 6 hour walking tour which covered most of the history leading up to the coming down of the Berlin Wall in 1989. I highly recommend taking a tour because there are lots of dates and facts that the guides know all about. (we chose free berlin tours-which was perfect. and even though it was six hours, you rest and there are lots of facts that they need to go over, so it wasn\\'t walking the entire time)Berlin is also cool because of all the graffiti, which is done artistically. The clubs and bars all have forms of graffiti in a real urban, underground vibe. Definitely check it out one night while there.There are so many sites:Berliner DomeCheckpoint CharlieBrandenburg Gateactual portion of the Berlin WallReichstag buildingAll of these, plus soooo much more is covered in the tour and then you can decide which you want to take more time and go back to. We chose to climb the Berliner Dome to see views of the city (which aren\\'t anything compared to other cities, but still neat). We ate dinner in Oranienburger Strasse both nights, which has great restaurants!!It\\'s a city that you walk a lot, but there\\'s a lot to see and you won\\'t want to miss out on anything. I also recommend going out later at night to see the buildings lite up. Very cool!We went in mid June and the weather was perfect...sunny, but not too hot. “The City full of adventure” The city itself was full of history. It was a very neat place to go. It was overall very clean and there was never a time I or my family was bored. Lots of shopping of course. But there were many places to go and see! The city is family friendly but for older kids. I say this only because there was a lot of traffic going everywhere we went. Many people there, being a more touristy area, could speak some English so it was easy to talk with them and communicate. My family took a bus tour with Berlin City Bus Tours. It was very nice and we went around the whole city. Check Point Charley was the main attraction as well as the Brandenberg Gate. Prices around town were resonable and nothing was overly high priced. We did not stay in Berlin however because we had friends who lived nearby. We got hundry while we were there and stopped at a small IMBISS. Their food was inexpensive and tasted very good. “A treasure of history and transition” Berlin is one of my favorite locations. History exudes from every corner from 13th century to the 21st. Berlin is full of art and architecture as you transition from the ancient to the new, ultra-modern city. Great transportation by bus or rail. Take a guided tour, it\\'s worth it. We stayed at a B&B near Charlottenburg off of the S-Bahn. “Excellent Berlin” Berlin was fantastic & an excellent place to explore with great old & new architecture. Our Hotel (The Hilton) was excellent & lived up to the good reviews on Trip Advisor. I recommend the Welcome Card which gives you money off attractions as well as use of all bus, train & tubes (S-Bahn & U-Bahn). We stayed right next to Gendarmenmarkt which is beautiful. Was great to sit outside the bars & absorb the atmoshphere. Hackeschermarkt was a funky vibrant place with some cool bars. We got a taxi from TXL airport which cost about 19 Euros but once familiar with the transport system we got a bus back - this couldnt have been easier. The bus stop is on Unter Den Linden. The Fernsehturm was a good way of getting your bearings of the city. We went on a Saturday about 12 so they was quite a queue but it moved relatively quickly & was worth the wait. I recommend a boat trip as well if the weather is good (can use travel card for discount on both the above).All in all a great time was had. “\"City of the Future\"” Berlin is really happening. There is the most comprehensive selection of amazing architecture. It seems that every leading architect is building here.The boulevards are wide and beautiful, and, because Berlin is about 20% open space the buildings are able to be seen. Walking along the river near the Reichstag and seeing what is happening is a feast.Too - going to the Old Jewish Quarter is so exciting. The collection of galleries, shops, cafes, and, the renovation is spectacular. “Great City, well worth seeing.” Visited with two fiends in February. Stayed in the Hilton Hotel, which is well located and the staff very friendly. There are some very nice restaurants near-by. The city bus tour stops across the square and is worth a trip on.The food was reasonably priced, and we attened an all you can eat donut buffet near the Brandenburg Gate, see attached picture.Regarding overall holiday costs, Berlin would not be the cheapest city in Europe. There was adequate taxis always available and the language provided no problems at all.Site seeing, there is very little historical buildings left following the war. The city is very clean and tidy and felt very safe at all times. There is great shopping and eating.We took a trip to Sassenhausen which is definitely worth a visit. We booked a taxi and the driver accompanied us on the tour. The visit was quite sad but definitely worth the trip. Please see attached picture. “Great city!” I just got back from Berlin! I went there to visit a friend of mine so I can\\'t say anything about hotels. Museums, theatres are great. The restaurants are so good and various. People aren\\'t very friendly but they mind their business like being in NYC. Overall a nice week in a great city. Weather wise.....cold! ;) “A Great Place To Walk Or Ride The Subway!” Berlin is one of those cities where its not only easy to get around but avoiding autos is highly desirable.The city subway system is clean, efficient and friendly. At 0100, I found teens, young adults, single women riding the system, feeling safe, having fun but not disturbing the others and certainly not causing problems. The city is clean and you get that wide open feeling.I went in September and the temperatures were pleasant, allowing me to walk across its big wide spaces and enjoy the deep history the city offers. The wall that separated East from West is all but gone yet its location is marked by a simple double-brick path that weaves through the city - on streets, sidewalks and grassy areas. They never want to forget.You can rent a car or take a taxi in Berlin but do yourself a favor and spend time just walking around. “My Favorite Place in Europe” I loved Berlin. so much recent history. So powerful the places you see and what Berliners have overcome. I did two walking tours and they were fantastic. I can\\'t wait to go back. Berlin was the best place I have travelled to! “Cheap” Berlin has plenty of history and incredibly cheap. OK..You can do in berlin everything you can in any major European capital..but you will never get the most bang for your money. The people are not in a hurry, are not pretentious..they feel very folksy..very real. Everything runs on time and moves around quick. It is also one of the cities that most look like an American city to me in central Europe. “5 (3) days in Berlin” I\\'ve been in Berlin for 3 days plus 2 days of travelling.It\\'s a huge city with a lot of history! I need to come back for sure.We started our visit by a free tour around Berlin. Perfect to get a general view of the city and what things you want to do later. The tour lasted 5 hours instead of 3.5 hours. It\\'s an excellant price/value!In total, we did 3 museums and 1 pub crawl. The musems are the Altes Museum, the Jewish and the photography Museum. The first two are huge! To fully appreciate the Egyptian exposition and the Jewish cultur, you need at least 1 day each.The pub crawl is a tour around 5 pubs/clubs around the city. Interessing and you get to meet with some other tourists from all over the world. It costs 10 euro including some free shots. (not bad at all)One thing you have to know, smoking is still allowed in public area. Personnaly, I hate it. Non smokers can have a hard time in pubs. “City Break” We went to Berlin for 5 days on 18/09/07.Flew into Schonefeld by Ryan air .Got the X7 bus at the door to Rudow U Bahn.station. Travelled to Adenauerplatz .The ticket cost € 2.20 this gives 2 hours travel in one direction with changes between any of the 4 BVG transit systems. If I was going again I would buy a day ticket for €6.10 and this lasts till 3 AM. Tickets can be used on the U bahn (Underground) S Bahn (local train) Bus and Trams. Berlin has the best integrated public transport system I have ever used .The frequency of the buses ( arrival times and destinations on electronic bus stops) and trains is fantastic . I would recommend the 100 bus route for sightseeing as it goes past all the tourist sights.The places we enjoyed were the Reichstag ( Government building ) the second best view in Berlin but go early as the Queues are long .free entry. A short cruise on the river Spree .The TV tower and Alexanderplatz.. Friedrichstrasse railway station with its great old pictures of East Berlin in the Sixties there are loads of food outlets and free entertainment on the stage at lunchtime. We found the shopping all over Berlin was good with prices better than England or Ireland on clothes and small electronic goods. All the upmarket designer shops are also well represented mostly on the Kurfurstendamm . We also found that C & A are still alive and well all over Berlin.Eating out has a meaning of its own in Berlin most of the population seem to eat lunch on the go with more kinds of fast food than you could name on every street and plaza with the most popular being Curry Wurst and Kebabs and Hotdogs a close third. A Good selection of restaurants are available with every ethnic type of food you could want. One of the best value evening eateries was the Movenpick in the Europa centre ath the Zoo end of Kurfurstendamm.The hotel we stayed in was the Agon litchburg near Adenauerplatz it was a 70’s style hotel with good staff and clean linen and good breakfast but the bathroom needed a makeover there was no shower Curtin and the ceiling was peeling . We had booked the Agon Frankfurter or the Motel One but these were not available for our dates, they had come well recommended. Over all we enjoyed Berlin and would recommend it for a city break.Joe MurphyDublin “My Favorite European City” During my 18 day backpacking trip in Europe, I had the pleasure of spending 3 days in Berlin; and it ended up being my best travel experience to date. I love to travel - which is how I ended up working for Explorica, an educational travel company - and I really found Berlin to encompass all the things I love about visiting other countries. First of all - the people were great. Everyone was very friendly and helpful, and my lack of German expertise was not an issue. Next, the food and beer were fantastic. We went to a really great restaurant in East Berlin called Broker\\'s Bier Börse; where the beer prices rise and fall based on supply and demand like the stock exchange. The best part about visiting Berlin is the history. From old disputes with France to Nazi Germany to Communism, there are interesting facts and unusual landmarks in every corner of the city. A great way to get an overview of Berlin\\'s history is to take a day with Brewer\\'s Tours - I did an East Berlin walk with Preston and it is the best city tour I\\'ve ever taken. I highly recommend making this fantastic city part of your next trip! “What a great city!” Well, let me start by saying that we stayed for 5 days and we didn’t manage to see 1/3 of what Berlin has to offer. The nightlife took over and we used to leave the flat in the late afternoon. Not much left to do in terms of sightseeing as most attractions close at 6pm! But Berlin is beautiful and there’s so much to do even after 6pm.I guess you should think about WHY you chose to go to Berlin. There must be a reason. This will “dictate” what you’ll want to see once you’re there. Berlin has been in turmoil till very recently and although the scars are all but healed, it seemed to us and probably most tourists, a city that keeps it very well together. A city like any other and still unique. “complex city with complex past, and lots to do and see” My girlfriend and I enjoyed living in a loft apt. for ten days in Berlin, in the Hackesher Markt area. Berlin is one of those cities where you constantly discover new spots, new restaurants, new pubs, new clubs, cool sights, great museums, and powerful history. We were not disappointed.The Hackesher Markt area is currently known for being the hip area with artists, trendy shops, cool bars and pubs, and great cafes and restaurants and an open air market by the S-bahn station. It is a very grungy area with these great places popping up everywhere like diamonds embedded in the grungy old east. Very cool indeed.I liked the real feel of it compared to some of the over-priced, upscale west side areas like the Zoo area, and area near Potzdamer Platz and Kaiser Wilhelm church. Don\\'t avoid those areas either, though. They\\'re worth checking out. But they just made me feel like I could be in any big city in any western country. Hackesher Markt was unique. You can do some good pub crawling up Oranienburgerstrasse all the way into the Govt. district near the Friedrichstrasse S-bahn station.We\\'d recommend taking a walking tour at some point just to get your berings (historical and physical), then explore on your own.We did the \"original berlin walks\" all-in-one \"Discover Berlin\" tour. Our British student tourguide was sharp and effective, but maybe a bit too opinionated and snooty -- telling us we should not go to Starbucks, or the heavily commercialized Potsdamer Platz, and making fun of American bomging accuracy in WWII. I actually agreed with her opinions, but felt they were out of place in the tour. Just give us the facts please and stop trying to impress us with cheap shots. She was far more effective when she just asked us to ponder political questions about various things, and not tell us what to think or do. (think about that for a moment... and put it into context of where she was standing when she acted this way)I also felt the tour was far too weighted towards World War II. Berlin has about eight hundred years of history, and these walking tours focus heavily on the tragic 12 year period that occurred under Hitler\\'s reign, and also on the Berlin Wall. I would have preferred a more balanced view.If you\\'re into enjoying pubs, beer and bratwurst, there\\'s plenty to go around in Berlin. One of our favorite areas outside the Hackesher Markt is on the corner of Shiffbauerdam and Albrechtstrasse, right next to the Friedrechstrasse S-bahn station/overpass in the goverment district. There a string of great pubs and restaurants right there including the Berliner Republik and Standige Vertretung -- the latter being a place who\\'s only beer offering is Kolsch beer, a nice beer brewed only in and around Cologne. They also offer excellent boiled bratwurst with bread and mustard -- such a simple, delicious thing! Most of the places here on this corner have views overlooking the river and train overpass there, and it makes for a great night of sipping beer and eating bratwurst while conversing with a local or friend.I found the U-bahn and S-bahn system slightly more confusing and problematic than the Tokyo subway, but similar to the subway in New York -- as best I can recall. No major problems, just a bit more effort than I was last used to in Tokyo. In particular, I wish Berlin would put up far more *large* system maps in their stations. Instead, most stations merely have small fold-out system maps taped up somewhere, including the ticket vending machine. Helpful, but hard to read. And if you stand at the ticket vending maching and read the map, you\\'ll be blocking access to the machine for those who need to buy a ticket. So try to be polite and find another map or unfold your own out of the way.They don\\'t use ticket activated turnstyles in Berlin subways. It\\'s the honor system with occasional random checks by agents on the train. We encountered one such check on our way to Spandau. Don\\'t take chances, buy and validate your ticket!We also found the tram system useful and easy enough. The bus system was also good. Jump on a double-decker 100 or 200 and go for a ride -- they drive past a lot of key sights. Nice way to inexpensively give your feet a rest. Hop off somewhere interesting, have dinner or lunch or a drink, and take the S or U bahn back.The museums were nice. There is a lot of construction going on there now, especially on the new museum that will house the 3000+ year old Egyptian Nephrotete bust. It was confusing because a huge banner on the side of the building under constrsuction said \"Nephrotete coming in 2009\" or something like that, making us believe you could not see the bust, but in fact you can see the bust at the old museum around the corner! So don\\'t miss it.A day trip by train to over-hyped, but worthwhile, Dresden is easy from Berlin, and I\\'d definately recommend a brief S-bahn trip to Spandau just outside Berlin. It is a small, walkable, picturesque town with a nice open air market, and some nice pubs. “Weekend break” Just had a four day weekend in Berlin and loved it.Shedule flight was a short journey and ontime. Food good, beer very good. There are lots of sights to see, I went to the stadium, Zoo, museum sector, tour on bus. Berlin is very big and its a good idea to buy an underground ticket for all zones over four days. Its about 22 euros but you can hop on and off very frequent tubes all day.Like most capital cities it has its bad points, its very common to see people drinking from cans/bottles in the street and on the tube but generally they dont bother you.The shops close Sunday.Attempting to speak the lingo does get you far, you can not take it for granted that they speak English.Most certainly be going back. “Visit the Wansee” If you have some extra time while in Berlin, and are tired of the touristy places (The wall, Checkpoint Charlier, The Bradenburg gate, etc.) take a ferry ride on the Wansee. Several types of rides exist, so when purchasing a ticket, chose the longer ride with commentary (only downfall, this commentary is in German, so if you don\\'t speak the language you\\'ll have to take a guess at what you are hearing). The ride lasts 45 min to 1 hour. My favourite part was passing by Peacock Island...yes, you can hear the peacocks. “Shoppers Paradise!” Not the most obvious choice for Christmas shopping but Berlin will pleasantly surprise you. Cheap flights get you to the airport where a taxi or fast train link to the center is fairly priced.The quality of theshops is excellent, with something to suit every pocket. Sale items are genuine reductions (a pair of Christian Lacroix shoes reduced from 350 euros to 100 - how could I leave them!). Most hotels are very reasonably priced and there are usually lots of offers if you take the time to look for them.The people are very nice and very helpful. Most speak English in shops, restaurants and hotels but if they don\\'t thay will find someone who does.The food is very good, wether you eat in a restaurant or in a department store cafe.It does get very cold though as the wind chill factor drops the temp by a good 4/5 degrees so take scarf, hat and gloves.Lots of sights to see and, if you have the time, a trip to Potsdam is well worth it. “City Break - loved East Berlin” East Berlin is such an amazing place to visit. Great cutlural and historical things to see. Brilliant museums, art galleries and war memorial information.Great place for food and going out. Fab beers and bars.Great shopping.The West of the city is boring compared to the buzz of the East.Stay somewhere around the Mitte area. We stayed in apartments on Mohern Strasse and it was perfect. Near Checkpoint Charlie, Brandenburg Gates and the Reichstage....Will visit Berlin again and again !! “All the good things are true” All the good things people have said about this hotel in the past are true(good sized, clean, modern rooms, superb breakfast etc).I don\\'t think it really matters about location too much in this city as the transport is so easy to use, so if I say that the underground is virtually outside the door then that is all you need to know. Two great restaurants within a minute, a Turkish one called the Hasir (turn left out of the door, it\\'s on the corner next to the entrance to the underground), next door to the Hasir, just round the corner is the Toro Negro with a very varied menu. Both very different but excellent. Drinks in the hotel are expensive but there are bars close by.I phoned the hotel the day before we were due to arrive just to make sure that they gave us a no smoking room, there were no problems, everyone on reception spoke really good English.Reception sell the various bus tickets you may need, they will also organise a taxi to the airport for you. It cost us 30 euros in total for 7 adults to get to Schonefeld, I\\'m sure they\\'ll arrange for a taxi to pick you up from the airport too, much cheaper than the one I arranged through Octopus(£65!!!). One tip, after you have collected your luggage at Schonefeld and walk through to the airport, look to your right, there is an information booth, pick up a map of Berlin from there - that was as good as any we came across the whole holiday and it was good to have it at the start.Have a great holiday, you\\'ll love Berlin “Berlin is a city you must visit” We spent about 4 days in December 2005 in Berlin. The city is really interessing and full of historical contrasts. You will find there a large number of interessing places to go out, shopping and museums. The city center is Berlin Mitte, and it is also the most interesting part of Berlin. So I suggest you to take your accommodation directly there and you can visit all by foot. We found the accommodation was not expensive in Berlin, and after a long search for hotels we decided to take an self catering apartment in Berlin. If you browse the internet you should find plenty of them. We book our one room apartment on www.all-berlin-apartments.com, and there were no problems and everything went good. But the decision is up to you. I advise you to go to Berlin in Spring because of the Football World Cup, I suppose there is going to be too many fans to go there in summer! What your really have to visit is the \"Museum Insel\" you will see why! “Simply brilliant” Just returned from Berlin, Germany and quite frankly it\\'s the best short break I\\'ve ever had. Stayed at the Hotel Agon Opera - budget hotel on the K\\'damme. Hotel clean and tidy with nice rooms and staff very helpful. Check out the view at breakfast from the rooftop restaurant. Everyone had told us to stay in Mitte but I\\'m glad we ignored the advice because the K\\'damme is a lovely area of leafy boulevards, great shops like Stilwerk for the design conscious, all the top label stores and fantastic low key nitelife, check out the Salsa bar round the corner from the hotel or better still seek out the bars around SavignyPlatz for a few hours. Transport runs with German efficiency. Get yourself a 72 hr city card we found it invaluable for getting around and it\\'ll also get u discounts on quite a lot of things - like 50% discount on the ballon ride at the Sony cente. Check out museum island it\\'s great for an afternoon of culture - a museum card is useful here. A trip up or down Friedrichstrasse is good for shopping and there\\'s a few nice eateries for a sunday brunch on the side streets too. Take a trip to the roof of the Reichstag just before dusk (it\\'s free) to avoid the queues and look out over the tranquil picturesque former west and Tiergarten and the buidling site that is the former east. A stroll along Unter Linden from the Brandenburg Tor towards Alexander Platz is a must. You might even be tempted to join the never ending queues to ascend the TV tower - we didn\\'t seemed like too much hard work so just look on it as a masterpiece of east German engineering instead. Didn\\'t get to see much of the clublife in Berlin...it\\'s hard to find unless you are in the know...so stick to the bars and restaurants...most of which are italian...so if you like your pizza or pasta you\\'ll be fine. We did venture to Hackascher Hof...avoid the station area and head for the set of warehouse buildings along the road. If you are young at heart there\\'s ome great bars (a bit studenty but full of lively chat and merriment). We ate there at a fantastic Pan Asian restaurant in one of the interior coutyards and the Sushi, Ramen and noodle dishes were sublime.If you are after a fantastic short break check Berlin out..one word of caution tho stick to the city centre..there\\'s better street lighting..you\\'ll see what I mean if you go..and you\\'re less likely to get lost. Take a good guidebook and a phrasebook which contains a menu reader as we found few people either willing or able to speak English..and whilst we tried to speak German all the time...do as the Germans do and all that...communication can be difficult..Don\\'t be put off by the initial abruptness you might encounter..and most of all have a great time! “Great City” Hotel (Winters Hotel, Berlin) adequate. Room clean but rather basic.Staff helpful. Reasonably convenient for public transport. Berlin excellent for a short break with so much to see. Public transport first-rate with buses, S-Bahn, U-Bahn, and trams, plentiful and inexpensive. A three-day Welcome Card was a bargain at 19 euros. Packed in plenty in our three days, and still have numerous sites to see. Only disappointments were Soviet war memorial in Treptower Park, because it is currently undergoing refurbishment, and some of Sans Souci Park with statues covered for winter and other sections closed. Berlin does need to do something about its graffiti; it\\'s no longer a proud political tradition, just scruffy. But the city is definitely one to visit again, and again. “AWESOME!!!!!” Superb beer and bars! Go take a tour of Sans Souci. It\\'s on the outskirts in Potsdam, a ride on the bahn to it will cost you about 3 euros from Zoologische Garten in Berlin. Potsdam itself is a very cool little area. Visit the Dutch Quarter. Eat breakfast at the Movenpick. Go to a Hertha Berlin soccer game. Take a few double-decker bus tours. All these will make your stay in Berlin great. “a city full of interest” A city where past and present mix together, although we can see and feel the contrast between east and west.'"
      ]
     },
     "execution_count": 50,
     "metadata": {},
     "output_type": "execute_result"
    }
   ],
   "source": [
    "#reviews_pos"
   ]
  },
  {
   "cell_type": "code",
   "execution_count": 6,
   "metadata": {
    "scrolled": true
   },
   "outputs": [
    {
     "name": "stdout",
     "output_type": "stream",
     "text": [
      "                                          review_text           city\n",
      "0   “A must see!” When I was here last November it...         phuket\n",
      "1   “...from before Christ to modern times...” San...      santorini\n",
      "2   “Cusco the place to be” Cisco is a very nice a...          cusco\n",
      "3   “Just the best thing to do on a warm sunny day...         sydney\n",
      "4   “So many places to visit” İstanbul was the cap...       istanbul\n",
      "5   “Great overview of the city” This is a great v...       florence\n",
      "6   “Running routes” As a seasoned runner, I have ...      cape_town\n",
      "7   “havana place to visit” Havana a must to visit...         havana\n",
      "8   “power nap provide relax in 15 minute” providi...         jaipur\n",
      "9   “Luxor tour” Hatshepsut temple, Luxor, Karnak,...          luxor\n",
      "10  “Half and Half” Although we did in part enjoy ...      marrakech\n",
      "11  “Sailing around Sugar Loaf, Copa and Ipanema.....            rio\n",
      "12  “Salzburg is most accessible European city 201...       salzburg\n",
      "13  “Beijing - good place to learn” What happens w...        beijing\n",
      "14  “Incredibly nice” One of the most beautiful ci...  st_petersburg\n",
      "15  “Amazing castle!” From the outside the castle ...      edinburgh\n",
      "16  “short staying in Lisbon” I liked very much th...         lisbon\n",
      "17  “Berlin & salsa 2014” Last year I decided to v...         berlin\n"
     ]
    }
   ],
   "source": [
    "df = pd.DataFrame(li, columns =['review_text', 'city']) \n",
    "  \n",
    "print(df) "
   ]
  },
  {
   "cell_type": "code",
   "execution_count": 7,
   "metadata": {},
   "outputs": [],
   "source": [
    "#import spacy\n",
    "def clean_text(text):\n",
    "    '''Make text lowercase, remove text in square brackets, remove punctuation and remove words containing numbers.'''\n",
    "    text = text.lower()\n",
    "    text = re.sub(r'\\[.*?\\]', '', text)\n",
    "    text = re.sub(r'[%s]' % re.escape(string.punctuation), ' ', text)\n",
    "    text = re.sub(r'\\w*\\d\\w*', '', text)\n",
    "    text = text.replace('“', '').replace('”', '').replace('\"', '') \n",
    "    return text\n",
    "\n",
    "df_clean = pd.DataFrame(df.review_text.apply(lambda x: clean_text(x)))\n",
    "\n"
   ]
  },
  {
   "cell_type": "code",
   "execution_count": 8,
   "metadata": {},
   "outputs": [
    {
     "data": {
      "text/html": [
       "<div>\n",
       "<style scoped>\n",
       "    .dataframe tbody tr th:only-of-type {\n",
       "        vertical-align: middle;\n",
       "    }\n",
       "\n",
       "    .dataframe tbody tr th {\n",
       "        vertical-align: top;\n",
       "    }\n",
       "\n",
       "    .dataframe thead th {\n",
       "        text-align: right;\n",
       "    }\n",
       "</style>\n",
       "<table border=\"1\" class=\"dataframe\">\n",
       "  <thead>\n",
       "    <tr style=\"text-align: right;\">\n",
       "      <th></th>\n",
       "      <th>review_text</th>\n",
       "    </tr>\n",
       "  </thead>\n",
       "  <tbody>\n",
       "    <tr>\n",
       "      <th>0</th>\n",
       "      <td>a must see  when i was here last november it w...</td>\n",
       "    </tr>\n",
       "    <tr>\n",
       "      <th>1</th>\n",
       "      <td>from before christ to modern times    santo...</td>\n",
       "    </tr>\n",
       "    <tr>\n",
       "      <th>2</th>\n",
       "      <td>cusco the place to be cisco is a very nice and...</td>\n",
       "    </tr>\n",
       "    <tr>\n",
       "      <th>3</th>\n",
       "      <td>just the best thing to do on a warm sunny day ...</td>\n",
       "    </tr>\n",
       "    <tr>\n",
       "      <th>4</th>\n",
       "      <td>so many places to visit i̇stanbul was the capi...</td>\n",
       "    </tr>\n",
       "    <tr>\n",
       "      <th>5</th>\n",
       "      <td>great overview of the city this is a great val...</td>\n",
       "    </tr>\n",
       "    <tr>\n",
       "      <th>6</th>\n",
       "      <td>running routes as a seasoned runner  i have ru...</td>\n",
       "    </tr>\n",
       "    <tr>\n",
       "      <th>7</th>\n",
       "      <td>havana place to visit havana a must to visit w...</td>\n",
       "    </tr>\n",
       "    <tr>\n",
       "      <th>8</th>\n",
       "      <td>power nap provide relax in  minute providing e...</td>\n",
       "    </tr>\n",
       "    <tr>\n",
       "      <th>9</th>\n",
       "      <td>luxor tour hatshepsut temple  luxor  karnak  v...</td>\n",
       "    </tr>\n",
       "    <tr>\n",
       "      <th>10</th>\n",
       "      <td>half and half although we did in part enjoy ou...</td>\n",
       "    </tr>\n",
       "    <tr>\n",
       "      <th>11</th>\n",
       "      <td>sailing around sugar loaf  copa and ipanema   ...</td>\n",
       "    </tr>\n",
       "    <tr>\n",
       "      <th>12</th>\n",
       "      <td>salzburg is most accessible european city  sal...</td>\n",
       "    </tr>\n",
       "    <tr>\n",
       "      <th>13</th>\n",
       "      <td>beijing   good place to learn what happens whe...</td>\n",
       "    </tr>\n",
       "    <tr>\n",
       "      <th>14</th>\n",
       "      <td>incredibly nice one of the most beautiful citi...</td>\n",
       "    </tr>\n",
       "    <tr>\n",
       "      <th>15</th>\n",
       "      <td>amazing castle  from the outside the castle lo...</td>\n",
       "    </tr>\n",
       "    <tr>\n",
       "      <th>16</th>\n",
       "      <td>short staying in lisbon i liked very much the ...</td>\n",
       "    </tr>\n",
       "    <tr>\n",
       "      <th>17</th>\n",
       "      <td>berlin   salsa  last year i decided to visit g...</td>\n",
       "    </tr>\n",
       "  </tbody>\n",
       "</table>\n",
       "</div>"
      ],
      "text/plain": [
       "                                          review_text\n",
       "0   a must see  when i was here last november it w...\n",
       "1      from before christ to modern times    santo...\n",
       "2   cusco the place to be cisco is a very nice and...\n",
       "3   just the best thing to do on a warm sunny day ...\n",
       "4   so many places to visit i̇stanbul was the capi...\n",
       "5   great overview of the city this is a great val...\n",
       "6   running routes as a seasoned runner  i have ru...\n",
       "7   havana place to visit havana a must to visit w...\n",
       "8   power nap provide relax in  minute providing e...\n",
       "9   luxor tour hatshepsut temple  luxor  karnak  v...\n",
       "10  half and half although we did in part enjoy ou...\n",
       "11  sailing around sugar loaf  copa and ipanema   ...\n",
       "12  salzburg is most accessible european city  sal...\n",
       "13  beijing   good place to learn what happens whe...\n",
       "14  incredibly nice one of the most beautiful citi...\n",
       "15  amazing castle  from the outside the castle lo...\n",
       "16  short staying in lisbon i liked very much the ...\n",
       "17  berlin   salsa  last year i decided to visit g..."
      ]
     },
     "execution_count": 8,
     "metadata": {},
     "output_type": "execute_result"
    }
   ],
   "source": [
    "df_clean"
   ]
  },
  {
   "cell_type": "code",
   "execution_count": 9,
   "metadata": {},
   "outputs": [],
   "source": [
    "#nlp = spacy.load('en')\n",
    "nlp = spacy.load(\"en_core_web_sm\")\n",
    "def lemmatizer(text):        \n",
    "    sent = []\n",
    "    doc = nlp(text)\n",
    "    for word in doc:\n",
    "        sent.append(word.lemma_)\n",
    "    return \" \".join(sent)\n",
    "    \n",
    "df_clean[\"question_lemmatize\"] =  df_clean.apply(lambda x: lemmatizer(x['review_text']), axis=1)\n",
    "df_clean['question_lemmatize_clean'] = df_clean['question_lemmatize'].str.replace('-PRON-', '')"
   ]
  },
  {
   "cell_type": "code",
   "execution_count": 10,
   "metadata": {},
   "outputs": [
    {
     "data": {
      "text/html": [
       "<div>\n",
       "<style scoped>\n",
       "    .dataframe tbody tr th:only-of-type {\n",
       "        vertical-align: middle;\n",
       "    }\n",
       "\n",
       "    .dataframe tbody tr th {\n",
       "        vertical-align: top;\n",
       "    }\n",
       "\n",
       "    .dataframe thead th {\n",
       "        text-align: right;\n",
       "    }\n",
       "</style>\n",
       "<table border=\"1\" class=\"dataframe\">\n",
       "  <thead>\n",
       "    <tr style=\"text-align: right;\">\n",
       "      <th></th>\n",
       "      <th>review_text</th>\n",
       "      <th>question_lemmatize</th>\n",
       "      <th>question_lemmatize_clean</th>\n",
       "    </tr>\n",
       "  </thead>\n",
       "  <tbody>\n",
       "    <tr>\n",
       "      <th>0</th>\n",
       "      <td>a must see  when i was here last november it w...</td>\n",
       "      <td>a must see   when i be here last november -PRO...</td>\n",
       "      <td>a must see   when i be here last november  be ...</td>\n",
       "    </tr>\n",
       "    <tr>\n",
       "      <th>1</th>\n",
       "      <td>from before christ to modern times    santo...</td>\n",
       "      <td>from before christ to modern time     sant...</td>\n",
       "      <td>from before christ to modern time     sant...</td>\n",
       "    </tr>\n",
       "    <tr>\n",
       "      <th>2</th>\n",
       "      <td>cusco the place to be cisco is a very nice and...</td>\n",
       "      <td>cusco the place to be cisco be a very nice and...</td>\n",
       "      <td>cusco the place to be cisco be a very nice and...</td>\n",
       "    </tr>\n",
       "    <tr>\n",
       "      <th>3</th>\n",
       "      <td>just the best thing to do on a warm sunny day ...</td>\n",
       "      <td>just the good thing to do on a warm sunny day ...</td>\n",
       "      <td>just the good thing to do on a warm sunny day ...</td>\n",
       "    </tr>\n",
       "    <tr>\n",
       "      <th>4</th>\n",
       "      <td>so many places to visit i̇stanbul was the capi...</td>\n",
       "      <td>so many place to visit i̇stanbul be the capita...</td>\n",
       "      <td>so many place to visit i̇stanbul be the capita...</td>\n",
       "    </tr>\n",
       "    <tr>\n",
       "      <th>5</th>\n",
       "      <td>great overview of the city this is a great val...</td>\n",
       "      <td>great overview of the city this be a great val...</td>\n",
       "      <td>great overview of the city this be a great val...</td>\n",
       "    </tr>\n",
       "    <tr>\n",
       "      <th>6</th>\n",
       "      <td>running routes as a seasoned runner  i have ru...</td>\n",
       "      <td>run route as a season runner   i have run all ...</td>\n",
       "      <td>run route as a season runner   i have run all ...</td>\n",
       "    </tr>\n",
       "    <tr>\n",
       "      <th>7</th>\n",
       "      <td>havana place to visit havana a must to visit w...</td>\n",
       "      <td>havana place to visit havana a must to visit w...</td>\n",
       "      <td>havana place to visit havana a must to visit w...</td>\n",
       "    </tr>\n",
       "    <tr>\n",
       "      <th>8</th>\n",
       "      <td>power nap provide relax in  minute providing e...</td>\n",
       "      <td>power nap provide relax in   minute provide ev...</td>\n",
       "      <td>power nap provide relax in   minute provide ev...</td>\n",
       "    </tr>\n",
       "    <tr>\n",
       "      <th>9</th>\n",
       "      <td>luxor tour hatshepsut temple  luxor  karnak  v...</td>\n",
       "      <td>luxor tour hatshepsut temple   luxor   karnak ...</td>\n",
       "      <td>luxor tour hatshepsut temple   luxor   karnak ...</td>\n",
       "    </tr>\n",
       "    <tr>\n",
       "      <th>10</th>\n",
       "      <td>half and half although we did in part enjoy ou...</td>\n",
       "      <td>half and half although -PRON- do in part enjoy...</td>\n",
       "      <td>half and half although  do in part enjoy  holi...</td>\n",
       "    </tr>\n",
       "    <tr>\n",
       "      <th>11</th>\n",
       "      <td>sailing around sugar loaf  copa and ipanema   ...</td>\n",
       "      <td>sail around sugar loaf   copa and ipanema     ...</td>\n",
       "      <td>sail around sugar loaf   copa and ipanema     ...</td>\n",
       "    </tr>\n",
       "    <tr>\n",
       "      <th>12</th>\n",
       "      <td>salzburg is most accessible european city  sal...</td>\n",
       "      <td>salzburg be most accessible european city   sa...</td>\n",
       "      <td>salzburg be most accessible european city   sa...</td>\n",
       "    </tr>\n",
       "    <tr>\n",
       "      <th>13</th>\n",
       "      <td>beijing   good place to learn what happens whe...</td>\n",
       "      <td>beijing    good place to learn what happen whe...</td>\n",
       "      <td>beijing    good place to learn what happen whe...</td>\n",
       "    </tr>\n",
       "    <tr>\n",
       "      <th>14</th>\n",
       "      <td>incredibly nice one of the most beautiful citi...</td>\n",
       "      <td>incredibly nice one of the most beautiful city...</td>\n",
       "      <td>incredibly nice one of the most beautiful city...</td>\n",
       "    </tr>\n",
       "    <tr>\n",
       "      <th>15</th>\n",
       "      <td>amazing castle  from the outside the castle lo...</td>\n",
       "      <td>amazing castle   from the outside the castle l...</td>\n",
       "      <td>amazing castle   from the outside the castle l...</td>\n",
       "    </tr>\n",
       "    <tr>\n",
       "      <th>16</th>\n",
       "      <td>short staying in lisbon i liked very much the ...</td>\n",
       "      <td>short stay in lisbon i like very much the clea...</td>\n",
       "      <td>short stay in lisbon i like very much the clea...</td>\n",
       "    </tr>\n",
       "    <tr>\n",
       "      <th>17</th>\n",
       "      <td>berlin   salsa  last year i decided to visit g...</td>\n",
       "      <td>berlin    salsa   last year i decide to visit ...</td>\n",
       "      <td>berlin    salsa   last year i decide to visit ...</td>\n",
       "    </tr>\n",
       "  </tbody>\n",
       "</table>\n",
       "</div>"
      ],
      "text/plain": [
       "                                          review_text  \\\n",
       "0   a must see  when i was here last november it w...   \n",
       "1      from before christ to modern times    santo...   \n",
       "2   cusco the place to be cisco is a very nice and...   \n",
       "3   just the best thing to do on a warm sunny day ...   \n",
       "4   so many places to visit i̇stanbul was the capi...   \n",
       "5   great overview of the city this is a great val...   \n",
       "6   running routes as a seasoned runner  i have ru...   \n",
       "7   havana place to visit havana a must to visit w...   \n",
       "8   power nap provide relax in  minute providing e...   \n",
       "9   luxor tour hatshepsut temple  luxor  karnak  v...   \n",
       "10  half and half although we did in part enjoy ou...   \n",
       "11  sailing around sugar loaf  copa and ipanema   ...   \n",
       "12  salzburg is most accessible european city  sal...   \n",
       "13  beijing   good place to learn what happens whe...   \n",
       "14  incredibly nice one of the most beautiful citi...   \n",
       "15  amazing castle  from the outside the castle lo...   \n",
       "16  short staying in lisbon i liked very much the ...   \n",
       "17  berlin   salsa  last year i decided to visit g...   \n",
       "\n",
       "                                   question_lemmatize  \\\n",
       "0   a must see   when i be here last november -PRO...   \n",
       "1       from before christ to modern time     sant...   \n",
       "2   cusco the place to be cisco be a very nice and...   \n",
       "3   just the good thing to do on a warm sunny day ...   \n",
       "4   so many place to visit i̇stanbul be the capita...   \n",
       "5   great overview of the city this be a great val...   \n",
       "6   run route as a season runner   i have run all ...   \n",
       "7   havana place to visit havana a must to visit w...   \n",
       "8   power nap provide relax in   minute provide ev...   \n",
       "9   luxor tour hatshepsut temple   luxor   karnak ...   \n",
       "10  half and half although -PRON- do in part enjoy...   \n",
       "11  sail around sugar loaf   copa and ipanema     ...   \n",
       "12  salzburg be most accessible european city   sa...   \n",
       "13  beijing    good place to learn what happen whe...   \n",
       "14  incredibly nice one of the most beautiful city...   \n",
       "15  amazing castle   from the outside the castle l...   \n",
       "16  short stay in lisbon i like very much the clea...   \n",
       "17  berlin    salsa   last year i decide to visit ...   \n",
       "\n",
       "                             question_lemmatize_clean  \n",
       "0   a must see   when i be here last november  be ...  \n",
       "1       from before christ to modern time     sant...  \n",
       "2   cusco the place to be cisco be a very nice and...  \n",
       "3   just the good thing to do on a warm sunny day ...  \n",
       "4   so many place to visit i̇stanbul be the capita...  \n",
       "5   great overview of the city this be a great val...  \n",
       "6   run route as a season runner   i have run all ...  \n",
       "7   havana place to visit havana a must to visit w...  \n",
       "8   power nap provide relax in   minute provide ev...  \n",
       "9   luxor tour hatshepsut temple   luxor   karnak ...  \n",
       "10  half and half although  do in part enjoy  holi...  \n",
       "11  sail around sugar loaf   copa and ipanema     ...  \n",
       "12  salzburg be most accessible european city   sa...  \n",
       "13  beijing    good place to learn what happen whe...  \n",
       "14  incredibly nice one of the most beautiful city...  \n",
       "15  amazing castle   from the outside the castle l...  \n",
       "16  short stay in lisbon i like very much the clea...  \n",
       "17  berlin    salsa   last year i decide to visit ...  "
      ]
     },
     "execution_count": 10,
     "metadata": {},
     "output_type": "execute_result"
    }
   ],
   "source": [
    "df_clean"
   ]
  },
  {
   "cell_type": "code",
   "execution_count": 11,
   "metadata": {},
   "outputs": [
    {
     "data": {
      "image/png": "[encoded data removed]",
      "text/plain": [
       "<Figure size 720x432 with 1 Axes>"
      ]
     },
     "metadata": {
      "needs_background": "light"
     },
     "output_type": "display_data"
    }
   ],
   "source": [
    "plt.figure(figsize=(10,6))\n",
    "doc_lens = [len(d) for d in df_clean.question_lemmatize_clean]\n",
    "plt.hist(doc_lens, bins = 100)\n",
    "plt.title('Distribution of corpus character length')\n",
    "plt.ylabel('Number of corpora')\n",
    "plt.xlabel('Corpus character length')\n",
    "#sns.despine()\n",
    "plt.show()"
   ]
  },
  {
   "cell_type": "code",
   "execution_count": 57,
   "metadata": {},
   "outputs": [
    {
     "name": "stdout",
     "output_type": "stream",
     "text": [
      "<wordcloud.wordcloud.WordCloud object at 0x7f9081e74a00>\n"
     ]
    },
    {
     "data": {
      "image/png": "[encoded data removed]",
      "text/plain": [
       "<Figure size 864x864 with 1 Axes>"
      ]
     },
     "metadata": {
      "needs_background": "light"
     },
     "output_type": "display_data"
    }
   ],
   "source": [
    "\n",
    "import matplotlib as mpl\n",
    "import matplotlib.pyplot as plt\n",
    "%matplotlib inline\n",
    "\n",
    "from subprocess import check_output\n",
    "from wordcloud import WordCloud, STOPWORDS\n",
    "\n",
    "mpl.rcParams['figure.figsize']=(12.0,12.0)  \n",
    "mpl.rcParams['font.size']=12            \n",
    "mpl.rcParams['savefig.dpi']=100             \n",
    "mpl.rcParams['figure.subplot.bottom']=.1 \n",
    "stopwords = set(STOPWORDS)\n",
    "\n",
    "wordcloud = WordCloud(\n",
    "                          background_color='white',\n",
    "                          stopwords=stopwords,\n",
    "                          max_words=500,\n",
    "                          max_font_size=40, \n",
    "                          random_state=42\n",
    "                         ).generate(str(df_clean['question_lemmatize_clean']))\n",
    "\n",
    "print(wordcloud)\n",
    "fig = plt.figure(1)\n",
    "plt.imshow(wordcloud)\n",
    "plt.axis('off')\n",
    "plt.show();"
   ]
  },
  {
   "cell_type": "code",
   "execution_count": 59,
   "metadata": {},
   "outputs": [
    {
     "data": {
      "application/vnd.plotly.v1+json": {
       "config": {
        "plotlyServerURL": "https://plot.ly"
       },
       "data": [
        {
         "type": "bar",
         "x": [
          "city",
          "day",
          "good",
          "place",
          "great",
          "tour",
          "visit",
          "time",
          "hotel",
          "just",
          "people",
          "trip",
          "walk",
          "make",
          "like",
          "stay",
          "beautiful",
          "food",
          "guide",
          "restaurant",
          "street",
          "want",
          "travel",
          "experience",
          "lot",
          "way",
          "bus",
          "really",
          "shop",
          "view"
         ],
         "y": [
          2948,
          2230,
          2059,
          1801,
          1794,
          1737,
          1722,
          1667,
          1461,
          1423,
          1372,
          1346,
          1227,
          1093,
          1073,
          1028,
          966,
          960,
          854,
          853,
          799,
          787,
          783,
          775,
          743,
          741,
          737,
          708,
          692,
          691
         ]
        }
       ],
       "layout": {
        "template": {
         "data": {
          "bar": [
           {
            "error_x": {
             "color": "#2a3f5f"
            },
            "error_y": {
             "color": "#2a3f5f"
            },
            "marker": {
             "line": {
              "color": "#E5ECF6",
              "width": 0.5
             }
            },
            "type": "bar"
           }
          ],
          "barpolar": [
           {
            "marker": {
             "line": {
              "color": "#E5ECF6",
              "width": 0.5
             }
            },
            "type": "barpolar"
           }
          ],
          "carpet": [
           {
            "aaxis": {
             "endlinecolor": "#2a3f5f",
             "gridcolor": "white",
             "linecolor": "white",
             "minorgridcolor": "white",
             "startlinecolor": "#2a3f5f"
            },
            "baxis": {
             "endlinecolor": "#2a3f5f",
             "gridcolor": "white",
             "linecolor": "white",
             "minorgridcolor": "white",
             "startlinecolor": "#2a3f5f"
            },
            "type": "carpet"
           }
          ],
          "choropleth": [
           {
            "colorbar": {
             "outlinewidth": 0,
             "ticks": ""
            },
            "type": "choropleth"
           }
          ],
          "contour": [
           {
            "colorbar": {
             "outlinewidth": 0,
             "ticks": ""
            },
            "colorscale": [
             [
              0,
              "#0d0887"
             ],
             [
              0.1111111111111111,
              "#46039f"
             ],
             [
              0.2222222222222222,
              "#7201a8"
             ],
             [
              0.3333333333333333,
              "#9c179e"
             ],
             [
              0.4444444444444444,
              "#bd3786"
             ],
             [
              0.5555555555555556,
              "#d8576b"
             ],
             [
              0.6666666666666666,
              "#ed7953"
             ],
             [
              0.7777777777777778,
              "#fb9f3a"
             ],
             [
              0.8888888888888888,
              "#fdca26"
             ],
             [
              1,
              "#f0f921"
             ]
            ],
            "type": "contour"
           }
          ],
          "contourcarpet": [
           {
            "colorbar": {
             "outlinewidth": 0,
             "ticks": ""
            },
            "type": "contourcarpet"
           }
          ],
          "heatmap": [
           {
            "colorbar": {
             "outlinewidth": 0,
             "ticks": ""
            },
            "colorscale": [
             [
              0,
              "#0d0887"
             ],
             [
              0.1111111111111111,
              "#46039f"
             ],
             [
              0.2222222222222222,
              "#7201a8"
             ],
             [
              0.3333333333333333,
              "#9c179e"
             ],
             [
              0.4444444444444444,
              "#bd3786"
             ],
             [
              0.5555555555555556,
              "#d8576b"
             ],
             [
              0.6666666666666666,
              "#ed7953"
             ],
             [
              0.7777777777777778,
              "#fb9f3a"
             ],
             [
              0.8888888888888888,
              "#fdca26"
             ],
             [
              1,
              "#f0f921"
             ]
            ],
            "type": "heatmap"
           }
          ],
          "heatmapgl": [
           {
            "colorbar": {
             "outlinewidth": 0,
             "ticks": ""
            },
            "colorscale": [
             [
              0,
              "#0d0887"
             ],
             [
              0.1111111111111111,
              "#46039f"
             ],
             [
              0.2222222222222222,
              "#7201a8"
             ],
             [
              0.3333333333333333,
              "#9c179e"
             ],
             [
              0.4444444444444444,
              "#bd3786"
             ],
             [
              0.5555555555555556,
              "#d8576b"
             ],
             [
              0.6666666666666666,
              "#ed7953"
             ],
             [
              0.7777777777777778,
              "#fb9f3a"
             ],
             [
              0.8888888888888888,
              "#fdca26"
             ],
             [
              1,
              "#f0f921"
             ]
            ],
            "type": "heatmapgl"
           }
          ],
          "histogram": [
           {
            "marker": {
             "colorbar": {
              "outlinewidth": 0,
              "ticks": ""
             }
            },
            "type": "histogram"
           }
          ],
          "histogram2d": [
           {
            "colorbar": {
             "outlinewidth": 0,
             "ticks": ""
            },
            "colorscale": [
             [
              0,
              "#0d0887"
             ],
             [
              0.1111111111111111,
              "#46039f"
             ],
             [
              0.2222222222222222,
              "#7201a8"
             ],
             [
              0.3333333333333333,
              "#9c179e"
             ],
             [
              0.4444444444444444,
              "#bd3786"
             ],
             [
              0.5555555555555556,
              "#d8576b"
             ],
             [
              0.6666666666666666,
              "#ed7953"
             ],
             [
              0.7777777777777778,
              "#fb9f3a"
             ],
             [
              0.8888888888888888,
              "#fdca26"
             ],
             [
              1,
              "#f0f921"
             ]
            ],
            "type": "histogram2d"
           }
          ],
          "histogram2dcontour": [
           {
            "colorbar": {
             "outlinewidth": 0,
             "ticks": ""
            },
            "colorscale": [
             [
              0,
              "#0d0887"
             ],
             [
              0.1111111111111111,
              "#46039f"
             ],
             [
              0.2222222222222222,
              "#7201a8"
             ],
             [
              0.3333333333333333,
              "#9c179e"
             ],
             [
              0.4444444444444444,
              "#bd3786"
             ],
             [
              0.5555555555555556,
              "#d8576b"
             ],
             [
              0.6666666666666666,
              "#ed7953"
             ],
             [
              0.7777777777777778,
              "#fb9f3a"
             ],
             [
              0.8888888888888888,
              "#fdca26"
             ],
             [
              1,
              "#f0f921"
             ]
            ],
            "type": "histogram2dcontour"
           }
          ],
          "mesh3d": [
           {
            "colorbar": {
             "outlinewidth": 0,
             "ticks": ""
            },
            "type": "mesh3d"
           }
          ],
          "parcoords": [
           {
            "line": {
             "colorbar": {
              "outlinewidth": 0,
              "ticks": ""
             }
            },
            "type": "parcoords"
           }
          ],
          "pie": [
           {
            "automargin": true,
            "type": "pie"
           }
          ],
          "scatter": [
           {
            "marker": {
             "colorbar": {
              "outlinewidth": 0,
              "ticks": ""
             }
            },
            "type": "scatter"
           }
          ],
          "scatter3d": [
           {
            "line": {
             "colorbar": {
              "outlinewidth": 0,
              "ticks": ""
             }
            },
            "marker": {
             "colorbar": {
              "outlinewidth": 0,
              "ticks": ""
             }
            },
            "type": "scatter3d"
           }
          ],
          "scattercarpet": [
           {
            "marker": {
             "colorbar": {
              "outlinewidth": 0,
              "ticks": ""
             }
            },
            "type": "scattercarpet"
           }
          ],
          "scattergeo": [
           {
            "marker": {
             "colorbar": {
              "outlinewidth": 0,
              "ticks": ""
             }
            },
            "type": "scattergeo"
           }
          ],
          "scattergl": [
           {
            "marker": {
             "colorbar": {
              "outlinewidth": 0,
              "ticks": ""
             }
            },
            "type": "scattergl"
           }
          ],
          "scattermapbox": [
           {
            "marker": {
             "colorbar": {
              "outlinewidth": 0,
              "ticks": ""
             }
            },
            "type": "scattermapbox"
           }
          ],
          "scatterpolar": [
           {
            "marker": {
             "colorbar": {
              "outlinewidth": 0,
              "ticks": ""
             }
            },
            "type": "scatterpolar"
           }
          ],
          "scatterpolargl": [
           {
            "marker": {
             "colorbar": {
              "outlinewidth": 0,
              "ticks": ""
             }
            },
            "type": "scatterpolargl"
           }
          ],
          "scatterternary": [
           {
            "marker": {
             "colorbar": {
              "outlinewidth": 0,
              "ticks": ""
             }
            },
            "type": "scatterternary"
           }
          ],
          "surface": [
           {
            "colorbar": {
             "outlinewidth": 0,
             "ticks": ""
            },
            "colorscale": [
             [
              0,
              "#0d0887"
             ],
             [
              0.1111111111111111,
              "#46039f"
             ],
             [
              0.2222222222222222,
              "#7201a8"
             ],
             [
              0.3333333333333333,
              "#9c179e"
             ],
             [
              0.4444444444444444,
              "#bd3786"
             ],
             [
              0.5555555555555556,
              "#d8576b"
             ],
             [
              0.6666666666666666,
              "#ed7953"
             ],
             [
              0.7777777777777778,
              "#fb9f3a"
             ],
             [
              0.8888888888888888,
              "#fdca26"
             ],
             [
              1,
              "#f0f921"
             ]
            ],
            "type": "surface"
           }
          ],
          "table": [
           {
            "cells": {
             "fill": {
              "color": "#EBF0F8"
             },
             "line": {
              "color": "white"
             }
            },
            "header": {
             "fill": {
              "color": "#C8D4E3"
             },
             "line": {
              "color": "white"
             }
            },
            "type": "table"
           }
          ]
         },
         "layout": {
          "annotationdefaults": {
           "arrowcolor": "#2a3f5f",
           "arrowhead": 0,
           "arrowwidth": 1
          },
          "coloraxis": {
           "colorbar": {
            "outlinewidth": 0,
            "ticks": ""
           }
          },
          "colorscale": {
           "diverging": [
            [
             0,
             "#8e0152"
            ],
            [
             0.1,
             "#c51b7d"
            ],
            [
             0.2,
             "#de77ae"
            ],
            [
             0.3,
             "#f1b6da"
            ],
            [
             0.4,
             "#fde0ef"
            ],
            [
             0.5,
             "#f7f7f7"
            ],
            [
             0.6,
             "#e6f5d0"
            ],
            [
             0.7,
             "#b8e186"
            ],
            [
             0.8,
             "#7fbc41"
            ],
            [
             0.9,
             "#4d9221"
            ],
            [
             1,
             "#276419"
            ]
           ],
           "sequential": [
            [
             0,
             "#0d0887"
            ],
            [
             0.1111111111111111,
             "#46039f"
            ],
            [
             0.2222222222222222,
             "#7201a8"
            ],
            [
             0.3333333333333333,
             "#9c179e"
            ],
            [
             0.4444444444444444,
             "#bd3786"
            ],
            [
             0.5555555555555556,
             "#d8576b"
            ],
            [
             0.6666666666666666,
             "#ed7953"
            ],
            [
             0.7777777777777778,
             "#fb9f3a"
            ],
            [
             0.8888888888888888,
             "#fdca26"
            ],
            [
             1,
             "#f0f921"
            ]
           ],
           "sequentialminus": [
            [
             0,
             "#0d0887"
            ],
            [
             0.1111111111111111,
             "#46039f"
            ],
            [
             0.2222222222222222,
             "#7201a8"
            ],
            [
             0.3333333333333333,
             "#9c179e"
            ],
            [
             0.4444444444444444,
             "#bd3786"
            ],
            [
             0.5555555555555556,
             "#d8576b"
            ],
            [
             0.6666666666666666,
             "#ed7953"
            ],
            [
             0.7777777777777778,
             "#fb9f3a"
            ],
            [
             0.8888888888888888,
             "#fdca26"
            ],
            [
             1,
             "#f0f921"
            ]
           ]
          },
          "colorway": [
           "#636efa",
           "#EF553B",
           "#00cc96",
           "#ab63fa",
           "#FFA15A",
           "#19d3f3",
           "#FF6692",
           "#B6E880",
           "#FF97FF",
           "#FECB52"
          ],
          "font": {
           "color": "#2a3f5f"
          },
          "geo": {
           "bgcolor": "white",
           "lakecolor": "white",
           "landcolor": "#E5ECF6",
           "showlakes": true,
           "showland": true,
           "subunitcolor": "white"
          },
          "hoverlabel": {
           "align": "left"
          },
          "hovermode": "closest",
          "mapbox": {
           "style": "light"
          },
          "paper_bgcolor": "white",
          "plot_bgcolor": "#E5ECF6",
          "polar": {
           "angularaxis": {
            "gridcolor": "white",
            "linecolor": "white",
            "ticks": ""
           },
           "bgcolor": "#E5ECF6",
           "radialaxis": {
            "gridcolor": "white",
            "linecolor": "white",
            "ticks": ""
           }
          },
          "scene": {
           "xaxis": {
            "backgroundcolor": "#E5ECF6",
            "gridcolor": "white",
            "gridwidth": 2,
            "linecolor": "white",
            "showbackground": true,
            "ticks": "",
            "zerolinecolor": "white"
           },
           "yaxis": {
            "backgroundcolor": "#E5ECF6",
            "gridcolor": "white",
            "gridwidth": 2,
            "linecolor": "white",
            "showbackground": true,
            "ticks": "",
            "zerolinecolor": "white"
           },
           "zaxis": {
            "backgroundcolor": "#E5ECF6",
            "gridcolor": "white",
            "gridwidth": 2,
            "linecolor": "white",
            "showbackground": true,
            "ticks": "",
            "zerolinecolor": "white"
           }
          },
          "shapedefaults": {
           "line": {
            "color": "#2a3f5f"
           }
          },
          "ternary": {
           "aaxis": {
            "gridcolor": "white",
            "linecolor": "white",
            "ticks": ""
           },
           "baxis": {
            "gridcolor": "white",
            "linecolor": "white",
            "ticks": ""
           },
           "bgcolor": "#E5ECF6",
           "caxis": {
            "gridcolor": "white",
            "linecolor": "white",
            "ticks": ""
           }
          },
          "title": {
           "x": 0.05
          },
          "xaxis": {
           "automargin": true,
           "gridcolor": "white",
           "linecolor": "white",
           "ticks": "",
           "title": {
            "standoff": 15
           },
           "zerolinecolor": "white",
           "zerolinewidth": 2
          },
          "yaxis": {
           "automargin": true,
           "gridcolor": "white",
           "linecolor": "white",
           "ticks": "",
           "title": {
            "standoff": 15
           },
           "zerolinecolor": "white",
           "zerolinewidth": 2
          }
         }
        },
        "title": {
         "text": "Top 30 unigrams in the question text after removing stop words and lemmatization"
        }
       }
      },
      "text/html": [
       "<div>\n",
       "        \n",
       "        \n",
       "            <div id=\"dc8ece31-9503-4097-a905-fc5ffae28eba\" class=\"plotly-graph-div\" style=\"height:525px; width:100%;\"></div>\n",
       "            <script type=\"text/javascript\">\n",
       "                require([\"plotly\"], function(Plotly) {\n",
       "                    window.PLOTLYENV=window.PLOTLYENV || {};\n",
       "                    \n",
       "                if (document.getElementById(\"dc8ece31-9503-4097-a905-fc5ffae28eba\")) {\n",
       "                    Plotly.newPlot(\n",
       "                        'dc8ece31-9503-4097-a905-fc5ffae28eba',\n",
       "                        [{\"type\": \"bar\", \"x\": [\"city\", \"day\", \"good\", \"place\", \"great\", \"tour\", \"visit\", \"time\", \"hotel\", \"just\", \"people\", \"trip\", \"walk\", \"make\", \"like\", \"stay\", \"beautiful\", \"food\", \"guide\", \"restaurant\", \"street\", \"want\", \"travel\", \"experience\", \"lot\", \"way\", \"bus\", \"really\", \"shop\", \"view\"], \"y\": [2948, 2230, 2059, 1801, 1794, 1737, 1722, 1667, 1461, 1423, 1372, 1346, 1227, 1093, 1073, 1028, 966, 960, 854, 853, 799, 787, 783, 775, 743, 741, 737, 708, 692, 691]}],\n",
       "                        {\"template\": {\"data\": {\"bar\": [{\"error_x\": {\"color\": \"#2a3f5f\"}, \"error_y\": {\"color\": \"#2a3f5f\"}, \"marker\": {\"line\": {\"color\": \"#E5ECF6\", \"width\": 0.5}}, \"type\": \"bar\"}], \"barpolar\": [{\"marker\": {\"line\": {\"color\": \"#E5ECF6\", \"width\": 0.5}}, \"type\": \"barpolar\"}], \"carpet\": [{\"aaxis\": {\"endlinecolor\": \"#2a3f5f\", \"gridcolor\": \"white\", \"linecolor\": \"white\", \"minorgridcolor\": \"white\", \"startlinecolor\": \"#2a3f5f\"}, \"baxis\": {\"endlinecolor\": \"#2a3f5f\", \"gridcolor\": \"white\", \"linecolor\": \"white\", \"minorgridcolor\": \"white\", \"startlinecolor\": \"#2a3f5f\"}, \"type\": \"carpet\"}], \"choropleth\": [{\"colorbar\": {\"outlinewidth\": 0, \"ticks\": \"\"}, \"type\": \"choropleth\"}], \"contour\": [{\"colorbar\": {\"outlinewidth\": 0, \"ticks\": \"\"}, \"colorscale\": [[0.0, \"#0d0887\"], [0.1111111111111111, \"#46039f\"], [0.2222222222222222, \"#7201a8\"], [0.3333333333333333, \"#9c179e\"], [0.4444444444444444, \"#bd3786\"], [0.5555555555555556, \"#d8576b\"], [0.6666666666666666, \"#ed7953\"], [0.7777777777777778, \"#fb9f3a\"], [0.8888888888888888, \"#fdca26\"], [1.0, \"#f0f921\"]], \"type\": \"contour\"}], \"contourcarpet\": [{\"colorbar\": {\"outlinewidth\": 0, \"ticks\": \"\"}, \"type\": \"contourcarpet\"}], \"heatmap\": [{\"colorbar\": {\"outlinewidth\": 0, \"ticks\": \"\"}, \"colorscale\": [[0.0, \"#0d0887\"], [0.1111111111111111, \"#46039f\"], [0.2222222222222222, \"#7201a8\"], [0.3333333333333333, \"#9c179e\"], [0.4444444444444444, \"#bd3786\"], [0.5555555555555556, \"#d8576b\"], [0.6666666666666666, \"#ed7953\"], [0.7777777777777778, \"#fb9f3a\"], [0.8888888888888888, \"#fdca26\"], [1.0, \"#f0f921\"]], \"type\": \"heatmap\"}], \"heatmapgl\": [{\"colorbar\": {\"outlinewidth\": 0, \"ticks\": \"\"}, \"colorscale\": [[0.0, \"#0d0887\"], [0.1111111111111111, \"#46039f\"], [0.2222222222222222, \"#7201a8\"], [0.3333333333333333, \"#9c179e\"], [0.4444444444444444, \"#bd3786\"], [0.5555555555555556, \"#d8576b\"], [0.6666666666666666, \"#ed7953\"], [0.7777777777777778, \"#fb9f3a\"], [0.8888888888888888, \"#fdca26\"], [1.0, \"#f0f921\"]], \"type\": \"heatmapgl\"}], \"histogram\": [{\"marker\": {\"colorbar\": {\"outlinewidth\": 0, \"ticks\": \"\"}}, \"type\": \"histogram\"}], \"histogram2d\": [{\"colorbar\": {\"outlinewidth\": 0, \"ticks\": \"\"}, \"colorscale\": [[0.0, \"#0d0887\"], [0.1111111111111111, \"#46039f\"], [0.2222222222222222, \"#7201a8\"], [0.3333333333333333, \"#9c179e\"], [0.4444444444444444, \"#bd3786\"], [0.5555555555555556, \"#d8576b\"], [0.6666666666666666, \"#ed7953\"], [0.7777777777777778, \"#fb9f3a\"], [0.8888888888888888, \"#fdca26\"], [1.0, \"#f0f921\"]], \"type\": \"histogram2d\"}], \"histogram2dcontour\": [{\"colorbar\": {\"outlinewidth\": 0, \"ticks\": \"\"}, \"colorscale\": [[0.0, \"#0d0887\"], [0.1111111111111111, \"#46039f\"], [0.2222222222222222, \"#7201a8\"], [0.3333333333333333, \"#9c179e\"], [0.4444444444444444, \"#bd3786\"], [0.5555555555555556, \"#d8576b\"], [0.6666666666666666, \"#ed7953\"], [0.7777777777777778, \"#fb9f3a\"], [0.8888888888888888, \"#fdca26\"], [1.0, \"#f0f921\"]], \"type\": \"histogram2dcontour\"}], \"mesh3d\": [{\"colorbar\": {\"outlinewidth\": 0, \"ticks\": \"\"}, \"type\": \"mesh3d\"}], \"parcoords\": [{\"line\": {\"colorbar\": {\"outlinewidth\": 0, \"ticks\": \"\"}}, \"type\": \"parcoords\"}], \"pie\": [{\"automargin\": true, \"type\": \"pie\"}], \"scatter\": [{\"marker\": {\"colorbar\": {\"outlinewidth\": 0, \"ticks\": \"\"}}, \"type\": \"scatter\"}], \"scatter3d\": [{\"line\": {\"colorbar\": {\"outlinewidth\": 0, \"ticks\": \"\"}}, \"marker\": {\"colorbar\": {\"outlinewidth\": 0, \"ticks\": \"\"}}, \"type\": \"scatter3d\"}], \"scattercarpet\": [{\"marker\": {\"colorbar\": {\"outlinewidth\": 0, \"ticks\": \"\"}}, \"type\": \"scattercarpet\"}], \"scattergeo\": [{\"marker\": {\"colorbar\": {\"outlinewidth\": 0, \"ticks\": \"\"}}, \"type\": \"scattergeo\"}], \"scattergl\": [{\"marker\": {\"colorbar\": {\"outlinewidth\": 0, \"ticks\": \"\"}}, \"type\": \"scattergl\"}], \"scattermapbox\": [{\"marker\": {\"colorbar\": {\"outlinewidth\": 0, \"ticks\": \"\"}}, \"type\": \"scattermapbox\"}], \"scatterpolar\": [{\"marker\": {\"colorbar\": {\"outlinewidth\": 0, \"ticks\": \"\"}}, \"type\": \"scatterpolar\"}], \"scatterpolargl\": [{\"marker\": {\"colorbar\": {\"outlinewidth\": 0, \"ticks\": \"\"}}, \"type\": \"scatterpolargl\"}], \"scatterternary\": [{\"marker\": {\"colorbar\": {\"outlinewidth\": 0, \"ticks\": \"\"}}, \"type\": \"scatterternary\"}], \"surface\": [{\"colorbar\": {\"outlinewidth\": 0, \"ticks\": \"\"}, \"colorscale\": [[0.0, \"#0d0887\"], [0.1111111111111111, \"#46039f\"], [0.2222222222222222, \"#7201a8\"], [0.3333333333333333, \"#9c179e\"], [0.4444444444444444, \"#bd3786\"], [0.5555555555555556, \"#d8576b\"], [0.6666666666666666, \"#ed7953\"], [0.7777777777777778, \"#fb9f3a\"], [0.8888888888888888, \"#fdca26\"], [1.0, \"#f0f921\"]], \"type\": \"surface\"}], \"table\": [{\"cells\": {\"fill\": {\"color\": \"#EBF0F8\"}, \"line\": {\"color\": \"white\"}}, \"header\": {\"fill\": {\"color\": \"#C8D4E3\"}, \"line\": {\"color\": \"white\"}}, \"type\": \"table\"}]}, \"layout\": {\"annotationdefaults\": {\"arrowcolor\": \"#2a3f5f\", \"arrowhead\": 0, \"arrowwidth\": 1}, \"coloraxis\": {\"colorbar\": {\"outlinewidth\": 0, \"ticks\": \"\"}}, \"colorscale\": {\"diverging\": [[0, \"#8e0152\"], [0.1, \"#c51b7d\"], [0.2, \"#de77ae\"], [0.3, \"#f1b6da\"], [0.4, \"#fde0ef\"], [0.5, \"#f7f7f7\"], [0.6, \"#e6f5d0\"], [0.7, \"#b8e186\"], [0.8, \"#7fbc41\"], [0.9, \"#4d9221\"], [1, \"#276419\"]], \"sequential\": [[0.0, \"#0d0887\"], [0.1111111111111111, \"#46039f\"], [0.2222222222222222, \"#7201a8\"], [0.3333333333333333, \"#9c179e\"], [0.4444444444444444, \"#bd3786\"], [0.5555555555555556, \"#d8576b\"], [0.6666666666666666, \"#ed7953\"], [0.7777777777777778, \"#fb9f3a\"], [0.8888888888888888, \"#fdca26\"], [1.0, \"#f0f921\"]], \"sequentialminus\": [[0.0, \"#0d0887\"], [0.1111111111111111, \"#46039f\"], [0.2222222222222222, \"#7201a8\"], [0.3333333333333333, \"#9c179e\"], [0.4444444444444444, \"#bd3786\"], [0.5555555555555556, \"#d8576b\"], [0.6666666666666666, \"#ed7953\"], [0.7777777777777778, \"#fb9f3a\"], [0.8888888888888888, \"#fdca26\"], [1.0, \"#f0f921\"]]}, \"colorway\": [\"#636efa\", \"#EF553B\", \"#00cc96\", \"#ab63fa\", \"#FFA15A\", \"#19d3f3\", \"#FF6692\", \"#B6E880\", \"#FF97FF\", \"#FECB52\"], \"font\": {\"color\": \"#2a3f5f\"}, \"geo\": {\"bgcolor\": \"white\", \"lakecolor\": \"white\", \"landcolor\": \"#E5ECF6\", \"showlakes\": true, \"showland\": true, \"subunitcolor\": \"white\"}, \"hoverlabel\": {\"align\": \"left\"}, \"hovermode\": \"closest\", \"mapbox\": {\"style\": \"light\"}, \"paper_bgcolor\": \"white\", \"plot_bgcolor\": \"#E5ECF6\", \"polar\": {\"angularaxis\": {\"gridcolor\": \"white\", \"linecolor\": \"white\", \"ticks\": \"\"}, \"bgcolor\": \"#E5ECF6\", \"radialaxis\": {\"gridcolor\": \"white\", \"linecolor\": \"white\", \"ticks\": \"\"}}, \"scene\": {\"xaxis\": {\"backgroundcolor\": \"#E5ECF6\", \"gridcolor\": \"white\", \"gridwidth\": 2, \"linecolor\": \"white\", \"showbackground\": true, \"ticks\": \"\", \"zerolinecolor\": \"white\"}, \"yaxis\": {\"backgroundcolor\": \"#E5ECF6\", \"gridcolor\": \"white\", \"gridwidth\": 2, \"linecolor\": \"white\", \"showbackground\": true, \"ticks\": \"\", \"zerolinecolor\": \"white\"}, \"zaxis\": {\"backgroundcolor\": \"#E5ECF6\", \"gridcolor\": \"white\", \"gridwidth\": 2, \"linecolor\": \"white\", \"showbackground\": true, \"ticks\": \"\", \"zerolinecolor\": \"white\"}}, \"shapedefaults\": {\"line\": {\"color\": \"#2a3f5f\"}}, \"ternary\": {\"aaxis\": {\"gridcolor\": \"white\", \"linecolor\": \"white\", \"ticks\": \"\"}, \"baxis\": {\"gridcolor\": \"white\", \"linecolor\": \"white\", \"ticks\": \"\"}, \"bgcolor\": \"#E5ECF6\", \"caxis\": {\"gridcolor\": \"white\", \"linecolor\": \"white\", \"ticks\": \"\"}}, \"title\": {\"x\": 0.05}, \"xaxis\": {\"automargin\": true, \"gridcolor\": \"white\", \"linecolor\": \"white\", \"ticks\": \"\", \"title\": {\"standoff\": 15}, \"zerolinecolor\": \"white\", \"zerolinewidth\": 2}, \"yaxis\": {\"automargin\": true, \"gridcolor\": \"white\", \"linecolor\": \"white\", \"ticks\": \"\", \"title\": {\"standoff\": 15}, \"zerolinecolor\": \"white\", \"zerolinewidth\": 2}}}, \"title\": {\"text\": \"Top 30 unigrams in the question text after removing stop words and lemmatization\"}},\n",
       "                        {\"responsive\": true}\n",
       "                    ).then(function(){\n",
       "                            \n",
       "var gd = document.getElementById('dc8ece31-9503-4097-a905-fc5ffae28eba');\n",
       "var x = new MutationObserver(function (mutations, observer) {{\n",
       "        var display = window.getComputedStyle(gd).display;\n",
       "        if (!display || display === 'none') {{\n",
       "            console.log([gd, 'removed!']);\n",
       "            Plotly.purge(gd);\n",
       "            observer.disconnect();\n",
       "        }}\n",
       "}});\n",
       "\n",
       "// Listen for the removal of the full notebook cells\n",
       "var notebookContainer = gd.closest('#notebook-container');\n",
       "if (notebookContainer) {{\n",
       "    x.observe(notebookContainer, {childList: true});\n",
       "}}\n",
       "\n",
       "// Listen for the clearing of the current output cell\n",
       "var outputEl = gd.closest('.output');\n",
       "if (outputEl) {{\n",
       "    x.observe(outputEl, {childList: true});\n",
       "}}\n",
       "\n",
       "                        })\n",
       "                };\n",
       "                });\n",
       "            </script>\n",
       "        </div>"
      ]
     },
     "metadata": {},
     "output_type": "display_data"
    }
   ],
   "source": [
    "def get_top_n_words(corpus, n=None):\n",
    "    vec = CountVectorizer(stop_words='english').fit(corpus)\n",
    "    bag_of_words = vec.transform(corpus)\n",
    "    sum_words = bag_of_words.sum(axis=0) \n",
    "    words_freq = [(word, sum_words[0, idx]) for word, idx in vec.vocabulary_.items()]\n",
    "    words_freq =sorted(words_freq, key = lambda x: x[1], reverse=True)\n",
    "    return words_freq[:n]\n",
    "common_words = get_top_n_words(df_clean['question_lemmatize_clean'], 30)\n",
    "df2 = pd.DataFrame(common_words, columns = ['unigram' , 'count'])\n",
    "\n",
    "fig = go.Figure([go.Bar(x=df2['unigram'], y=df2['count'])])\n",
    "fig.update_layout(title=go.layout.Title(text=\"Top 30 unigrams in the question text after removing stop words and lemmatization\"))\n",
    "fig.show()"
   ]
  },
  {
   "cell_type": "code",
   "execution_count": 60,
   "metadata": {},
   "outputs": [
    {
     "data": {
      "application/vnd.plotly.v1+json": {
       "config": {
        "plotlyServerURL": "https://plot.ly"
       },
       "data": [
        {
         "type": "bar",
         "x": [
          "beach",
          "florence",
          "istanbul",
          "island",
          "berlin",
          "luxor",
          "st",
          "beijing",
          "sydney",
          "edinburgh",
          "santorini",
          "wall",
          "blue",
          "square",
          "temple",
          "rio",
          "wine",
          "boat",
          "havana",
          "phuket",
          "mountain",
          "cape",
          "mosque",
          "petersburg",
          "ferry",
          "church",
          "salzburg",
          "bridge",
          "euro",
          "cusco"
         ],
         "y": [
          612,
          559,
          538,
          494,
          493,
          409,
          380,
          375,
          364,
          346,
          313,
          295,
          289,
          288,
          286,
          285,
          281,
          253,
          253,
          251,
          251,
          228,
          221,
          221,
          219,
          219,
          219,
          217,
          212,
          207
         ]
        }
       ],
       "layout": {
        "template": {
         "data": {
          "bar": [
           {
            "error_x": {
             "color": "#2a3f5f"
            },
            "error_y": {
             "color": "#2a3f5f"
            },
            "marker": {
             "line": {
              "color": "#E5ECF6",
              "width": 0.5
             }
            },
            "type": "bar"
           }
          ],
          "barpolar": [
           {
            "marker": {
             "line": {
              "color": "#E5ECF6",
              "width": 0.5
             }
            },
            "type": "barpolar"
           }
          ],
          "carpet": [
           {
            "aaxis": {
             "endlinecolor": "#2a3f5f",
             "gridcolor": "white",
             "linecolor": "white",
             "minorgridcolor": "white",
             "startlinecolor": "#2a3f5f"
            },
            "baxis": {
             "endlinecolor": "#2a3f5f",
             "gridcolor": "white",
             "linecolor": "white",
             "minorgridcolor": "white",
             "startlinecolor": "#2a3f5f"
            },
            "type": "carpet"
           }
          ],
          "choropleth": [
           {
            "colorbar": {
             "outlinewidth": 0,
             "ticks": ""
            },
            "type": "choropleth"
           }
          ],
          "contour": [
           {
            "colorbar": {
             "outlinewidth": 0,
             "ticks": ""
            },
            "colorscale": [
             [
              0,
              "#0d0887"
             ],
             [
              0.1111111111111111,
              "#46039f"
             ],
             [
              0.2222222222222222,
              "#7201a8"
             ],
             [
              0.3333333333333333,
              "#9c179e"
             ],
             [
              0.4444444444444444,
              "#bd3786"
             ],
             [
              0.5555555555555556,
              "#d8576b"
             ],
             [
              0.6666666666666666,
              "#ed7953"
             ],
             [
              0.7777777777777778,
              "#fb9f3a"
             ],
             [
              0.8888888888888888,
              "#fdca26"
             ],
             [
              1,
              "#f0f921"
             ]
            ],
            "type": "contour"
           }
          ],
          "contourcarpet": [
           {
            "colorbar": {
             "outlinewidth": 0,
             "ticks": ""
            },
            "type": "contourcarpet"
           }
          ],
          "heatmap": [
           {
            "colorbar": {
             "outlinewidth": 0,
             "ticks": ""
            },
            "colorscale": [
             [
              0,
              "#0d0887"
             ],
             [
              0.1111111111111111,
              "#46039f"
             ],
             [
              0.2222222222222222,
              "#7201a8"
             ],
             [
              0.3333333333333333,
              "#9c179e"
             ],
             [
              0.4444444444444444,
              "#bd3786"
             ],
             [
              0.5555555555555556,
              "#d8576b"
             ],
             [
              0.6666666666666666,
              "#ed7953"
             ],
             [
              0.7777777777777778,
              "#fb9f3a"
             ],
             [
              0.8888888888888888,
              "#fdca26"
             ],
             [
              1,
              "#f0f921"
             ]
            ],
            "type": "heatmap"
           }
          ],
          "heatmapgl": [
           {
            "colorbar": {
             "outlinewidth": 0,
             "ticks": ""
            },
            "colorscale": [
             [
              0,
              "#0d0887"
             ],
             [
              0.1111111111111111,
              "#46039f"
             ],
             [
              0.2222222222222222,
              "#7201a8"
             ],
             [
              0.3333333333333333,
              "#9c179e"
             ],
             [
              0.4444444444444444,
              "#bd3786"
             ],
             [
              0.5555555555555556,
              "#d8576b"
             ],
             [
              0.6666666666666666,
              "#ed7953"
             ],
             [
              0.7777777777777778,
              "#fb9f3a"
             ],
             [
              0.8888888888888888,
              "#fdca26"
             ],
             [
              1,
              "#f0f921"
             ]
            ],
            "type": "heatmapgl"
           }
          ],
          "histogram": [
           {
            "marker": {
             "colorbar": {
              "outlinewidth": 0,
              "ticks": ""
             }
            },
            "type": "histogram"
           }
          ],
          "histogram2d": [
           {
            "colorbar": {
             "outlinewidth": 0,
             "ticks": ""
            },
            "colorscale": [
             [
              0,
              "#0d0887"
             ],
             [
              0.1111111111111111,
              "#46039f"
             ],
             [
              0.2222222222222222,
              "#7201a8"
             ],
             [
              0.3333333333333333,
              "#9c179e"
             ],
             [
              0.4444444444444444,
              "#bd3786"
             ],
             [
              0.5555555555555556,
              "#d8576b"
             ],
             [
              0.6666666666666666,
              "#ed7953"
             ],
             [
              0.7777777777777778,
              "#fb9f3a"
             ],
             [
              0.8888888888888888,
              "#fdca26"
             ],
             [
              1,
              "#f0f921"
             ]
            ],
            "type": "histogram2d"
           }
          ],
          "histogram2dcontour": [
           {
            "colorbar": {
             "outlinewidth": 0,
             "ticks": ""
            },
            "colorscale": [
             [
              0,
              "#0d0887"
             ],
             [
              0.1111111111111111,
              "#46039f"
             ],
             [
              0.2222222222222222,
              "#7201a8"
             ],
             [
              0.3333333333333333,
              "#9c179e"
             ],
             [
              0.4444444444444444,
              "#bd3786"
             ],
             [
              0.5555555555555556,
              "#d8576b"
             ],
             [
              0.6666666666666666,
              "#ed7953"
             ],
             [
              0.7777777777777778,
              "#fb9f3a"
             ],
             [
              0.8888888888888888,
              "#fdca26"
             ],
             [
              1,
              "#f0f921"
             ]
            ],
            "type": "histogram2dcontour"
           }
          ],
          "mesh3d": [
           {
            "colorbar": {
             "outlinewidth": 0,
             "ticks": ""
            },
            "type": "mesh3d"
           }
          ],
          "parcoords": [
           {
            "line": {
             "colorbar": {
              "outlinewidth": 0,
              "ticks": ""
             }
            },
            "type": "parcoords"
           }
          ],
          "pie": [
           {
            "automargin": true,
            "type": "pie"
           }
          ],
          "scatter": [
           {
            "marker": {
             "colorbar": {
              "outlinewidth": 0,
              "ticks": ""
             }
            },
            "type": "scatter"
           }
          ],
          "scatter3d": [
           {
            "line": {
             "colorbar": {
              "outlinewidth": 0,
              "ticks": ""
             }
            },
            "marker": {
             "colorbar": {
              "outlinewidth": 0,
              "ticks": ""
             }
            },
            "type": "scatter3d"
           }
          ],
          "scattercarpet": [
           {
            "marker": {
             "colorbar": {
              "outlinewidth": 0,
              "ticks": ""
             }
            },
            "type": "scattercarpet"
           }
          ],
          "scattergeo": [
           {
            "marker": {
             "colorbar": {
              "outlinewidth": 0,
              "ticks": ""
             }
            },
            "type": "scattergeo"
           }
          ],
          "scattergl": [
           {
            "marker": {
             "colorbar": {
              "outlinewidth": 0,
              "ticks": ""
             }
            },
            "type": "scattergl"
           }
          ],
          "scattermapbox": [
           {
            "marker": {
             "colorbar": {
              "outlinewidth": 0,
              "ticks": ""
             }
            },
            "type": "scattermapbox"
           }
          ],
          "scatterpolar": [
           {
            "marker": {
             "colorbar": {
              "outlinewidth": 0,
              "ticks": ""
             }
            },
            "type": "scatterpolar"
           }
          ],
          "scatterpolargl": [
           {
            "marker": {
             "colorbar": {
              "outlinewidth": 0,
              "ticks": ""
             }
            },
            "type": "scatterpolargl"
           }
          ],
          "scatterternary": [
           {
            "marker": {
             "colorbar": {
              "outlinewidth": 0,
              "ticks": ""
             }
            },
            "type": "scatterternary"
           }
          ],
          "surface": [
           {
            "colorbar": {
             "outlinewidth": 0,
             "ticks": ""
            },
            "colorscale": [
             [
              0,
              "#0d0887"
             ],
             [
              0.1111111111111111,
              "#46039f"
             ],
             [
              0.2222222222222222,
              "#7201a8"
             ],
             [
              0.3333333333333333,
              "#9c179e"
             ],
             [
              0.4444444444444444,
              "#bd3786"
             ],
             [
              0.5555555555555556,
              "#d8576b"
             ],
             [
              0.6666666666666666,
              "#ed7953"
             ],
             [
              0.7777777777777778,
              "#fb9f3a"
             ],
             [
              0.8888888888888888,
              "#fdca26"
             ],
             [
              1,
              "#f0f921"
             ]
            ],
            "type": "surface"
           }
          ],
          "table": [
           {
            "cells": {
             "fill": {
              "color": "#EBF0F8"
             },
             "line": {
              "color": "white"
             }
            },
            "header": {
             "fill": {
              "color": "#C8D4E3"
             },
             "line": {
              "color": "white"
             }
            },
            "type": "table"
           }
          ]
         },
         "layout": {
          "annotationdefaults": {
           "arrowcolor": "#2a3f5f",
           "arrowhead": 0,
           "arrowwidth": 1
          },
          "coloraxis": {
           "colorbar": {
            "outlinewidth": 0,
            "ticks": ""
           }
          },
          "colorscale": {
           "diverging": [
            [
             0,
             "#8e0152"
            ],
            [
             0.1,
             "#c51b7d"
            ],
            [
             0.2,
             "#de77ae"
            ],
            [
             0.3,
             "#f1b6da"
            ],
            [
             0.4,
             "#fde0ef"
            ],
            [
             0.5,
             "#f7f7f7"
            ],
            [
             0.6,
             "#e6f5d0"
            ],
            [
             0.7,
             "#b8e186"
            ],
            [
             0.8,
             "#7fbc41"
            ],
            [
             0.9,
             "#4d9221"
            ],
            [
             1,
             "#276419"
            ]
           ],
           "sequential": [
            [
             0,
             "#0d0887"
            ],
            [
             0.1111111111111111,
             "#46039f"
            ],
            [
             0.2222222222222222,
             "#7201a8"
            ],
            [
             0.3333333333333333,
             "#9c179e"
            ],
            [
             0.4444444444444444,
             "#bd3786"
            ],
            [
             0.5555555555555556,
             "#d8576b"
            ],
            [
             0.6666666666666666,
             "#ed7953"
            ],
            [
             0.7777777777777778,
             "#fb9f3a"
            ],
            [
             0.8888888888888888,
             "#fdca26"
            ],
            [
             1,
             "#f0f921"
            ]
           ],
           "sequentialminus": [
            [
             0,
             "#0d0887"
            ],
            [
             0.1111111111111111,
             "#46039f"
            ],
            [
             0.2222222222222222,
             "#7201a8"
            ],
            [
             0.3333333333333333,
             "#9c179e"
            ],
            [
             0.4444444444444444,
             "#bd3786"
            ],
            [
             0.5555555555555556,
             "#d8576b"
            ],
            [
             0.6666666666666666,
             "#ed7953"
            ],
            [
             0.7777777777777778,
             "#fb9f3a"
            ],
            [
             0.8888888888888888,
             "#fdca26"
            ],
            [
             1,
             "#f0f921"
            ]
           ]
          },
          "colorway": [
           "#636efa",
           "#EF553B",
           "#00cc96",
           "#ab63fa",
           "#FFA15A",
           "#19d3f3",
           "#FF6692",
           "#B6E880",
           "#FF97FF",
           "#FECB52"
          ],
          "font": {
           "color": "#2a3f5f"
          },
          "geo": {
           "bgcolor": "white",
           "lakecolor": "white",
           "landcolor": "#E5ECF6",
           "showlakes": true,
           "showland": true,
           "subunitcolor": "white"
          },
          "hoverlabel": {
           "align": "left"
          },
          "hovermode": "closest",
          "mapbox": {
           "style": "light"
          },
          "paper_bgcolor": "white",
          "plot_bgcolor": "#E5ECF6",
          "polar": {
           "angularaxis": {
            "gridcolor": "white",
            "linecolor": "white",
            "ticks": ""
           },
           "bgcolor": "#E5ECF6",
           "radialaxis": {
            "gridcolor": "white",
            "linecolor": "white",
            "ticks": ""
           }
          },
          "scene": {
           "xaxis": {
            "backgroundcolor": "#E5ECF6",
            "gridcolor": "white",
            "gridwidth": 2,
            "linecolor": "white",
            "showbackground": true,
            "ticks": "",
            "zerolinecolor": "white"
           },
           "yaxis": {
            "backgroundcolor": "#E5ECF6",
            "gridcolor": "white",
            "gridwidth": 2,
            "linecolor": "white",
            "showbackground": true,
            "ticks": "",
            "zerolinecolor": "white"
           },
           "zaxis": {
            "backgroundcolor": "#E5ECF6",
            "gridcolor": "white",
            "gridwidth": 2,
            "linecolor": "white",
            "showbackground": true,
            "ticks": "",
            "zerolinecolor": "white"
           }
          },
          "shapedefaults": {
           "line": {
            "color": "#2a3f5f"
           }
          },
          "ternary": {
           "aaxis": {
            "gridcolor": "white",
            "linecolor": "white",
            "ticks": ""
           },
           "baxis": {
            "gridcolor": "white",
            "linecolor": "white",
            "ticks": ""
           },
           "bgcolor": "#E5ECF6",
           "caxis": {
            "gridcolor": "white",
            "linecolor": "white",
            "ticks": ""
           }
          },
          "title": {
           "x": 0.05
          },
          "xaxis": {
           "automargin": true,
           "gridcolor": "white",
           "linecolor": "white",
           "ticks": "",
           "title": {
            "standoff": 15
           },
           "zerolinecolor": "white",
           "zerolinewidth": 2
          },
          "yaxis": {
           "automargin": true,
           "gridcolor": "white",
           "linecolor": "white",
           "ticks": "",
           "title": {
            "standoff": 15
           },
           "zerolinecolor": "white",
           "zerolinewidth": 2
          }
         }
        },
        "title": {
         "text": "Top 30 unigrams in the question text after removing stop words and lemmatization"
        }
       }
      },
      "text/html": [
       "<div>\n",
       "        \n",
       "        \n",
       "            <div id=\"bcaebd7d-20fc-4b02-8b95-5bbb702c6d25\" class=\"plotly-graph-div\" style=\"height:525px; width:100%;\"></div>\n",
       "            <script type=\"text/javascript\">\n",
       "                require([\"plotly\"], function(Plotly) {\n",
       "                    window.PLOTLYENV=window.PLOTLYENV || {};\n",
       "                    \n",
       "                if (document.getElementById(\"bcaebd7d-20fc-4b02-8b95-5bbb702c6d25\")) {\n",
       "                    Plotly.newPlot(\n",
       "                        'bcaebd7d-20fc-4b02-8b95-5bbb702c6d25',\n",
       "                        [{\"type\": \"bar\", \"x\": [\"beach\", \"florence\", \"istanbul\", \"island\", \"berlin\", \"luxor\", \"st\", \"beijing\", \"sydney\", \"edinburgh\", \"santorini\", \"wall\", \"blue\", \"square\", \"temple\", \"rio\", \"wine\", \"boat\", \"havana\", \"phuket\", \"mountain\", \"cape\", \"mosque\", \"petersburg\", \"ferry\", \"church\", \"salzburg\", \"bridge\", \"euro\", \"cusco\"], \"y\": [612, 559, 538, 494, 493, 409, 380, 375, 364, 346, 313, 295, 289, 288, 286, 285, 281, 253, 253, 251, 251, 228, 221, 221, 219, 219, 219, 217, 212, 207]}],\n",
       "                        {\"template\": {\"data\": {\"bar\": [{\"error_x\": {\"color\": \"#2a3f5f\"}, \"error_y\": {\"color\": \"#2a3f5f\"}, \"marker\": {\"line\": {\"color\": \"#E5ECF6\", \"width\": 0.5}}, \"type\": \"bar\"}], \"barpolar\": [{\"marker\": {\"line\": {\"color\": \"#E5ECF6\", \"width\": 0.5}}, \"type\": \"barpolar\"}], \"carpet\": [{\"aaxis\": {\"endlinecolor\": \"#2a3f5f\", \"gridcolor\": \"white\", \"linecolor\": \"white\", \"minorgridcolor\": \"white\", \"startlinecolor\": \"#2a3f5f\"}, \"baxis\": {\"endlinecolor\": \"#2a3f5f\", \"gridcolor\": \"white\", \"linecolor\": \"white\", \"minorgridcolor\": \"white\", \"startlinecolor\": \"#2a3f5f\"}, \"type\": \"carpet\"}], \"choropleth\": [{\"colorbar\": {\"outlinewidth\": 0, \"ticks\": \"\"}, \"type\": \"choropleth\"}], \"contour\": [{\"colorbar\": {\"outlinewidth\": 0, \"ticks\": \"\"}, \"colorscale\": [[0.0, \"#0d0887\"], [0.1111111111111111, \"#46039f\"], [0.2222222222222222, \"#7201a8\"], [0.3333333333333333, \"#9c179e\"], [0.4444444444444444, \"#bd3786\"], [0.5555555555555556, \"#d8576b\"], [0.6666666666666666, \"#ed7953\"], [0.7777777777777778, \"#fb9f3a\"], [0.8888888888888888, \"#fdca26\"], [1.0, \"#f0f921\"]], \"type\": \"contour\"}], \"contourcarpet\": [{\"colorbar\": {\"outlinewidth\": 0, \"ticks\": \"\"}, \"type\": \"contourcarpet\"}], \"heatmap\": [{\"colorbar\": {\"outlinewidth\": 0, \"ticks\": \"\"}, \"colorscale\": [[0.0, \"#0d0887\"], [0.1111111111111111, \"#46039f\"], [0.2222222222222222, \"#7201a8\"], [0.3333333333333333, \"#9c179e\"], [0.4444444444444444, \"#bd3786\"], [0.5555555555555556, \"#d8576b\"], [0.6666666666666666, \"#ed7953\"], [0.7777777777777778, \"#fb9f3a\"], [0.8888888888888888, \"#fdca26\"], [1.0, \"#f0f921\"]], \"type\": \"heatmap\"}], \"heatmapgl\": [{\"colorbar\": {\"outlinewidth\": 0, \"ticks\": \"\"}, \"colorscale\": [[0.0, \"#0d0887\"], [0.1111111111111111, \"#46039f\"], [0.2222222222222222, \"#7201a8\"], [0.3333333333333333, \"#9c179e\"], [0.4444444444444444, \"#bd3786\"], [0.5555555555555556, \"#d8576b\"], [0.6666666666666666, \"#ed7953\"], [0.7777777777777778, \"#fb9f3a\"], [0.8888888888888888, \"#fdca26\"], [1.0, \"#f0f921\"]], \"type\": \"heatmapgl\"}], \"histogram\": [{\"marker\": {\"colorbar\": {\"outlinewidth\": 0, \"ticks\": \"\"}}, \"type\": \"histogram\"}], \"histogram2d\": [{\"colorbar\": {\"outlinewidth\": 0, \"ticks\": \"\"}, \"colorscale\": [[0.0, \"#0d0887\"], [0.1111111111111111, \"#46039f\"], [0.2222222222222222, \"#7201a8\"], [0.3333333333333333, \"#9c179e\"], [0.4444444444444444, \"#bd3786\"], [0.5555555555555556, \"#d8576b\"], [0.6666666666666666, \"#ed7953\"], [0.7777777777777778, \"#fb9f3a\"], [0.8888888888888888, \"#fdca26\"], [1.0, \"#f0f921\"]], \"type\": \"histogram2d\"}], \"histogram2dcontour\": [{\"colorbar\": {\"outlinewidth\": 0, \"ticks\": \"\"}, \"colorscale\": [[0.0, \"#0d0887\"], [0.1111111111111111, \"#46039f\"], [0.2222222222222222, \"#7201a8\"], [0.3333333333333333, \"#9c179e\"], [0.4444444444444444, \"#bd3786\"], [0.5555555555555556, \"#d8576b\"], [0.6666666666666666, \"#ed7953\"], [0.7777777777777778, \"#fb9f3a\"], [0.8888888888888888, \"#fdca26\"], [1.0, \"#f0f921\"]], \"type\": \"histogram2dcontour\"}], \"mesh3d\": [{\"colorbar\": {\"outlinewidth\": 0, \"ticks\": \"\"}, \"type\": \"mesh3d\"}], \"parcoords\": [{\"line\": {\"colorbar\": {\"outlinewidth\": 0, \"ticks\": \"\"}}, \"type\": \"parcoords\"}], \"pie\": [{\"automargin\": true, \"type\": \"pie\"}], \"scatter\": [{\"marker\": {\"colorbar\": {\"outlinewidth\": 0, \"ticks\": \"\"}}, \"type\": \"scatter\"}], \"scatter3d\": [{\"line\": {\"colorbar\": {\"outlinewidth\": 0, \"ticks\": \"\"}}, \"marker\": {\"colorbar\": {\"outlinewidth\": 0, \"ticks\": \"\"}}, \"type\": \"scatter3d\"}], \"scattercarpet\": [{\"marker\": {\"colorbar\": {\"outlinewidth\": 0, \"ticks\": \"\"}}, \"type\": \"scattercarpet\"}], \"scattergeo\": [{\"marker\": {\"colorbar\": {\"outlinewidth\": 0, \"ticks\": \"\"}}, \"type\": \"scattergeo\"}], \"scattergl\": [{\"marker\": {\"colorbar\": {\"outlinewidth\": 0, \"ticks\": \"\"}}, \"type\": \"scattergl\"}], \"scattermapbox\": [{\"marker\": {\"colorbar\": {\"outlinewidth\": 0, \"ticks\": \"\"}}, \"type\": \"scattermapbox\"}], \"scatterpolar\": [{\"marker\": {\"colorbar\": {\"outlinewidth\": 0, \"ticks\": \"\"}}, \"type\": \"scatterpolar\"}], \"scatterpolargl\": [{\"marker\": {\"colorbar\": {\"outlinewidth\": 0, \"ticks\": \"\"}}, \"type\": \"scatterpolargl\"}], \"scatterternary\": [{\"marker\": {\"colorbar\": {\"outlinewidth\": 0, \"ticks\": \"\"}}, \"type\": \"scatterternary\"}], \"surface\": [{\"colorbar\": {\"outlinewidth\": 0, \"ticks\": \"\"}, \"colorscale\": [[0.0, \"#0d0887\"], [0.1111111111111111, \"#46039f\"], [0.2222222222222222, \"#7201a8\"], [0.3333333333333333, \"#9c179e\"], [0.4444444444444444, \"#bd3786\"], [0.5555555555555556, \"#d8576b\"], [0.6666666666666666, \"#ed7953\"], [0.7777777777777778, \"#fb9f3a\"], [0.8888888888888888, \"#fdca26\"], [1.0, \"#f0f921\"]], \"type\": \"surface\"}], \"table\": [{\"cells\": {\"fill\": {\"color\": \"#EBF0F8\"}, \"line\": {\"color\": \"white\"}}, \"header\": {\"fill\": {\"color\": \"#C8D4E3\"}, \"line\": {\"color\": \"white\"}}, \"type\": \"table\"}]}, \"layout\": {\"annotationdefaults\": {\"arrowcolor\": \"#2a3f5f\", \"arrowhead\": 0, \"arrowwidth\": 1}, \"coloraxis\": {\"colorbar\": {\"outlinewidth\": 0, \"ticks\": \"\"}}, \"colorscale\": {\"diverging\": [[0, \"#8e0152\"], [0.1, \"#c51b7d\"], [0.2, \"#de77ae\"], [0.3, \"#f1b6da\"], [0.4, \"#fde0ef\"], [0.5, \"#f7f7f7\"], [0.6, \"#e6f5d0\"], [0.7, \"#b8e186\"], [0.8, \"#7fbc41\"], [0.9, \"#4d9221\"], [1, \"#276419\"]], \"sequential\": [[0.0, \"#0d0887\"], [0.1111111111111111, \"#46039f\"], [0.2222222222222222, \"#7201a8\"], [0.3333333333333333, \"#9c179e\"], [0.4444444444444444, \"#bd3786\"], [0.5555555555555556, \"#d8576b\"], [0.6666666666666666, \"#ed7953\"], [0.7777777777777778, \"#fb9f3a\"], [0.8888888888888888, \"#fdca26\"], [1.0, \"#f0f921\"]], \"sequentialminus\": [[0.0, \"#0d0887\"], [0.1111111111111111, \"#46039f\"], [0.2222222222222222, \"#7201a8\"], [0.3333333333333333, \"#9c179e\"], [0.4444444444444444, \"#bd3786\"], [0.5555555555555556, \"#d8576b\"], [0.6666666666666666, \"#ed7953\"], [0.7777777777777778, \"#fb9f3a\"], [0.8888888888888888, \"#fdca26\"], [1.0, \"#f0f921\"]]}, \"colorway\": [\"#636efa\", \"#EF553B\", \"#00cc96\", \"#ab63fa\", \"#FFA15A\", \"#19d3f3\", \"#FF6692\", \"#B6E880\", \"#FF97FF\", \"#FECB52\"], \"font\": {\"color\": \"#2a3f5f\"}, \"geo\": {\"bgcolor\": \"white\", \"lakecolor\": \"white\", \"landcolor\": \"#E5ECF6\", \"showlakes\": true, \"showland\": true, \"subunitcolor\": \"white\"}, \"hoverlabel\": {\"align\": \"left\"}, \"hovermode\": \"closest\", \"mapbox\": {\"style\": \"light\"}, \"paper_bgcolor\": \"white\", \"plot_bgcolor\": \"#E5ECF6\", \"polar\": {\"angularaxis\": {\"gridcolor\": \"white\", \"linecolor\": \"white\", \"ticks\": \"\"}, \"bgcolor\": \"#E5ECF6\", \"radialaxis\": {\"gridcolor\": \"white\", \"linecolor\": \"white\", \"ticks\": \"\"}}, \"scene\": {\"xaxis\": {\"backgroundcolor\": \"#E5ECF6\", \"gridcolor\": \"white\", \"gridwidth\": 2, \"linecolor\": \"white\", \"showbackground\": true, \"ticks\": \"\", \"zerolinecolor\": \"white\"}, \"yaxis\": {\"backgroundcolor\": \"#E5ECF6\", \"gridcolor\": \"white\", \"gridwidth\": 2, \"linecolor\": \"white\", \"showbackground\": true, \"ticks\": \"\", \"zerolinecolor\": \"white\"}, \"zaxis\": {\"backgroundcolor\": \"#E5ECF6\", \"gridcolor\": \"white\", \"gridwidth\": 2, \"linecolor\": \"white\", \"showbackground\": true, \"ticks\": \"\", \"zerolinecolor\": \"white\"}}, \"shapedefaults\": {\"line\": {\"color\": \"#2a3f5f\"}}, \"ternary\": {\"aaxis\": {\"gridcolor\": \"white\", \"linecolor\": \"white\", \"ticks\": \"\"}, \"baxis\": {\"gridcolor\": \"white\", \"linecolor\": \"white\", \"ticks\": \"\"}, \"bgcolor\": \"#E5ECF6\", \"caxis\": {\"gridcolor\": \"white\", \"linecolor\": \"white\", \"ticks\": \"\"}}, \"title\": {\"x\": 0.05}, \"xaxis\": {\"automargin\": true, \"gridcolor\": \"white\", \"linecolor\": \"white\", \"ticks\": \"\", \"title\": {\"standoff\": 15}, \"zerolinecolor\": \"white\", \"zerolinewidth\": 2}, \"yaxis\": {\"automargin\": true, \"gridcolor\": \"white\", \"linecolor\": \"white\", \"ticks\": \"\", \"title\": {\"standoff\": 15}, \"zerolinecolor\": \"white\", \"zerolinewidth\": 2}}}, \"title\": {\"text\": \"Top 30 unigrams in the question text after removing stop words and lemmatization\"}},\n",
       "                        {\"responsive\": true}\n",
       "                    ).then(function(){\n",
       "                            \n",
       "var gd = document.getElementById('bcaebd7d-20fc-4b02-8b95-5bbb702c6d25');\n",
       "var x = new MutationObserver(function (mutations, observer) {{\n",
       "        var display = window.getComputedStyle(gd).display;\n",
       "        if (!display || display === 'none') {{\n",
       "            console.log([gd, 'removed!']);\n",
       "            Plotly.purge(gd);\n",
       "            observer.disconnect();\n",
       "        }}\n",
       "}});\n",
       "\n",
       "// Listen for the removal of the full notebook cells\n",
       "var notebookContainer = gd.closest('#notebook-container');\n",
       "if (notebookContainer) {{\n",
       "    x.observe(notebookContainer, {childList: true});\n",
       "}}\n",
       "\n",
       "// Listen for the clearing of the current output cell\n",
       "var outputEl = gd.closest('.output');\n",
       "if (outputEl) {{\n",
       "    x.observe(outputEl, {childList: true});\n",
       "}}\n",
       "\n",
       "                        })\n",
       "                };\n",
       "                });\n",
       "            </script>\n",
       "        </div>"
      ]
     },
     "metadata": {},
     "output_type": "display_data"
    }
   ],
   "source": [
    "def get_top_n_words(corpus, n=None):\n",
    "    vec = CountVectorizer(stop_words='english', max_df = 0.90).fit(corpus)\n",
    "    bag_of_words = vec.transform(corpus)\n",
    "    sum_words = bag_of_words.sum(axis=0) \n",
    "    words_freq = [(word, sum_words[0, idx]) for word, idx in vec.vocabulary_.items()]\n",
    "    words_freq =sorted(words_freq, key = lambda x: x[1], reverse=True)\n",
    "    return words_freq[:n]\n",
    "common_words = get_top_n_words(df_clean['question_lemmatize_clean'], 30)\n",
    "df2 = pd.DataFrame(common_words, columns = ['unigram' , 'count'])\n",
    "\n",
    "fig = go.Figure([go.Bar(x=df2['unigram'], y=df2['count'])])\n",
    "fig.update_layout(title=go.layout.Title(text=\"Top 30 unigrams in the question text after removing stop words and lemmatization\"))\n",
    "fig.show()"
   ]
  },
  {
   "cell_type": "code",
   "execution_count": 23,
   "metadata": {},
   "outputs": [
    {
     "data": {
      "application/vnd.plotly.v1+json": {
       "config": {
        "plotlyServerURL": "https://plot.ly"
       },
       "data": [
        {
         "type": "bar",
         "x": [
          "eiffel tower",
          "blue mosque",
          "notre dame",
          "make sure",
          "opera house",
          "grand bazaar",
          "visit paris",
          "spend day",
          "highly recommend",
          "beautiful city",
          "great place",
          "place visit",
          "just return",
          "speak english",
          "day trip",
          "tour guide",
          "topkapi palace",
          "trip paris",
          "feel like",
          "people friendly"
         ],
         "y": [
          196,
          121,
          115,
          87,
          85,
          81,
          81,
          77,
          72,
          69,
          66,
          64,
          63,
          63,
          61,
          61,
          57,
          57,
          54,
          52
         ]
        }
       ],
       "layout": {
        "template": {
         "data": {
          "bar": [
           {
            "error_x": {
             "color": "#2a3f5f"
            },
            "error_y": {
             "color": "#2a3f5f"
            },
            "marker": {
             "line": {
              "color": "#E5ECF6",
              "width": 0.5
             }
            },
            "type": "bar"
           }
          ],
          "barpolar": [
           {
            "marker": {
             "line": {
              "color": "#E5ECF6",
              "width": 0.5
             }
            },
            "type": "barpolar"
           }
          ],
          "carpet": [
           {
            "aaxis": {
             "endlinecolor": "#2a3f5f",
             "gridcolor": "white",
             "linecolor": "white",
             "minorgridcolor": "white",
             "startlinecolor": "#2a3f5f"
            },
            "baxis": {
             "endlinecolor": "#2a3f5f",
             "gridcolor": "white",
             "linecolor": "white",
             "minorgridcolor": "white",
             "startlinecolor": "#2a3f5f"
            },
            "type": "carpet"
           }
          ],
          "choropleth": [
           {
            "colorbar": {
             "outlinewidth": 0,
             "ticks": ""
            },
            "type": "choropleth"
           }
          ],
          "contour": [
           {
            "colorbar": {
             "outlinewidth": 0,
             "ticks": ""
            },
            "colorscale": [
             [
              0,
              "#0d0887"
             ],
             [
              0.1111111111111111,
              "#46039f"
             ],
             [
              0.2222222222222222,
              "#7201a8"
             ],
             [
              0.3333333333333333,
              "#9c179e"
             ],
             [
              0.4444444444444444,
              "#bd3786"
             ],
             [
              0.5555555555555556,
              "#d8576b"
             ],
             [
              0.6666666666666666,
              "#ed7953"
             ],
             [
              0.7777777777777778,
              "#fb9f3a"
             ],
             [
              0.8888888888888888,
              "#fdca26"
             ],
             [
              1,
              "#f0f921"
             ]
            ],
            "type": "contour"
           }
          ],
          "contourcarpet": [
           {
            "colorbar": {
             "outlinewidth": 0,
             "ticks": ""
            },
            "type": "contourcarpet"
           }
          ],
          "heatmap": [
           {
            "colorbar": {
             "outlinewidth": 0,
             "ticks": ""
            },
            "colorscale": [
             [
              0,
              "#0d0887"
             ],
             [
              0.1111111111111111,
              "#46039f"
             ],
             [
              0.2222222222222222,
              "#7201a8"
             ],
             [
              0.3333333333333333,
              "#9c179e"
             ],
             [
              0.4444444444444444,
              "#bd3786"
             ],
             [
              0.5555555555555556,
              "#d8576b"
             ],
             [
              0.6666666666666666,
              "#ed7953"
             ],
             [
              0.7777777777777778,
              "#fb9f3a"
             ],
             [
              0.8888888888888888,
              "#fdca26"
             ],
             [
              1,
              "#f0f921"
             ]
            ],
            "type": "heatmap"
           }
          ],
          "heatmapgl": [
           {
            "colorbar": {
             "outlinewidth": 0,
             "ticks": ""
            },
            "colorscale": [
             [
              0,
              "#0d0887"
             ],
             [
              0.1111111111111111,
              "#46039f"
             ],
             [
              0.2222222222222222,
              "#7201a8"
             ],
             [
              0.3333333333333333,
              "#9c179e"
             ],
             [
              0.4444444444444444,
              "#bd3786"
             ],
             [
              0.5555555555555556,
              "#d8576b"
             ],
             [
              0.6666666666666666,
              "#ed7953"
             ],
             [
              0.7777777777777778,
              "#fb9f3a"
             ],
             [
              0.8888888888888888,
              "#fdca26"
             ],
             [
              1,
              "#f0f921"
             ]
            ],
            "type": "heatmapgl"
           }
          ],
          "histogram": [
           {
            "marker": {
             "colorbar": {
              "outlinewidth": 0,
              "ticks": ""
             }
            },
            "type": "histogram"
           }
          ],
          "histogram2d": [
           {
            "colorbar": {
             "outlinewidth": 0,
             "ticks": ""
            },
            "colorscale": [
             [
              0,
              "#0d0887"
             ],
             [
              0.1111111111111111,
              "#46039f"
             ],
             [
              0.2222222222222222,
              "#7201a8"
             ],
             [
              0.3333333333333333,
              "#9c179e"
             ],
             [
              0.4444444444444444,
              "#bd3786"
             ],
             [
              0.5555555555555556,
              "#d8576b"
             ],
             [
              0.6666666666666666,
              "#ed7953"
             ],
             [
              0.7777777777777778,
              "#fb9f3a"
             ],
             [
              0.8888888888888888,
              "#fdca26"
             ],
             [
              1,
              "#f0f921"
             ]
            ],
            "type": "histogram2d"
           }
          ],
          "histogram2dcontour": [
           {
            "colorbar": {
             "outlinewidth": 0,
             "ticks": ""
            },
            "colorscale": [
             [
              0,
              "#0d0887"
             ],
             [
              0.1111111111111111,
              "#46039f"
             ],
             [
              0.2222222222222222,
              "#7201a8"
             ],
             [
              0.3333333333333333,
              "#9c179e"
             ],
             [
              0.4444444444444444,
              "#bd3786"
             ],
             [
              0.5555555555555556,
              "#d8576b"
             ],
             [
              0.6666666666666666,
              "#ed7953"
             ],
             [
              0.7777777777777778,
              "#fb9f3a"
             ],
             [
              0.8888888888888888,
              "#fdca26"
             ],
             [
              1,
              "#f0f921"
             ]
            ],
            "type": "histogram2dcontour"
           }
          ],
          "mesh3d": [
           {
            "colorbar": {
             "outlinewidth": 0,
             "ticks": ""
            },
            "type": "mesh3d"
           }
          ],
          "parcoords": [
           {
            "line": {
             "colorbar": {
              "outlinewidth": 0,
              "ticks": ""
             }
            },
            "type": "parcoords"
           }
          ],
          "pie": [
           {
            "automargin": true,
            "type": "pie"
           }
          ],
          "scatter": [
           {
            "marker": {
             "colorbar": {
              "outlinewidth": 0,
              "ticks": ""
             }
            },
            "type": "scatter"
           }
          ],
          "scatter3d": [
           {
            "line": {
             "colorbar": {
              "outlinewidth": 0,
              "ticks": ""
             }
            },
            "marker": {
             "colorbar": {
              "outlinewidth": 0,
              "ticks": ""
             }
            },
            "type": "scatter3d"
           }
          ],
          "scattercarpet": [
           {
            "marker": {
             "colorbar": {
              "outlinewidth": 0,
              "ticks": ""
             }
            },
            "type": "scattercarpet"
           }
          ],
          "scattergeo": [
           {
            "marker": {
             "colorbar": {
              "outlinewidth": 0,
              "ticks": ""
             }
            },
            "type": "scattergeo"
           }
          ],
          "scattergl": [
           {
            "marker": {
             "colorbar": {
              "outlinewidth": 0,
              "ticks": ""
             }
            },
            "type": "scattergl"
           }
          ],
          "scattermapbox": [
           {
            "marker": {
             "colorbar": {
              "outlinewidth": 0,
              "ticks": ""
             }
            },
            "type": "scattermapbox"
           }
          ],
          "scatterpolar": [
           {
            "marker": {
             "colorbar": {
              "outlinewidth": 0,
              "ticks": ""
             }
            },
            "type": "scatterpolar"
           }
          ],
          "scatterpolargl": [
           {
            "marker": {
             "colorbar": {
              "outlinewidth": 0,
              "ticks": ""
             }
            },
            "type": "scatterpolargl"
           }
          ],
          "scatterternary": [
           {
            "marker": {
             "colorbar": {
              "outlinewidth": 0,
              "ticks": ""
             }
            },
            "type": "scatterternary"
           }
          ],
          "surface": [
           {
            "colorbar": {
             "outlinewidth": 0,
             "ticks": ""
            },
            "colorscale": [
             [
              0,
              "#0d0887"
             ],
             [
              0.1111111111111111,
              "#46039f"
             ],
             [
              0.2222222222222222,
              "#7201a8"
             ],
             [
              0.3333333333333333,
              "#9c179e"
             ],
             [
              0.4444444444444444,
              "#bd3786"
             ],
             [
              0.5555555555555556,
              "#d8576b"
             ],
             [
              0.6666666666666666,
              "#ed7953"
             ],
             [
              0.7777777777777778,
              "#fb9f3a"
             ],
             [
              0.8888888888888888,
              "#fdca26"
             ],
             [
              1,
              "#f0f921"
             ]
            ],
            "type": "surface"
           }
          ],
          "table": [
           {
            "cells": {
             "fill": {
              "color": "#EBF0F8"
             },
             "line": {
              "color": "white"
             }
            },
            "header": {
             "fill": {
              "color": "#C8D4E3"
             },
             "line": {
              "color": "white"
             }
            },
            "type": "table"
           }
          ]
         },
         "layout": {
          "annotationdefaults": {
           "arrowcolor": "#2a3f5f",
           "arrowhead": 0,
           "arrowwidth": 1
          },
          "coloraxis": {
           "colorbar": {
            "outlinewidth": 0,
            "ticks": ""
           }
          },
          "colorscale": {
           "diverging": [
            [
             0,
             "#8e0152"
            ],
            [
             0.1,
             "#c51b7d"
            ],
            [
             0.2,
             "#de77ae"
            ],
            [
             0.3,
             "#f1b6da"
            ],
            [
             0.4,
             "#fde0ef"
            ],
            [
             0.5,
             "#f7f7f7"
            ],
            [
             0.6,
             "#e6f5d0"
            ],
            [
             0.7,
             "#b8e186"
            ],
            [
             0.8,
             "#7fbc41"
            ],
            [
             0.9,
             "#4d9221"
            ],
            [
             1,
             "#276419"
            ]
           ],
           "sequential": [
            [
             0,
             "#0d0887"
            ],
            [
             0.1111111111111111,
             "#46039f"
            ],
            [
             0.2222222222222222,
             "#7201a8"
            ],
            [
             0.3333333333333333,
             "#9c179e"
            ],
            [
             0.4444444444444444,
             "#bd3786"
            ],
            [
             0.5555555555555556,
             "#d8576b"
            ],
            [
             0.6666666666666666,
             "#ed7953"
            ],
            [
             0.7777777777777778,
             "#fb9f3a"
            ],
            [
             0.8888888888888888,
             "#fdca26"
            ],
            [
             1,
             "#f0f921"
            ]
           ],
           "sequentialminus": [
            [
             0,
             "#0d0887"
            ],
            [
             0.1111111111111111,
             "#46039f"
            ],
            [
             0.2222222222222222,
             "#7201a8"
            ],
            [
             0.3333333333333333,
             "#9c179e"
            ],
            [
             0.4444444444444444,
             "#bd3786"
            ],
            [
             0.5555555555555556,
             "#d8576b"
            ],
            [
             0.6666666666666666,
             "#ed7953"
            ],
            [
             0.7777777777777778,
             "#fb9f3a"
            ],
            [
             0.8888888888888888,
             "#fdca26"
            ],
            [
             1,
             "#f0f921"
            ]
           ]
          },
          "colorway": [
           "#636efa",
           "#EF553B",
           "#00cc96",
           "#ab63fa",
           "#FFA15A",
           "#19d3f3",
           "#FF6692",
           "#B6E880",
           "#FF97FF",
           "#FECB52"
          ],
          "font": {
           "color": "#2a3f5f"
          },
          "geo": {
           "bgcolor": "white",
           "lakecolor": "white",
           "landcolor": "#E5ECF6",
           "showlakes": true,
           "showland": true,
           "subunitcolor": "white"
          },
          "hoverlabel": {
           "align": "left"
          },
          "hovermode": "closest",
          "mapbox": {
           "style": "light"
          },
          "paper_bgcolor": "white",
          "plot_bgcolor": "#E5ECF6",
          "polar": {
           "angularaxis": {
            "gridcolor": "white",
            "linecolor": "white",
            "ticks": ""
           },
           "bgcolor": "#E5ECF6",
           "radialaxis": {
            "gridcolor": "white",
            "linecolor": "white",
            "ticks": ""
           }
          },
          "scene": {
           "xaxis": {
            "backgroundcolor": "#E5ECF6",
            "gridcolor": "white",
            "gridwidth": 2,
            "linecolor": "white",
            "showbackground": true,
            "ticks": "",
            "zerolinecolor": "white"
           },
           "yaxis": {
            "backgroundcolor": "#E5ECF6",
            "gridcolor": "white",
            "gridwidth": 2,
            "linecolor": "white",
            "showbackground": true,
            "ticks": "",
            "zerolinecolor": "white"
           },
           "zaxis": {
            "backgroundcolor": "#E5ECF6",
            "gridcolor": "white",
            "gridwidth": 2,
            "linecolor": "white",
            "showbackground": true,
            "ticks": "",
            "zerolinecolor": "white"
           }
          },
          "shapedefaults": {
           "line": {
            "color": "#2a3f5f"
           }
          },
          "ternary": {
           "aaxis": {
            "gridcolor": "white",
            "linecolor": "white",
            "ticks": ""
           },
           "baxis": {
            "gridcolor": "white",
            "linecolor": "white",
            "ticks": ""
           },
           "bgcolor": "#E5ECF6",
           "caxis": {
            "gridcolor": "white",
            "linecolor": "white",
            "ticks": ""
           }
          },
          "title": {
           "x": 0.05
          },
          "xaxis": {
           "automargin": true,
           "gridcolor": "white",
           "linecolor": "white",
           "ticks": "",
           "title": {
            "standoff": 15
           },
           "zerolinecolor": "white",
           "zerolinewidth": 2
          },
          "yaxis": {
           "automargin": true,
           "gridcolor": "white",
           "linecolor": "white",
           "ticks": "",
           "title": {
            "standoff": 15
           },
           "zerolinecolor": "white",
           "zerolinewidth": 2
          }
         }
        },
        "title": {
         "text": "Top 20 bigrams in the question text after removing stop words and lemmatization"
        }
       }
      },
      "text/html": [
       "<div>\n",
       "        \n",
       "        \n",
       "            <div id=\"92d867ab-8c25-482e-baaf-93997055f19f\" class=\"plotly-graph-div\" style=\"height:525px; width:100%;\"></div>\n",
       "            <script type=\"text/javascript\">\n",
       "                require([\"plotly\"], function(Plotly) {\n",
       "                    window.PLOTLYENV=window.PLOTLYENV || {};\n",
       "                    \n",
       "                if (document.getElementById(\"92d867ab-8c25-482e-baaf-93997055f19f\")) {\n",
       "                    Plotly.newPlot(\n",
       "                        '92d867ab-8c25-482e-baaf-93997055f19f',\n",
       "                        [{\"type\": \"bar\", \"x\": [\"eiffel tower\", \"blue mosque\", \"notre dame\", \"make sure\", \"opera house\", \"grand bazaar\", \"visit paris\", \"spend day\", \"highly recommend\", \"beautiful city\", \"great place\", \"place visit\", \"just return\", \"speak english\", \"day trip\", \"tour guide\", \"topkapi palace\", \"trip paris\", \"feel like\", \"people friendly\"], \"y\": [196, 121, 115, 87, 85, 81, 81, 77, 72, 69, 66, 64, 63, 63, 61, 61, 57, 57, 54, 52]}],\n",
       "                        {\"template\": {\"data\": {\"bar\": [{\"error_x\": {\"color\": \"#2a3f5f\"}, \"error_y\": {\"color\": \"#2a3f5f\"}, \"marker\": {\"line\": {\"color\": \"#E5ECF6\", \"width\": 0.5}}, \"type\": \"bar\"}], \"barpolar\": [{\"marker\": {\"line\": {\"color\": \"#E5ECF6\", \"width\": 0.5}}, \"type\": \"barpolar\"}], \"carpet\": [{\"aaxis\": {\"endlinecolor\": \"#2a3f5f\", \"gridcolor\": \"white\", \"linecolor\": \"white\", \"minorgridcolor\": \"white\", \"startlinecolor\": \"#2a3f5f\"}, \"baxis\": {\"endlinecolor\": \"#2a3f5f\", \"gridcolor\": \"white\", \"linecolor\": \"white\", \"minorgridcolor\": \"white\", \"startlinecolor\": \"#2a3f5f\"}, \"type\": \"carpet\"}], \"choropleth\": [{\"colorbar\": {\"outlinewidth\": 0, \"ticks\": \"\"}, \"type\": \"choropleth\"}], \"contour\": [{\"colorbar\": {\"outlinewidth\": 0, \"ticks\": \"\"}, \"colorscale\": [[0.0, \"#0d0887\"], [0.1111111111111111, \"#46039f\"], [0.2222222222222222, \"#7201a8\"], [0.3333333333333333, \"#9c179e\"], [0.4444444444444444, \"#bd3786\"], [0.5555555555555556, \"#d8576b\"], [0.6666666666666666, \"#ed7953\"], [0.7777777777777778, \"#fb9f3a\"], [0.8888888888888888, \"#fdca26\"], [1.0, \"#f0f921\"]], \"type\": \"contour\"}], \"contourcarpet\": [{\"colorbar\": {\"outlinewidth\": 0, \"ticks\": \"\"}, \"type\": \"contourcarpet\"}], \"heatmap\": [{\"colorbar\": {\"outlinewidth\": 0, \"ticks\": \"\"}, \"colorscale\": [[0.0, \"#0d0887\"], [0.1111111111111111, \"#46039f\"], [0.2222222222222222, \"#7201a8\"], [0.3333333333333333, \"#9c179e\"], [0.4444444444444444, \"#bd3786\"], [0.5555555555555556, \"#d8576b\"], [0.6666666666666666, \"#ed7953\"], [0.7777777777777778, \"#fb9f3a\"], [0.8888888888888888, \"#fdca26\"], [1.0, \"#f0f921\"]], \"type\": \"heatmap\"}], \"heatmapgl\": [{\"colorbar\": {\"outlinewidth\": 0, \"ticks\": \"\"}, \"colorscale\": [[0.0, \"#0d0887\"], [0.1111111111111111, \"#46039f\"], [0.2222222222222222, \"#7201a8\"], [0.3333333333333333, \"#9c179e\"], [0.4444444444444444, \"#bd3786\"], [0.5555555555555556, \"#d8576b\"], [0.6666666666666666, \"#ed7953\"], [0.7777777777777778, \"#fb9f3a\"], [0.8888888888888888, \"#fdca26\"], [1.0, \"#f0f921\"]], \"type\": \"heatmapgl\"}], \"histogram\": [{\"marker\": {\"colorbar\": {\"outlinewidth\": 0, \"ticks\": \"\"}}, \"type\": \"histogram\"}], \"histogram2d\": [{\"colorbar\": {\"outlinewidth\": 0, \"ticks\": \"\"}, \"colorscale\": [[0.0, \"#0d0887\"], [0.1111111111111111, \"#46039f\"], [0.2222222222222222, \"#7201a8\"], [0.3333333333333333, \"#9c179e\"], [0.4444444444444444, \"#bd3786\"], [0.5555555555555556, \"#d8576b\"], [0.6666666666666666, \"#ed7953\"], [0.7777777777777778, \"#fb9f3a\"], [0.8888888888888888, \"#fdca26\"], [1.0, \"#f0f921\"]], \"type\": \"histogram2d\"}], \"histogram2dcontour\": [{\"colorbar\": {\"outlinewidth\": 0, \"ticks\": \"\"}, \"colorscale\": [[0.0, \"#0d0887\"], [0.1111111111111111, \"#46039f\"], [0.2222222222222222, \"#7201a8\"], [0.3333333333333333, \"#9c179e\"], [0.4444444444444444, \"#bd3786\"], [0.5555555555555556, \"#d8576b\"], [0.6666666666666666, \"#ed7953\"], [0.7777777777777778, \"#fb9f3a\"], [0.8888888888888888, \"#fdca26\"], [1.0, \"#f0f921\"]], \"type\": \"histogram2dcontour\"}], \"mesh3d\": [{\"colorbar\": {\"outlinewidth\": 0, \"ticks\": \"\"}, \"type\": \"mesh3d\"}], \"parcoords\": [{\"line\": {\"colorbar\": {\"outlinewidth\": 0, \"ticks\": \"\"}}, \"type\": \"parcoords\"}], \"pie\": [{\"automargin\": true, \"type\": \"pie\"}], \"scatter\": [{\"marker\": {\"colorbar\": {\"outlinewidth\": 0, \"ticks\": \"\"}}, \"type\": \"scatter\"}], \"scatter3d\": [{\"line\": {\"colorbar\": {\"outlinewidth\": 0, \"ticks\": \"\"}}, \"marker\": {\"colorbar\": {\"outlinewidth\": 0, \"ticks\": \"\"}}, \"type\": \"scatter3d\"}], \"scattercarpet\": [{\"marker\": {\"colorbar\": {\"outlinewidth\": 0, \"ticks\": \"\"}}, \"type\": \"scattercarpet\"}], \"scattergeo\": [{\"marker\": {\"colorbar\": {\"outlinewidth\": 0, \"ticks\": \"\"}}, \"type\": \"scattergeo\"}], \"scattergl\": [{\"marker\": {\"colorbar\": {\"outlinewidth\": 0, \"ticks\": \"\"}}, \"type\": \"scattergl\"}], \"scattermapbox\": [{\"marker\": {\"colorbar\": {\"outlinewidth\": 0, \"ticks\": \"\"}}, \"type\": \"scattermapbox\"}], \"scatterpolar\": [{\"marker\": {\"colorbar\": {\"outlinewidth\": 0, \"ticks\": \"\"}}, \"type\": \"scatterpolar\"}], \"scatterpolargl\": [{\"marker\": {\"colorbar\": {\"outlinewidth\": 0, \"ticks\": \"\"}}, \"type\": \"scatterpolargl\"}], \"scatterternary\": [{\"marker\": {\"colorbar\": {\"outlinewidth\": 0, \"ticks\": \"\"}}, \"type\": \"scatterternary\"}], \"surface\": [{\"colorbar\": {\"outlinewidth\": 0, \"ticks\": \"\"}, \"colorscale\": [[0.0, \"#0d0887\"], [0.1111111111111111, \"#46039f\"], [0.2222222222222222, \"#7201a8\"], [0.3333333333333333, \"#9c179e\"], [0.4444444444444444, \"#bd3786\"], [0.5555555555555556, \"#d8576b\"], [0.6666666666666666, \"#ed7953\"], [0.7777777777777778, \"#fb9f3a\"], [0.8888888888888888, \"#fdca26\"], [1.0, \"#f0f921\"]], \"type\": \"surface\"}], \"table\": [{\"cells\": {\"fill\": {\"color\": \"#EBF0F8\"}, \"line\": {\"color\": \"white\"}}, \"header\": {\"fill\": {\"color\": \"#C8D4E3\"}, \"line\": {\"color\": \"white\"}}, \"type\": \"table\"}]}, \"layout\": {\"annotationdefaults\": {\"arrowcolor\": \"#2a3f5f\", \"arrowhead\": 0, \"arrowwidth\": 1}, \"coloraxis\": {\"colorbar\": {\"outlinewidth\": 0, \"ticks\": \"\"}}, \"colorscale\": {\"diverging\": [[0, \"#8e0152\"], [0.1, \"#c51b7d\"], [0.2, \"#de77ae\"], [0.3, \"#f1b6da\"], [0.4, \"#fde0ef\"], [0.5, \"#f7f7f7\"], [0.6, \"#e6f5d0\"], [0.7, \"#b8e186\"], [0.8, \"#7fbc41\"], [0.9, \"#4d9221\"], [1, \"#276419\"]], \"sequential\": [[0.0, \"#0d0887\"], [0.1111111111111111, \"#46039f\"], [0.2222222222222222, \"#7201a8\"], [0.3333333333333333, \"#9c179e\"], [0.4444444444444444, \"#bd3786\"], [0.5555555555555556, \"#d8576b\"], [0.6666666666666666, \"#ed7953\"], [0.7777777777777778, \"#fb9f3a\"], [0.8888888888888888, \"#fdca26\"], [1.0, \"#f0f921\"]], \"sequentialminus\": [[0.0, \"#0d0887\"], [0.1111111111111111, \"#46039f\"], [0.2222222222222222, \"#7201a8\"], [0.3333333333333333, \"#9c179e\"], [0.4444444444444444, \"#bd3786\"], [0.5555555555555556, \"#d8576b\"], [0.6666666666666666, \"#ed7953\"], [0.7777777777777778, \"#fb9f3a\"], [0.8888888888888888, \"#fdca26\"], [1.0, \"#f0f921\"]]}, \"colorway\": [\"#636efa\", \"#EF553B\", \"#00cc96\", \"#ab63fa\", \"#FFA15A\", \"#19d3f3\", \"#FF6692\", \"#B6E880\", \"#FF97FF\", \"#FECB52\"], \"font\": {\"color\": \"#2a3f5f\"}, \"geo\": {\"bgcolor\": \"white\", \"lakecolor\": \"white\", \"landcolor\": \"#E5ECF6\", \"showlakes\": true, \"showland\": true, \"subunitcolor\": \"white\"}, \"hoverlabel\": {\"align\": \"left\"}, \"hovermode\": \"closest\", \"mapbox\": {\"style\": \"light\"}, \"paper_bgcolor\": \"white\", \"plot_bgcolor\": \"#E5ECF6\", \"polar\": {\"angularaxis\": {\"gridcolor\": \"white\", \"linecolor\": \"white\", \"ticks\": \"\"}, \"bgcolor\": \"#E5ECF6\", \"radialaxis\": {\"gridcolor\": \"white\", \"linecolor\": \"white\", \"ticks\": \"\"}}, \"scene\": {\"xaxis\": {\"backgroundcolor\": \"#E5ECF6\", \"gridcolor\": \"white\", \"gridwidth\": 2, \"linecolor\": \"white\", \"showbackground\": true, \"ticks\": \"\", \"zerolinecolor\": \"white\"}, \"yaxis\": {\"backgroundcolor\": \"#E5ECF6\", \"gridcolor\": \"white\", \"gridwidth\": 2, \"linecolor\": \"white\", \"showbackground\": true, \"ticks\": \"\", \"zerolinecolor\": \"white\"}, \"zaxis\": {\"backgroundcolor\": \"#E5ECF6\", \"gridcolor\": \"white\", \"gridwidth\": 2, \"linecolor\": \"white\", \"showbackground\": true, \"ticks\": \"\", \"zerolinecolor\": \"white\"}}, \"shapedefaults\": {\"line\": {\"color\": \"#2a3f5f\"}}, \"ternary\": {\"aaxis\": {\"gridcolor\": \"white\", \"linecolor\": \"white\", \"ticks\": \"\"}, \"baxis\": {\"gridcolor\": \"white\", \"linecolor\": \"white\", \"ticks\": \"\"}, \"bgcolor\": \"#E5ECF6\", \"caxis\": {\"gridcolor\": \"white\", \"linecolor\": \"white\", \"ticks\": \"\"}}, \"title\": {\"x\": 0.05}, \"xaxis\": {\"automargin\": true, \"gridcolor\": \"white\", \"linecolor\": \"white\", \"ticks\": \"\", \"title\": {\"standoff\": 15}, \"zerolinecolor\": \"white\", \"zerolinewidth\": 2}, \"yaxis\": {\"automargin\": true, \"gridcolor\": \"white\", \"linecolor\": \"white\", \"ticks\": \"\", \"title\": {\"standoff\": 15}, \"zerolinecolor\": \"white\", \"zerolinewidth\": 2}}}, \"title\": {\"text\": \"Top 20 bigrams in the question text after removing stop words and lemmatization\"}},\n",
       "                        {\"responsive\": true}\n",
       "                    ).then(function(){\n",
       "                            \n",
       "var gd = document.getElementById('92d867ab-8c25-482e-baaf-93997055f19f');\n",
       "var x = new MutationObserver(function (mutations, observer) {{\n",
       "        var display = window.getComputedStyle(gd).display;\n",
       "        if (!display || display === 'none') {{\n",
       "            console.log([gd, 'removed!']);\n",
       "            Plotly.purge(gd);\n",
       "            observer.disconnect();\n",
       "        }}\n",
       "}});\n",
       "\n",
       "// Listen for the removal of the full notebook cells\n",
       "var notebookContainer = gd.closest('#notebook-container');\n",
       "if (notebookContainer) {{\n",
       "    x.observe(notebookContainer, {childList: true});\n",
       "}}\n",
       "\n",
       "// Listen for the clearing of the current output cell\n",
       "var outputEl = gd.closest('.output');\n",
       "if (outputEl) {{\n",
       "    x.observe(outputEl, {childList: true});\n",
       "}}\n",
       "\n",
       "                        })\n",
       "                };\n",
       "                });\n",
       "            </script>\n",
       "        </div>"
      ]
     },
     "metadata": {},
     "output_type": "display_data"
    }
   ],
   "source": [
    "def get_top_n_bigram(corpus, n=None):\n",
    "    vec = CountVectorizer(ngram_range=(2, 2), stop_words='english').fit(corpus)\n",
    "    bag_of_words = vec.transform(corpus)\n",
    "    sum_words = bag_of_words.sum(axis=0) \n",
    "    words_freq = [(word, sum_words[0, idx]) for word, idx in vec.vocabulary_.items()]\n",
    "    words_freq =sorted(words_freq, key = lambda x: x[1], reverse=True)\n",
    "    return words_freq[:n]\n",
    "common_words = get_top_n_bigram(df_clean['question_lemmatize_clean'], 20)\n",
    "df3 = pd.DataFrame(common_words, columns = ['bigram' , 'count'])\n",
    "\n",
    "fig = go.Figure([go.Bar(x=df3['bigram'], y=df3['count'])])\n",
    "fig.update_layout(title=go.layout.Title(text=\"Top 20 bigrams in the question text after removing stop words and lemmatization\"))\n",
    "fig.show()"
   ]
  },
  {
   "cell_type": "code",
   "execution_count": 24,
   "metadata": {},
   "outputs": [
    {
     "data": {
      "application/vnd.plotly.v1+json": {
       "config": {
        "plotlyServerURL": "https://plot.ly"
       },
       "data": [
        {
         "type": "bar",
         "x": [
          "phi phi island",
          "gare du nord",
          "blue mosque hagia",
          "sophia blue mosque",
          "mosque hagia sophia",
          "tower notre dame",
          "just return day",
          "beautiful city world",
          "east meet west",
          "paris beautiful city",
          "new year eve",
          "just return week",
          "great place visit",
          "hagia sophia blue",
          "visit eiffel tower",
          "place la concorde",
          "eiffel tower notre",
          "return day trip",
          "fall love city",
          "opera house harbour"
         ],
         "y": [
          16,
          16,
          14,
          13,
          12,
          12,
          11,
          11,
          11,
          11,
          10,
          10,
          9,
          9,
          9,
          9,
          9,
          8,
          8,
          8
         ]
        }
       ],
       "layout": {
        "template": {
         "data": {
          "bar": [
           {
            "error_x": {
             "color": "#2a3f5f"
            },
            "error_y": {
             "color": "#2a3f5f"
            },
            "marker": {
             "line": {
              "color": "#E5ECF6",
              "width": 0.5
             }
            },
            "type": "bar"
           }
          ],
          "barpolar": [
           {
            "marker": {
             "line": {
              "color": "#E5ECF6",
              "width": 0.5
             }
            },
            "type": "barpolar"
           }
          ],
          "carpet": [
           {
            "aaxis": {
             "endlinecolor": "#2a3f5f",
             "gridcolor": "white",
             "linecolor": "white",
             "minorgridcolor": "white",
             "startlinecolor": "#2a3f5f"
            },
            "baxis": {
             "endlinecolor": "#2a3f5f",
             "gridcolor": "white",
             "linecolor": "white",
             "minorgridcolor": "white",
             "startlinecolor": "#2a3f5f"
            },
            "type": "carpet"
           }
          ],
          "choropleth": [
           {
            "colorbar": {
             "outlinewidth": 0,
             "ticks": ""
            },
            "type": "choropleth"
           }
          ],
          "contour": [
           {
            "colorbar": {
             "outlinewidth": 0,
             "ticks": ""
            },
            "colorscale": [
             [
              0,
              "#0d0887"
             ],
             [
              0.1111111111111111,
              "#46039f"
             ],
             [
              0.2222222222222222,
              "#7201a8"
             ],
             [
              0.3333333333333333,
              "#9c179e"
             ],
             [
              0.4444444444444444,
              "#bd3786"
             ],
             [
              0.5555555555555556,
              "#d8576b"
             ],
             [
              0.6666666666666666,
              "#ed7953"
             ],
             [
              0.7777777777777778,
              "#fb9f3a"
             ],
             [
              0.8888888888888888,
              "#fdca26"
             ],
             [
              1,
              "#f0f921"
             ]
            ],
            "type": "contour"
           }
          ],
          "contourcarpet": [
           {
            "colorbar": {
             "outlinewidth": 0,
             "ticks": ""
            },
            "type": "contourcarpet"
           }
          ],
          "heatmap": [
           {
            "colorbar": {
             "outlinewidth": 0,
             "ticks": ""
            },
            "colorscale": [
             [
              0,
              "#0d0887"
             ],
             [
              0.1111111111111111,
              "#46039f"
             ],
             [
              0.2222222222222222,
              "#7201a8"
             ],
             [
              0.3333333333333333,
              "#9c179e"
             ],
             [
              0.4444444444444444,
              "#bd3786"
             ],
             [
              0.5555555555555556,
              "#d8576b"
             ],
             [
              0.6666666666666666,
              "#ed7953"
             ],
             [
              0.7777777777777778,
              "#fb9f3a"
             ],
             [
              0.8888888888888888,
              "#fdca26"
             ],
             [
              1,
              "#f0f921"
             ]
            ],
            "type": "heatmap"
           }
          ],
          "heatmapgl": [
           {
            "colorbar": {
             "outlinewidth": 0,
             "ticks": ""
            },
            "colorscale": [
             [
              0,
              "#0d0887"
             ],
             [
              0.1111111111111111,
              "#46039f"
             ],
             [
              0.2222222222222222,
              "#7201a8"
             ],
             [
              0.3333333333333333,
              "#9c179e"
             ],
             [
              0.4444444444444444,
              "#bd3786"
             ],
             [
              0.5555555555555556,
              "#d8576b"
             ],
             [
              0.6666666666666666,
              "#ed7953"
             ],
             [
              0.7777777777777778,
              "#fb9f3a"
             ],
             [
              0.8888888888888888,
              "#fdca26"
             ],
             [
              1,
              "#f0f921"
             ]
            ],
            "type": "heatmapgl"
           }
          ],
          "histogram": [
           {
            "marker": {
             "colorbar": {
              "outlinewidth": 0,
              "ticks": ""
             }
            },
            "type": "histogram"
           }
          ],
          "histogram2d": [
           {
            "colorbar": {
             "outlinewidth": 0,
             "ticks": ""
            },
            "colorscale": [
             [
              0,
              "#0d0887"
             ],
             [
              0.1111111111111111,
              "#46039f"
             ],
             [
              0.2222222222222222,
              "#7201a8"
             ],
             [
              0.3333333333333333,
              "#9c179e"
             ],
             [
              0.4444444444444444,
              "#bd3786"
             ],
             [
              0.5555555555555556,
              "#d8576b"
             ],
             [
              0.6666666666666666,
              "#ed7953"
             ],
             [
              0.7777777777777778,
              "#fb9f3a"
             ],
             [
              0.8888888888888888,
              "#fdca26"
             ],
             [
              1,
              "#f0f921"
             ]
            ],
            "type": "histogram2d"
           }
          ],
          "histogram2dcontour": [
           {
            "colorbar": {
             "outlinewidth": 0,
             "ticks": ""
            },
            "colorscale": [
             [
              0,
              "#0d0887"
             ],
             [
              0.1111111111111111,
              "#46039f"
             ],
             [
              0.2222222222222222,
              "#7201a8"
             ],
             [
              0.3333333333333333,
              "#9c179e"
             ],
             [
              0.4444444444444444,
              "#bd3786"
             ],
             [
              0.5555555555555556,
              "#d8576b"
             ],
             [
              0.6666666666666666,
              "#ed7953"
             ],
             [
              0.7777777777777778,
              "#fb9f3a"
             ],
             [
              0.8888888888888888,
              "#fdca26"
             ],
             [
              1,
              "#f0f921"
             ]
            ],
            "type": "histogram2dcontour"
           }
          ],
          "mesh3d": [
           {
            "colorbar": {
             "outlinewidth": 0,
             "ticks": ""
            },
            "type": "mesh3d"
           }
          ],
          "parcoords": [
           {
            "line": {
             "colorbar": {
              "outlinewidth": 0,
              "ticks": ""
             }
            },
            "type": "parcoords"
           }
          ],
          "pie": [
           {
            "automargin": true,
            "type": "pie"
           }
          ],
          "scatter": [
           {
            "marker": {
             "colorbar": {
              "outlinewidth": 0,
              "ticks": ""
             }
            },
            "type": "scatter"
           }
          ],
          "scatter3d": [
           {
            "line": {
             "colorbar": {
              "outlinewidth": 0,
              "ticks": ""
             }
            },
            "marker": {
             "colorbar": {
              "outlinewidth": 0,
              "ticks": ""
             }
            },
            "type": "scatter3d"
           }
          ],
          "scattercarpet": [
           {
            "marker": {
             "colorbar": {
              "outlinewidth": 0,
              "ticks": ""
             }
            },
            "type": "scattercarpet"
           }
          ],
          "scattergeo": [
           {
            "marker": {
             "colorbar": {
              "outlinewidth": 0,
              "ticks": ""
             }
            },
            "type": "scattergeo"
           }
          ],
          "scattergl": [
           {
            "marker": {
             "colorbar": {
              "outlinewidth": 0,
              "ticks": ""
             }
            },
            "type": "scattergl"
           }
          ],
          "scattermapbox": [
           {
            "marker": {
             "colorbar": {
              "outlinewidth": 0,
              "ticks": ""
             }
            },
            "type": "scattermapbox"
           }
          ],
          "scatterpolar": [
           {
            "marker": {
             "colorbar": {
              "outlinewidth": 0,
              "ticks": ""
             }
            },
            "type": "scatterpolar"
           }
          ],
          "scatterpolargl": [
           {
            "marker": {
             "colorbar": {
              "outlinewidth": 0,
              "ticks": ""
             }
            },
            "type": "scatterpolargl"
           }
          ],
          "scatterternary": [
           {
            "marker": {
             "colorbar": {
              "outlinewidth": 0,
              "ticks": ""
             }
            },
            "type": "scatterternary"
           }
          ],
          "surface": [
           {
            "colorbar": {
             "outlinewidth": 0,
             "ticks": ""
            },
            "colorscale": [
             [
              0,
              "#0d0887"
             ],
             [
              0.1111111111111111,
              "#46039f"
             ],
             [
              0.2222222222222222,
              "#7201a8"
             ],
             [
              0.3333333333333333,
              "#9c179e"
             ],
             [
              0.4444444444444444,
              "#bd3786"
             ],
             [
              0.5555555555555556,
              "#d8576b"
             ],
             [
              0.6666666666666666,
              "#ed7953"
             ],
             [
              0.7777777777777778,
              "#fb9f3a"
             ],
             [
              0.8888888888888888,
              "#fdca26"
             ],
             [
              1,
              "#f0f921"
             ]
            ],
            "type": "surface"
           }
          ],
          "table": [
           {
            "cells": {
             "fill": {
              "color": "#EBF0F8"
             },
             "line": {
              "color": "white"
             }
            },
            "header": {
             "fill": {
              "color": "#C8D4E3"
             },
             "line": {
              "color": "white"
             }
            },
            "type": "table"
           }
          ]
         },
         "layout": {
          "annotationdefaults": {
           "arrowcolor": "#2a3f5f",
           "arrowhead": 0,
           "arrowwidth": 1
          },
          "coloraxis": {
           "colorbar": {
            "outlinewidth": 0,
            "ticks": ""
           }
          },
          "colorscale": {
           "diverging": [
            [
             0,
             "#8e0152"
            ],
            [
             0.1,
             "#c51b7d"
            ],
            [
             0.2,
             "#de77ae"
            ],
            [
             0.3,
             "#f1b6da"
            ],
            [
             0.4,
             "#fde0ef"
            ],
            [
             0.5,
             "#f7f7f7"
            ],
            [
             0.6,
             "#e6f5d0"
            ],
            [
             0.7,
             "#b8e186"
            ],
            [
             0.8,
             "#7fbc41"
            ],
            [
             0.9,
             "#4d9221"
            ],
            [
             1,
             "#276419"
            ]
           ],
           "sequential": [
            [
             0,
             "#0d0887"
            ],
            [
             0.1111111111111111,
             "#46039f"
            ],
            [
             0.2222222222222222,
             "#7201a8"
            ],
            [
             0.3333333333333333,
             "#9c179e"
            ],
            [
             0.4444444444444444,
             "#bd3786"
            ],
            [
             0.5555555555555556,
             "#d8576b"
            ],
            [
             0.6666666666666666,
             "#ed7953"
            ],
            [
             0.7777777777777778,
             "#fb9f3a"
            ],
            [
             0.8888888888888888,
             "#fdca26"
            ],
            [
             1,
             "#f0f921"
            ]
           ],
           "sequentialminus": [
            [
             0,
             "#0d0887"
            ],
            [
             0.1111111111111111,
             "#46039f"
            ],
            [
             0.2222222222222222,
             "#7201a8"
            ],
            [
             0.3333333333333333,
             "#9c179e"
            ],
            [
             0.4444444444444444,
             "#bd3786"
            ],
            [
             0.5555555555555556,
             "#d8576b"
            ],
            [
             0.6666666666666666,
             "#ed7953"
            ],
            [
             0.7777777777777778,
             "#fb9f3a"
            ],
            [
             0.8888888888888888,
             "#fdca26"
            ],
            [
             1,
             "#f0f921"
            ]
           ]
          },
          "colorway": [
           "#636efa",
           "#EF553B",
           "#00cc96",
           "#ab63fa",
           "#FFA15A",
           "#19d3f3",
           "#FF6692",
           "#B6E880",
           "#FF97FF",
           "#FECB52"
          ],
          "font": {
           "color": "#2a3f5f"
          },
          "geo": {
           "bgcolor": "white",
           "lakecolor": "white",
           "landcolor": "#E5ECF6",
           "showlakes": true,
           "showland": true,
           "subunitcolor": "white"
          },
          "hoverlabel": {
           "align": "left"
          },
          "hovermode": "closest",
          "mapbox": {
           "style": "light"
          },
          "paper_bgcolor": "white",
          "plot_bgcolor": "#E5ECF6",
          "polar": {
           "angularaxis": {
            "gridcolor": "white",
            "linecolor": "white",
            "ticks": ""
           },
           "bgcolor": "#E5ECF6",
           "radialaxis": {
            "gridcolor": "white",
            "linecolor": "white",
            "ticks": ""
           }
          },
          "scene": {
           "xaxis": {
            "backgroundcolor": "#E5ECF6",
            "gridcolor": "white",
            "gridwidth": 2,
            "linecolor": "white",
            "showbackground": true,
            "ticks": "",
            "zerolinecolor": "white"
           },
           "yaxis": {
            "backgroundcolor": "#E5ECF6",
            "gridcolor": "white",
            "gridwidth": 2,
            "linecolor": "white",
            "showbackground": true,
            "ticks": "",
            "zerolinecolor": "white"
           },
           "zaxis": {
            "backgroundcolor": "#E5ECF6",
            "gridcolor": "white",
            "gridwidth": 2,
            "linecolor": "white",
            "showbackground": true,
            "ticks": "",
            "zerolinecolor": "white"
           }
          },
          "shapedefaults": {
           "line": {
            "color": "#2a3f5f"
           }
          },
          "ternary": {
           "aaxis": {
            "gridcolor": "white",
            "linecolor": "white",
            "ticks": ""
           },
           "baxis": {
            "gridcolor": "white",
            "linecolor": "white",
            "ticks": ""
           },
           "bgcolor": "#E5ECF6",
           "caxis": {
            "gridcolor": "white",
            "linecolor": "white",
            "ticks": ""
           }
          },
          "title": {
           "x": 0.05
          },
          "xaxis": {
           "automargin": true,
           "gridcolor": "white",
           "linecolor": "white",
           "ticks": "",
           "title": {
            "standoff": 15
           },
           "zerolinecolor": "white",
           "zerolinewidth": 2
          },
          "yaxis": {
           "automargin": true,
           "gridcolor": "white",
           "linecolor": "white",
           "ticks": "",
           "title": {
            "standoff": 15
           },
           "zerolinecolor": "white",
           "zerolinewidth": 2
          }
         }
        },
        "title": {
         "text": "Top 20 trigrams in the question text"
        }
       }
      },
      "text/html": [
       "<div>\n",
       "        \n",
       "        \n",
       "            <div id=\"79c4fea1-73fe-4b0e-be02-48b0db740060\" class=\"plotly-graph-div\" style=\"height:525px; width:100%;\"></div>\n",
       "            <script type=\"text/javascript\">\n",
       "                require([\"plotly\"], function(Plotly) {\n",
       "                    window.PLOTLYENV=window.PLOTLYENV || {};\n",
       "                    \n",
       "                if (document.getElementById(\"79c4fea1-73fe-4b0e-be02-48b0db740060\")) {\n",
       "                    Plotly.newPlot(\n",
       "                        '79c4fea1-73fe-4b0e-be02-48b0db740060',\n",
       "                        [{\"type\": \"bar\", \"x\": [\"phi phi island\", \"gare du nord\", \"blue mosque hagia\", \"sophia blue mosque\", \"mosque hagia sophia\", \"tower notre dame\", \"just return day\", \"beautiful city world\", \"east meet west\", \"paris beautiful city\", \"new year eve\", \"just return week\", \"great place visit\", \"hagia sophia blue\", \"visit eiffel tower\", \"place la concorde\", \"eiffel tower notre\", \"return day trip\", \"fall love city\", \"opera house harbour\"], \"y\": [16, 16, 14, 13, 12, 12, 11, 11, 11, 11, 10, 10, 9, 9, 9, 9, 9, 8, 8, 8]}],\n",
       "                        {\"template\": {\"data\": {\"bar\": [{\"error_x\": {\"color\": \"#2a3f5f\"}, \"error_y\": {\"color\": \"#2a3f5f\"}, \"marker\": {\"line\": {\"color\": \"#E5ECF6\", \"width\": 0.5}}, \"type\": \"bar\"}], \"barpolar\": [{\"marker\": {\"line\": {\"color\": \"#E5ECF6\", \"width\": 0.5}}, \"type\": \"barpolar\"}], \"carpet\": [{\"aaxis\": {\"endlinecolor\": \"#2a3f5f\", \"gridcolor\": \"white\", \"linecolor\": \"white\", \"minorgridcolor\": \"white\", \"startlinecolor\": \"#2a3f5f\"}, \"baxis\": {\"endlinecolor\": \"#2a3f5f\", \"gridcolor\": \"white\", \"linecolor\": \"white\", \"minorgridcolor\": \"white\", \"startlinecolor\": \"#2a3f5f\"}, \"type\": \"carpet\"}], \"choropleth\": [{\"colorbar\": {\"outlinewidth\": 0, \"ticks\": \"\"}, \"type\": \"choropleth\"}], \"contour\": [{\"colorbar\": {\"outlinewidth\": 0, \"ticks\": \"\"}, \"colorscale\": [[0.0, \"#0d0887\"], [0.1111111111111111, \"#46039f\"], [0.2222222222222222, \"#7201a8\"], [0.3333333333333333, \"#9c179e\"], [0.4444444444444444, \"#bd3786\"], [0.5555555555555556, \"#d8576b\"], [0.6666666666666666, \"#ed7953\"], [0.7777777777777778, \"#fb9f3a\"], [0.8888888888888888, \"#fdca26\"], [1.0, \"#f0f921\"]], \"type\": \"contour\"}], \"contourcarpet\": [{\"colorbar\": {\"outlinewidth\": 0, \"ticks\": \"\"}, \"type\": \"contourcarpet\"}], \"heatmap\": [{\"colorbar\": {\"outlinewidth\": 0, \"ticks\": \"\"}, \"colorscale\": [[0.0, \"#0d0887\"], [0.1111111111111111, \"#46039f\"], [0.2222222222222222, \"#7201a8\"], [0.3333333333333333, \"#9c179e\"], [0.4444444444444444, \"#bd3786\"], [0.5555555555555556, \"#d8576b\"], [0.6666666666666666, \"#ed7953\"], [0.7777777777777778, \"#fb9f3a\"], [0.8888888888888888, \"#fdca26\"], [1.0, \"#f0f921\"]], \"type\": \"heatmap\"}], \"heatmapgl\": [{\"colorbar\": {\"outlinewidth\": 0, \"ticks\": \"\"}, \"colorscale\": [[0.0, \"#0d0887\"], [0.1111111111111111, \"#46039f\"], [0.2222222222222222, \"#7201a8\"], [0.3333333333333333, \"#9c179e\"], [0.4444444444444444, \"#bd3786\"], [0.5555555555555556, \"#d8576b\"], [0.6666666666666666, \"#ed7953\"], [0.7777777777777778, \"#fb9f3a\"], [0.8888888888888888, \"#fdca26\"], [1.0, \"#f0f921\"]], \"type\": \"heatmapgl\"}], \"histogram\": [{\"marker\": {\"colorbar\": {\"outlinewidth\": 0, \"ticks\": \"\"}}, \"type\": \"histogram\"}], \"histogram2d\": [{\"colorbar\": {\"outlinewidth\": 0, \"ticks\": \"\"}, \"colorscale\": [[0.0, \"#0d0887\"], [0.1111111111111111, \"#46039f\"], [0.2222222222222222, \"#7201a8\"], [0.3333333333333333, \"#9c179e\"], [0.4444444444444444, \"#bd3786\"], [0.5555555555555556, \"#d8576b\"], [0.6666666666666666, \"#ed7953\"], [0.7777777777777778, \"#fb9f3a\"], [0.8888888888888888, \"#fdca26\"], [1.0, \"#f0f921\"]], \"type\": \"histogram2d\"}], \"histogram2dcontour\": [{\"colorbar\": {\"outlinewidth\": 0, \"ticks\": \"\"}, \"colorscale\": [[0.0, \"#0d0887\"], [0.1111111111111111, \"#46039f\"], [0.2222222222222222, \"#7201a8\"], [0.3333333333333333, \"#9c179e\"], [0.4444444444444444, \"#bd3786\"], [0.5555555555555556, \"#d8576b\"], [0.6666666666666666, \"#ed7953\"], [0.7777777777777778, \"#fb9f3a\"], [0.8888888888888888, \"#fdca26\"], [1.0, \"#f0f921\"]], \"type\": \"histogram2dcontour\"}], \"mesh3d\": [{\"colorbar\": {\"outlinewidth\": 0, \"ticks\": \"\"}, \"type\": \"mesh3d\"}], \"parcoords\": [{\"line\": {\"colorbar\": {\"outlinewidth\": 0, \"ticks\": \"\"}}, \"type\": \"parcoords\"}], \"pie\": [{\"automargin\": true, \"type\": \"pie\"}], \"scatter\": [{\"marker\": {\"colorbar\": {\"outlinewidth\": 0, \"ticks\": \"\"}}, \"type\": \"scatter\"}], \"scatter3d\": [{\"line\": {\"colorbar\": {\"outlinewidth\": 0, \"ticks\": \"\"}}, \"marker\": {\"colorbar\": {\"outlinewidth\": 0, \"ticks\": \"\"}}, \"type\": \"scatter3d\"}], \"scattercarpet\": [{\"marker\": {\"colorbar\": {\"outlinewidth\": 0, \"ticks\": \"\"}}, \"type\": \"scattercarpet\"}], \"scattergeo\": [{\"marker\": {\"colorbar\": {\"outlinewidth\": 0, \"ticks\": \"\"}}, \"type\": \"scattergeo\"}], \"scattergl\": [{\"marker\": {\"colorbar\": {\"outlinewidth\": 0, \"ticks\": \"\"}}, \"type\": \"scattergl\"}], \"scattermapbox\": [{\"marker\": {\"colorbar\": {\"outlinewidth\": 0, \"ticks\": \"\"}}, \"type\": \"scattermapbox\"}], \"scatterpolar\": [{\"marker\": {\"colorbar\": {\"outlinewidth\": 0, \"ticks\": \"\"}}, \"type\": \"scatterpolar\"}], \"scatterpolargl\": [{\"marker\": {\"colorbar\": {\"outlinewidth\": 0, \"ticks\": \"\"}}, \"type\": \"scatterpolargl\"}], \"scatterternary\": [{\"marker\": {\"colorbar\": {\"outlinewidth\": 0, \"ticks\": \"\"}}, \"type\": \"scatterternary\"}], \"surface\": [{\"colorbar\": {\"outlinewidth\": 0, \"ticks\": \"\"}, \"colorscale\": [[0.0, \"#0d0887\"], [0.1111111111111111, \"#46039f\"], [0.2222222222222222, \"#7201a8\"], [0.3333333333333333, \"#9c179e\"], [0.4444444444444444, \"#bd3786\"], [0.5555555555555556, \"#d8576b\"], [0.6666666666666666, \"#ed7953\"], [0.7777777777777778, \"#fb9f3a\"], [0.8888888888888888, \"#fdca26\"], [1.0, \"#f0f921\"]], \"type\": \"surface\"}], \"table\": [{\"cells\": {\"fill\": {\"color\": \"#EBF0F8\"}, \"line\": {\"color\": \"white\"}}, \"header\": {\"fill\": {\"color\": \"#C8D4E3\"}, \"line\": {\"color\": \"white\"}}, \"type\": \"table\"}]}, \"layout\": {\"annotationdefaults\": {\"arrowcolor\": \"#2a3f5f\", \"arrowhead\": 0, \"arrowwidth\": 1}, \"coloraxis\": {\"colorbar\": {\"outlinewidth\": 0, \"ticks\": \"\"}}, \"colorscale\": {\"diverging\": [[0, \"#8e0152\"], [0.1, \"#c51b7d\"], [0.2, \"#de77ae\"], [0.3, \"#f1b6da\"], [0.4, \"#fde0ef\"], [0.5, \"#f7f7f7\"], [0.6, \"#e6f5d0\"], [0.7, \"#b8e186\"], [0.8, \"#7fbc41\"], [0.9, \"#4d9221\"], [1, \"#276419\"]], \"sequential\": [[0.0, \"#0d0887\"], [0.1111111111111111, \"#46039f\"], [0.2222222222222222, \"#7201a8\"], [0.3333333333333333, \"#9c179e\"], [0.4444444444444444, \"#bd3786\"], [0.5555555555555556, \"#d8576b\"], [0.6666666666666666, \"#ed7953\"], [0.7777777777777778, \"#fb9f3a\"], [0.8888888888888888, \"#fdca26\"], [1.0, \"#f0f921\"]], \"sequentialminus\": [[0.0, \"#0d0887\"], [0.1111111111111111, \"#46039f\"], [0.2222222222222222, \"#7201a8\"], [0.3333333333333333, \"#9c179e\"], [0.4444444444444444, \"#bd3786\"], [0.5555555555555556, \"#d8576b\"], [0.6666666666666666, \"#ed7953\"], [0.7777777777777778, \"#fb9f3a\"], [0.8888888888888888, \"#fdca26\"], [1.0, \"#f0f921\"]]}, \"colorway\": [\"#636efa\", \"#EF553B\", \"#00cc96\", \"#ab63fa\", \"#FFA15A\", \"#19d3f3\", \"#FF6692\", \"#B6E880\", \"#FF97FF\", \"#FECB52\"], \"font\": {\"color\": \"#2a3f5f\"}, \"geo\": {\"bgcolor\": \"white\", \"lakecolor\": \"white\", \"landcolor\": \"#E5ECF6\", \"showlakes\": true, \"showland\": true, \"subunitcolor\": \"white\"}, \"hoverlabel\": {\"align\": \"left\"}, \"hovermode\": \"closest\", \"mapbox\": {\"style\": \"light\"}, \"paper_bgcolor\": \"white\", \"plot_bgcolor\": \"#E5ECF6\", \"polar\": {\"angularaxis\": {\"gridcolor\": \"white\", \"linecolor\": \"white\", \"ticks\": \"\"}, \"bgcolor\": \"#E5ECF6\", \"radialaxis\": {\"gridcolor\": \"white\", \"linecolor\": \"white\", \"ticks\": \"\"}}, \"scene\": {\"xaxis\": {\"backgroundcolor\": \"#E5ECF6\", \"gridcolor\": \"white\", \"gridwidth\": 2, \"linecolor\": \"white\", \"showbackground\": true, \"ticks\": \"\", \"zerolinecolor\": \"white\"}, \"yaxis\": {\"backgroundcolor\": \"#E5ECF6\", \"gridcolor\": \"white\", \"gridwidth\": 2, \"linecolor\": \"white\", \"showbackground\": true, \"ticks\": \"\", \"zerolinecolor\": \"white\"}, \"zaxis\": {\"backgroundcolor\": \"#E5ECF6\", \"gridcolor\": \"white\", \"gridwidth\": 2, \"linecolor\": \"white\", \"showbackground\": true, \"ticks\": \"\", \"zerolinecolor\": \"white\"}}, \"shapedefaults\": {\"line\": {\"color\": \"#2a3f5f\"}}, \"ternary\": {\"aaxis\": {\"gridcolor\": \"white\", \"linecolor\": \"white\", \"ticks\": \"\"}, \"baxis\": {\"gridcolor\": \"white\", \"linecolor\": \"white\", \"ticks\": \"\"}, \"bgcolor\": \"#E5ECF6\", \"caxis\": {\"gridcolor\": \"white\", \"linecolor\": \"white\", \"ticks\": \"\"}}, \"title\": {\"x\": 0.05}, \"xaxis\": {\"automargin\": true, \"gridcolor\": \"white\", \"linecolor\": \"white\", \"ticks\": \"\", \"title\": {\"standoff\": 15}, \"zerolinecolor\": \"white\", \"zerolinewidth\": 2}, \"yaxis\": {\"automargin\": true, \"gridcolor\": \"white\", \"linecolor\": \"white\", \"ticks\": \"\", \"title\": {\"standoff\": 15}, \"zerolinecolor\": \"white\", \"zerolinewidth\": 2}}}, \"title\": {\"text\": \"Top 20 trigrams in the question text\"}},\n",
       "                        {\"responsive\": true}\n",
       "                    ).then(function(){\n",
       "                            \n",
       "var gd = document.getElementById('79c4fea1-73fe-4b0e-be02-48b0db740060');\n",
       "var x = new MutationObserver(function (mutations, observer) {{\n",
       "        var display = window.getComputedStyle(gd).display;\n",
       "        if (!display || display === 'none') {{\n",
       "            console.log([gd, 'removed!']);\n",
       "            Plotly.purge(gd);\n",
       "            observer.disconnect();\n",
       "        }}\n",
       "}});\n",
       "\n",
       "// Listen for the removal of the full notebook cells\n",
       "var notebookContainer = gd.closest('#notebook-container');\n",
       "if (notebookContainer) {{\n",
       "    x.observe(notebookContainer, {childList: true});\n",
       "}}\n",
       "\n",
       "// Listen for the clearing of the current output cell\n",
       "var outputEl = gd.closest('.output');\n",
       "if (outputEl) {{\n",
       "    x.observe(outputEl, {childList: true});\n",
       "}}\n",
       "\n",
       "                        })\n",
       "                };\n",
       "                });\n",
       "            </script>\n",
       "        </div>"
      ]
     },
     "metadata": {},
     "output_type": "display_data"
    }
   ],
   "source": [
    "def get_top_n_trigram(corpus, n=None):\n",
    "    vec = CountVectorizer(ngram_range=(3, 3), stop_words='english').fit(corpus)\n",
    "    bag_of_words = vec.transform(corpus)\n",
    "    sum_words = bag_of_words.sum(axis=0) \n",
    "    words_freq = [(word, sum_words[0, idx]) for word, idx in vec.vocabulary_.items()]\n",
    "    words_freq =sorted(words_freq, key = lambda x: x[1], reverse=True)\n",
    "    return words_freq[:n]\n",
    "common_words = get_top_n_trigram(df_clean['question_lemmatize_clean'], 20)\n",
    "df4 = pd.DataFrame(common_words, columns = ['trigram' , 'count'])\n",
    "\n",
    "fig = go.Figure([go.Bar(x=df4['trigram'], y=df4['count'])])\n",
    "fig.update_layout(title=go.layout.Title(text=\"Top 20 trigrams in the question text\"))\n",
    "fig.show()"
   ]
  },
  {
   "cell_type": "code",
   "execution_count": 33,
   "metadata": {},
   "outputs": [
    {
     "data": {
      "image/png": "[encoded data removed]",
      "text/plain": [
       "<Figure size 1080x667.491 with 1 Axes>"
      ]
     },
     "metadata": {
      "needs_background": "light"
     },
     "output_type": "display_data"
    }
   ],
   "source": [
    "# Load the library with the CountVectorizer method\n",
    "from sklearn.feature_extraction.text import CountVectorizer\n",
    "import numpy as np\n",
    "import matplotlib.pyplot as plt\n",
    "import seaborn as sns\n",
    "sns.set_style('whitegrid')\n",
    "%matplotlib inline\n",
    "# Helper function\n",
    "def plot_10_most_common_words(count_data, count_vectorizer):\n",
    "    import matplotlib.pyplot as plt\n",
    "    words = count_vectorizer.get_feature_names()\n",
    "    total_counts = np.zeros(len(words))\n",
    "    for t in count_data:\n",
    "        total_counts+=t.toarray()[0]\n",
    "        \n",
    "    count_dict = (zip(words, total_counts))\n",
    "    count_dict = sorted(count_dict, key=lambda x:x[1], reverse=True)[0:10]\n",
    "    words = [w[0] for w in count_dict]\n",
    "    counts = [w[1] for w in count_dict]\n",
    "    x_pos = np.arange(len(words)) \n",
    "    \n",
    "    plt.figure(2, figsize=(15, 15/1.6180))\n",
    "    plt.subplot(title='10 most common words')\n",
    "    sns.set_context(\"notebook\", font_scale=1.25, rc={\"lines.linewidth\": 2.5})\n",
    "    sns.barplot(x_pos, counts, palette='husl')\n",
    "    plt.xticks(x_pos, words, rotation=90) \n",
    "    plt.xlabel('words')\n",
    "    plt.ylabel('counts')\n",
    "    plt.show()\n",
    "# Initialise the count vectorizer with the English stop words\n",
    "count_vectorizer = CountVectorizer(stop_words='english')\n",
    "# Fit and transform the processed titles\n",
    "count_data = count_vectorizer.fit_transform(df_clean['question_lemmatize_clean'])\n",
    "# Visualise the 10 most common words\n",
    "plot_10_most_common_words(count_data, count_vectorizer)"
   ]
  },
  {
   "cell_type": "code",
   "execution_count": 45,
   "metadata": {},
   "outputs": [
    {
     "name": "stdout",
     "output_type": "stream",
     "text": [
      "Topics found via LDA:\n",
      "\n",
      "Topic #0:\n",
      "sydney city day great tour walk good harbour time place opera house ferry bus visit\n",
      "\n",
      "Topic #1:\n",
      "paris city day time good just place people visit hotel walk great istanbul trip like\n",
      "\n",
      "Topic #2:\n",
      "field daytrip leaf sanctuary thrilling destroy jungle dad carryon moneythe overseas higher achieve insect pacific\n",
      "\n",
      "Topic #3:\n",
      "cusco peru day trip place good city tour inca great time guide visit hotel picchu\n",
      "\n",
      "Topic #4:\n",
      "santorini island place view good beautiful stay fira day hotel visit beach just oia town\n"
     ]
    }
   ],
   "source": [
    "import warnings\n",
    "warnings.simplefilter(\"ignore\", DeprecationWarning)\n",
    "# Load the LDA model from sk-learn\n",
    "from sklearn.decomposition import LatentDirichletAllocation as LDA\n",
    " \n",
    "# Helper function\n",
    "def print_topics(model, count_vectorizer, n_top_words):\n",
    "    words = count_vectorizer.get_feature_names()\n",
    "    for topic_idx, topic in enumerate(model.components_):\n",
    "        print(\"\\nTopic #%d:\" % topic_idx)\n",
    "        print(\" \".join([words[i]\n",
    "                        for i in topic.argsort()[:-n_top_words - 1:-1]]))\n",
    "        \n",
    "# Tweak the two parameters below\n",
    "number_topics = 5\n",
    "number_words = 15\n",
    "# Create and fit the LDA model\n",
    "lda = LDA(n_components=number_topics, n_jobs=-1)\n",
    "lda.fit(count_data)\n",
    "# Print the topics found by the LDA model\n",
    "print(\"Topics found via LDA:\")\n",
    "print_topics(lda, count_vectorizer, number_words)"
   ]
  },
  {
   "cell_type": "code",
   "execution_count": 42,
   "metadata": {
    "collapsed": true
   },
   "outputs": [
    {
     "ename": "IndentationError",
     "evalue": "expected an indented block (<unknown>, line 8)",
     "output_type": "error",
     "traceback": [
      "Traceback \u001b[0;36m(most recent call last)\u001b[0m:\n",
      "  File \u001b[1;32m\"/home/matthew/anaconda3/envs/insight/lib/python3.8/site-packages/IPython/core/interactiveshell.py\"\u001b[0m, line \u001b[1;32m3331\u001b[0m, in \u001b[1;35mrun_code\u001b[0m\n    exec(code_obj, self.user_global_ns, self.user_ns)\n",
      "  File \u001b[1;32m\"<ipython-input-42-e39fe5de6ed8>\"\u001b[0m, line \u001b[1;32m1\u001b[0m, in \u001b[1;35m<module>\u001b[0m\n    get_ipython().run_cell_magic('time', '', \"from pyLDAvis import sklearn as sklearn_lda\\nimport pickle \\nimport pyLDAvis\\nLDAvis_data_filepath = os.path.join('./ldavis_prepared_'+str(number_topics))\\n# # this is a bit time consuming - make the if statement True\\n# # if you want to execute visualization prep yourself\\nif 1 == 1:\\nLDAvis_prepared = sklearn_lda.prepare(lda, count_data, count_vectorizer)\\nwith open(LDAvis_data_filepath, 'w') as f:\\n        pickle.dump(LDAvis_prepared, f)\\n        \\n# load the pre-prepared pyLDAvis data from disk\\nwith open(LDAvis_data_filepath) as f:\\n    LDAvis_prepared = pickle.load(f)\\npyLDAvis.save_html(LDAvis_prepared, './ldavis_prepared_'+ str(number_topics) +'.html')\\n\")\n",
      "  File \u001b[1;32m\"/home/matthew/anaconda3/envs/insight/lib/python3.8/site-packages/IPython/core/interactiveshell.py\"\u001b[0m, line \u001b[1;32m2362\u001b[0m, in \u001b[1;35mrun_cell_magic\u001b[0m\n    result = fn(*args, **kwargs)\n",
      "  File \u001b[1;32m\"<decorator-gen-61>\"\u001b[0m, line \u001b[1;32m2\u001b[0m, in \u001b[1;35mtime\u001b[0m\n",
      "  File \u001b[1;32m\"/home/matthew/anaconda3/envs/insight/lib/python3.8/site-packages/IPython/core/magic.py\"\u001b[0m, line \u001b[1;32m187\u001b[0m, in \u001b[1;35m<lambda>\u001b[0m\n    call = lambda f, *a, **k: f(*a, **k)\n",
      "  File \u001b[1;32m\"/home/matthew/anaconda3/envs/insight/lib/python3.8/site-packages/IPython/core/magics/execution.py\"\u001b[0m, line \u001b[1;32m1268\u001b[0m, in \u001b[1;35mtime\u001b[0m\n    expr_ast = self.shell.compile.ast_parse(expr)\n",
      "\u001b[0;36m  File \u001b[0;32m\"/home/matthew/anaconda3/envs/insight/lib/python3.8/site-packages/IPython/core/compilerop.py\"\u001b[0;36m, line \u001b[0;32m101\u001b[0;36m, in \u001b[0;35mast_parse\u001b[0;36m\u001b[0m\n\u001b[0;31m    return compile(source, filename, symbol, self.flags | PyCF_ONLY_AST, 1)\u001b[0m\n",
      "\u001b[0;36m  File \u001b[0;32m\"<unknown>\"\u001b[0;36m, line \u001b[0;32m8\u001b[0m\n\u001b[0;31m    LDAvis_prepared = sklearn_lda.prepare(lda, count_data, count_vectorizer)\u001b[0m\n\u001b[0m    ^\u001b[0m\n\u001b[0;31mIndentationError\u001b[0m\u001b[0;31m:\u001b[0m expected an indented block\n"
     ]
    }
   ],
   "source": [
    "%%time\n",
    "from pyLDAvis import sklearn as sklearn_lda\n",
    "import pickle \n",
    "import pyLDAvis\n",
    "LDAvis_data_filepath = os.path.join('./ldavis_prepared_'+str(number_topics))\n",
    "# # this is a bit time consuming - make the if statement True\n",
    "# # if you want to execute visualization prep yourself\n",
    "if 1 == 1:\n",
    "LDAvis_prepared = sklearn_lda.prepare(lda, count_data, count_vectorizer)\n",
    "with open(LDAvis_data_filepath, 'w') as f:\n",
    "    pickle.dump(LDAvis_prepared, f)\n",
    "        \n",
    "# load the pre-prepared pyLDAvis data from disk\n",
    "with open(LDAvis_data_filepath) as f:\n",
    "    LDAvis_prepared = pickle.load(f)\n",
    "pyLDAvis.save_html(LDAvis_prepared, './ldavis_prepared_'+ str(number_topics) +'.html')"
   ]
  },
  {
   "cell_type": "code",
   "execution_count": 12,
   "metadata": {},
   "outputs": [],
   "source": [
    "from sklearn.feature_extraction.text import ENGLISH_STOP_WORDS as esw\n",
    "stopWords = ['phuket', 'santorini', 'cusco', 'sydney', 'istanbul', 'florence', 'cape', 'town', 'havana', 'jaipur', 'luxor', 'marrakech', 'rio', 'salzburg', \"beijing\", \"st\", \"petersburg\", 'edinburgh', 'lisbon', 'berlin', \"capetown\", \"www\", \"lisboa\"] + list(esw) "
   ]
  },
  {
   "cell_type": "code",
   "execution_count": 17,
   "metadata": {},
   "outputs": [],
   "source": [
    "vectorizer = CountVectorizer(analyzer='word',       \n",
    "                             min_df=1,                       \n",
    "                             stop_words=stopWords,             \n",
    "                             lowercase=True,                   \n",
    "                             token_pattern='[a-zA-Z0-9]{3,}',  \n",
    "                             max_features=5000, \n",
    "                             max_df = 0.50\n",
    "                            )\n",
    "\n",
    "data_vectorized = vectorizer.fit_transform(df_clean['question_lemmatize_clean'])\n"
   ]
  },
  {
   "cell_type": "code",
   "execution_count": 18,
   "metadata": {},
   "outputs": [
    {
     "data": {
      "text/html": [
       "\n",
       "<link rel=\"stylesheet\" type=\"text/css\" href=\"https://cdn.rawgit.com/bmabey/pyLDAvis/files/ldavis.v1.0.0.css\">\n",
       "\n",
       "\n",
       "<div id=\"ldavis_el20798231405908826654083854201353\"></div>\n",
       "<script type=\"text/javascript\">\n",
       "\n",
       "var ldavis_el20798231405908826654083854201353_data = {\"mdsDat\": {\"x\": [114.34487915039062, 105.821044921875, -138.33447265625, -7.436697483062744, -207.55062866210938, 52.817649841308594, 168.01084899902344, -94.16960144042969, -122.84917449951172, -94.8942642211914, 24.927400588989258, -53.41346740722656, -12.255849838256836, -224.21795654296875, 36.15425491333008], \"y\": [114.30829620361328, -93.74962615966797, 95.32076263427734, 111.25969696044922, -105.47260284423828, 14.603764533996582, 6.806949615478516, -157.78955078125, -39.059417724609375, 195.40829467773438, -180.46487426757812, 26.832107543945312, -72.09320068359375, 28.070581436157227, 209.42758178710938], \"topics\": [1, 2, 3, 4, 5, 6, 7, 8, 9, 10, 11, 12, 13, 14, 15], \"cluster\": [1, 1, 1, 1, 1, 1, 1, 1, 1, 1, 1, 1, 1, 1, 1], \"Freq\": [27.96774461994207, 18.73886158794892, 15.14329583981251, 10.79861257626399, 9.906303067790088, 8.492819600269726, 4.5272729847162685, 4.405855408774493, 0.002747759267311886, 0.002747759262740862, 0.0027477592288600297, 0.002747759216610302, 0.002747759181897786, 0.00274775917773246, 0.00274775914677667]}, \"tinfo\": {\"Term\": [\"mosque\", \"temple\", \"turkish\", \"bazaar\", \"nile\", \"castle\", \"egypt\", \"turkey\", \"peru\", \"fira\", \"harbour\", \"china\", \"riad\", \"oia\", \"opera\", \"cuba\", \"tomb\", \"russian\", \"fort\", \"chinese\", \"karnak\", \"topkapi\", \"russia\", \"sophia\", \"scotland\", \"hagia\", \"egyptian\", \"bosphorus\", \"greece\", \"australia\", \"nile\", \"karnak\", \"topkapi\", \"hagia\", \"rmb\", \"bosphorus\", \"taksim\", \"lira\", \"egypt\", \"turkish\", \"sultanahmet\", \"sophia\", \"galata\", \"hutong\", \"shanghai\", \"mosque\", \"cistern\", \"cairo\", \"aswan\", \"sofia\", \"turkey\", \"bazaar\", \"egyptian\", \"ahmed\", \"bosphorous\", \"china\", \"forbid\", \"ytl\", \"ottoman\", \"aya\", \"temple\", \"chinese\", \"tomb\", \"balloon\", \"carpet\", \"asia\", \"subway\", \"asian\", \"mahal\", \"ipanema\", \"scotland\", \"copacabana\", \"rajasthan\", \"hawa\", \"belem\", \"sintra\", \"rajasthani\", \"portuguese\", \"janeiro\", \"jantar\", \"mantar\", \"loaf\", \"fado\", \"alfama\", \"favela\", \"brazilian\", \"portugal\", \"fort\", \"delhi\", \"brazil\", \"leith\", \"corcovado\", \"scottish\", \"manu\", \"redeemer\", \"sodre\", \"samba\", \"castelo\", \"castle\", \"pink\", \"christ\", \"africa\", \"waterfront\", \"highland\", \"amber\", \"sugar\", \"metro\", \"festival\", \"elephant\", \"tile\", \"bay\", \"duomo\", \"hermitage\", \"pisa\", \"tuscany\", \"uffizi\", \"piazza\", \"vecchio\", \"tuscan\", \"peterhof\", \"michelangelo\", \"palazzo\", \"russia\", \"firenze\", \"alla\", \"chianti\", \"pitti\", \"accademia\", \"ponte\", \"medici\", \"renaissance\", \"croce\", \"tsar\", \"isaac\", \"novella\", \"russian\", \"gelato\", \"nevsky\", \"michaelangelo\", \"florentine\", \"baltic\", \"david\", \"moscow\", \"trattoria\", \"blood\", \"peter\", \"paul\", \"rome\", \"venice\", \"santa\", \"san\", \"visa\", \"maria\", \"catherine\", \"fortress\", \"oia\", \"fira\", \"manly\", \"bondi\", \"quay\", \"darle\", \"perissa\", \"kamari\", \"caldera\", \"harbour\", \"circular\", \"thira\", \"volcano\", \"imerovigli\", \"cliff\", \"koala\", \"volcanic\", \"taronga\", \"australia\", \"greek\", \"akrotiri\", \"coogee\", \"wynard\", \"mykonos\", \"wharf\", \"paddy\", \"kivotos\", \"darling\", \"chinatown\", \"kangaroo\", \"opera\", \"greece\", \"harbor\", \"donkey\", \"australian\", \"aegean\", \"wildlife\", \"aquarium\", \"athens\", \"bay\", \"winery\", \"cable\", \"victoria\", \"sand\", \"patong\", \"phi\", \"kata\", \"cigar\", \"cuba\", \"karon\", \"baht\", \"cuban\", \"habana\", \"cuc\", \"cubans\", \"varadero\", \"chalong\", \"rum\", \"bangla\", \"mojito\", \"canoe\", \"bali\", \"thailand\", \"bht\", \"fantasea\", \"nga\", \"wooddy\", \"phang\", \"pesos\", \"tuk\", \"merlin\", \"malecon\", \"thai\", \"bangkok\", \"casa\", \"tailor\", \"bay\", \"revolution\", \"carlos\", \"crumble\", \"plaza\", \"elephant\", \"restore\", \"temple\", \"riad\", \"mozart\", \"fna\", \"moroccan\", \"austria\", \"medina\", \"souks\", \"atlas\", \"mirabell\", \"morocco\", \"marrakesh\", \"jemaa\", \"handicap\", \"untersberg\", \"berber\", \"dirham\", \"austrian\", \"essaouira\", \"henna\", \"charmer\", \"tagine\", \"majorelle\", \"cous\", \"hohensalzburg\", \"agadir\", \"morroco\", \"morrocan\", \"eagle\", \"tangine\", \"marionette\", \"dar\", \"schloss\", \"snake\", \"munich\", \"alps\", \"fortress\", \"souk\", \"maze\", \"fountain\", \"cart\", \"nest\", \"january\", \"cable\", \"castle\", \"cave\", \"christmas\", \"desert\", \"monkey\", \"bahn\", \"brandenburg\", \"reichstag\", \"holocaust\", \"berliner\", \"charlie\", \"potsdam\", \"potsdamer\", \"checkpoint\", \"linden\", \"platz\", \"unter\", \"alexanderplatz\", \"germany\", \"tor\", \"kreuzberg\", \"nazi\", \"tiergarten\", \"friedrichstrasse\", \"sony\", \"mitte\", \"jeremy\", \"charlottenburg\", \"brandenburger\", \"markt\", \"pergamon\", \"brandenberg\", \"garten\", \"spree\", \"schonefeld\", \"insider\", \"memorial\", \"war\", \"jewish\", \"hitler\", \"den\", \"camp\", \"divide\", \"dome\", \"graffiti\", \"inca\", \"cuzco\", \"peru\", \"altitude\", \"picchu\", \"machu\", \"lima\", \"pichu\", \"macchu\", \"caliente\", \"aguas\", \"puno\", \"alpaca\", \"peruvian\", \"ollantaytambo\", \"pisac\", \"titicaca\", \"acclimate\", \"incan\", \"blas\", \"sacred\", \"machupichu\", \"immersion\", \"sacsayhuaman\", \"coca\", \"sol\", \"sickness\", \"kuoda\", \"galapagos\", \"incas\", \"armas\", \"latin\", \"porter\", \"america\", \"spanish\", \"plaza\", \"antonio\", \"san\", \"temple\", \"festival\", \"morrocco\", \"fatma\", \"blanc\", \"reverence\", \"revolving\", \"php\", \"nouvelle\", \"ingrediant\", \"riu\", \"kniza\", \"rennaissance\", \"ivan\", \"graciously\", \"graceland\", \"murphy\", \"ferblantier\", \"entr\", \"francoise\", \"marakech\", \"djema\", \"mull\", \"gracia\", \"memorail\", \"remainder\", \"jemma\", \"goose\", \"moroccans\", \"gordon\", \"hivernage\", \"renzo\", \"finding\", \"badii\", \"roundabout\", \"les\", \"scar\", \"kosybar\", \"beauiful\", \"yacout\", \"agdal\", \"souks\", \"ouzoud\", \"riad\", \"medina\", \"atlas\", \"dirham\", \"fna\", \"jardin\", \"morocco\", \"morroco\", \"dar\", \"majorelle\", \"moped\", \"moroccan\", \"madness\", \"kasbah\", \"charmer\", \"snake\", \"marrakesh\", \"souk\", \"henna\", \"essaouira\", \"jemaa\", \"maze\", \"opera\", \"berber\", \"circular\", \"tattoo\", \"manly\", \"harbour\", \"mosque\", \"palm\", \"australia\", \"january\", \"china\", \"castle\", \"quay\", \"chinese\", \"temple\", \"cart\", \"turkish\", \"bay\", \"monkey\", \"turkey\", \"ipanema\", \"bazaar\", \"renzo\", \"picoaga\", \"php\", \"nacionale\", \"shie\", \"moray\", \"graciously\", \"itenerary\", \"multimedia\", \"revolving\", \"ivan\", \"griboedova\", \"mauer\", \"musem\", \"mut\", \"oscar\", \"topography\", \"murphys\", \"gorge\", \"jenolan\", \"imposing\", \"gracia\", \"morrocco\", \"mooring\", \"inti\", \"seagull\", \"cultura\", \"persistant\", \"petersburgh\", \"internal\", \"witch\", \"infection\", \"elevation\", \"minus\", \"panama\", \"mumification\", \"assign\", \"snowy\", \"andean\", \"scotts\", \"enquire\", \"napkin\", \"disciplined\", \"peru\", \"inca\", \"portuguese\", \"temple\", \"picchu\", \"chaska\", \"liu\", \"cuzco\", \"sintra\", \"nile\", \"tomb\", \"plaza\", \"cais\", \"machu\", \"metro\", \"china\", \"cascai\", \"altitude\", \"marisa\", \"lima\", \"portugal\", \"chinese\", \"egypt\", \"karnak\", \"rmb\", \"cairo\", \"baixa\", \"subway\", \"alfama\", \"riad\", \"balloon\", \"belem\", \"insider\", \"spanish\", \"sol\", \"egyptian\", \"medina\", \"copacabana\", \"ipanema\", \"castle\", \"jenolan\", \"seduce\", \"remainder\", \"moray\", \"revolving\", \"ingrediant\", \"imposing\", \"toritos\", \"gorge\", \"rennaissance\", \"php\", \"ferblantier\", \"otop\", \"facebook\", \"seahag\", \"seas\", \"moroccans\", \"ozer\", \"marjellchen\", \"mystique\", \"shelf\", \"petersburgh\", \"renzo\", \"graet\", \"multimedia\", \"ria\", \"myer\", \"relive\", \"imprint\", \"kurfurstendamm\", \"prater\", \"dread\", \"marakech\", \"napa\", \"prussian\", \"koutoubia\", \"hindu\", \"hirsch\", \"bhavan\", \"neha\", \"johri\", \"ajmeri\", \"fort\", \"syndey\", \"wholly\", \"mahal\", \"corfu\", \"absence\", \"rajasthani\", \"mandir\", \"fira\", \"pink\", \"soil\", \"rajasthan\", \"stept\", \"oia\", \"hawa\", \"riad\", \"jantar\", \"greek\", \"dhani\", \"walled\", \"perissa\", \"greece\", \"delhi\", \"caldera\", \"cliff\", \"moroccan\", \"agra\", \"amer\", \"mantar\", \"harbour\", \"amber\", \"observatory\", \"opera\", \"donkey\", \"bazaar\", \"mosque\", \"souks\", \"kamari\", \"athens\", \"turkish\", \"turkey\", \"castle\", \"elephant\", \"australia\", \"medina\", \"dome\", \"temple\", \"gracia\", \"inkaterra\", \"renzo\", \"pierce\", \"graciously\", \"ivan\", \"picoaga\", \"gorge\", \"yacout\", \"musem\", \"morrocco\", \"mughal\", \"seahag\", \"moray\", \"mull\", \"relive\", \"peters\", \"personify\", \"seaview\", \"itallian\", \"calientes\", \"jbr\", \"shelf\", \"seashell\", \"unspoilt\", \"jenolan\", \"gordon\", \"murphy\", \"overpay\", \"geburtshaus\", \"graet\", \"raymi\", \"inti\", \"stein\", \"stack\", \"haha\", \"wrought\", \"oktoberf\", \"dread\", \"bluff\", \"repellent\", \"wardrobe\", \"handcraft\", \"poignant\", \"peru\", \"resaurant\", \"battery\", \"kata\", \"mosque\", \"garlic\", \"machu\", \"inca\", \"bazaar\", \"temple\", \"mozart\", \"nile\", \"cuzco\", \"rampal\", \"egypt\", \"turkey\", \"picchu\", \"lima\", \"thai\", \"phi\", \"fort\", \"hagia\", \"mahal\", \"turkish\", \"aswan\", \"pink\", \"patong\", \"altitude\", \"karnak\", \"sacred\", \"tomb\", \"castle\", \"bosphorus\", \"thailand\", \"fortress\", \"taksim\", \"egyptian\", \"topkapi\", \"sophia\", \"renzo\", \"moray\", \"perry\", \"gracia\", \"graciously\", \"inkaterra\", \"seductive\", \"stub\", \"revolving\", \"oscar\", \"picoaga\", \"remainder\", \"mystic\", \"reminisce\", \"php\", \"outsider\", \"murano\", \"jbr\", \"seagull\", \"musem\", \"personify\", \"seduce\", \"bode\", \"exibition\", \"calientes\", \"imposing\", \"outnumber\", \"renieri\", \"nacionale\", \"ivan\", \"izmir\", \"las\", \"environmentally\", \"millennium\", \"literal\", \"splendor\", \"acclimatize\", \"offend\", \"vigilant\", \"comfortably\", \"mafia\", \"balik\", \"turkish\", \"mosque\", \"istambul\", \"chiado\", \"historia\", \"moving\", \"turkey\", \"bazaar\", \"cistern\", \"topkapi\", \"sophia\", \"treasury\", \"lira\", \"bosphorus\", \"mozart\", \"galata\", \"hagia\", \"carpet\", \"horn\", \"sultanahmet\", \"marmara\", \"taksim\", \"ytl\", \"asian\", \"istiklal\", \"peru\", \"bosphorous\", \"cuba\", \"sofia\", \"cuzco\", \"aya\", \"backpacker\", \"caddesi\", \"rome\", \"africa\", \"asia\", \"cuban\", \"metro\", \"fortress\", \"castle\", \"renzo\", \"itwas\", \"gala\", \"rembrandt\", \"foster\", \"php\", \"shield\", \"galileo\", \"rennaissance\", \"overpay\", \"murano\", \"myer\", \"perry\", \"graceland\", \"moray\", \"musem\", \"otop\", \"ingrediant\", \"moroccans\", \"reina\", \"kangeroos\", \"napa\", \"imax\", \"reverence\", \"gregarious\", \"mykinos\", \"revolving\", \"jenolan\", \"seduce\", \"revolucion\", \"richness\", \"oxygen\", \"lighting\", \"vinsanto\", \"syndey\", \"assign\", \"poeple\", \"napoleon\", \"casino\", \"simplicity\", \"thouroughly\", \"waterside\", \"kudo\", \"qantas\", \"harbour\", \"landlord\", \"opera\", \"spooky\", \"koala\", \"circular\", \"darle\", \"bondi\", \"quay\", \"manly\", \"australia\", \"oia\", \"harbor\", \"taronga\", \"volcano\", \"freeway\", \"greek\", \"hermitage\", \"russia\", \"russian\", \"fira\", \"aquarium\", \"australian\", \"kangaroo\", \"castle\", \"caldera\", \"cliff\", \"donkey\", \"darling\", \"bay\", \"fortress\", \"wildlife\", \"temple\", \"greece\", \"metro\", \"africa\", \"scotland\", \"php\", \"perry\", \"moroccans\", \"gracia\", \"mumification\", \"moray\", \"ivan\", \"jenolan\", \"renieri\", \"overpower\", \"imprint\", \"pervade\", \"personify\", \"mugger\", \"nanning\", \"bebelplatz\", \"ingrediant\", \"seduce\", \"paddle\", \"multimedia\", \"outnumber\", \"murano\", \"pesoe\", \"mummified\", \"gala\", \"revolving\", \"overpay\", \"mauer\", \"relive\", \"pierce\", \"continuously\", \"mykinos\", \"gregarious\", \"effortless\", \"lighting\", \"tempt\", \"conclude\", \"arcade\", \"blanc\", \"monthly\", \"invasion\", \"stamford\", \"def\", \"monasterio\", \"lost\", \"cyclist\", \"sandal\", \"sqaure\", \"fragment\", \"exprience\", \"asleep\", \"thinking\", \"strasse\", \"auto\", \"nile\", \"egypt\", \"temple\", \"karnak\", \"australia\", \"cairo\", \"quay\", \"thermal\", \"egyptian\", \"linden\", \"germany\", \"china\", \"bondi\", \"chinese\", \"checkpoint\", \"sole\", \"harbour\", \"opera\", \"reichstag\", \"tomb\", \"camp\", \"platz\", \"bazaar\", \"castle\", \"mosque\", \"insider\", \"africa\", \"aswan\", \"asian\", \"metro\", \"turkish\", \"subway\", \"circular\", \"turkey\", \"war\", \"lira\", \"san\"], \"Freq\": [195.0, 249.0, 172.0, 148.0, 135.0, 164.0, 125.0, 118.0, 74.0, 92.0, 90.0, 113.0, 71.0, 82.0, 84.0, 80.0, 101.0, 89.0, 76.0, 102.0, 66.0, 66.0, 77.0, 67.0, 73.0, 61.0, 74.0, 58.0, 75.0, 61.0, 131.82103966656737, 63.86351064711406, 64.06622947649332, 58.78879446961336, 46.25763619761379, 55.94267250987752, 52.76754067278742, 47.30857649689804, 119.09243925929644, 163.8849258105476, 45.79364605205174, 64.14810465459284, 43.88289725887689, 31.313066943532696, 28.827436859762347, 183.96435214915374, 33.24711009361881, 47.272183068984596, 31.48153731326063, 30.81560283564734, 111.0046413169267, 139.07942820054586, 69.33214100905785, 24.590842062817305, 22.971621962391467, 103.85358372770632, 38.494874896344434, 21.299105448207257, 21.304474925673116, 19.466654338137538, 215.84883045758568, 88.0813669632856, 86.79207507756247, 28.158574222651943, 41.29847798797619, 35.32229038315915, 42.77832727567369, 34.41000972548737, 38.24746159455873, 60.52516879941913, 70.41344419798635, 47.89403435800676, 27.344304084989087, 25.606896775767346, 27.890297266853903, 26.971325951024717, 19.66777139629573, 32.604427974961204, 20.64399785662799, 18.039505513598115, 18.87723773701516, 28.28454074643342, 19.434036688470616, 18.61227821326449, 17.99444931008918, 17.985261724124875, 25.327611873205942, 68.83570668550438, 13.816522610241016, 30.7477394029773, 13.076391971728896, 13.082652526124122, 27.222535531655467, 12.162539956390198, 12.90899028879843, 11.982169119151061, 12.202615951022805, 11.099132613947342, 138.98521573366128, 48.648593801613266, 26.34302870708679, 53.231539785856356, 35.71496054646137, 16.401372484340094, 24.989652476953676, 29.131188223348108, 40.411983551800965, 28.31576851627098, 21.136567271252833, 20.316263536497548, 21.01626907857319, 62.53653665663417, 62.14726385140139, 52.23224597114316, 52.462081487064175, 57.25954628036557, 57.19981457414039, 41.968226758583874, 27.886542808840517, 24.05868577307885, 27.058307355216794, 22.385892164199696, 70.95321561000245, 21.625542489387943, 20.92125636509576, 20.724747417721733, 22.240184070736795, 20.053292096665512, 38.98813284134794, 17.57672869636079, 22.36677943115952, 17.568942177394415, 14.518301665586051, 13.82663622636452, 15.276255662465497, 78.5202355940111, 22.28312927291757, 12.16952502651147, 12.865601988262023, 11.389752090550896, 12.183113887638745, 51.60812521779366, 28.013383449011645, 21.538209309388733, 30.454187634547186, 46.49629734230349, 25.693654453574723, 49.376406093874806, 35.07168132022343, 38.37413154661874, 34.323292988560866, 32.405417157142935, 24.803984258897934, 22.55144405886539, 24.10919379585905, 79.45399480791487, 88.71543480510117, 29.004830825253194, 28.349497348960092, 41.3513155090193, 17.47142145364707, 22.368323273158698, 20.395709282987383, 29.602419589224052, 82.09451186569196, 36.087415934154194, 16.040628025042256, 35.987606265677506, 12.30809204425278, 43.9630744960507, 10.193105114820149, 16.76327889059229, 9.54813500557572, 51.44106036278068, 52.49127015457881, 6.696189672723849, 6.7716141535078, 6.75028125910332, 7.476613687629541, 7.95296756076694, 6.693247558141732, 6.711429675723809, 9.589533641461474, 8.91456612154885, 5.970079632630503, 66.55294735859002, 58.351769311196215, 28.568193239295837, 41.86227021384263, 21.823050173922613, 11.000934894359524, 11.448928045379994, 15.47730928039742, 16.01907943022327, 33.063727741093786, 15.09541059594218, 20.35740374947149, 11.970166700863958, 11.770135974944813, 54.27784581920173, 46.53918425181147, 27.354565309805434, 29.27751284106258, 73.34180034793167, 20.968495197283097, 18.82250671979233, 42.20341497122181, 14.941656389191703, 12.760767978665664, 12.131513581311246, 10.081060376289715, 8.750502262228792, 16.22546656234857, 8.774510948869532, 10.016123858576414, 8.089634970508802, 8.776000021777854, 33.81594114708577, 8.076135584450801, 7.379942306016147, 7.381710978360021, 7.331090154259337, 7.404218379996893, 7.922216754599765, 14.51256817728261, 7.391872220410275, 7.815154422601408, 38.82923605053215, 9.599641679205016, 29.82834031878148, 13.828529916351489, 21.77906176873997, 12.206364109849172, 8.620341611647927, 9.333507224806207, 14.87003576402212, 12.391646935433627, 8.661435306332029, 9.562291880536616, 68.21737075900016, 44.963523911136335, 28.54919473585574, 24.426659947474832, 19.775034953557675, 39.16719295150533, 37.519988649543514, 17.520919776133944, 14.204739364018277, 21.72404419836435, 21.657991366997468, 12.993365263169968, 10.580382957783335, 9.32921306059776, 8.350666530130383, 8.257080537016607, 7.93050170916241, 7.57635277693663, 10.379142038939813, 10.294052632945998, 6.923247885361244, 6.317990538710676, 5.667220311207766, 5.7796249913823985, 5.640589908270759, 5.513150397987651, 5.600590540044332, 5.069955688014694, 4.984000003829503, 4.4311444067176105, 6.908985118351709, 9.292241859072677, 16.402561396270503, 8.635621539986131, 6.462192743800054, 23.88015414509931, 10.936294377935665, 8.271816600743136, 12.085774811312588, 9.631588214437414, 8.544443251322624, 8.226568955890738, 10.032572404636584, 10.725626288245214, 8.700403533404522, 8.632310183760206, 8.39507599776017, 8.377426496771701, 19.90054766988717, 11.834903400176838, 10.296862731990906, 8.819877207131059, 9.68707120702154, 11.802521297720109, 7.756433836879414, 7.341332352389336, 11.328713591539852, 6.296523529490177, 13.864079692223799, 5.758191861768918, 6.269252564891756, 19.845769568456475, 5.246460144731708, 5.268974335304016, 5.226348301731109, 5.188039837638472, 4.744847039274499, 4.224109656364023, 4.237665938187305, 3.735554884954397, 3.74910162548728, 3.21511846878169, 3.216608229162672, 4.2170829109657895, 2.736470753495684, 2.7166456637671157, 5.77810652396325, 2.2061008842452936, 6.837669845685251, 15.360718244852077, 16.904082549468765, 8.788427502872597, 3.723830175929883, 4.2705589831045, 5.183531499317462, 4.7300506868754, 5.484943717519636, 4.298682134717203, 39.107209676710326, 28.978545243739674, 68.65440686346254, 23.27442995996677, 35.20023388783509, 34.22368864535721, 18.5744507718467, 9.063013397623308, 6.989680214333253, 6.417747048793769, 6.463441255565672, 6.479419481797525, 5.94433889388781, 6.450998269647347, 5.93480701867742, 4.908075678539773, 4.8885444246635155, 4.35946791188444, 4.3679644586921516, 4.400020905971801, 12.754215690758352, 3.8621649342399884, 3.8515432803844294, 3.8086689389156123, 6.476118358715067, 17.039406775310983, 9.637157541710982, 3.306465325643761, 3.3066581504016885, 3.328376397739084, 8.612539892247469, 8.077141101061565, 7.0099568744166865, 12.786903695574164, 11.189455409471796, 15.436962130127693, 4.883107375015508, 6.630819382471645, 6.489368121034111, 5.094400190103285, 0.00028871807772720844, 0.00033092880444312103, 0.000292575139339853, 0.0002511128249289939, 0.00023520934109169824, 0.00022304261370142975, 0.00030114341585497635, 0.0002527284820570348, 0.00029320989607347454, 0.00034492635007684084, 0.00024257188661836726, 0.00023310572336964855, 0.00024199558131498186, 0.0002525770532527361, 0.0002556663072687518, 0.0002795762313789943, 0.0002917505432335911, 0.0002844930471442059, 0.0002907306658073922, 0.0002894925400051363, 0.00023881389032309513, 0.00022357988076675774, 0.0002528945831855183, 0.0002308265255245575, 0.0002916298378324139, 0.000239448239274928, 0.00023453005191564192, 0.0002378928769616922, 0.0002731374125084424, 0.00020855666243583634, 0.00027241204929506855, 0.00027536719646491817, 0.00028459412902231214, 0.00034880061034701243, 0.0002600066655770775, 0.00027562586991479975, 0.0002747949608866018, 0.0002755131284900219, 0.00030870403916818235, 0.0015227443178031264, 0.0003079589131012084, 0.002055059708671784, 0.0014277147220938258, 0.0007884720341282013, 0.000508849912614867, 0.0010306950523769707, 0.00036601318421355017, 0.0008665320701889629, 0.0004054210156900668, 0.00047782126651039195, 0.0004244705561063383, 0.0004287478446120763, 0.0008260199672466428, 0.00036542163779404636, 0.00034478132539117684, 0.0005158669908014302, 0.0007008393020503826, 0.0006977596120921102, 0.000571929512042758, 0.0004803140906502946, 0.00041729643577023294, 0.0004882161392604881, 0.0004785664311862311, 0.000904955991101749, 0.00041062465334248114, 0.0006167689918211823, 0.00047846747503307787, 0.0005613179046636628, 0.0007564334510585693, 0.0008946310732825268, 0.0004798059378046405, 0.0006388758456119151, 0.00046870005138593545, 0.0006799526512520107, 0.0007226645381153891, 0.0005434234543174723, 0.0006051585574943564, 0.0006696834586517035, 0.00048425342875745925, 0.0005808342331719015, 0.000534880638932697, 0.0004953371917764542, 0.000532309008099615, 0.0005044152813046732, 0.0005149302794019598, 0.0002648373078038586, 0.00027922116815836496, 0.00022902663218161086, 0.0002625142893139351, 0.00028247934962003174, 0.00022588869604432452, 0.00024668289143652087, 0.000267890580539046, 0.00024015994159890108, 0.00023130090438556886, 0.00023321399076986696, 0.00025689110106646724, 0.00025420423189913245, 0.00022489717744542952, 0.00026251572413484405, 0.00023762434778301235, 0.00027300416242756606, 0.00023937168482045972, 0.00022120384167802922, 0.00023493532080043388, 0.00022908048503707915, 0.00022215091570388965, 0.00023669846775114435, 0.0002584448924678464, 0.0002531369504376511, 0.0002336107784101688, 0.0002809062882753147, 0.00025354147940040054, 0.0002381385315607555, 0.0002776113617044445, 0.0002666476627223389, 0.0002570487808926109, 0.0002808752241417811, 0.00028148199819396394, 0.00026797088493752373, 0.0002551999904987772, 0.00027529271289651114, 0.0002779500612243682, 0.00026647349123954317, 0.00025322824027617654, 0.0002773418561850365, 0.00028099813232530254, 0.00025834424533313025, 0.0012024545518118295, 0.0008925817230503942, 0.0007570604598640236, 0.0018117600884498973, 0.000749930829147637, 0.00028476420101377075, 0.00028692741934102585, 0.000653046684061408, 0.0006054748263311558, 0.0010876856184682748, 0.0009505919461250096, 0.0007237263380609905, 0.0004221444901570521, 0.0006233008913519964, 0.0008468889755821873, 0.0009282052985435884, 0.0003600022575978262, 0.0005237250039928488, 0.0003167060217781702, 0.0004933178446098199, 0.0005416871079499309, 0.0008379444230014147, 0.0008482497187174845, 0.0006626934258032242, 0.0006002984845238709, 0.0005946800532078079, 0.00035730737588127024, 0.0005928173413802095, 0.0004423521953152738, 0.0006112487211930216, 0.0004942127385558556, 0.000482242227982633, 0.00038553280042432275, 0.0004704744307499121, 0.0004554192413667152, 0.000557268509510835, 0.0004933348229825035, 0.0004900998717723837, 0.0004896787981698001, 0.00048514842484443884, 0.00026726826980067554, 0.00026666687896274806, 0.0002564997337010162, 0.00023102275088398384, 0.0002350540128065902, 0.00025284197448941507, 0.0002428042539949393, 0.0002705554159960499, 0.0002332098634942232, 0.0002431932350193961, 0.000218916756438342, 0.0002870327602242802, 0.00024374626578019801, 0.0002652202346431152, 0.00024565427630224453, 0.0002573687783869464, 0.00023918405070987508, 0.0002678262331949687, 0.00025471292082491077, 0.00024855311424821743, 0.00025454876356537326, 0.0002408245292430484, 0.00020943226029238222, 0.00025558535591016604, 0.00022520506963482107, 0.00030959480864726905, 0.00023277493031109071, 0.00023287867081193348, 0.00022953085998343256, 0.000247500620230807, 0.00024262353109630593, 0.00027335749693222535, 0.00027941750839781084, 0.0002430895158736286, 0.00024978545336802724, 0.00030215837008389584, 0.0003364040181842521, 0.00027208458679493823, 0.000293151570420709, 0.0002878820334504422, 0.00029111728045764476, 0.00028869158030848794, 0.0014193554534384365, 0.00027106612282065863, 0.0002873417087894034, 0.0008902230009299808, 0.0002729254807794035, 0.0002729983032008301, 0.0005819713065323107, 0.0003827722132726938, 0.0011098628285327666, 0.0008953300078359685, 0.0002961245707752578, 0.0006383490823713943, 0.0002940972496222989, 0.0009824921109532715, 0.0006121990332952782, 0.0008578725480463179, 0.0005135355362500788, 0.0007912334393032749, 0.0004295029512687269, 0.0004053488994795498, 0.0005199418046533945, 0.0007435210143026164, 0.0004363290616453924, 0.0005578235950510276, 0.0006348286887653457, 0.0005097014946604879, 0.00037868864678525715, 0.0003891225213450913, 0.0004606076394145734, 0.0007018287110960355, 0.0005171249546869171, 0.0003770806769798983, 0.00066203162454856, 0.0005882098398607431, 0.0007301113200455279, 0.0007581373217632221, 0.0005205358827256095, 0.000446031247715397, 0.000457325656985167, 0.000650481117418404, 0.0005931605199517749, 0.0006197031042381177, 0.00048631118173625366, 0.0005104530027633886, 0.000490598570991512, 0.0004912939216040956, 0.000505998843623285, 0.0002687818176393718, 0.0002895597800886457, 0.0002347886907317243, 0.0002678309065917361, 0.0002538751237225895, 0.00024099908117749096, 0.0002659413937853311, 0.00023339474537300675, 0.0003030479468012969, 0.00023097566264873167, 0.0002492960416172129, 0.0002701806866765538, 0.0002486848179033846, 0.00021778806417004385, 0.00024392733534549097, 0.00024313450209875997, 0.00024440785748303665, 0.00025320276059601977, 0.0002487537555423408, 0.00025774887400858407, 0.0002526078446985623, 0.00024092538129434, 0.00025860035926306396, 0.0002414799234526735, 0.000296310814193664, 0.00023756747296240142, 0.000242458700099625, 0.00025213584059571723, 0.0002488385893201445, 0.00028433573764710505, 0.00025760210112599, 0.0002847217652432306, 0.00025482866932640015, 0.0002822760467298676, 0.00026953957300152325, 0.00028645506954836514, 0.00028047381379938524, 0.0002704127888127752, 0.00026778664880818003, 0.0002878947316664521, 0.0002825179010608796, 0.0002839015915546855, 0.00027144752006003954, 0.0002753986788179887, 0.0009833657155778738, 0.000305520178874435, 0.0002992664458284201, 0.0006139362227951001, 0.0013293160143511024, 0.0002894965714604551, 0.000661471971996027, 0.0006763650425236567, 0.0010407981558623553, 0.0012349696393153184, 0.0006768234237571589, 0.0009638537156699072, 0.0005448548989582483, 0.000312839194135423, 0.0008441522659665265, 0.0008243584247383365, 0.0005740492439679368, 0.00046007366770738046, 0.0005750332452100764, 0.0005655917940967451, 0.0006333738698105215, 0.0005800279071889781, 0.0005156921884657496, 0.0007472222076745065, 0.00048562439735768743, 0.0005536554795650002, 0.0005457314177122038, 0.0004492777331938518, 0.0005641373097701014, 0.00041239553738029545, 0.0006124986980788101, 0.0006797459170128079, 0.0005388091677257332, 0.0004960910993323204, 0.000524662384296598, 0.0005107619956200691, 0.000527649284923797, 0.0005199444243275487, 0.0005044753121231883, 0.0002668531067721719, 0.00023352484494206066, 0.00025670939471029243, 0.00024461665538479224, 0.0002550539298098309, 0.00027831935778541795, 0.0002676184839064252, 0.00026642886088504644, 0.00023453455466632654, 0.0002486829550456522, 0.0002649768199478245, 0.00024156876596987556, 0.0002598748483305624, 0.00025746123810831037, 0.00021388346430216998, 0.00025369972907241916, 0.00025118375918690235, 0.00024014591952022023, 0.00023865207589171452, 0.0002222882634939902, 0.0002496414237973659, 0.0002357201063212905, 0.00025227953934893563, 0.0002580393570100682, 0.0002482340362687773, 0.0002284463230900845, 0.00023900219779489801, 0.0002380570685984551, 0.0002388875545476639, 0.00022191539922816124, 0.00026429091065087657, 0.0002903043172808219, 0.00026276638933826627, 0.00027689603178202216, 0.00028908929695082946, 0.00029353752540053245, 0.00024584466473668784, 0.00028492210156621335, 0.00028397208749684984, 0.0002941362742096424, 0.00027974508984743014, 0.000288505253902347, 0.0019469689563489335, 0.0016960268639373045, 0.00035613693783063136, 0.00027750386386671543, 0.00028400934472986444, 0.00027656874238076996, 0.0011364929571203407, 0.0011891753926083918, 0.0006452846497954517, 0.0008111027071799907, 0.0008020156958418582, 0.00028251107057936423, 0.0006780011930543421, 0.0007124107024937429, 0.0006632059727542723, 0.000638827299962795, 0.0006828848082508789, 0.000627121803359617, 0.000512586151733276, 0.000580775583357415, 0.0003932607457286943, 0.0005812050934655996, 0.000440222195544701, 0.0005108744491264562, 0.0004232628559160456, 0.000570446314623836, 0.0004341507887328164, 0.0005460539320400831, 0.0004475446486025331, 0.0004420762245367273, 0.0004000860137621816, 0.00040400035366259303, 0.0003506922113289066, 0.0004682324350022655, 0.0004625923870219848, 0.00042703958941105223, 0.0004284001291655289, 0.0004473200052780285, 0.0004188269321999268, 0.0004202410989867651, 0.00026045010076096903, 0.0002823340360600849, 0.00028146109803656204, 0.00026593419563733994, 0.00029954275164683654, 0.0002321187526024636, 0.00029184003556530273, 0.0002707685869672079, 0.0002527179235032024, 0.0002668433739952249, 0.0002656634008121374, 0.00025384903550239074, 0.00025030252125296466, 0.000259425354088904, 0.00022367869792551165, 0.00023228547807020884, 0.00024517957834403064, 0.00024826794748094113, 0.0002448686069486364, 0.00027230040084441723, 0.00029830391068259805, 0.00025669972623657336, 0.00024015175739765902, 0.00023905244609023887, 0.00026495394190724535, 0.0002484142290455845, 0.00022464012079625667, 0.00023960887868973524, 0.00023902466070575642, 0.00024307119349788, 0.0002877005044758852, 0.00026447998199144955, 0.0002804248076330923, 0.0002878216645199838, 0.0002850975576731442, 0.00028283245007677864, 0.00027030780779170263, 0.0002581054451414452, 0.0002800342883446634, 0.00029111418836853494, 0.00029192612840799373, 0.0002806769832924587, 0.00028807853690109546, 0.0002792415901161955, 0.0011657263976779402, 0.00028195418012859726, 0.0009841345098108337, 0.0002838015581869131, 0.0004180136231419817, 0.0006453838783057953, 0.0004862631161937402, 0.0005612093827364063, 0.000629988768098575, 0.000555882547600976, 0.0006974281121228787, 0.0007154592381555122, 0.000553372016940066, 0.0003809479694775849, 0.0005490496920105193, 0.00031489862993608597, 0.0005877046109412986, 0.0005907224227927467, 0.0006146865156856162, 0.0006188552298123772, 0.0006098010344518509, 0.00044123944327858664, 0.00045959371188957605, 0.0003299372181083028, 0.000639739415383881, 0.00045456619105519743, 0.0004800413183298994, 0.00047406187406793935, 0.000353145400304567, 0.00048232213760106334, 0.00045310026046251425, 0.00036012395852102146, 0.0005128025476820786, 0.00043519004498513987, 0.00044000928745872826, 0.0004276363957905922, 0.0004246229813217466, 0.0002520438314935684, 0.0002764688030869526, 0.0002744329726339065, 0.00025780382178875876, 0.0003003317902347628, 0.00023847385322925383, 0.00024826465269998384, 0.00025577738901211815, 0.0002595939613902809, 0.0002782375840771579, 0.0002508706463152306, 0.0002511074194195009, 0.00026093394692582587, 0.0002709766326957037, 0.00027760417415617443, 0.000263867557374757, 0.00024990480006752445, 0.0002449599145475215, 0.000261967131420864, 0.00023682350593763675, 0.00025033049486512137, 0.0002566414732607166, 0.00024669058990751063, 0.00026224344644317936, 0.00025712675214907663, 0.00022647134023603063, 0.0002552251860951959, 0.0002543374612175486, 0.00024352494804747023, 0.00025016104563700285, 0.0003042165292962509, 0.00024861670710544175, 0.0002626213023621423, 0.0003042795647730844, 0.00027910384364722207, 0.00028143579522515343, 0.0002809134018266698, 0.0002835374181302923, 0.0002668479358173611, 0.00028626468259321795, 0.0002765795828025216, 0.0002809251191807647, 0.0002772194090420972, 0.0002879659595536025, 0.00028661279829889086, 0.00028508530105471894, 0.00027789681222201233, 0.0002741515782670725, 0.0002932926286165651, 0.0002817982699160818, 0.0002863885323835957, 0.0002806724828687704, 0.00027440329441858044, 0.0002858090159280453, 0.0007695200610582906, 0.0006994837564046542, 0.0007631148733978014, 0.0005519698519518914, 0.0005176030399901434, 0.0004923443384059718, 0.0004699663648990695, 0.00030185070678044737, 0.0005129774054255178, 0.00032082621456545787, 0.00039967004211781474, 0.000520848756643723, 0.00040593431151814493, 0.0004766368479650064, 0.00034820754131737586, 0.0003186845838171261, 0.00046398216726647074, 0.00045300543477358045, 0.0003381726207905704, 0.00046020549967836237, 0.0003651457311705518, 0.00034870797968627863, 0.000446933836160235, 0.00045061478766134886, 0.0004574172965642207, 0.0003259927018536463, 0.0003896598737547661, 0.00036107558518714113, 0.0003666925218643993, 0.00039027452481667197, 0.00040932962882571816, 0.0003722869590920985, 0.00035997363067957717, 0.0003853311136563709, 0.000355659349583799, 0.000357964568245444, 0.0003537261017166502], \"Total\": [195.0, 249.0, 172.0, 148.0, 135.0, 164.0, 125.0, 118.0, 74.0, 92.0, 90.0, 113.0, 71.0, 82.0, 84.0, 80.0, 101.0, 89.0, 76.0, 102.0, 66.0, 66.0, 77.0, 67.0, 73.0, 61.0, 74.0, 58.0, 75.0, 61.0, 135.43411812997425, 66.32530015471634, 66.62608389493869, 61.264632300528774, 48.25342597656973, 58.42231506344679, 55.16850064709067, 49.625702046782436, 125.01210408043568, 172.0510218656077, 48.09165916533387, 67.528300108496, 46.2344214857672, 33.15758714457652, 30.615062686390473, 195.44836071687465, 35.32846579409003, 50.3080929649069, 33.55706758477435, 32.86971665809057, 118.41820963959209, 148.6659084695588, 74.68891431655702, 26.534024950807783, 24.899284068448868, 113.02182486901903, 41.97814653362134, 23.239432057936195, 23.255945625478137, 21.29402273775166, 249.548643986819, 102.51878122246325, 101.40435085433023, 31.9494605607641, 51.740380132052174, 43.453383308540005, 60.044721820270105, 42.269415279617334, 40.00868831886547, 63.32667188031699, 73.86997643244123, 50.265223952980165, 29.135497392682492, 27.373289097217118, 30.0431447187122, 29.064606619930295, 21.333173845454095, 35.39949099944946, 22.46171105434917, 19.676290342554, 20.64821919357628, 31.013187302362116, 21.376335755137262, 20.523806284370572, 19.892266249283757, 19.901828560084414, 28.178881938645763, 76.82557678520573, 15.42458683676586, 34.48021491238634, 14.739865356185643, 14.829847872288935, 30.977525512977266, 13.90663755467556, 14.781068830734814, 13.730402529620454, 14.020681932859047, 12.792866847280784, 164.81916765699506, 58.43194052683837, 32.14850606033005, 70.73721451840306, 48.401218565059715, 19.543002516240826, 33.010624003705516, 44.28921175747834, 86.95729561201799, 50.64835271097343, 37.842300187955075, 33.27019700780922, 82.10897888389796, 65.89468807847348, 65.55263926327511, 55.10598296748127, 55.36029025037798, 60.670432415239674, 61.66545203975357, 45.33468871589025, 30.210976608026918, 26.064671794588538, 29.387743229480986, 24.474202766686073, 77.62460304976074, 23.71152990240263, 22.9398799752883, 22.792793640021145, 24.46653544719379, 22.195539557182524, 43.224890129901574, 19.603974707999, 25.007728988633517, 19.64934123876182, 16.276531987740068, 15.578318541859108, 17.30609425288271, 89.41504742959945, 25.39459507674586, 13.909701851027648, 14.760664526177974, 13.103626814450898, 14.063540342561673, 60.052375154909726, 32.438782935250494, 25.104806309192924, 36.417494796380275, 60.65671114725882, 31.26795198112618, 70.42819162594768, 47.257634210720205, 59.35937954358888, 57.979407073243976, 65.86025261752, 38.54208106811938, 34.335796774067, 57.121654605129834, 82.49747816094171, 92.2292727293791, 30.705531087695636, 30.07060029248847, 44.0285539770722, 19.05149442808721, 24.485712389028283, 22.42735526858897, 32.73701008257381, 90.80759607669832, 40.48349915005084, 18.008120477808998, 40.99915082439175, 14.148168823058631, 51.029936883550874, 11.884219778822674, 19.635659744047306, 11.1984251410728, 61.22881970765399, 63.28059401397597, 8.244371627104135, 8.344356115583281, 8.413311885231073, 9.331273668206233, 9.961737321031157, 8.391657629949249, 8.439887580029874, 12.063146489307783, 11.223634626338734, 7.546646548600942, 84.48452707582983, 75.05505348278606, 37.2078767966042, 57.348431303669656, 31.211458630830258, 14.626989867486163, 15.61495969857117, 24.4456917425887, 25.79322256589975, 82.10897888389796, 26.313008435140855, 56.4649111405411, 18.554529410151876, 35.052224620751716, 56.98877645615021, 49.288301770256965, 29.49873752751816, 31.987563485918084, 80.57419929059175, 23.0933665615091, 20.814900290245543, 47.11420748806795, 17.175500784891206, 14.994470286381942, 14.279332388964246, 11.987407545346306, 10.503860148189668, 19.503283841074495, 10.567350355001432, 12.085944628773632, 9.803027253164606, 10.644791847324004, 41.38391933749762, 9.887263742021338, 9.138302173960518, 9.149801238551362, 9.097401471327043, 9.200354769303678, 9.875497529047731, 18.159852060126475, 9.262438816595033, 9.844569910437237, 49.55766166798673, 12.271644594646672, 41.514476907019116, 24.39561293507004, 82.10897888389796, 27.474077088843273, 13.207677635024613, 16.168036428744717, 55.07258073539967, 37.842300187955075, 23.061648856488144, 249.548643986819, 71.09768802948861, 47.90264497541195, 30.670673557833723, 26.384729385329877, 21.656559661428147, 43.13074052374281, 41.7169579880708, 19.5698786588718, 15.99651761392772, 24.64580077227157, 24.729678009467637, 14.852294465933234, 12.288855196309239, 11.189372796256992, 10.091881771148852, 10.043663131421177, 9.66884923280188, 9.331203970345507, 12.896057525981265, 12.901513790672144, 8.71111492576486, 7.955590357978196, 7.3394313838973675, 7.486272822565941, 7.320274899810216, 7.26512940502424, 7.454980632148519, 6.75435645669082, 6.79122487197431, 6.080841688906306, 9.535519112977239, 13.03353689277592, 24.23039446915307, 12.781258785053655, 8.972514065548209, 57.121654605129834, 18.954269691305782, 14.223382150949512, 35.04205367620977, 22.49812923832394, 19.56063046938552, 17.38620373466272, 56.4649111405411, 164.81916765699506, 31.482440076318554, 34.72598971689853, 26.788134467511984, 29.191995672309453, 22.92461294322169, 14.293634007297005, 12.71522462397084, 11.04106822193429, 12.162531703588739, 15.138844961621702, 9.992625269979557, 9.461170752774251, 14.679262962159147, 8.337816891127078, 18.616826861033395, 7.7423265931630905, 8.43007474906907, 26.696838182362082, 7.211643443757172, 7.248496254094797, 7.266751822699792, 7.243622156938767, 6.666610479385001, 6.153791167516614, 6.185094404962041, 5.639777842856187, 5.741105473764549, 5.071509456451051, 5.16719824438717, 6.961094947611765, 4.529535204897791, 4.517045781027951, 9.657383988409139, 3.936402607952769, 12.736048581642223, 30.721476057425775, 36.473254408639605, 19.02890362134094, 7.002342060204148, 10.4285332297048, 22.945423642764556, 16.09971571474615, 43.815367365214456, 12.862650598589651, 41.59422277808066, 31.251397878141344, 74.04114751142049, 25.36091391560577, 38.626165301890005, 37.60038245331365, 21.49590968370938, 11.134652153625126, 8.745208615460019, 8.231958688192613, 8.312570621760136, 8.337156255767635, 7.659852575764346, 8.329938363111857, 7.761870201361588, 6.572602661307649, 6.682717820918052, 6.058735985372311, 6.09659202958956, 6.198376052115102, 18.063327866269844, 5.608488982303294, 5.707592736542727, 5.669578624981283, 9.704250419559006, 25.68097368569561, 14.587444594624815, 5.072654145760403, 5.08061962918137, 5.192110466649853, 14.067875779575706, 13.581150670062712, 11.619767985486, 32.00207737214581, 29.319620273584256, 55.07258073539967, 8.987837921487142, 57.979407073243976, 249.548643986819, 50.64835271097343, 3.283250955010989, 3.8111355251214927, 3.6844472823636885, 3.2028147195754237, 3.028821615671271, 2.8763366813771696, 3.9160042675872693, 3.2944860840489145, 3.8329201572199207, 4.528727059400116, 3.1887713567616456, 3.1008394872334066, 3.2215700570674795, 3.3636402446211897, 3.4445128903794573, 3.771843531392194, 3.955053915678645, 3.8916901842703684, 3.9853240908618455, 3.971088017978223, 3.280350212445448, 3.0802006662797043, 3.484828728291285, 3.1923974027859865, 4.04016104313613, 3.320810529283639, 3.2558611804878312, 3.308451440915081, 3.800044543644481, 2.9052019258910318, 3.815828564851254, 3.859226286494514, 4.050720652792004, 5.216127676985985, 3.677003619060813, 3.946229548860903, 3.9349936468179156, 3.958033388301195, 4.614373187927366, 41.7169579880708, 4.6125513379822, 71.09768802948861, 43.13074052374281, 19.5698786588718, 10.043663131421177, 30.670673557833723, 6.074918101926813, 24.64580077227157, 7.26512940502424, 9.535519112977239, 7.955590357978196, 8.172801278638605, 26.384729385329877, 6.489581581193833, 5.856590542748089, 12.901513790672144, 24.23039446915307, 24.729678009467637, 18.954269691305782, 12.896057525981265, 9.331203970345507, 14.852294465933234, 14.223382150949512, 84.48452707582983, 10.091881771148852, 40.48349915005084, 17.45303115527905, 30.705531087695636, 90.80759607669832, 195.44836071687465, 18.035257177840826, 61.22881970765399, 17.38620373466272, 113.02182486901903, 164.81916765699506, 44.0285539770722, 102.51878122246325, 249.548643986819, 22.49812923832394, 172.0510218656077, 82.10897888389796, 29.191995672309453, 118.41820963959209, 63.32667188031699, 148.6659084695588, 2.9052019258910318, 3.460427760575988, 2.8763366813771696, 3.3282690242192903, 3.591067082268447, 2.902895001169645, 3.2215700570674795, 3.4992960996452678, 3.1392315043980465, 3.028821615671271, 3.1008394872334066, 3.41809161912069, 3.40850310608606, 3.0388227569407604, 3.5661153109048818, 3.2385300451675354, 3.7380589107017164, 3.289841689240202, 3.044186613741427, 3.2352002202678833, 3.163761866804471, 3.0802006662797043, 3.283250955010989, 3.5858124943460385, 3.5155145209737837, 3.2489150596756815, 3.909538521672868, 3.529189989172475, 3.3281834337312537, 3.8812039491836754, 3.740204130792914, 3.6083712121000713, 3.9746241703431604, 3.995042006807368, 3.785565438642372, 3.5927743742981684, 3.9653396199419233, 4.0509341685608105, 3.8259659810849076, 3.596187064981912, 4.19576556738003, 4.32583454774146, 3.7243658144055174, 74.04114751142049, 41.59422277808066, 35.39949099944946, 249.548643986819, 38.626165301890005, 4.55407082511971, 4.642251571431948, 31.251397878141344, 29.064606619930295, 135.43411812997425, 101.40435085433023, 55.07258073539967, 12.87429814465166, 37.60038245331365, 86.95729561201799, 113.02182486901903, 8.60385954205732, 25.36091391560577, 6.049438876225126, 21.49590968370938, 28.178881938645763, 102.51878122246325, 125.01210408043568, 66.32530015471634, 48.25342597656973, 50.3080929649069, 9.374701959259946, 60.044721820270105, 20.523806284370572, 71.09768802948861, 31.9494605607641, 30.0431447187122, 12.736048581642223, 29.319620273584256, 25.68097368569561, 74.68891431655702, 43.13074052374281, 50.265223952980165, 63.32667188031699, 164.81916765699506, 3.2352002202678833, 3.229419493059633, 3.1923974027859865, 2.902895001169645, 3.028821615671271, 3.2944860840489145, 3.163761866804471, 3.5281285383052983, 3.044186613741427, 3.1887713567616456, 2.8763366813771696, 3.771843531392194, 3.2229137681671283, 3.526305278166631, 3.2990278539292066, 3.494724184104066, 3.2558611804878312, 3.6599707258148473, 3.4833758238263575, 3.416974939769919, 3.5073595720881796, 3.3281834337312537, 2.9052019258910318, 3.548137253227579, 3.1392315043980465, 4.3237394377999205, 3.2700103905578253, 3.272624905760774, 3.2290032801306205, 3.482896603180201, 3.415746131019247, 3.863070520321715, 3.9853240908618455, 3.4310386109966062, 3.5500067582184593, 4.50759019302196, 5.190170412431094, 3.9695202584684495, 4.4200274147550545, 4.333437413338722, 4.410980357875326, 4.4278167823177, 76.82557678520573, 3.9982473087104538, 4.454486780666161, 40.00868831886547, 4.092774079459761, 4.108720219533858, 21.333173845454095, 8.6418592614392, 92.2292727293791, 58.43194052683837, 4.9310388390362005, 29.135497392682492, 4.854863367669165, 82.49747816094171, 27.373289097217118, 71.09768802948861, 19.676290342554, 63.28059401397597, 12.97645429484339, 11.21451501951382, 24.485712389028283, 75.05505348278606, 15.42458683676586, 32.73701008257381, 51.029936883550874, 26.384729385329877, 10.35113502345502, 11.315859112188884, 20.64821919357628, 90.80759607669832, 33.010624003705516, 10.720644769180492, 84.48452707582983, 57.348431303669656, 148.6659084695588, 195.44836071687465, 41.7169579880708, 22.42735526858897, 25.79322256589975, 172.0510218656077, 118.41820963959209, 164.81916765699506, 37.842300187955075, 61.22881970765399, 43.13074052374281, 43.815367365214456, 249.548643986819, 3.0802006662797043, 3.5200272455225767, 2.9052019258910318, 3.3645226033355526, 3.2215700570674795, 3.1008394872334066, 3.460427760575988, 3.044186613741427, 3.958033388301195, 3.0388227569407604, 3.283250955010989, 3.581969562530471, 3.2990278539292066, 2.902895001169645, 3.280350212445448, 3.272624905760774, 3.2908849159050706, 3.413170737321614, 3.364362361846558, 3.489040216881237, 3.4225336300073383, 3.266472472751574, 3.5073595720881796, 3.2755114756610073, 4.030887055416021, 3.2352002202678833, 3.308451440915081, 3.4445128903794573, 3.4154094052656907, 3.9135943534439512, 3.548137253227579, 3.966409012763363, 3.5155145209737837, 4.009651168074411, 3.7979544876394393, 4.140940650312453, 4.023275092966348, 3.8543746801415795, 3.863070520321715, 4.4223800963670925, 4.274325327581766, 4.3521075486669, 4.008312250146473, 4.151020922370994, 74.04114751142049, 5.266904926879264, 5.100014044351748, 29.49873752751816, 195.44836071687465, 4.762612477625456, 37.60038245331365, 41.59422277808066, 148.6659084695588, 249.548643986819, 47.90264497541195, 135.43411812997425, 31.251397878141344, 5.998076815996093, 125.01210408043568, 118.41820963959209, 38.626165301890005, 21.49590968370938, 49.55766166798673, 49.288301770256965, 76.82557678520573, 61.264632300528774, 40.00868831886547, 172.0510218656077, 33.55706758477435, 58.43194052683837, 56.98877645615021, 25.36091391560577, 66.32530015471634, 18.063327866269844, 101.40435085433023, 164.81916765699506, 58.42231506344679, 41.38391933749762, 57.121654605129834, 55.16850064709067, 74.68891431655702, 66.62608389493869, 67.528300108496, 2.9052019258910318, 2.902895001169645, 3.2282777671341343, 3.0802006662797043, 3.2215700570674795, 3.5200272455225767, 3.441965832363187, 3.427843940164983, 3.028821615671271, 3.2385300451675354, 3.460427760575988, 3.1923974027859865, 3.4731620666630554, 3.4567937803839386, 2.8763366813771696, 3.4205606128863217, 3.404537766721325, 3.266472472751574, 3.2489150596756815, 3.0388227569407604, 3.413170737321614, 3.229419493059633, 3.464788382540852, 3.552201873476697, 3.4225336300073383, 3.163761866804471, 3.318382281209436, 3.3054873306328085, 3.3282690242192903, 3.1008394872334066, 3.69344335979777, 4.104583078864499, 3.701419171096, 3.928080384113722, 4.129923684775115, 4.26598727555092, 3.4374989699991287, 4.1690016144587885, 4.236938711115649, 4.51608966743032, 4.214662065746129, 4.5277866031636815, 172.0510218656077, 195.44836071687465, 7.176487387757298, 4.272811479808368, 4.508261459518886, 4.244680111201428, 118.41820963959209, 148.6659084695588, 35.32846579409003, 66.62608389493869, 67.528300108496, 4.473935381561305, 49.625702046782436, 58.42231506344679, 47.90264497541195, 46.2344214857672, 61.264632300528774, 51.740380132052174, 30.405204229251574, 48.09165916533387, 13.316488647090294, 55.16850064709067, 23.239432057936195, 42.269415279617334, 20.469103487249757, 74.04114751142049, 24.899284068448868, 80.57419929059175, 32.86971665809057, 31.251397878141344, 21.29402273775166, 25.147284081419976, 11.541465721593582, 70.42819162594768, 70.73721451840306, 43.453383308540005, 47.11420748806795, 86.95729561201799, 57.121654605129834, 164.81916765699506, 2.9052019258910318, 3.3828442694697114, 3.43550112754916, 3.2625362288734587, 3.708582806116451, 2.8763366813771696, 3.6703061270033093, 3.407406570492005, 3.1887713567616456, 3.4154094052656907, 3.404537766721325, 3.2700103905578253, 3.2282777671341343, 3.3636402446211897, 2.902895001169645, 3.0388227569407604, 3.2229137681671283, 3.2944860840489145, 3.2558611804878312, 3.627153031224697, 3.9762761866240686, 3.4310386109966062, 3.2111335746392573, 3.2028147195754237, 3.566237549174384, 3.3461821840015165, 3.028821615671271, 3.2352002202678833, 3.229419493059633, 3.2980597423845572, 3.9508936369372134, 3.624872431427418, 3.8935071028575274, 4.037147187692129, 3.9982473087104538, 3.9653396199419233, 3.7706975099729507, 3.5477001580337575, 4.006090883206646, 4.250845434400049, 4.332826242063673, 4.086332842589885, 4.3182166084032145, 4.083172655191347, 90.80759607669832, 4.2137147818616745, 84.48452707582983, 4.321512865701706, 11.884219778822674, 40.48349915005084, 19.05149442808721, 30.07060029248847, 44.0285539770722, 30.705531087695636, 61.22881970765399, 82.49747816094171, 37.2078767966042, 11.1984251410728, 40.99915082439175, 6.170948696621381, 63.28059401397597, 65.55263926327511, 77.62460304976074, 89.41504742959945, 92.2292727293791, 24.4456917425887, 31.211458630830258, 7.546646548600942, 164.81916765699506, 32.73701008257381, 51.029936883550874, 57.348431303669656, 12.063146489307783, 82.10897888389796, 57.121654605129834, 15.61495969857117, 249.548643986819, 75.05505348278606, 86.95729561201799, 70.73721451840306, 73.86997643244123, 2.8763366813771696, 3.2282777671341343, 3.2558611804878312, 3.0802006662797043, 3.5927743742981684, 2.902895001169645, 3.1008394872334066, 3.2352002202678833, 3.3054873306328085, 3.5588989505972397, 3.2290032801306205, 3.2520993152457254, 3.413170737321614, 3.550320338446586, 3.645806981052516, 3.4717724848870306, 3.2944860840489145, 3.229419493059633, 3.453969177675778, 3.1392315043980465, 3.318382281209436, 3.404537766721325, 3.2749348738960906, 3.491193438755152, 3.43550112754916, 3.028821615671271, 3.4154094052656907, 3.40850310608606, 3.272624905760774, 3.3645226033355526, 4.135223833761827, 3.3461821840015165, 3.566237549174384, 4.354605511757322, 3.8935071028575274, 3.9746829412239437, 3.9916727596111943, 4.065340432678129, 3.6844472823636885, 4.151568890971429, 3.9157252771571254, 4.032881711205077, 3.990999528522338, 4.331363206243741, 4.312606006619798, 4.269527024385562, 4.046678831954173, 3.9264758493160397, 4.686004242314733, 4.254858191957537, 4.498764573528632, 4.260959051342901, 3.9862029995420714, 4.547083783043526, 135.43411812997425, 125.01210408043568, 249.548643986819, 66.32530015471634, 61.22881970765399, 50.3080929649069, 44.0285539770722, 5.890459991776094, 74.68891431655702, 8.337816891127078, 26.696838182362082, 113.02182486901903, 30.07060029248847, 102.51878122246325, 14.679262962159147, 8.516863094170452, 90.80759607669832, 84.48452707582983, 12.71522462397084, 101.40435085433023, 22.945423642764556, 18.616826861033395, 148.6659084695588, 164.81916765699506, 195.44836071687465, 12.736048581642223, 70.73721451840306, 33.55706758477435, 42.269415279617334, 86.95729561201799, 172.0510218656077, 60.044721820270105, 40.48349915005084, 118.41820963959209, 36.473254408639605, 49.625702046782436, 57.979407073243976], \"Category\": [\"Default\", \"Default\", \"Default\", \"Default\", \"Default\", \"Default\", \"Default\", \"Default\", \"Default\", \"Default\", \"Default\", \"Default\", \"Default\", \"Default\", \"Default\", \"Default\", \"Default\", \"Default\", \"Default\", \"Default\", \"Default\", \"Default\", \"Default\", \"Default\", \"Default\", \"Default\", \"Default\", \"Default\", \"Default\", \"Default\", \"Topic1\", \"Topic1\", \"Topic1\", \"Topic1\", \"Topic1\", \"Topic1\", \"Topic1\", \"Topic1\", \"Topic1\", \"Topic1\", \"Topic1\", \"Topic1\", \"Topic1\", \"Topic1\", \"Topic1\", \"Topic1\", \"Topic1\", \"Topic1\", \"Topic1\", \"Topic1\", \"Topic1\", \"Topic1\", \"Topic1\", \"Topic1\", \"Topic1\", \"Topic1\", \"Topic1\", \"Topic1\", \"Topic1\", \"Topic1\", \"Topic1\", \"Topic1\", \"Topic1\", \"Topic1\", \"Topic1\", \"Topic1\", \"Topic1\", \"Topic1\", \"Topic2\", \"Topic2\", \"Topic2\", \"Topic2\", \"Topic2\", \"Topic2\", \"Topic2\", \"Topic2\", \"Topic2\", \"Topic2\", \"Topic2\", \"Topic2\", \"Topic2\", \"Topic2\", \"Topic2\", \"Topic2\", \"Topic2\", \"Topic2\", \"Topic2\", \"Topic2\", \"Topic2\", \"Topic2\", \"Topic2\", \"Topic2\", \"Topic2\", \"Topic2\", \"Topic2\", \"Topic2\", \"Topic2\", \"Topic2\", \"Topic2\", \"Topic2\", \"Topic2\", \"Topic2\", \"Topic2\", \"Topic2\", \"Topic2\", \"Topic2\", \"Topic2\", \"Topic2\", \"Topic2\", \"Topic2\", \"Topic2\", \"Topic3\", \"Topic3\", \"Topic3\", \"Topic3\", \"Topic3\", \"Topic3\", \"Topic3\", \"Topic3\", \"Topic3\", \"Topic3\", \"Topic3\", \"Topic3\", \"Topic3\", \"Topic3\", \"Topic3\", \"Topic3\", \"Topic3\", \"Topic3\", \"Topic3\", \"Topic3\", \"Topic3\", \"Topic3\", \"Topic3\", \"Topic3\", \"Topic3\", \"Topic3\", \"Topic3\", \"Topic3\", \"Topic3\", \"Topic3\", \"Topic3\", \"Topic3\", \"Topic3\", \"Topic3\", \"Topic3\", \"Topic3\", \"Topic3\", \"Topic3\", \"Topic3\", \"Topic3\", \"Topic3\", \"Topic3\", \"Topic3\", \"Topic3\", \"Topic4\", \"Topic4\", \"Topic4\", \"Topic4\", \"Topic4\", \"Topic4\", \"Topic4\", \"Topic4\", \"Topic4\", \"Topic4\", \"Topic4\", \"Topic4\", \"Topic4\", \"Topic4\", \"Topic4\", \"Topic4\", \"Topic4\", \"Topic4\", \"Topic4\", \"Topic4\", \"Topic4\", \"Topic4\", \"Topic4\", \"Topic4\", \"Topic4\", \"Topic4\", \"Topic4\", \"Topic4\", \"Topic4\", \"Topic4\", \"Topic4\", \"Topic4\", \"Topic4\", \"Topic4\", \"Topic4\", \"Topic4\", \"Topic4\", \"Topic4\", \"Topic4\", \"Topic4\", \"Topic4\", \"Topic4\", \"Topic4\", \"Topic4\", \"Topic5\", \"Topic5\", \"Topic5\", \"Topic5\", \"Topic5\", \"Topic5\", \"Topic5\", \"Topic5\", \"Topic5\", \"Topic5\", \"Topic5\", \"Topic5\", \"Topic5\", \"Topic5\", \"Topic5\", \"Topic5\", \"Topic5\", \"Topic5\", \"Topic5\", \"Topic5\", \"Topic5\", \"Topic5\", \"Topic5\", \"Topic5\", \"Topic5\", \"Topic5\", \"Topic5\", \"Topic5\", \"Topic5\", \"Topic5\", \"Topic5\", \"Topic5\", \"Topic5\", \"Topic5\", \"Topic5\", \"Topic5\", \"Topic5\", \"Topic5\", \"Topic5\", \"Topic5\", \"Topic6\", \"Topic6\", \"Topic6\", \"Topic6\", \"Topic6\", \"Topic6\", \"Topic6\", \"Topic6\", \"Topic6\", \"Topic6\", \"Topic6\", \"Topic6\", \"Topic6\", \"Topic6\", \"Topic6\", \"Topic6\", \"Topic6\", \"Topic6\", \"Topic6\", \"Topic6\", \"Topic6\", \"Topic6\", \"Topic6\", \"Topic6\", \"Topic6\", \"Topic6\", \"Topic6\", \"Topic6\", \"Topic6\", \"Topic6\", \"Topic6\", \"Topic6\", \"Topic6\", \"Topic6\", \"Topic6\", \"Topic6\", \"Topic6\", \"Topic6\", \"Topic6\", \"Topic6\", \"Topic6\", \"Topic6\", \"Topic6\", \"Topic6\", \"Topic6\", \"Topic6\", \"Topic6\", \"Topic6\", \"Topic7\", \"Topic7\", \"Topic7\", \"Topic7\", \"Topic7\", \"Topic7\", \"Topic7\", \"Topic7\", \"Topic7\", \"Topic7\", \"Topic7\", \"Topic7\", \"Topic7\", \"Topic7\", \"Topic7\", \"Topic7\", \"Topic7\", \"Topic7\", \"Topic7\", \"Topic7\", \"Topic7\", \"Topic7\", \"Topic7\", \"Topic7\", \"Topic7\", \"Topic7\", \"Topic7\", \"Topic7\", \"Topic7\", \"Topic7\", \"Topic7\", \"Topic7\", \"Topic7\", \"Topic7\", \"Topic7\", \"Topic7\", \"Topic7\", \"Topic7\", \"Topic7\", \"Topic7\", \"Topic8\", \"Topic8\", \"Topic8\", \"Topic8\", \"Topic8\", \"Topic8\", \"Topic8\", \"Topic8\", \"Topic8\", \"Topic8\", \"Topic8\", \"Topic8\", \"Topic8\", \"Topic8\", \"Topic8\", \"Topic8\", \"Topic8\", \"Topic8\", \"Topic8\", \"Topic8\", \"Topic8\", \"Topic8\", \"Topic8\", \"Topic8\", \"Topic8\", \"Topic8\", \"Topic8\", \"Topic8\", \"Topic8\", \"Topic8\", \"Topic8\", \"Topic8\", \"Topic8\", \"Topic8\", \"Topic8\", \"Topic8\", \"Topic8\", \"Topic8\", \"Topic8\", \"Topic8\", \"Topic9\", \"Topic9\", \"Topic9\", \"Topic9\", \"Topic9\", \"Topic9\", \"Topic9\", \"Topic9\", \"Topic9\", \"Topic9\", \"Topic9\", \"Topic9\", \"Topic9\", \"Topic9\", \"Topic9\", \"Topic9\", \"Topic9\", \"Topic9\", \"Topic9\", \"Topic9\", \"Topic9\", \"Topic9\", \"Topic9\", \"Topic9\", \"Topic9\", \"Topic9\", \"Topic9\", \"Topic9\", \"Topic9\", \"Topic9\", \"Topic9\", \"Topic9\", \"Topic9\", \"Topic9\", \"Topic9\", \"Topic9\", \"Topic9\", \"Topic9\", \"Topic9\", \"Topic9\", \"Topic9\", \"Topic9\", \"Topic9\", \"Topic9\", \"Topic9\", \"Topic9\", \"Topic9\", \"Topic9\", \"Topic9\", \"Topic9\", \"Topic9\", \"Topic9\", \"Topic9\", \"Topic9\", \"Topic9\", \"Topic9\", \"Topic9\", \"Topic9\", \"Topic9\", \"Topic9\", \"Topic9\", \"Topic9\", \"Topic9\", \"Topic9\", \"Topic9\", \"Topic9\", \"Topic9\", \"Topic9\", \"Topic9\", \"Topic9\", \"Topic9\", \"Topic9\", \"Topic9\", \"Topic9\", \"Topic9\", \"Topic9\", \"Topic9\", \"Topic9\", \"Topic9\", \"Topic9\", \"Topic9\", \"Topic9\", \"Topic9\", \"Topic9\", \"Topic9\", \"Topic10\", \"Topic10\", \"Topic10\", \"Topic10\", \"Topic10\", \"Topic10\", \"Topic10\", \"Topic10\", \"Topic10\", \"Topic10\", \"Topic10\", \"Topic10\", \"Topic10\", \"Topic10\", \"Topic10\", \"Topic10\", \"Topic10\", \"Topic10\", \"Topic10\", \"Topic10\", \"Topic10\", \"Topic10\", \"Topic10\", \"Topic10\", \"Topic10\", \"Topic10\", \"Topic10\", \"Topic10\", \"Topic10\", \"Topic10\", \"Topic10\", \"Topic10\", \"Topic10\", \"Topic10\", \"Topic10\", \"Topic10\", \"Topic10\", \"Topic10\", \"Topic10\", \"Topic10\", \"Topic10\", \"Topic10\", \"Topic10\", \"Topic10\", \"Topic10\", \"Topic10\", \"Topic10\", \"Topic10\", \"Topic10\", \"Topic10\", \"Topic10\", \"Topic10\", \"Topic10\", \"Topic10\", \"Topic10\", \"Topic10\", \"Topic10\", \"Topic10\", \"Topic10\", \"Topic10\", \"Topic10\", \"Topic10\", \"Topic10\", \"Topic10\", \"Topic10\", \"Topic10\", \"Topic10\", \"Topic10\", \"Topic10\", \"Topic10\", \"Topic10\", \"Topic10\", \"Topic10\", \"Topic10\", \"Topic10\", \"Topic10\", \"Topic10\", \"Topic10\", \"Topic10\", \"Topic10\", \"Topic10\", \"Topic10\", \"Topic10\", \"Topic11\", \"Topic11\", \"Topic11\", \"Topic11\", \"Topic11\", \"Topic11\", \"Topic11\", \"Topic11\", \"Topic11\", \"Topic11\", \"Topic11\", \"Topic11\", \"Topic11\", \"Topic11\", \"Topic11\", \"Topic11\", \"Topic11\", \"Topic11\", \"Topic11\", \"Topic11\", \"Topic11\", \"Topic11\", \"Topic11\", \"Topic11\", \"Topic11\", \"Topic11\", \"Topic11\", \"Topic11\", \"Topic11\", \"Topic11\", \"Topic11\", \"Topic11\", \"Topic11\", \"Topic11\", \"Topic11\", \"Topic11\", \"Topic11\", \"Topic11\", \"Topic11\", \"Topic11\", \"Topic11\", \"Topic11\", \"Topic11\", \"Topic11\", \"Topic11\", \"Topic11\", \"Topic11\", \"Topic11\", \"Topic11\", \"Topic11\", \"Topic11\", \"Topic11\", \"Topic11\", \"Topic11\", \"Topic11\", \"Topic11\", \"Topic11\", \"Topic11\", \"Topic11\", \"Topic11\", \"Topic11\", \"Topic11\", \"Topic11\", \"Topic11\", \"Topic11\", \"Topic11\", \"Topic11\", \"Topic11\", \"Topic11\", \"Topic11\", \"Topic11\", \"Topic11\", \"Topic11\", \"Topic11\", \"Topic11\", \"Topic11\", \"Topic11\", \"Topic11\", \"Topic11\", \"Topic11\", \"Topic11\", \"Topic11\", \"Topic11\", \"Topic11\", \"Topic11\", \"Topic11\", \"Topic11\", \"Topic11\", \"Topic11\", \"Topic12\", \"Topic12\", \"Topic12\", \"Topic12\", \"Topic12\", \"Topic12\", \"Topic12\", \"Topic12\", \"Topic12\", \"Topic12\", \"Topic12\", \"Topic12\", \"Topic12\", \"Topic12\", \"Topic12\", \"Topic12\", \"Topic12\", \"Topic12\", \"Topic12\", \"Topic12\", \"Topic12\", \"Topic12\", \"Topic12\", \"Topic12\", \"Topic12\", \"Topic12\", \"Topic12\", \"Topic12\", \"Topic12\", \"Topic12\", \"Topic12\", \"Topic12\", \"Topic12\", \"Topic12\", \"Topic12\", \"Topic12\", \"Topic12\", \"Topic12\", \"Topic12\", \"Topic12\", \"Topic12\", \"Topic12\", \"Topic12\", \"Topic12\", \"Topic12\", \"Topic12\", \"Topic12\", \"Topic12\", \"Topic12\", \"Topic12\", \"Topic12\", \"Topic12\", \"Topic12\", \"Topic12\", \"Topic12\", \"Topic12\", \"Topic12\", \"Topic12\", \"Topic12\", \"Topic12\", \"Topic12\", \"Topic12\", \"Topic12\", \"Topic12\", \"Topic12\", \"Topic12\", \"Topic12\", \"Topic12\", \"Topic12\", \"Topic12\", \"Topic12\", \"Topic12\", \"Topic12\", \"Topic12\", \"Topic12\", \"Topic12\", \"Topic12\", \"Topic12\", \"Topic12\", \"Topic12\", \"Topic12\", \"Topic12\", \"Topic12\", \"Topic13\", \"Topic13\", \"Topic13\", \"Topic13\", \"Topic13\", \"Topic13\", \"Topic13\", \"Topic13\", \"Topic13\", \"Topic13\", \"Topic13\", \"Topic13\", \"Topic13\", \"Topic13\", \"Topic13\", \"Topic13\", \"Topic13\", \"Topic13\", \"Topic13\", \"Topic13\", \"Topic13\", \"Topic13\", \"Topic13\", \"Topic13\", \"Topic13\", \"Topic13\", \"Topic13\", \"Topic13\", \"Topic13\", \"Topic13\", \"Topic13\", \"Topic13\", \"Topic13\", \"Topic13\", \"Topic13\", \"Topic13\", \"Topic13\", \"Topic13\", \"Topic13\", \"Topic13\", \"Topic13\", \"Topic13\", \"Topic13\", \"Topic13\", \"Topic13\", \"Topic13\", \"Topic13\", \"Topic13\", \"Topic13\", \"Topic13\", \"Topic13\", \"Topic13\", \"Topic13\", \"Topic13\", \"Topic13\", \"Topic13\", \"Topic13\", \"Topic13\", \"Topic13\", \"Topic13\", \"Topic13\", \"Topic13\", \"Topic13\", \"Topic13\", \"Topic13\", \"Topic13\", \"Topic13\", \"Topic13\", \"Topic13\", \"Topic13\", \"Topic13\", \"Topic13\", \"Topic13\", \"Topic13\", \"Topic13\", \"Topic13\", \"Topic13\", \"Topic13\", \"Topic13\", \"Topic13\", \"Topic13\", \"Topic13\", \"Topic14\", \"Topic14\", \"Topic14\", \"Topic14\", \"Topic14\", \"Topic14\", \"Topic14\", \"Topic14\", \"Topic14\", \"Topic14\", \"Topic14\", \"Topic14\", \"Topic14\", \"Topic14\", \"Topic14\", \"Topic14\", \"Topic14\", \"Topic14\", \"Topic14\", \"Topic14\", \"Topic14\", \"Topic14\", \"Topic14\", \"Topic14\", \"Topic14\", \"Topic14\", \"Topic14\", \"Topic14\", \"Topic14\", \"Topic14\", \"Topic14\", \"Topic14\", \"Topic14\", \"Topic14\", \"Topic14\", \"Topic14\", \"Topic14\", \"Topic14\", \"Topic14\", \"Topic14\", \"Topic14\", \"Topic14\", \"Topic14\", \"Topic14\", \"Topic14\", \"Topic14\", \"Topic14\", \"Topic14\", \"Topic14\", \"Topic14\", \"Topic14\", \"Topic14\", \"Topic14\", \"Topic14\", \"Topic14\", \"Topic14\", \"Topic14\", \"Topic14\", \"Topic14\", \"Topic14\", \"Topic14\", \"Topic14\", \"Topic14\", \"Topic14\", \"Topic14\", \"Topic14\", \"Topic14\", \"Topic14\", \"Topic14\", \"Topic14\", \"Topic14\", \"Topic14\", \"Topic14\", \"Topic14\", \"Topic14\", \"Topic14\", \"Topic14\", \"Topic14\", \"Topic14\", \"Topic14\", \"Topic14\", \"Topic15\", \"Topic15\", \"Topic15\", \"Topic15\", \"Topic15\", \"Topic15\", \"Topic15\", \"Topic15\", \"Topic15\", \"Topic15\", \"Topic15\", \"Topic15\", \"Topic15\", \"Topic15\", \"Topic15\", \"Topic15\", \"Topic15\", \"Topic15\", \"Topic15\", \"Topic15\", \"Topic15\", \"Topic15\", \"Topic15\", \"Topic15\", \"Topic15\", \"Topic15\", \"Topic15\", \"Topic15\", \"Topic15\", \"Topic15\", \"Topic15\", \"Topic15\", \"Topic15\", \"Topic15\", \"Topic15\", \"Topic15\", \"Topic15\", \"Topic15\", \"Topic15\", \"Topic15\", \"Topic15\", \"Topic15\", \"Topic15\", \"Topic15\", \"Topic15\", \"Topic15\", \"Topic15\", \"Topic15\", \"Topic15\", \"Topic15\", \"Topic15\", \"Topic15\", \"Topic15\", \"Topic15\", \"Topic15\", \"Topic15\", \"Topic15\", \"Topic15\", \"Topic15\", \"Topic15\", \"Topic15\", \"Topic15\", \"Topic15\", \"Topic15\", \"Topic15\", \"Topic15\", \"Topic15\", \"Topic15\", \"Topic15\", \"Topic15\", \"Topic15\", \"Topic15\", \"Topic15\", \"Topic15\", \"Topic15\", \"Topic15\", \"Topic15\", \"Topic15\", \"Topic15\", \"Topic15\", \"Topic15\", \"Topic15\", \"Topic15\", \"Topic15\", \"Topic15\", \"Topic15\", \"Topic15\", \"Topic15\", \"Topic15\", \"Topic15\", \"Topic15\"], \"logprob\": [30.0, 29.0, 28.0, 27.0, 26.0, 25.0, 24.0, 23.0, 22.0, 21.0, 20.0, 19.0, 18.0, 17.0, 16.0, 15.0, 14.0, 13.0, 12.0, 11.0, 10.0, 9.0, 8.0, 7.0, 6.0, 5.0, 4.0, 3.0, 2.0, 1.0, -4.5284, -5.2531, -5.2499, -5.3359, -5.5756, -5.3855, -5.444, -5.5532, -4.63, -4.3107, -5.5857, -5.2487, -5.6283, -5.9658, -6.0485, -4.1951, -5.9059, -5.5539, -5.9605, -5.9818, -4.7003, -4.4748, -5.171, -6.2075, -6.2756, -4.7669, -5.7593, -6.3512, -6.3509, -6.4412, -4.0353, -4.9316, -4.9463, -6.072, -5.689, -5.8453, -5.6538, -5.8715, -5.3653, -4.9064, -4.755, -5.1404, -5.7009, -5.7665, -5.6811, -5.7146, -6.0304, -5.525, -5.982, -6.1168, -6.0715, -5.6671, -6.0424, -6.0856, -6.1193, -6.1199, -5.7775, -4.7777, -6.3835, -5.5836, -6.4386, -6.4381, -5.7054, -6.5111, -6.4515, -6.526, -6.5078, -6.6025, -4.075, -5.1248, -5.7382, -5.0348, -5.4338, -6.212, -5.7909, -5.6376, -5.3103, -5.666, -5.9584, -5.998, -5.9641, -4.6606, -4.6669, -4.8407, -4.8363, -4.7488, -4.7498, -5.0595, -5.4682, -5.6159, -5.4984, -5.6879, -4.5343, -5.7225, -5.7556, -5.765, -5.6945, -5.798, -5.1331, -5.9298, -5.6888, -5.9302, -6.121, -6.1698, -6.0701, -4.433, -5.6925, -6.2974, -6.2418, -6.3637, -6.2963, -4.8527, -5.4637, -5.7265, -5.3801, -4.957, -5.5501, -4.8969, -5.239, -5.149, -5.2605, -5.318, -5.5854, -5.6806, -5.6138, -4.0831, -3.9728, -5.0908, -5.1136, -4.7361, -5.5977, -5.3506, -5.4429, -5.0704, -4.0504, -4.8723, -5.6831, -4.8751, -5.948, -4.6749, -6.1365, -5.639, -6.2019, -4.5178, -4.4976, -6.5567, -6.5455, -6.5486, -6.4464, -6.3847, -6.5571, -6.5544, -6.1976, -6.2705, -6.6715, -4.2602, -4.3917, -5.1059, -4.7238, -5.3753, -6.0602, -6.0203, -5.7189, -5.6844, -4.9598, -5.7438, -5.4448, -5.9758, -5.9927, -4.3779, -4.5317, -5.0631, -4.9952, -4.0769, -5.329, -5.4369, -4.6295, -5.6678, -5.8256, -5.8762, -6.0613, -6.2029, -5.5854, -6.2001, -6.0678, -6.2814, -6.2, -4.8511, -6.2831, -6.3732, -6.373, -6.3799, -6.3699, -6.3023, -5.697, -6.3716, -6.3159, -4.7128, -6.1103, -4.9765, -5.7452, -5.291, -5.87, -6.2179, -6.1384, -5.6726, -5.855, -6.2131, -6.1142, -3.9953, -4.4122, -4.8664, -5.0224, -5.2336, -4.5502, -4.5932, -5.3546, -5.5645, -5.1396, -5.1427, -5.6536, -5.859, -5.9849, -6.0957, -6.107, -6.1473, -6.193, -5.8782, -5.8865, -6.2831, -6.3746, -6.4833, -6.4637, -6.488, -6.5109, -6.4952, -6.5947, -6.6118, -6.7294, -6.2852, -5.9889, -5.4206, -6.0621, -6.3521, -5.045, -5.8259, -6.1052, -5.726, -5.953, -6.0728, -6.1107, -5.9122, -5.8454, -6.0547, -6.0625, -6.0904, -6.0925, -4.5982, -5.1179, -5.2571, -5.4119, -5.3181, -5.1206, -5.5404, -5.5954, -5.1616, -5.7489, -4.9596, -5.8383, -5.7533, -4.6009, -5.9314, -5.9271, -5.9352, -5.9426, -6.0319, -6.1481, -6.1449, -6.271, -6.2674, -6.4211, -6.4206, -6.1498, -6.5823, -6.5895, -5.8349, -6.7977, -5.6665, -4.8571, -4.7614, -5.4155, -6.2742, -6.1372, -5.9434, -6.035, -5.8869, -6.1306, -3.8954, -4.1952, -3.3327, -4.4144, -4.0007, -4.0288, -4.64, -5.3575, -5.6173, -5.7027, -5.6956, -5.6931, -5.7793, -5.6975, -5.7809, -5.9709, -5.9749, -6.0894, -6.0874, -6.0801, -5.0159, -6.2105, -6.2133, -6.2245, -5.6936, -4.7262, -5.2961, -6.3659, -6.3658, -6.3593, -5.4085, -5.4727, -5.6144, -5.0133, -5.1468, -4.825, -5.976, -5.67, -5.6916, -5.9336, -8.3319, -8.1954, -8.3186, -8.4714, -8.5369, -8.59, -8.2898, -8.465, -8.3165, -8.154, -8.5061, -8.5459, -8.5084, -8.4656, -8.4535, -8.3641, -8.3215, -8.3466, -8.325, -8.3292, -8.5217, -8.5876, -8.4644, -8.5557, -8.3219, -8.519, -8.5398, -8.5255, -8.3874, -8.6571, -8.39, -8.3792, -8.3463, -8.1429, -8.4366, -8.3783, -8.3813, -8.3787, -8.265, -6.6691, -8.2674, -6.3693, -6.7335, -7.3273, -7.7652, -7.0594, -8.0947, -7.2329, -7.9924, -7.8281, -7.9465, -7.9365, -7.2807, -8.0963, -8.1544, -7.7515, -7.4451, -7.4495, -7.6483, -7.8229, -7.9636, -7.8066, -7.8266, -7.1895, -7.9797, -7.5729, -7.8268, -7.6671, -7.3687, -7.2009, -7.824, -7.5376, -7.8474, -7.4753, -7.4144, -7.6995, -7.5919, -7.4905, -7.8147, -7.6329, -7.7153, -7.7921, -7.7201, -7.774, -7.7533, -8.4182, -8.3653, -8.5635, -8.427, -8.3537, -8.5773, -8.4892, -8.4068, -8.516, -8.5536, -8.5454, -8.4487, -8.4592, -8.5817, -8.427, -8.5267, -8.3879, -8.5193, -8.5983, -8.538, -8.5633, -8.594, -8.5306, -8.4427, -8.4634, -8.5437, -8.3593, -8.4618, -8.5245, -8.3711, -8.4114, -8.4481, -8.3594, -8.3573, -8.4065, -8.4553, -8.3795, -8.3699, -8.4121, -8.4631, -8.3721, -8.359, -8.4431, -6.9052, -7.2032, -7.3679, -6.4953, -7.3774, -8.3457, -8.3381, -7.5157, -7.5913, -7.0055, -7.1403, -7.4129, -7.952, -7.5623, -7.2558, -7.1641, -8.1112, -7.7364, -8.2394, -7.7962, -7.7027, -7.2664, -7.2542, -7.501, -7.5999, -7.6093, -8.1188, -7.6125, -7.9052, -7.5818, -7.7944, -7.8189, -8.0427, -7.8436, -7.8761, -7.6743, -7.7962, -7.8027, -7.8036, -7.8129, -8.4091, -8.4114, -8.4502, -8.5548, -8.5375, -8.4646, -8.5051, -8.3969, -8.5454, -8.5035, -8.6087, -8.3378, -8.5012, -8.4168, -8.4934, -8.4468, -8.5201, -8.407, -8.4572, -8.4817, -8.4579, -8.5133, -8.653, -8.4538, -8.5803, -8.2621, -8.5473, -8.5468, -8.5613, -8.4859, -8.5058, -8.3866, -8.3646, -8.5039, -8.4767, -8.2864, -8.179, -8.3912, -8.3167, -8.3348, -8.3236, -8.332, -6.7394, -8.395, -8.3367, -7.2059, -8.3882, -8.3879, -7.6309, -8.0499, -6.9854, -7.2002, -8.3066, -7.5385, -8.3134, -7.1073, -7.5803, -7.2429, -7.756, -7.3238, -7.9347, -7.9926, -7.7436, -7.386, -7.919, -7.6733, -7.544, -7.7635, -8.0606, -8.0335, -7.8648, -7.4437, -7.7491, -8.0649, -7.502, -7.6203, -7.4042, -7.3665, -7.7425, -7.897, -7.872, -7.5196, -7.6119, -7.5681, -7.8105, -7.7621, -7.8017, -7.8003, -7.7708, -8.4035, -8.329, -8.5387, -8.407, -8.4605, -8.5126, -8.4141, -8.5446, -8.2835, -8.555, -8.4787, -8.3983, -8.4812, -8.6138, -8.5005, -8.5037, -8.4985, -8.4632, -8.4809, -8.4454, -8.4655, -8.5129, -8.4421, -8.5106, -8.3059, -8.5269, -8.5065, -8.4674, -8.4805, -8.3472, -8.4459, -8.3458, -8.4568, -8.3545, -8.4006, -8.3398, -8.3609, -8.3974, -8.4072, -8.3348, -8.3536, -8.3487, -8.3936, -8.3791, -7.1064, -8.2753, -8.296, -7.5775, -6.8049, -8.3292, -7.5029, -7.4806, -7.0496, -6.8786, -7.4799, -7.1264, -7.6968, -8.2517, -7.259, -7.2827, -7.6446, -7.866, -7.6429, -7.6595, -7.5463, -7.6343, -7.7518, -7.381, -7.8119, -7.6808, -7.6952, -7.8897, -7.6621, -7.9754, -7.5798, -7.4756, -7.708, -7.7906, -7.7346, -7.7614, -7.7289, -7.7436, -7.7738, -8.4107, -8.5441, -8.4494, -8.4977, -8.4559, -8.3686, -8.4078, -8.4122, -8.5397, -8.4812, -8.4177, -8.5102, -8.4372, -8.4465, -8.6319, -8.4612, -8.4712, -8.5161, -8.5223, -8.5934, -8.4773, -8.5347, -8.4668, -8.4442, -8.483, -8.5661, -8.5209, -8.5248, -8.5214, -8.5951, -8.4203, -8.3264, -8.4261, -8.3737, -8.3306, -8.3153, -8.4927, -8.3451, -8.3485, -8.3133, -8.3635, -8.3326, -6.4233, -6.5613, -8.122, -8.3715, -8.3483, -8.3749, -6.9616, -6.9163, -7.5277, -7.299, -7.3102, -8.3536, -7.4782, -7.4287, -7.5003, -7.5377, -7.471, -7.5562, -7.7579, -7.633, -8.0229, -7.6322, -7.9101, -7.7612, -7.9494, -7.6509, -7.924, -7.6946, -7.8936, -7.9059, -8.0057, -7.9959, -8.1374, -7.8484, -7.8605, -7.9405, -7.9373, -7.8941, -7.9599, -7.9565, -8.4349, -8.3543, -8.3574, -8.4141, -8.2951, -8.5501, -8.3211, -8.3961, -8.4651, -8.4107, -8.4151, -8.4606, -8.4747, -8.4389, -8.5871, -8.5494, -8.4954, -8.4828, -8.4966, -8.3904, -8.2992, -8.4494, -8.5161, -8.5207, -8.4178, -8.4823, -8.5829, -8.5183, -8.5208, -8.504, -8.3354, -8.4196, -8.361, -8.335, -8.3445, -8.3525, -8.3978, -8.444, -8.3624, -8.3236, -8.3209, -8.3601, -8.3341, -8.3653, -6.9363, -8.3556, -7.1056, -8.3491, -7.9618, -7.5275, -7.8106, -7.6673, -7.5517, -7.6768, -7.45, -7.4244, -7.6813, -8.0547, -7.6892, -8.2451, -7.6211, -7.616, -7.5762, -7.5695, -7.5842, -7.9078, -7.867, -8.1984, -7.5363, -7.878, -7.8235, -7.836, -8.1305, -7.8187, -7.8812, -8.1109, -7.7575, -7.9216, -7.9106, -7.9391, -7.9462, -8.4677, -8.3753, -8.3826, -8.4452, -8.2925, -8.5231, -8.4829, -8.453, -8.4382, -8.3689, -8.4724, -8.4715, -8.4331, -8.3953, -8.3712, -8.4219, -8.4763, -8.4963, -8.4291, -8.53, -8.4746, -8.4497, -8.4892, -8.4281, -8.4478, -8.5747, -8.4552, -8.4587, -8.5021, -8.4752, -8.2796, -8.4814, -8.4266, -8.2794, -8.3658, -8.3574, -8.3593, -8.35, -8.4107, -8.3404, -8.3749, -8.3593, -8.3725, -8.3345, -8.3392, -8.3446, -8.3701, -8.3837, -8.3162, -8.3562, -8.34, -8.3602, -8.3828, -8.342, -7.3516, -7.447, -7.3599, -7.6839, -7.7481, -7.7982, -7.8447, -8.2874, -7.7571, -8.2265, -8.0067, -7.7419, -7.9912, -7.8306, -8.1446, -8.2332, -7.8575, -7.8814, -8.1738, -7.8657, -8.0971, -8.1431, -7.8949, -7.8867, -7.8718, -8.2105, -8.0321, -8.1083, -8.0928, -8.0305, -7.9828, -8.0777, -8.1113, -8.0432, -8.1234, -8.1169, -8.1288], \"loglift\": [30.0, 29.0, 28.0, 27.0, 26.0, 25.0, 24.0, 23.0, 22.0, 21.0, 20.0, 19.0, 18.0, 17.0, 16.0, 15.0, 14.0, 13.0, 12.0, 11.0, 10.0, 9.0, 8.0, 7.0, 6.0, 5.0, 4.0, 3.0, 2.0, 1.0, 1.2471, 1.2363, 1.2349, 1.2329, 1.2319, 1.2307, 1.2296, 1.2263, 1.2256, 1.2255, 1.2252, 1.2228, 1.2219, 1.2169, 1.214, 1.2136, 1.2134, 1.2119, 1.2103, 1.2096, 1.2095, 1.2075, 1.1997, 1.1981, 1.1935, 1.1895, 1.1875, 1.1869, 1.1865, 1.1844, 1.129, 1.1223, 1.1185, 1.1478, 1.0487, 1.0669, 0.9351, 1.0684, 1.6296, 1.6293, 1.6266, 1.6262, 1.6111, 1.6079, 1.6002, 1.5998, 1.5933, 1.5923, 1.5902, 1.5877, 1.5849, 1.5825, 1.5793, 1.5768, 1.5743, 1.5733, 1.5679, 1.5648, 1.5645, 1.56, 1.5548, 1.5492, 1.5454, 1.5406, 1.5391, 1.5384, 1.5357, 1.5325, 1.5041, 1.4913, 1.4754, 1.3902, 1.3706, 1.4993, 1.3962, 1.2556, 0.9083, 1.0931, 1.0921, 1.1813, 0.3118, 1.8353, 1.8343, 1.8341, 1.8338, 1.8298, 1.8124, 1.8105, 1.8076, 1.8075, 1.805, 1.7984, 1.7977, 1.7955, 1.7955, 1.7925, 1.7922, 1.7861, 1.7845, 1.7785, 1.776, 1.7757, 1.7733, 1.7683, 1.7629, 1.7577, 1.7569, 1.754, 1.7502, 1.7474, 1.7441, 1.7361, 1.7409, 1.7344, 1.7088, 1.6218, 1.6913, 1.5325, 1.5894, 1.4514, 1.3633, 1.1784, 1.4469, 1.4672, 1.025, 2.1882, 2.1869, 2.1688, 2.1668, 2.163, 2.1392, 2.1353, 2.1308, 2.1251, 2.1249, 2.1108, 2.1101, 2.0954, 2.0864, 2.0767, 2.0723, 2.0676, 2.0663, 2.0516, 2.0388, 2.0178, 2.0169, 2.0055, 2.0042, 2.0005, 1.9996, 1.9966, 1.9963, 1.9954, 1.9914, 1.9872, 1.974, 1.9615, 1.911, 1.8679, 1.9409, 1.9154, 1.7687, 1.7494, 1.3161, 1.6701, 1.2056, 1.7875, 1.1345, 2.2633, 2.2546, 2.2365, 2.2235, 2.218, 2.2155, 2.2114, 2.2019, 2.1727, 2.1507, 2.149, 2.1388, 2.1294, 2.128, 2.1261, 2.1242, 2.1199, 2.1189, 2.11, 2.1097, 2.0983, 2.0973, 2.0961, 2.0948, 2.0916, 2.0878, 2.0864, 2.0811, 2.068, 2.0664, 1.9814, 1.7443, 0.9849, 1.5007, 1.8853, 1.7626, 1.0027, 1.1956, 1.3327, -0.9498, 2.4246, 2.4026, 2.3943, 2.3888, 2.3751, 2.3696, 2.3599, 2.3554, 2.3472, 2.3398, 2.3333, 2.3322, 2.3163, 2.2841, 2.2766, 2.2701, 2.2678, 2.2576, 2.2488, 2.2402, 2.2362, 2.2355, 2.2074, 2.2072, 2.2053, 2.19, 2.1799, 2.1791, 2.1566, 2.1495, 2.1437, 2.1276, 2.0758, 2.0739, 2.1378, 1.5938, 1.916, 1.9239, 1.4014, 1.6176, 1.6377, 1.7176, 0.7382, -0.2663, 1.1799, 1.074, 1.3056, 1.2176, 2.9536, 2.9063, 2.8841, 2.8704, 2.8675, 2.8461, 2.8417, 2.8414, 2.836, 2.8142, 2.8003, 2.799, 2.7989, 2.7985, 2.7769, 2.7761, 2.7655, 2.7613, 2.755, 2.7188, 2.7169, 2.6831, 2.6689, 2.6393, 2.621, 2.5939, 2.5911, 2.5866, 2.5814, 2.516, 2.4731, 2.4019, 2.326, 2.3225, 2.4636, 2.2022, 1.6074, 1.8702, 1.0171, 1.999, 3.0606, 3.0467, 3.0467, 3.0364, 3.0294, 3.0281, 2.9762, 2.9164, 2.8982, 2.8733, 2.8706, 2.8701, 2.8687, 2.8666, 2.8538, 2.8302, 2.8096, 2.7931, 2.7888, 2.7796, 2.7742, 2.7492, 2.7289, 2.7244, 2.7178, 2.712, 2.7077, 2.6943, 2.6927, 2.6776, 2.6316, 2.6026, 2.6169, 2.2049, 2.159, 1.8503, 2.5121, 0.9539, -0.5273, 0.8255, 1.1632, 1.1506, 1.0612, 1.0485, 1.0389, 1.0375, 1.0291, 1.0267, 1.0239, 1.0195, 1.0183, 1.0064, 1.0057, 1.0053, 0.9937, 0.9923, 0.9875, 0.9785, 0.9764, 0.9757, 0.9744, 0.9714, 0.9712, 0.9675, 0.9658, 0.9648, 0.9638, 0.962, 0.9616, 0.9603, 0.9548, 0.9543, 0.9388, 0.8894, 0.9452, 0.9329, 0.9327, 0.9295, 0.8898, 0.284, 0.8878, 0.0506, 0.1862, 0.3827, 0.6118, 0.2013, 0.7851, 0.2465, 0.7085, 0.6008, 0.6636, 0.6467, 0.1305, 0.7175, 0.762, 0.3751, 0.0513, 0.0265, 0.0936, 0.3041, 0.4871, 0.1792, 0.2025, -0.9421, 0.3926, -0.5898, -0.0023, -0.4075, -1.1935, -1.7923, -0.0323, -0.9683, -0.0191, -1.5189, -1.8353, -0.8003, -1.5379, -2.3262, -0.2442, -2.0967, -1.4394, -0.482, -1.8104, -1.2383, -2.071, 1.1992, 1.0772, 1.0639, 1.0545, 1.0518, 1.041, 1.0249, 1.0246, 1.024, 1.0222, 1.0069, 1.0062, 0.9985, 0.9908, 0.9855, 0.9822, 0.9775, 0.9738, 0.9725, 0.9718, 0.9689, 0.965, 0.9646, 0.9643, 0.9634, 0.962, 0.9612, 0.9611, 0.9571, 0.9567, 0.9534, 0.9526, 0.9446, 0.9416, 0.9463, 0.9498, 0.9269, 0.9151, 0.9301, 0.941, 0.8778, 0.8604, 0.926, -0.5259, -0.2472, -0.2506, -1.331, -0.3473, 0.8223, 0.8107, -0.2738, -0.2769, -1.23, -1.0754, -0.7376, 0.1767, -0.5054, -1.0372, -1.2077, 0.4205, -0.2856, 0.6446, -0.1801, -0.3573, -1.2125, -1.3986, -1.0116, -0.7924, -0.8435, 0.3272, -1.0236, -0.2428, -1.1619, -0.5746, -0.5376, 0.0968, -0.5379, -0.4379, -1.3037, -0.8764, -1.0361, -1.2679, -2.2338, 1.1008, 1.1003, 1.073, 1.0634, 1.0383, 1.0271, 1.0271, 1.0263, 1.0253, 1.0208, 1.0188, 1.0187, 1.0125, 1.0069, 0.9969, 0.9859, 0.9834, 0.9795, 0.9788, 0.9735, 0.9713, 0.9683, 0.9645, 0.9638, 0.9597, 0.9578, 0.9519, 0.9516, 0.9505, 0.9502, 0.9497, 0.9459, 0.9367, 0.9472, 0.9403, 0.8918, 0.8582, 0.9141, 0.8812, 0.8828, 0.8763, 0.8641, -0.397, 0.9031, 0.8534, -0.211, 0.8866, 0.883, -0.0072, 0.4775, -0.8257, -0.584, 0.7819, -0.2264, 0.7906, -0.836, -0.2059, -0.823, -0.0515, -0.7874, 0.1861, 0.2742, -0.2577, -1.0202, 0.0291, -0.4778, -0.7924, -0.3523, 0.2862, 0.2243, -0.2085, -1.2684, -0.5619, 0.2469, -1.2546, -0.9854, -1.7219, -1.9578, -0.7894, -0.3233, -0.4381, -1.9834, -1.7021, -1.989, -0.7599, -1.1927, -0.882, -0.8963, -2.6065, 1.1555, 1.0965, 1.0788, 1.0637, 1.0536, 1.0397, 1.0285, 1.0261, 1.0248, 1.0175, 1.0164, 1.0098, 1.0092, 1.0044, 0.9955, 0.9947, 0.9943, 0.9932, 0.9899, 0.989, 0.9881, 0.9874, 0.987, 0.9869, 0.9841, 0.983, 0.981, 0.9798, 0.9751, 0.9723, 0.9716, 0.9603, 0.97, 0.9408, 0.9489, 0.9233, 0.931, 0.9374, 0.9254, 0.8625, 0.8777, 0.8646, 0.902, 0.8815, -0.727, 0.7472, 0.7587, -0.2778, -1.3962, 0.794, -0.4459, -0.5246, -1.3673, -1.7142, -0.6651, -1.3509, -0.4549, 0.6409, -1.4034, -1.373, -0.6146, -0.2498, -0.8621, -0.8732, -1.2038, -1.0655, -0.757, -1.8448, -0.6412, -1.0647, -1.0541, -0.4389, -1.1726, -0.1853, -1.5149, -1.8965, -1.0917, -0.8295, -1.0958, -1.0879, -1.3583, -1.2587, -1.3024, 1.2068, 1.0742, 1.0626, 1.0613, 1.0582, 1.0569, 1.0401, 1.0398, 1.0361, 1.0277, 1.0249, 1.013, 1.0018, 0.9972, 0.9955, 0.993, 0.9877, 0.9842, 0.9833, 0.9791, 0.979, 0.977, 0.9745, 0.9722, 0.9706, 0.9662, 0.9636, 0.9636, 0.9602, 0.9573, 0.9571, 0.9455, 0.9492, 0.9421, 0.9351, 0.918, 0.9566, 0.9112, 0.8917, 0.863, 0.8819, 0.8411, -0.8871, -1.1526, 0.5911, 0.8602, 0.8297, 0.8634, -1.0519, -1.2341, -0.4084, -0.8141, -0.8388, 0.8321, -0.6987, -0.8124, -0.6855, -0.6875, -0.9022, -0.8185, -0.4885, -0.8221, 0.0721, -0.9587, -0.3719, -0.8213, -0.2843, -1.2716, -0.4548, -1.3998, -0.7021, -0.664, -0.3801, -0.5367, 0.1006, -1.419, -1.4355, -1.0282, -1.1059, -1.6755, -1.3211, -2.3774, 1.1825, 1.111, 1.0925, 1.0874, 1.0782, 1.0774, 1.0626, 1.0619, 1.0593, 1.045, 1.0438, 1.0386, 1.0374, 1.0321, 1.0311, 1.0231, 1.0183, 1.0089, 1.0069, 1.0051, 1.0044, 1.0017, 1.0013, 0.9993, 0.9947, 0.9939, 0.993, 0.9915, 0.9909, 0.9866, 0.9746, 0.9766, 0.9636, 0.9534, 0.9536, 0.9539, 0.9589, 0.9737, 0.9337, 0.9132, 0.8969, 0.9162, 0.887, 0.9118, -0.761, 0.89, -0.8582, 0.8713, 0.2469, -0.5444, -0.0738, -0.3868, -0.6525, -0.4173, -0.8806, -1.1532, -0.6139, 0.2135, -0.7187, 0.619, -1.0847, -1.1149, -1.2441, -1.3788, -1.4245, -0.4202, -0.6238, 0.4644, -1.9572, -0.6825, -1.0719, -1.2012, 0.0634, -1.5428, -1.2424, -0.1752, -2.5931, -1.5558, -1.692, -1.5141, -1.5645, 1.1597, 1.1368, 1.1209, 1.1138, 1.1126, 1.0952, 1.0695, 1.0568, 1.0502, 1.0457, 1.0394, 1.0332, 1.0233, 1.0216, 1.0192, 1.0174, 1.0155, 1.0154, 1.0153, 1.01, 1.0099, 1.0092, 1.0085, 1.0057, 1.002, 1.0011, 1.0005, 0.999, 0.9963, 0.9954, 0.9848, 0.9947, 0.9858, 0.9333, 0.9589, 0.9466, 0.9405, 0.9315, 0.9692, 0.9201, 0.9441, 0.9302, 0.9274, 0.8836, 0.8832, 0.8879, 0.916, 0.9326, 0.8232, 0.8798, 0.8402, 0.8743, 0.9184, 0.8275, -1.5761, -1.5914, -2.1956, -1.1944, -1.1788, -1.0324, -0.9455, 0.6232, -1.3865, 0.3367, -0.6073, -1.7855, -0.7107, -1.7767, -0.147, 0.3088, -1.6823, -1.634, -0.0326, -1.8008, -0.5462, -0.3832, -2.2127, -2.3076, -2.4631, -0.0709, -1.6071, -0.9375, -1.1529, -1.8119, -2.4466, -1.4888, -1.1282, -2.1335, -1.036, -1.3374, -1.5049]}, \"token.table\": {\"Topic\": [2, 5, 6, 3, 8, 8, 1, 4, 1, 2, 3, 4, 5, 6, 8, 6, 6, 1, 2, 8, 1, 2, 4, 7, 2, 3, 8, 4, 6, 8, 2, 3, 6, 2, 1, 2, 3, 4, 5, 6, 8, 8, 2, 3, 5, 8, 2, 4, 7, 3, 4, 5, 8, 1, 2, 3, 5, 7, 1, 2, 3, 4, 5, 7, 1, 2, 2, 5, 8, 1, 1, 2, 3, 4, 6, 1, 2, 3, 4, 5, 1, 2, 3, 4, 5, 6, 6, 3, 4, 6, 7, 1, 1, 2, 4, 5, 8, 6, 4, 5, 7, 5, 2, 5, 1, 1, 6, 7, 3, 1, 5, 5, 1, 2, 5, 1, 2, 3, 4, 5, 6, 1, 2, 3, 6, 6, 7, 2, 6, 5, 7, 2, 5, 6, 7, 8, 1, 2, 3, 6, 8, 1, 2, 3, 7, 4, 1, 1, 3, 7, 5, 7, 7, 2, 3, 5, 2, 1, 2, 3, 4, 6, 8, 1, 1, 6, 2, 1, 4, 8, 8, 1, 2, 4, 6, 7, 8, 5, 2, 5, 1, 2, 3, 6, 8, 1, 2, 5, 6, 1, 2, 3, 5, 7, 8, 2, 2, 4, 2, 1, 2, 3, 4, 5, 6, 7, 8, 1, 3, 1, 2, 4, 5, 6, 5, 3, 5, 7, 7, 2, 6, 8, 1, 5, 7, 2, 3, 1, 2, 3, 4, 5, 4, 5, 1, 2, 4, 5, 6, 7, 2, 3, 4, 8, 1, 2, 3, 5, 6, 7, 1, 5, 7, 1, 3, 4, 1, 3, 1, 2, 4, 5, 8, 3, 6, 8, 1, 2, 2, 3, 7, 1, 5, 6, 4, 2, 3, 2, 4, 6, 3, 1, 2, 3, 5, 6, 1, 2, 4, 5, 6, 7, 1, 2, 4, 5, 6, 7, 5, 5, 8, 6, 8, 1, 4, 1, 6, 4, 2, 4, 2, 3, 4, 7, 2, 4, 7, 2, 2, 7, 1, 2, 3, 4, 5, 6, 2, 6, 1, 7, 1, 2, 4, 7, 6, 1, 2, 3, 4, 6, 7, 8, 1, 4, 6, 1, 6, 7, 3, 5, 7, 6, 1, 2, 3, 1, 4, 5, 6, 7, 8, 1, 2, 3, 6, 7, 2, 3, 4, 5, 8, 1, 2, 7, 6, 2, 8, 6, 7, 1, 2, 4, 7, 2, 5, 6, 2, 3, 6, 1, 2, 3, 5, 6, 8, 2, 4, 7, 1, 2, 4, 3, 3, 6, 1, 3, 1, 2, 5, 6, 1, 2, 3, 5, 6, 8, 2, 7, 1, 2, 3, 6, 7, 2, 4, 5, 7, 6, 1, 2, 7, 1, 5, 8, 1, 3, 3, 1, 2, 6, 8, 7, 6, 1, 3, 1, 2, 4, 5, 6, 7, 1, 7, 5, 6, 8, 5, 5, 8, 2, 8, 2, 1, 2, 3, 5, 7, 1, 2, 3, 4, 5, 6, 1, 2, 3, 4, 6, 7, 1, 3, 3, 5, 1, 3, 2, 5, 6, 2, 5, 8, 6, 1, 2, 4, 5, 6, 7, 1, 2, 3, 4, 5, 6, 2, 5, 6, 1, 3, 5, 7, 2, 3, 4, 2, 6, 1, 6, 7, 6, 6, 7, 1, 5, 6, 1, 4, 4, 8, 2, 7, 3, 8, 6, 8, 8, 8, 1, 2, 4, 8, 1, 3, 6, 7, 3, 6, 8, 8, 3, 4, 8, 2, 3, 3, 1, 1, 3, 1, 3, 3, 5, 8, 1, 2, 3, 2, 1, 2, 3, 6, 7, 2, 6, 5, 6, 6, 4, 7, 1, 2, 3, 5, 6, 7, 2, 1, 4, 4, 4, 1, 5, 6, 5, 4, 6, 4, 6, 6, 7, 1, 2, 6, 8, 7, 1, 7, 1, 2, 8, 2, 5, 7, 8, 2, 6, 1, 6, 7, 1, 8, 7, 1, 3, 1, 3, 7, 1, 2, 3, 6, 2, 3, 8, 2, 6, 8, 8, 5, 6, 7, 1, 2, 6, 2, 6, 5, 2, 4, 2, 2, 6, 2, 3, 4, 5, 6, 8, 6, 2, 7, 7, 1, 1, 6, 7, 1, 2, 4, 6, 3, 1, 5, 6, 7, 1, 2, 3, 5, 6, 7, 5, 1, 2, 3, 4, 5, 7, 3, 3, 1, 5, 7, 3, 4, 7, 6, 7, 5, 2, 8, 1, 2, 4, 5, 6, 2, 5, 1, 4, 6, 8, 6, 6, 1, 6, 6, 6, 6, 1, 3, 7, 1, 2, 3, 6, 7, 2, 5, 2, 5, 6, 2, 2, 3, 6, 6, 7, 1, 1, 2, 6, 7, 3, 4, 1, 5, 4, 5, 4, 7, 1, 4, 4, 4, 1, 4, 1, 6, 2, 5, 1, 2, 4, 1, 4, 1, 3, 7, 2, 1, 4, 6, 7, 3, 5, 1, 5, 6, 8, 6, 3, 2, 4, 1, 5, 6, 1, 2, 4, 6, 8, 1, 3, 4, 6, 7, 5, 5, 1, 3, 4, 1, 6, 6, 1, 4, 1, 2, 5, 8, 1, 2, 5, 4, 3, 1, 2, 3, 4, 5, 6, 1, 8, 1, 3, 5, 2, 3, 6, 8, 1, 7, 1, 4, 4, 5, 1, 3, 3, 5, 2, 6, 8, 8, 2, 7, 5, 5, 1, 3, 4, 5, 6, 7, 3, 3, 6, 3, 7, 5, 1, 5, 6, 7, 2, 3, 4, 5, 2, 6, 8, 8, 8, 1, 5, 1, 2, 3, 6, 3, 5, 8, 3, 5, 6, 7, 1, 2, 3, 5, 6, 7, 8, 5, 7, 1, 7, 2, 3, 4, 1, 8, 1, 2, 2, 8, 5, 7, 7, 7, 7, 8, 4, 1, 4, 2, 2, 2, 8, 2, 5, 7, 1, 2, 7, 4, 6, 3, 7, 1, 5, 3, 8, 4, 3, 7, 7, 1, 3, 4, 1, 5, 1, 3, 5, 6, 7, 1, 7, 5, 1, 2, 3, 5, 7, 4, 8, 2, 1, 6, 7, 8, 2, 3, 7, 6, 1, 1, 2, 3, 5, 6, 7, 3, 6, 2, 5, 7, 1, 2, 3, 5, 7, 1, 3, 5, 7, 1, 3, 8, 8, 2, 2, 3, 4, 5, 7, 8, 1, 2, 4, 5, 4, 5, 1, 2, 3, 5, 7, 8, 6, 7, 6, 7, 7, 1, 2, 8, 1, 2, 3, 2, 4, 5, 1, 4, 5, 5, 5, 6, 2, 5, 1, 2, 5, 1, 1, 2, 1, 4, 6, 8, 1, 3, 5, 2, 1, 2, 4, 6, 2, 3, 7, 2, 1, 2, 4, 2, 5, 8, 1, 2, 3, 5, 7, 1, 2, 3, 1, 6, 1, 6, 1, 2, 3, 5, 6, 7, 8, 1, 2, 6, 1, 3, 1, 2, 7, 6, 3, 7, 4, 6, 4, 7, 7, 8, 1, 2, 3, 4, 5, 7, 1, 2, 3, 5, 6, 8, 1, 3, 4, 6, 1, 2, 3, 5, 8, 1, 3, 6, 4, 2, 5, 6, 7, 1, 2, 5, 6, 7, 8, 2, 4, 7, 2, 4, 5, 6, 7, 1, 3, 4, 5, 1, 3, 4, 1, 2, 6, 4, 1, 3, 6, 7, 1, 2, 3, 4, 5, 6, 8, 1, 2, 3, 5, 6, 8, 1, 3, 2, 7, 7, 8, 3, 6, 1, 3, 2, 5, 1, 2, 3, 4, 7, 1, 2, 3, 4, 6, 7, 3, 1, 3, 5, 7, 3, 5, 7, 4, 5, 7, 6, 5, 3, 4, 1, 2, 3, 4, 5, 2, 3, 4, 1, 2, 4, 4, 1, 2, 3, 5, 1, 4, 1, 2, 4, 5, 2, 6, 1, 2, 3, 4, 5, 7, 1, 5, 1, 2, 3, 4, 5, 2, 4, 2, 4, 2, 5, 7, 8, 2, 4, 8, 2, 3, 4, 2, 8, 5, 2, 6, 4, 6, 1], \"Freq\": [0.2433847881015982, 0.2433847881015982, 0.2433847881015982, 0.9010819470494899, 0.6602037140514547, 0.5818183561522658, 0.1367335328812753, 0.7520344308470142, 0.04241049100427211, 0.7492520077421407, 0.014136830334757372, 0.07068415167378686, 0.04241049100427211, 0.05654732133902949, 0.014136830334757372, 0.8196413498290283, 0.6501424739223374, 0.09660776308434417, 0.7728621046747534, 0.7217983789868286, 0.9421864962570979, 0.6775348094754899, 0.8490641029556276, 0.711737461244051, 0.9257542064441043, 0.9154363502608552, 0.7833048927056254, 0.11145148312887056, 0.6687088987732234, 0.9069073802520583, 0.7573319425041373, 0.18175966620099296, 0.030293277700165492, 0.8837154917586854, 0.09374391434385945, 0.21873580013567206, 0.09374391434385945, 0.062495942895906306, 0.062495942895906306, 0.031247971447953153, 0.40622362882339097, 0.522743801144011, 0.11126146340593317, 0.11126146340593317, 0.11126146340593317, 0.5563073170296658, 0.28634902516604865, 0.6136050539272472, 0.04090700359514981, 0.24598185971383185, 0.4919637194276637, 0.2843357492399355, 0.6397554357898548, 0.8054608717457764, 0.06903950329249511, 0.023013167764165038, 0.06903950329249511, 0.023013167764165038, 0.8043640957672552, 0.04731553504513266, 0.02365776752256633, 0.04731553504513266, 0.02365776752256633, 0.02365776752256633, 0.4445664953814839, 0.22228324769074195, 0.2521852087954691, 0.2521852087954691, 0.2521852087954691, 0.9237994327628748, 0.23261924657419017, 0.038769874429031695, 0.07753974885806339, 0.6203179908645071, 0.9197808690469262, 0.032664356581578645, 0.032664356581578645, 0.032664356581578645, 0.8329410928302555, 0.04899653487236797, 0.16019757548469932, 0.03203951509693986, 0.03203951509693986, 0.704869332132677, 0.06407903019387973, 0.9235077183390954, 0.8273993944242861, 0.21992117315477838, 0.21992117315477838, 0.21992117315477838, 0.21992117315477838, 0.8922691702735602, 0.6362516106390022, 0.1192971769948129, 0.07953145132987527, 0.07953145132987527, 0.039765725664937634, 0.5182385927974901, 0.04362123811977721, 0.04362123811977721, 0.8724247623955442, 0.9128076394823733, 0.8533604625262703, 0.8454838881854239, 0.6625753956478034, 0.8763841238179064, 0.06259886598699331, 0.031299432993496655, 0.8532702084754145, 0.08148867026643157, 0.8148867026643157, 0.8516799100675583, 0.3921557828286757, 0.19607789141433785, 0.19607789141433785, 0.036536808041931663, 0.25575765629352165, 0.01217893601397722, 0.4019048884612483, 0.26793659230749883, 0.02435787202795444, 0.9349823468671165, 0.04035895022447985, 0.013452983408159949, 0.006726491704079974, 0.5082600328001359, 0.5760746156916094, 0.93199298083334, 0.7927163814850445, 0.08221972401559577, 0.8221972401559577, 0.6787288219039816, 0.8091217356728962, 0.5428222598199145, 0.27141112990995725, 0.6453303198077278, 0.054918659594310984, 0.027459329797155492, 0.8237798939146648, 0.027459329797155492, 0.027459329797155492, 0.22612258064870597, 0.22612258064870597, 0.22612258064870597, 0.5772358306435238, 0.9311420366621115, 0.9237213382028303, 0.9585378453281739, 0.017116747238003105, 0.6623196121218126, 0.0699612148659671, 0.8395345783916052, 0.5915398612111323, 0.8990663219115801, 0.05800427883300517, 0.029002139416502586, 0.9044395064331542, 0.15939102388028223, 0.26565170646713704, 0.0177101137644758, 0.35420227528951603, 0.17710113764475802, 0.0177101137644758, 0.8664410778685097, 0.9342433240867527, 0.019877517533760696, 0.8544155088228794, 0.06109293411204394, 0.9163940116806591, 0.7288666315352154, 0.584362409901495, 0.08716335035420736, 0.4793984269481405, 0.08716335035420736, 0.04358167517710368, 0.21790837588551842, 0.04358167517710368, 0.8160744424552575, 0.22714061342960765, 0.6814218402888229, 0.7924178348778943, 0.019327264265314493, 0.019327264265314493, 0.13529084985720147, 0.019327264265314493, 0.31113698058396805, 0.08889628016684802, 0.08889628016684802, 0.4444814008342401, 0.02408798266300505, 0.12043991331502525, 0.0481759653260101, 0.7226394798901515, 0.02408798266300505, 0.0481759653260101, 0.813588362964627, 0.24961989858791156, 0.4992397971758231, 0.8598541774346795, 0.04247078843746918, 0.8433485132583165, 0.0242690219642681, 0.006067255491067025, 0.006067255491067025, 0.06673981040173728, 0.006067255491067025, 0.006067255491067025, 0.291241239159266, 0.6698548500663117, 0.15881869346464844, 0.03176373869292969, 0.3494011256222266, 0.19058243215757814, 0.28587364823636724, 0.8568278588087583, 0.06605523753860269, 0.06605523753860269, 0.7926628504632323, 0.6967299274118938, 0.07751028415929026, 0.7751028415929027, 0.6587512832370457, 0.06812331127099802, 0.06812331127099802, 0.7493564239809782, 0.7021138222869939, 0.9213438392706177, 0.9201762590590409, 0.00884784864479847, 0.00884784864479847, 0.03539139457919388, 0.01769569728959694, 0.8018792752643172, 0.08909769725159081, 0.8583793032911906, 0.009754310264672621, 0.05852586158803572, 0.0487715513233631, 0.009754310264672621, 0.009754310264672621, 0.8087467564187358, 0.09331693343293106, 0.031105644477643687, 0.031105644477643687, 0.08639062628473121, 0.48954688228014354, 0.05759375085648747, 0.028796875428243735, 0.2591718788541936, 0.08639062628473121, 0.03126214975517691, 0.9066023429001305, 0.03126214975517691, 0.024701422085416355, 0.04940284417083271, 0.8892511950749887, 0.9340909450282568, 0.02830578621297748, 0.019596340130343032, 0.058789020391029095, 0.8622389657350934, 0.039192680260686064, 0.019596340130343032, 0.10304762931349039, 0.10304762931349039, 0.6182857758809422, 0.4428610030540007, 0.22143050152700036, 0.2505215382679326, 0.2505215382679326, 0.2505215382679326, 0.24182487821712342, 0.24182487821712342, 0.24182487821712342, 0.8388903712926795, 0.9549345695724119, 0.019894470199425248, 0.8766104758425614, 0.4886661128053265, 0.8175020224542101, 0.9160612450707405, 0.12370085933529033, 0.06185042966764517, 0.06185042966764517, 0.5566538670088065, 0.12370085933529033, 0.02482184145308075, 0.02482184145308075, 0.012410920726540375, 0.9059972130374474, 0.012410920726540375, 0.012410920726540375, 0.021225020080264705, 0.021225020080264705, 0.021225020080264705, 0.8914508433711177, 0.021225020080264705, 0.04245004016052941, 0.8403754232427685, 0.8669862790555976, 0.511569329452268, 0.031998568636811144, 0.9279584904675232, 0.46843596224521494, 0.23421798112260747, 0.10487106031165762, 0.7340974221816033, 0.892318451141411, 0.08289711153606183, 0.8289711153606183, 0.06660852280499634, 0.8659107964649524, 0.03330426140249817, 0.016652130701249084, 0.25056379807948725, 0.25056379807948725, 0.25056379807948725, 0.9076418155091045, 0.383563048790633, 0.383563048790633, 0.37329960442477855, 0.11198988132743357, 0.037329960442477855, 0.11198988132743357, 0.037329960442477855, 0.29863968353982284, 0.8476891876674819, 0.796522134934249, 0.26850208863267094, 0.26850208863267094, 0.3105644899940916, 0.3105644899940916, 0.06211289799881832, 0.3105644899940916, 0.5036403098962909, 0.13693825615994884, 0.022823042693324806, 0.5021069392531458, 0.15976129885327364, 0.022823042693324806, 0.11411521346662404, 0.022823042693324806, 0.12206088014742399, 0.7323652808845439, 0.12206088014742399, 0.2588614405922676, 0.2588614405922676, 0.2588614405922676, 0.9560709950546208, 0.015175730080232076, 0.015175730080232076, 0.7402629742833655, 0.22964192676007641, 0.22964192676007641, 0.22964192676007641, 0.9519078242490235, 0.007999225413857341, 0.007999225413857341, 0.015998450827714682, 0.007999225413857341, 0.007999225413857341, 0.9238318782832287, 0.013388867801206213, 0.013388867801206213, 0.013388867801206213, 0.013388867801206213, 0.5549345546041661, 0.026425454981150766, 0.05285090996230153, 0.31710545977380916, 0.5031922300787811, 0.2383355275553281, 0.2383355275553281, 0.2383355275553281, 0.505682107662702, 0.2701666452178388, 0.2701666452178388, 0.8573384555116292, 0.5630310638968589, 0.235025459107, 0.235025459107, 0.235025459107, 0.5671658697229482, 0.8888333443880264, 0.7660066242880889, 0.5247779793756464, 0.9048742749785037, 0.05027079305436132, 0.5302446889311436, 0.09871989378475293, 0.5528314051946164, 0.059231936270851764, 0.059231936270851764, 0.09871989378475293, 0.09871989378475293, 0.26206628075781524, 0.26206628075781524, 0.26206628075781524, 0.010842544567538975, 0.010842544567538975, 0.9649864665109689, 0.9278186641921741, 0.8394622462743686, 0.9455286316199271, 0.9052329161213646, 0.047643837690598136, 0.013016498435096287, 0.8981383920216438, 0.05206599374038515, 0.026032996870192573, 0.03501299137473495, 0.03501299137473495, 0.42015589649681945, 0.03501299137473495, 0.42015589649681945, 0.03501299137473495, 0.26964478138407233, 0.26964478138407233, 0.05707428047682635, 0.14268570119206586, 0.3995199633377844, 0.34244568286095806, 0.028537140238413174, 0.2134014286564181, 0.2134014286564181, 0.2134014286564181, 0.2134014286564181, 0.513915523924207, 0.16204963761042188, 0.4861489128312656, 0.7500063211224623, 0.2910783501076556, 0.2910783501076556, 0.5904791578509458, 0.9516719056070585, 0.021628906945614965, 0.5869566659053588, 0.20996879437450683, 0.20996879437450683, 0.20996879437450683, 0.20996879437450683, 0.6641508953928037, 0.5110391674190775, 0.03937845817103468, 0.866326079762763, 0.03745761925697532, 0.03745761925697532, 0.03745761925697532, 0.03745761925697532, 0.07491523851395064, 0.7491523851395064, 0.301131302488287, 0.301131302488287, 0.6045124239293118, 0.32849497316820536, 0.32849497316820536, 0.5945939085483972, 0.3246541730048418, 0.3246541730048418, 0.31040765287912964, 0.31040765287912964, 0.5636760523231426, 0.2332334208261041, 0.15548894721740275, 0.15548894721740275, 0.07774447360870138, 0.3109778944348055, 0.14655908549212956, 0.013323553226557233, 0.0399706596796717, 0.7727660871403196, 0.013323553226557233, 0.013323553226557233, 0.0948157976942324, 0.015802632949038734, 0.015802632949038734, 0.8217369133500142, 0.015802632949038734, 0.015802632949038734, 0.28040756853998944, 0.28040756853998944, 0.5851218231869699, 0.8733369808462917, 0.9630352421047791, 0.0163226312221149, 0.24149102449090773, 0.24149102449090773, 0.24149102449090773, 0.24948156171302713, 0.24948156171302713, 0.24948156171302713, 0.8951199948473373, 0.05375205930004938, 0.08062808895007406, 0.779404859850716, 0.05375205930004938, 0.02687602965002469, 0.02687602965002469, 0.022024589201885172, 0.011012294600942586, 0.011012294600942586, 0.903008157277292, 0.03303688380282776, 0.011012294600942586, 0.9498310527339321, 0.07754307841643329, 0.775430784164333, 0.01525491591549442, 0.9458047867606542, 0.01525491591549442, 0.01525491591549442, 0.8187073601767956, 0.05116921001104972, 0.05116921001104972, 0.7706876040947538, 0.5038392223174232, 0.665444989590323, 0.28561872339348293, 0.5712374467869659, 0.526309620066157, 0.8014669171438883, 0.8151385191263029, 0.855116768957154, 0.06577821299670415, 0.06577821299670415, 0.9349293078785008, 0.622833013175007, 0.8481662998283175, 0.700820851212823, 0.31607941498139397, 0.31607941498139397, 0.3096930889334828, 0.3096930889334828, 0.024041800356153796, 0.937630213889998, 0.6561042596562413, 0.5777997250385379, 0.2771333494310859, 0.2771333494310859, 0.6070749576644152, 0.5681774203719505, 0.07851728843445234, 0.235551865303357, 0.07851728843445234, 0.5496210190411663, 0.2576520103279622, 0.2576520103279622, 0.2576520103279622, 0.5689067668666627, 0.2553805308645184, 0.2553805308645184, 0.2553805308645184, 0.9632592111470151, 0.015791134608967458, 0.8986849230474939, 0.6967196805124651, 0.9282282446730086, 0.573223544493204, 0.2857717585263426, 0.2857717585263426, 0.5912184660849068, 0.3224933132195784, 0.3224933132195784, 0.5415001138962932, 0.9349243229595305, 0.04452020585521574, 0.9148065863345857, 0.17255060654896887, 0.23006747539862518, 0.057516868849656295, 0.46013495079725036, 0.057516868849656295, 0.16461127264955636, 0.6584450905982254, 0.6122812963169602, 0.8752856354833357, 0.4950297719933269, 0.618199760086068, 0.7092477951178048, 0.10510327025656892, 0.10510327025656892, 0.15765490538485338, 0.05255163512828446, 0.10510327025656892, 0.47296471615456015, 0.6801209156698751, 0.04458840500915272, 0.8917681001830544, 0.7950551230085537, 0.5029831697123727, 0.9649409780386649, 0.9093520402954924, 0.6829912336885138, 0.9152934078895008, 0.8293949337148899, 0.662437802201616, 0.8414519578154978, 0.5068128894268984, 0.6655440870920771, 0.689798245694811, 0.23157708162531915, 0.23157708162531915, 0.23157708162531915, 0.591406375005346, 0.5742346752911982, 0.47464057335090293, 0.23732028667545146, 0.2436301034200634, 0.2436301034200634, 0.2436301034200634, 0.14726292702198296, 0.14726292702198296, 0.07363146351099148, 0.5890517080879318, 0.881961923386532, 0.7668523946697763, 0.2568378517316891, 0.2568378517316891, 0.2568378517316891, 0.04652047830094148, 0.883889087717888, 0.7196128289150927, 0.9470898760423143, 0.02015084842643222, 0.2421352248436166, 0.2421352248436166, 0.2421352248436166, 0.6462381354904945, 0.9028417404188374, 0.032244347872101335, 0.032244347872101335, 0.463756716224488, 0.231878358112244, 0.8004383094561299, 0.026595474161510077, 0.026595474161510077, 0.9042461214913425, 0.7132045748188811, 0.15409313951733056, 0.6163725580693222, 0.15409313951733056, 0.2372669467683569, 0.2372669467683569, 0.2372669467683569, 0.9497936972375497, 0.7541866448645073, 0.8126307266626631, 0.8100108770845954, 0.9444552487034142, 0.9201762060871067, 0.8628973001432306, 0.5018412441251398, 0.025945666977156664, 0.6486416744289166, 0.2075653358172533, 0.05189133395431333, 0.025945666977156664, 0.025945666977156664, 0.6578036733463186, 0.6612183512954207, 0.5741556757441909, 0.5805854271720129, 0.9011384545896826, 0.04043724304122176, 0.8896193469068787, 0.5867678384769243, 0.07030676595673434, 0.21092029787020303, 0.07030676595673434, 0.5624541276538747, 0.9181811478595444, 0.02318531951589181, 0.02318531951589181, 0.9042274611197807, 0.5739162971663917, 0.22785363525226876, 0.09765155796525804, 0.03255051932175268, 0.06510103864350536, 0.03255051932175268, 0.4882577898262902, 0.7557404846182046, 0.24149785078065011, 0.45999590624885733, 0.24149785078065011, 0.022999795312442867, 0.011499897656221433, 0.022999795312442867, 0.8807191557632488, 0.9187503711722352, 0.254577274957072, 0.254577274957072, 0.254577274957072, 0.25031025914021576, 0.25031025914021576, 0.25031025914021576, 0.8751904844471019, 0.6467160787054387, 0.8274073981931445, 0.23087419650203458, 0.46174839300406917, 0.10276789684665853, 0.2397917593088699, 0.034255965615552844, 0.27404772492442275, 0.27404772492442275, 0.24087279442110116, 0.4817455888422023, 0.5577536480654015, 0.24471413555930147, 0.6117853388982537, 0.3444836963090558, 0.9096170610468415, 0.6142768039331261, 0.04057486341142046, 0.8926469950512502, 0.8048310647684144, 0.6091523393749553, 0.825862784474378, 0.061654594255034306, 0.8631643195704803, 0.030827297127517153, 0.9414251382058985, 0.005116440968510318, 0.010232881937020636, 0.04093152774808254, 0.005116440968510318, 0.23558901349504915, 0.4711780269900983, 0.020875673994897193, 0.020875673994897193, 0.9394053297703737, 0.5633294489913786, 0.5583520365223613, 0.30484549979025444, 0.30484549979025444, 0.3185493005530192, 0.3185493005530192, 0.5566728638200918, 0.5728700042221482, 0.07823955502484586, 0.7041559952236127, 0.15647911004969173, 0.29372562988573653, 0.29372562988573653, 0.29031681164352885, 0.29031681164352885, 0.3039659942515206, 0.3039659942515206, 0.3290748029696601, 0.3290748029696601, 0.5608343605390907, 0.6116188516632889, 0.5976960876673814, 0.7501655453371375, 0.287922066637328, 0.287922066637328, 0.2926565215217337, 0.2926565215217337, 0.30045648134906083, 0.30045648134906083, 0.5485753937040889, 0.2914569357497065, 0.2914569357497065, 0.4623385332765929, 0.23116926663829646, 0.28187275007880885, 0.28187275007880885, 0.6880653312503476, 0.6922910645405242, 0.4089847723733065, 0.05112309654666331, 0.4601078689199698, 0.05112309654666331, 0.8627072045482729, 0.7650439411193453, 0.9746436261601484, 0.007383663834546579, 0.007383663834546579, 0.007383663834546579, 0.5107246732476727, 0.8667466951707733, 0.6529458023013195, 0.1865559435146627, 0.23986558233315006, 0.23986558233315006, 0.23986558233315006, 0.012121582650673658, 0.012121582650673658, 0.9576050294032189, 0.5188909138243238, 0.7730095768604169, 0.03550946077152475, 0.13020135616225742, 0.7930446238973861, 0.023672973847683167, 0.023672973847683167, 0.6175641331425524, 0.6205564727651403, 0.9029948873372567, 0.30135165730077806, 0.30135165730077806, 0.2923497382951459, 0.2923497382951459, 0.6503992650003492, 0.2927906676307253, 0.2927906676307253, 0.2809857806814616, 0.2809857806814616, 0.2758717772603699, 0.2758717772603699, 0.5464524581831798, 0.2895219813955935, 0.2895219813955935, 0.8341617721649512, 0.8989056848849057, 0.05544694983494101, 0.11089389966988202, 0.05544694983494101, 0.16634084950482303, 0.22178779933976403, 0.33268169900964606, 0.26416132971634293, 0.26416132971634293, 0.01754731479047363, 0.01754731479047363, 0.947554998685576, 0.06396325545105196, 0.8315223208636754, 0.06396325545105196, 0.03198162772552598, 0.14365556101818194, 0.5746222440727278, 0.04084014318685237, 0.8984831501107521, 0.30976268838469195, 0.30976268838469195, 0.28335113809910817, 0.28335113809910817, 0.29298270639244983, 0.29298270639244983, 0.04051801060399914, 0.01350600353466638, 0.9319142438919802, 0.72029344497557, 0.3074936842525183, 0.3074936842525183, 0.6106991671625703, 0.8100857679796736, 0.04945866571494085, 0.758366207629093, 0.03297244380996057, 0.016486221904980284, 0.11540355333486198, 0.016486221904980284, 0.9207865799784519, 0.30386963553995217, 0.30386963553995217, 0.3004642081518, 0.3004642081518, 0.7608402257872704, 0.020288789917356217, 0.9535731261157421, 0.020288789917356217, 0.3476644464031266, 0.016216535627685578, 0.9243425307780779, 0.016216535627685578, 0.016216535627685578, 0.0258891865704067, 0.0258891865704067, 0.9061215299642346, 0.8082874862929469, 0.5779632283573809, 0.2972189870291287, 0.2972189870291287, 0.06845571042027537, 0.8385824526483733, 0.034227855210137687, 0.05134178281520653, 0.9436361933818666, 0.018146849872728205, 0.7607336480926458, 0.8991873838240267, 0.05371484665268522, 0.10742969330537044, 0.7520078531375931, 0.14526284937393072, 0.21789427406089606, 0.01815785617174134, 0.27236784257612007, 0.01815785617174134, 0.03631571234348268, 0.27236784257612007, 0.5304058452608008, 0.2652029226304004, 0.48180918318706845, 0.24090459159353422, 0.023134818781372274, 0.9022579324735187, 0.023134818781372274, 0.2581807144296887, 0.6024216670026069, 0.03548756839172373, 0.8871892097930932, 0.9322167937531424, 0.028248993750095226, 0.10007380172698559, 0.8005904138158847, 0.7398661521828497, 0.5855236083962735, 0.5633792091718954, 0.719669850957778, 0.48981519247225547, 0.022712533337359852, 0.9312138668317539, 0.9267046186340779, 0.9375070087970908, 0.6668804222934456, 0.5042344331016476, 0.8795033802270529, 0.0786458776445673, 0.786458776445673, 0.5513966416037059, 0.30556511326419, 0.30556511326419, 0.3132442092351365, 0.3132442092351365, 0.3065100062797758, 0.3065100062797758, 0.28928540825161175, 0.28928540825161175, 0.8797280236841744, 0.039987637440189745, 0.605054504812492, 0.3136004084706623, 0.3136004084706623, 0.34421015320416937, 0.233955050998834, 0.233955050998834, 0.233955050998834, 0.5695944851196609, 0.1898648283732203, 0.2168101696073351, 0.2601722035288021, 0.39025830529320316, 0.04336203392146702, 0.08672406784293404, 0.31222536660895683, 0.31222536660895683, 0.6064171531816958, 0.18198973468085702, 0.07279589387234281, 0.2547856285531998, 0.43677536323405686, 0.036397946936171405, 0.33016140495892893, 0.33016140495892893, 0.6938438458554551, 0.014065154967982055, 0.9564305378227798, 0.014065154967982055, 0.014065154967982055, 0.2531072946765567, 0.2531072946765567, 0.2531072946765567, 0.5217953721870984, 0.9533001868579463, 0.17038631438577037, 0.07099429766073764, 0.695744117075229, 0.01419885953214753, 0.01419885953214753, 0.02839771906429506, 0.24686965251744503, 0.49373930503489005, 0.05127341673067232, 0.8203746676907571, 0.05127341673067232, 0.02576502708449167, 0.012882513542245835, 0.9146584614994543, 0.012882513542245835, 0.012882513542245835, 0.08947039933405801, 0.8835201934238228, 0.011183799916757251, 0.022367599833514502, 0.1660823532745582, 0.05536078442485273, 0.7196901975230856, 0.7055198039542497, 0.8558784841896063, 0.10348501826554289, 0.5864151035047431, 0.08623751522128575, 0.051742509132771446, 0.0344950060885143, 0.12073252130980004, 0.14264429873132464, 0.3138174572089142, 0.34234631695517914, 0.17117315847758957, 0.494232451611235, 0.2471162258056175, 0.01684653727328262, 0.2526980590992393, 0.6401684163847396, 0.03369307454656524, 0.01684653727328262, 0.01684653727328262, 0.2719605699641443, 0.2719605699641443, 0.6905262995026635, 0.15345028877836966, 0.5080781106991882, 0.013537299567362977, 0.9476109697154084, 0.013537299567362977, 0.03228146804628003, 0.8715996372495608, 0.03228146804628003, 0.5561445953340749, 0.6155901164740353, 0.6062391978952105, 0.2861456147379389, 0.2861456147379389, 0.6105916632749376, 0.594466286592947, 0.30965317517563345, 0.30965317517563345, 0.2905316463625147, 0.2905316463625147, 0.9472461414521803, 0.28511476495255067, 0.28511476495255067, 0.5569375214056477, 0.27245683749449773, 0.27245683749449773, 0.13710420540256657, 0.06855210270128329, 0.06855210270128329, 0.6855210270128328, 0.2352473208993864, 0.2352473208993864, 0.2352473208993864, 0.9289649212553063, 0.16508191829449045, 0.041270479573622613, 0.08254095914724523, 0.6603276731779618, 0.24685664056477952, 0.24685664056477952, 0.24685664056477952, 0.8739729206126714, 0.9431173478755754, 0.20279702363801613, 0.40559404727603227, 0.23363600124484457, 0.038939333540807426, 0.6619686701937263, 0.4696564868745965, 0.11741412171864912, 0.23482824343729825, 0.11741412171864912, 0.6500058079829536, 0.9477507933292091, 0.014808606145768892, 0.014808606145768892, 0.3165513679881935, 0.5803441746450214, 0.04794213424123377, 0.9109005505834417, 0.03410685372692081, 0.17053426863460402, 0.03410685372692081, 0.27285482981536646, 0.06821370745384162, 0.03410685372692081, 0.37517539099612884, 0.2344123260121205, 0.2344123260121205, 0.2344123260121205, 0.23140044495450665, 0.4628008899090133, 0.10354771035305287, 0.10354771035305287, 0.6212862621183172, 0.5093626133848204, 0.2632996270109426, 0.2632996270109426, 0.4959232983311019, 0.49879650776715245, 0.6179370607993668, 0.5017305943098624, 0.29172856683547554, 0.29172856683547554, 0.7161328872287974, 0.03330850638273476, 0.11657977233957166, 0.03330850638273476, 0.01665425319136738, 0.06661701276546952, 0.20320975792666549, 0.6547869977636999, 0.045157723983703435, 0.045157723983703435, 0.045157723983703435, 0.022578861991851717, 0.9565068204832988, 0.02079362653224563, 0.5002191824509864, 0.8035710766822859, 0.16396390656984802, 0.040990976642462006, 0.12297292992738601, 0.5738736729944681, 0.040990976642462006, 0.9606931379019629, 0.01812628562079175, 0.7362442113548252, 0.8929827073025385, 0.5729663753551074, 0.057296637535510744, 0.22918655014204298, 0.057296637535510744, 0.8655627077316796, 0.06010852137025553, 0.04007234758017036, 0.004007234758017036, 0.004007234758017036, 0.02404340854810221, 0.251592394862083, 0.251592394862083, 0.251592394862083, 0.06053554382970294, 0.1008925730495049, 0.7869620697861383, 0.020178514609900982, 0.020178514609900982, 0.09665590074683027, 0.024163975186707567, 0.048327950373415134, 0.8215751563480572, 0.16976602869659413, 0.5092980860897824, 0.16976602869659413, 0.2346889486499139, 0.2346889486499139, 0.2346889486499139, 0.8884880584687581, 0.23079623879025254, 0.23079623879025254, 0.23079623879025254, 0.6902623979648677, 0.18034158314697302, 0.60113861048991, 0.06011386104899101, 0.030056930524495505, 0.030056930524495505, 0.09017079157348651, 0.7481985823715529, 0.8579513528465615, 0.00986150980283404, 0.09861509802834041, 0.00986150980283404, 0.00986150980283404, 0.00986150980283404, 0.9605847478732248, 0.015009136685519137, 0.26751852335368304, 0.26751852335368304, 0.693323240256463, 0.5668727707297989, 0.8763262193321125, 0.07966601993928296, 0.6705505878256708, 0.9215722373352268, 0.11013305578581188, 0.8259979183935892, 0.9373558368922352, 0.008444647179209326, 0.008444647179209326, 0.02533394153762798, 0.008444647179209326, 0.9532056143677163, 0.005812229355900709, 0.011624458711801419, 0.011624458711801419, 0.005812229355900709, 0.017436688067702127, 0.9268154539751134, 0.018063489108841375, 0.9393014336597515, 0.018063489108841375, 0.018063489108841375, 0.9395021220531518, 0.01648249336935354, 0.01648249336935354, 0.49616870244794875, 0.24808435122397438, 0.7749608503080118, 0.8043346274967826, 0.8342087279648844, 0.9264428893117908, 0.02205816403123311, 0.021160602232880164, 0.021160602232880164, 0.7406210781508057, 0.14812421563016115, 0.021160602232880164, 0.16168558812160377, 0.16168558812160377, 0.6467423524864151, 0.23601946315071548, 0.23601946315071548, 0.23601946315071548, 0.49539932705384404, 0.4251426146602951, 0.045550994427888764, 0.48587727389748014, 0.03036732961859251, 0.050927751500845664, 0.8657717755143763, 0.048781498147764904, 0.024390749073882452, 0.8780669666597682, 0.024390749073882452, 0.5350209072402773, 0.35668060482685154, 0.10966940200029147, 0.19192145350051007, 0.16450410300043722, 0.02741735050007287, 0.02741735050007287, 0.4660949585012388, 0.4595474669766888, 0.2297737334883444, 0.10330318426341115, 0.7437829266965602, 0.02066063685268223, 0.10330318426341115, 0.04132127370536446, 0.24471819563435468, 0.48943639126870936, 0.10038409644558749, 0.8030727715646999, 0.22449275286668416, 0.22449275286668416, 0.22449275286668416, 0.22449275286668416, 0.12808230303553123, 0.7044526666954218, 0.06404115151776561, 0.03800401624409113, 0.34203614619682016, 0.570060243661367, 0.2673650862441036, 0.2673650862441036, 0.7694504878192329, 0.24855372225186398, 0.49710744450372796, 0.8320147993429278, 0.5053014474085598, 0.903636541015578], \"Term\": [\"absence\", \"absence\", \"absence\", \"accademia\", \"acclimate\", \"acclimatize\", \"aegean\", \"aegean\", \"africa\", \"africa\", \"africa\", \"africa\", \"africa\", \"africa\", \"africa\", \"agadir\", \"agdal\", \"agra\", \"agra\", \"aguas\", \"ahmed\", \"ajmeri\", \"akrotiri\", \"alexanderplatz\", \"alfama\", \"alla\", \"alpaca\", \"alps\", \"alps\", \"altitude\", \"amber\", \"amber\", \"amber\", \"amer\", \"america\", \"america\", \"america\", \"america\", \"america\", \"america\", \"america\", \"andean\", \"antonio\", \"antonio\", \"antonio\", \"antonio\", \"aquarium\", \"aquarium\", \"aquarium\", \"arcade\", \"arcade\", \"armas\", \"armas\", \"asia\", \"asia\", \"asia\", \"asia\", \"asia\", \"asian\", \"asian\", \"asian\", \"asian\", \"asian\", \"asian\", \"asleep\", \"asleep\", \"assign\", \"assign\", \"assign\", \"aswan\", \"athens\", \"athens\", \"athens\", \"athens\", \"atlas\", \"australia\", \"australia\", \"australia\", \"australia\", \"australia\", \"australian\", \"australian\", \"australian\", \"australian\", \"australian\", \"austria\", \"austrian\", \"auto\", \"auto\", \"auto\", \"auto\", \"aya\", \"backpacker\", \"backpacker\", \"backpacker\", \"backpacker\", \"backpacker\", \"badii\", \"bahn\", \"bahn\", \"bahn\", \"baht\", \"baixa\", \"bali\", \"balik\", \"balloon\", \"balloon\", \"balloon\", \"baltic\", \"bangkok\", \"bangkok\", \"bangla\", \"battery\", \"battery\", \"battery\", \"bay\", \"bay\", \"bay\", \"bay\", \"bay\", \"bay\", \"bazaar\", \"bazaar\", \"bazaar\", \"bazaar\", \"beauiful\", \"bebelplatz\", \"belem\", \"berber\", \"berliner\", \"berliner\", \"bhavan\", \"bht\", \"blanc\", \"blanc\", \"blas\", \"blood\", \"blood\", \"blood\", \"blood\", \"blood\", \"bluff\", \"bluff\", \"bluff\", \"bode\", \"bondi\", \"bosphorous\", \"bosphorus\", \"bosphorus\", \"brandenberg\", \"brandenburg\", \"brandenburg\", \"brandenburger\", \"brazil\", \"brazil\", \"brazil\", \"brazilian\", \"cable\", \"cable\", \"cable\", \"cable\", \"cable\", \"cable\", \"caddesi\", \"cairo\", \"cairo\", \"cais\", \"caldera\", \"caldera\", \"caliente\", \"calientes\", \"camp\", \"camp\", \"camp\", \"camp\", \"camp\", \"camp\", \"canoe\", \"carlos\", \"carlos\", \"carpet\", \"carpet\", \"carpet\", \"carpet\", \"carpet\", \"cart\", \"cart\", \"cart\", \"cart\", \"casa\", \"casa\", \"casa\", \"casa\", \"casa\", \"casa\", \"cascai\", \"casino\", \"casino\", \"castelo\", \"castle\", \"castle\", \"castle\", \"castle\", \"castle\", \"castle\", \"castle\", \"castle\", \"catherine\", \"catherine\", \"cave\", \"cave\", \"cave\", \"cave\", \"cave\", \"chalong\", \"charlie\", \"charlie\", \"charlie\", \"charlottenburg\", \"charmer\", \"charmer\", \"chaska\", \"checkpoint\", \"checkpoint\", \"checkpoint\", \"chiado\", \"chianti\", \"china\", \"china\", \"china\", \"china\", \"china\", \"chinatown\", \"chinatown\", \"chinese\", \"chinese\", \"chinese\", \"chinese\", \"chinese\", \"chinese\", \"christ\", \"christ\", \"christ\", \"christ\", \"christmas\", \"christmas\", \"christmas\", \"christmas\", \"christmas\", \"christmas\", \"cigar\", \"cigar\", \"cigar\", \"circular\", \"circular\", \"circular\", \"cistern\", \"cistern\", \"cliff\", \"cliff\", \"cliff\", \"cliff\", \"cliff\", \"coca\", \"coca\", \"coca\", \"comfortably\", \"comfortably\", \"conclude\", \"conclude\", \"conclude\", \"continuously\", \"continuously\", \"continuously\", \"coogee\", \"copacabana\", \"copacabana\", \"corcovado\", \"corfu\", \"cous\", \"croce\", \"crumble\", \"crumble\", \"crumble\", \"crumble\", \"crumble\", \"cuba\", \"cuba\", \"cuba\", \"cuba\", \"cuba\", \"cuba\", \"cuban\", \"cuban\", \"cuban\", \"cuban\", \"cuban\", \"cuban\", \"cubans\", \"cuc\", \"cultura\", \"cuzco\", \"cuzco\", \"cyclist\", \"cyclist\", \"dar\", \"dar\", \"darle\", \"darling\", \"darling\", \"david\", \"david\", \"david\", \"david\", \"def\", \"def\", \"def\", \"delhi\", \"den\", \"den\", \"desert\", \"desert\", \"desert\", \"desert\", \"desert\", \"desert\", \"dhani\", \"dirham\", \"disciplined\", \"disciplined\", \"divide\", \"divide\", \"divide\", \"divide\", \"djema\", \"dome\", \"dome\", \"dome\", \"dome\", \"dome\", \"dome\", \"dome\", \"donkey\", \"donkey\", \"donkey\", \"dread\", \"dread\", \"dread\", \"duomo\", \"duomo\", \"duomo\", \"eagle\", \"effortless\", \"effortless\", \"effortless\", \"egypt\", \"egypt\", \"egypt\", \"egypt\", \"egypt\", \"egypt\", \"egyptian\", \"egyptian\", \"egyptian\", \"egyptian\", \"egyptian\", \"elephant\", \"elephant\", \"elephant\", \"elephant\", \"elevation\", \"enquire\", \"enquire\", \"enquire\", \"entr\", \"environmentally\", \"environmentally\", \"essaouira\", \"exibition\", \"exprience\", \"exprience\", \"exprience\", \"facebook\", \"fado\", \"fantasea\", \"fatma\", \"favela\", \"favela\", \"ferblantier\", \"festival\", \"festival\", \"festival\", \"festival\", \"festival\", \"festival\", \"finding\", \"finding\", \"finding\", \"fira\", \"fira\", \"fira\", \"firenze\", \"florentine\", \"fna\", \"forbid\", \"forbid\", \"fort\", \"fort\", \"fort\", \"fort\", \"fortress\", \"fortress\", \"fortress\", \"fortress\", \"fortress\", \"fortress\", \"foster\", \"foster\", \"fountain\", \"fountain\", \"fountain\", \"fountain\", \"fountain\", \"fragment\", \"fragment\", \"fragment\", \"fragment\", \"francoise\", \"freeway\", \"freeway\", \"friedrichstrasse\", \"gala\", \"gala\", \"galapagos\", \"galata\", \"galata\", \"galileo\", \"garlic\", \"garlic\", \"garlic\", \"garlic\", \"garten\", \"geburtshaus\", \"gelato\", \"gelato\", \"germany\", \"germany\", \"germany\", \"germany\", \"germany\", \"germany\", \"goose\", \"goose\", \"gordon\", \"gorge\", \"gorge\", \"graceland\", \"gracia\", \"gracia\", \"graciously\", \"graciously\", \"graet\", \"graffiti\", \"graffiti\", \"graffiti\", \"graffiti\", \"graffiti\", \"greece\", \"greece\", \"greece\", \"greece\", \"greece\", \"greece\", \"greek\", \"greek\", \"greek\", \"greek\", \"greek\", \"greek\", \"gregarious\", \"gregarious\", \"griboedova\", \"habana\", \"hagia\", \"hagia\", \"haha\", \"haha\", \"haha\", \"handcraft\", \"handcraft\", \"handcraft\", \"handicap\", \"harbor\", \"harbor\", \"harbor\", \"harbor\", \"harbor\", \"harbor\", \"harbour\", \"harbour\", \"harbour\", \"harbour\", \"harbour\", \"harbour\", \"hawa\", \"henna\", \"henna\", \"hermitage\", \"hermitage\", \"hermitage\", \"hermitage\", \"highland\", \"highland\", \"highland\", \"hindu\", \"hirsch\", \"historia\", \"hitler\", \"hitler\", \"hivernage\", \"hohensalzburg\", \"holocaust\", \"horn\", \"horn\", \"horn\", \"hutong\", \"imax\", \"imerovigli\", \"immersion\", \"imposing\", \"imposing\", \"imprint\", \"imprint\", \"inca\", \"inca\", \"incan\", \"incas\", \"infection\", \"infection\", \"ingrediant\", \"inkaterra\", \"insider\", \"insider\", \"insider\", \"insider\", \"internal\", \"internal\", \"internal\", \"inti\", \"invasion\", \"invasion\", \"invasion\", \"ipanema\", \"ipanema\", \"isaac\", \"istambul\", \"istiklal\", \"itallian\", \"itenerary\", \"itenerary\", \"itwas\", \"ivan\", \"ivan\", \"izmir\", \"janeiro\", \"janeiro\", \"jantar\", \"january\", \"january\", \"january\", \"january\", \"january\", \"jardin\", \"jardin\", \"jbr\", \"jemaa\", \"jemma\", \"jenolan\", \"jeremy\", \"jewish\", \"jewish\", \"jewish\", \"jewish\", \"jewish\", \"jewish\", \"johri\", \"kamari\", \"kamari\", \"kangaroo\", \"kangeroos\", \"karnak\", \"karon\", \"kasbah\", \"kata\", \"kivotos\", \"kniza\", \"koala\", \"kosybar\", \"koutoubia\", \"kreuzberg\", \"kudo\", \"kudo\", \"kudo\", \"kuoda\", \"kurfurstendamm\", \"landlord\", \"landlord\", \"las\", \"las\", \"las\", \"latin\", \"latin\", \"latin\", \"latin\", \"leith\", \"les\", \"lighting\", \"lighting\", \"lighting\", \"lima\", \"lima\", \"linden\", \"lira\", \"lira\", \"literal\", \"literal\", \"literal\", \"liu\", \"loaf\", \"loaf\", \"loaf\", \"lost\", \"lost\", \"macchu\", \"machu\", \"machu\", \"machu\", \"machupichu\", \"madness\", \"madness\", \"madness\", \"mafia\", \"mafia\", \"mafia\", \"mahal\", \"majorelle\", \"malecon\", \"mandir\", \"manly\", \"mantar\", \"manu\", \"marakech\", \"maria\", \"maria\", \"maria\", \"maria\", \"maria\", \"maria\", \"marionette\", \"marisa\", \"marjellchen\", \"markt\", \"marmara\", \"marrakesh\", \"marrakesh\", \"mauer\", \"maze\", \"maze\", \"maze\", \"maze\", \"medici\", \"medina\", \"medina\", \"medina\", \"memorail\", \"memorial\", \"memorial\", \"memorial\", \"memorial\", \"memorial\", \"memorial\", \"merlin\", \"metro\", \"metro\", \"metro\", \"metro\", \"metro\", \"metro\", \"michaelangelo\", \"michelangelo\", \"millennium\", \"millennium\", \"millennium\", \"minus\", \"minus\", \"minus\", \"mirabell\", \"mitte\", \"mojito\", \"monasterio\", \"monasterio\", \"monkey\", \"monkey\", \"monkey\", \"monkey\", \"monkey\", \"monthly\", \"monthly\", \"mooring\", \"moped\", \"moped\", \"moray\", \"moroccan\", \"moroccans\", \"morocco\", \"morocco\", \"morrocan\", \"morrocco\", \"morroco\", \"moscow\", \"moscow\", \"moscow\", \"mosque\", \"mosque\", \"mosque\", \"mosque\", \"mosque\", \"moving\", \"moving\", \"mozart\", \"mozart\", \"mozart\", \"mugger\", \"mughal\", \"mull\", \"mull\", \"multimedia\", \"multimedia\", \"mumification\", \"mummified\", \"munich\", \"munich\", \"munich\", \"murano\", \"murano\", \"murphy\", \"murphy\", \"murphys\", \"murphys\", \"musem\", \"musem\", \"mut\", \"myer\", \"mykinos\", \"mykonos\", \"mystic\", \"mystic\", \"mystique\", \"mystique\", \"nacionale\", \"nacionale\", \"nanning\", \"napa\", \"napa\", \"napkin\", \"napkin\", \"napoleon\", \"napoleon\", \"nazi\", \"neha\", \"nest\", \"nest\", \"nest\", \"nest\", \"nevsky\", \"nga\", \"nile\", \"nile\", \"nile\", \"nile\", \"nouvelle\", \"novella\", \"observatory\", \"observatory\", \"offend\", \"offend\", \"offend\", \"oia\", \"oia\", \"oia\", \"oktoberf\", \"ollantaytambo\", \"opera\", \"opera\", \"opera\", \"opera\", \"opera\", \"oscar\", \"otop\", \"ottoman\", \"outnumber\", \"outnumber\", \"outsider\", \"outsider\", \"ouzoud\", \"overpay\", \"overpay\", \"overpower\", \"overpower\", \"oxygen\", \"oxygen\", \"ozer\", \"paddle\", \"paddle\", \"paddy\", \"palazzo\", \"palm\", \"palm\", \"palm\", \"palm\", \"palm\", \"palm\", \"panama\", \"panama\", \"patong\", \"patong\", \"patong\", \"paul\", \"paul\", \"paul\", \"paul\", \"pergamon\", \"pergamon\", \"perissa\", \"perissa\", \"perry\", \"perry\", \"persistant\", \"persistant\", \"personify\", \"personify\", \"peru\", \"peru\", \"peru\", \"peruvian\", \"pervade\", \"pervade\", \"pesoe\", \"pesos\", \"peter\", \"peter\", \"peter\", \"peter\", \"peter\", \"peter\", \"peterhof\", \"peters\", \"peters\", \"petersburgh\", \"petersburgh\", \"phang\", \"phi\", \"phi\", \"phi\", \"php\", \"piazza\", \"piazza\", \"piazza\", \"piazza\", \"picchu\", \"picchu\", \"picchu\", \"pichu\", \"picoaga\", \"pierce\", \"pierce\", \"pink\", \"pink\", \"pink\", \"pink\", \"pisa\", \"pisa\", \"pisac\", \"pitti\", \"platz\", \"platz\", \"platz\", \"plaza\", \"plaza\", \"plaza\", \"plaza\", \"plaza\", \"plaza\", \"plaza\", \"poeple\", \"poeple\", \"poignant\", \"poignant\", \"ponte\", \"ponte\", \"ponte\", \"porter\", \"porter\", \"portugal\", \"portugal\", \"portuguese\", \"portuguese\", \"potsdam\", \"potsdam\", \"potsdamer\", \"prater\", \"prussian\", \"puno\", \"qantas\", \"quay\", \"quay\", \"rajasthan\", \"rajasthani\", \"rampal\", \"raymi\", \"redeemer\", \"reichstag\", \"reichstag\", \"reina\", \"relive\", \"relive\", \"remainder\", \"remainder\", \"rembrandt\", \"rembrandt\", \"reminisce\", \"reminisce\", \"renaissance\", \"renaissance\", \"renieri\", \"rennaissance\", \"rennaissance\", \"renzo\", \"repellent\", \"repellent\", \"repellent\", \"resaurant\", \"resaurant\", \"restore\", \"restore\", \"restore\", \"restore\", \"restore\", \"reverence\", \"reverence\", \"revolucion\", \"revolution\", \"revolution\", \"revolution\", \"revolution\", \"revolution\", \"revolving\", \"revolving\", \"ria\", \"riad\", \"riad\", \"riad\", \"riad\", \"richness\", \"richness\", \"richness\", \"riu\", \"rmb\", \"rome\", \"rome\", \"rome\", \"rome\", \"rome\", \"rome\", \"roundabout\", \"roundabout\", \"rum\", \"rum\", \"rum\", \"russia\", \"russia\", \"russia\", \"russia\", \"russia\", \"russian\", \"russian\", \"russian\", \"russian\", \"sacred\", \"sacred\", \"sacred\", \"sacsayhuaman\", \"samba\", \"san\", \"san\", \"san\", \"san\", \"san\", \"san\", \"sand\", \"sand\", \"sand\", \"sand\", \"sandal\", \"sandal\", \"santa\", \"santa\", \"santa\", \"santa\", \"santa\", \"santa\", \"scar\", \"scar\", \"schloss\", \"schloss\", \"schonefeld\", \"scotland\", \"scotland\", \"scotland\", \"scottish\", \"scottish\", \"scottish\", \"scotts\", \"seagull\", \"seahag\", \"seas\", \"seas\", \"seashell\", \"seaview\", \"seduce\", \"seduce\", \"seductive\", \"seductive\", \"shanghai\", \"shelf\", \"shelf\", \"shie\", \"shield\", \"shield\", \"sickness\", \"sickness\", \"sickness\", \"sickness\", \"simplicity\", \"simplicity\", \"simplicity\", \"sintra\", \"snake\", \"snake\", \"snake\", \"snake\", \"snowy\", \"snowy\", \"snowy\", \"sodre\", \"sofia\", \"soil\", \"soil\", \"sol\", \"sol\", \"sol\", \"sole\", \"sole\", \"sole\", \"sole\", \"sony\", \"sophia\", \"sophia\", \"sophia\", \"souk\", \"souk\", \"souks\", \"souks\", \"spanish\", \"spanish\", \"spanish\", \"spanish\", \"spanish\", \"spanish\", \"spanish\", \"splendor\", \"splendor\", \"splendor\", \"spooky\", \"spooky\", \"spree\", \"spree\", \"spree\", \"sqaure\", \"stack\", \"stack\", \"stamford\", \"stein\", \"stept\", \"strasse\", \"stub\", \"stub\", \"subway\", \"subway\", \"subway\", \"subway\", \"subway\", \"subway\", \"sugar\", \"sugar\", \"sugar\", \"sugar\", \"sugar\", \"sugar\", \"sultanahmet\", \"sultanahmet\", \"syndey\", \"tagine\", \"tailor\", \"tailor\", \"tailor\", \"tailor\", \"tailor\", \"taksim\", \"taksim\", \"tangine\", \"taronga\", \"tattoo\", \"tattoo\", \"tattoo\", \"tattoo\", \"temple\", \"temple\", \"temple\", \"temple\", \"temple\", \"temple\", \"tempt\", \"tempt\", \"tempt\", \"thai\", \"thai\", \"thai\", \"thai\", \"thai\", \"thailand\", \"thailand\", \"thailand\", \"thailand\", \"thermal\", \"thermal\", \"thermal\", \"thinking\", \"thinking\", \"thinking\", \"thira\", \"thouroughly\", \"thouroughly\", \"thouroughly\", \"tiergarten\", \"tile\", \"tile\", \"tile\", \"tile\", \"tile\", \"tile\", \"titicaca\", \"tomb\", \"tomb\", \"tomb\", \"tomb\", \"tomb\", \"tomb\", \"topkapi\", \"topkapi\", \"topography\", \"topography\", \"tor\", \"toritos\", \"trattoria\", \"trattoria\", \"treasury\", \"tsar\", \"tuk\", \"tuk\", \"turkey\", \"turkey\", \"turkey\", \"turkey\", \"turkey\", \"turkish\", \"turkish\", \"turkish\", \"turkish\", \"turkish\", \"turkish\", \"tuscan\", \"tuscany\", \"tuscany\", \"tuscany\", \"tuscany\", \"uffizi\", \"uffizi\", \"uffizi\", \"unspoilt\", \"unspoilt\", \"unter\", \"untersberg\", \"varadero\", \"vecchio\", \"vecchio\", \"venice\", \"venice\", \"venice\", \"venice\", \"venice\", \"victoria\", \"victoria\", \"victoria\", \"vigilant\", \"vigilant\", \"vigilant\", \"vinsanto\", \"visa\", \"visa\", \"visa\", \"visa\", \"volcanic\", \"volcanic\", \"volcano\", \"volcano\", \"volcano\", \"volcano\", \"walled\", \"walled\", \"war\", \"war\", \"war\", \"war\", \"war\", \"war\", \"wardrobe\", \"wardrobe\", \"waterfront\", \"waterfront\", \"waterfront\", \"waterfront\", \"waterfront\", \"waterside\", \"waterside\", \"wharf\", \"wharf\", \"wholly\", \"wholly\", \"wholly\", \"wholly\", \"wildlife\", \"wildlife\", \"wildlife\", \"winery\", \"winery\", \"winery\", \"witch\", \"witch\", \"wooddy\", \"wrought\", \"wrought\", \"wynard\", \"yacout\", \"ytl\"]}, \"R\": 30, \"lambda.step\": 0.01, \"plot.opts\": {\"xlab\": \"PC1\", \"ylab\": \"PC2\"}, \"topic.order\": [9, 14, 8, 5, 10, 13, 15, 6, 11, 12, 7, 4, 3, 1, 2]};\n",
       "\n",
       "function LDAvis_load_lib(url, callback){\n",
       "  var s = document.createElement('script');\n",
       "  s.src = url;\n",
       "  s.async = true;\n",
       "  s.onreadystatechange = s.onload = callback;\n",
       "  s.onerror = function(){console.warn(\"failed to load library \" + url);};\n",
       "  document.getElementsByTagName(\"head\")[0].appendChild(s);\n",
       "}\n",
       "\n",
       "if(typeof(LDAvis) !== \"undefined\"){\n",
       "   // already loaded: just create the visualization\n",
       "   !function(LDAvis){\n",
       "       new LDAvis(\"#\" + \"ldavis_el20798231405908826654083854201353\", ldavis_el20798231405908826654083854201353_data);\n",
       "   }(LDAvis);\n",
       "}else if(typeof define === \"function\" && define.amd){\n",
       "   // require.js is available: use it to load d3/LDAvis\n",
       "   require.config({paths: {d3: \"https://cdnjs.cloudflare.com/ajax/libs/d3/3.5.5/d3.min\"}});\n",
       "   require([\"d3\"], function(d3){\n",
       "      window.d3 = d3;\n",
       "      LDAvis_load_lib(\"https://cdn.rawgit.com/bmabey/pyLDAvis/files/ldavis.v1.0.0.js\", function(){\n",
       "        new LDAvis(\"#\" + \"ldavis_el20798231405908826654083854201353\", ldavis_el20798231405908826654083854201353_data);\n",
       "      });\n",
       "    });\n",
       "}else{\n",
       "    // require.js not available: dynamically load d3 & LDAvis\n",
       "    LDAvis_load_lib(\"https://cdnjs.cloudflare.com/ajax/libs/d3/3.5.5/d3.min.js\", function(){\n",
       "         LDAvis_load_lib(\"https://cdn.rawgit.com/bmabey/pyLDAvis/files/ldavis.v1.0.0.js\", function(){\n",
       "                 new LDAvis(\"#\" + \"ldavis_el20798231405908826654083854201353\", ldavis_el20798231405908826654083854201353_data);\n",
       "            })\n",
       "         });\n",
       "}\n",
       "</script>"
      ],
      "text/plain": [
       "PreparedData(topic_coordinates=                x           y  topics  cluster       Freq\n",
       "topic                                                    \n",
       "8      114.344879  114.308296       1        1  27.967745\n",
       "13     105.821045  -93.749626       2        1  18.738862\n",
       "7     -138.334473   95.320763       3        1  15.143296\n",
       "4       -7.436697  111.259697       4        1  10.798613\n",
       "9     -207.550629 -105.472603       5        1   9.906303\n",
       "12      52.817650   14.603765       6        1   8.492820\n",
       "14     168.010849    6.806950       7        1   4.527273\n",
       "5      -94.169601 -157.789551       8        1   4.405855\n",
       "10    -122.849174  -39.059418       9        1   0.002748\n",
       "11     -94.894264  195.408295      10        1   0.002748\n",
       "6       24.927401 -180.464874      11        1   0.002748\n",
       "3      -53.413467   26.832108      12        1   0.002748\n",
       "2      -12.255850  -72.093201      13        1   0.002748\n",
       "0     -224.217957   28.070581      14        1   0.002748\n",
       "1       36.154255  209.427582      15        1   0.002748, topic_info=          Term        Freq       Total Category  logprob  loglift\n",
       "2879    mosque  195.000000  195.000000  Default  30.0000  30.0000\n",
       "4478    temple  249.000000  249.000000  Default  29.0000  29.0000\n",
       "4671   turkish  172.000000  172.000000  Default  28.0000  28.0000\n",
       "417     bazaar  148.000000  148.000000  Default  27.0000  27.0000\n",
       "3029      nile  135.000000  135.000000  Default  26.0000  26.0000\n",
       "...        ...         ...         ...      ...      ...      ...\n",
       "845   circular    0.000360   40.483499  Topic15  -8.1113  -1.1282\n",
       "4670    turkey    0.000385  118.418210  Topic15  -8.0432  -2.1335\n",
       "4873       war    0.000356   36.473254  Topic15  -8.1234  -1.0360\n",
       "2561      lira    0.000358   49.625702  Topic15  -8.1169  -1.3374\n",
       "3915       san    0.000354   57.979407  Topic15  -8.1288  -1.5049\n",
       "\n",
       "[961 rows x 6 columns], token_table=      Topic      Freq       Term\n",
       "term                            \n",
       "10        2  0.243385    absence\n",
       "10        5  0.243385    absence\n",
       "10        6  0.243385    absence\n",
       "19        3  0.901082  accademia\n",
       "27        8  0.660204  acclimate\n",
       "...     ...       ...        ...\n",
       "4967      2  0.248554    wrought\n",
       "4967      6  0.497107    wrought\n",
       "4969      4  0.832015     wynard\n",
       "4974      6  0.505301     yacout\n",
       "4987      1  0.903637        ytl\n",
       "\n",
       "[1265 rows x 3 columns], R=30, lambda_step=0.01, plot_opts={'xlab': 'PC1', 'ylab': 'PC2'}, topic_order=[9, 14, 8, 5, 10, 13, 15, 6, 11, 12, 7, 4, 3, 1, 2])"
      ]
     },
     "execution_count": 18,
     "metadata": {},
     "output_type": "execute_result"
    }
   ],
   "source": [
    "lda_model = LatentDirichletAllocation(n_components=15, # Number of topics\n",
    "                                      learning_method='online',\n",
    "                                      random_state=0,       \n",
    "                                      n_jobs = -1  # Use all available CPUs\n",
    "                                     )\n",
    "lda_output = lda_model.fit_transform(data_vectorized)\n",
    "\n",
    "pyLDAvis.enable_notebook()\n",
    "pyLDAvis.sklearn.prepare(lda_model, data_vectorized, vectorizer, mds='tsne')"
   ]
  },
  {
   "cell_type": "code",
   "execution_count": 51,
   "metadata": {},
   "outputs": [
    {
     "data": {
      "text/html": [
       "\n",
       "<link rel=\"stylesheet\" type=\"text/css\" href=\"https://cdn.rawgit.com/bmabey/pyLDAvis/files/ldavis.v1.0.0.css\">\n",
       "\n",
       "\n",
       "<div id=\"ldavis_el2627301400340758743528381199232\"></div>\n",
       "<script type=\"text/javascript\">\n",
       "\n",
       "var ldavis_el2627301400340758743528381199232_data = {\"mdsDat\": {\"x\": [-10.878067970275879, -60.88402557373047, -2.3361191749572754, -61.385318756103516, -28.737743377685547, 1.0666056871414185, 45.14072036743164, -140.7959747314453, 61.531681060791016, -72.56305694580078, 15.984491348266602, -160.85162353515625, 85.96183013916016, -99.02083587646484, -176.76412963867188, -117.18988037109375, 108.82991790771484, 47.588096618652344, -106.46783447265625, -50.61380386352539], \"y\": [10.538727760314941, -75.5918197631836, -53.2890739440918, -12.914633750915527, 126.2969970703125, -123.55281066894531, -7.947869300842285, -98.53054809570312, -83.24056243896484, -140.39688110351562, 63.57818603515625, 68.94514465332031, 51.922935485839844, 109.93634796142578, -8.681683540344238, -37.42020034790039, -22.946203231811523, 121.934814453125, 30.176889419555664, 59.32884216308594], \"topics\": [1, 2, 3, 4, 5, 6, 7, 8, 9, 10, 11, 12, 13, 14, 15, 16, 17, 18, 19, 20], \"cluster\": [1, 1, 1, 1, 1, 1, 1, 1, 1, 1, 1, 1, 1, 1, 1, 1, 1, 1, 1, 1], \"Freq\": [29.556049220498725, 24.05243958023783, 13.833500872105416, 11.471333259188983, 10.279586882249088, 5.412362180163109, 5.378714211023136, 0.0012318303640016898, 0.0012318303581189264, 0.0012318303536682285, 0.001231830353648353, 0.0012318303532272892, 0.0012318303511113945, 0.0012318303491630552, 0.0012318303481255932, 0.0012318303426005065, 0.0012318303416668757, 0.001231830341453013, 0.0012318303385387974, 0.0012318303383872492]}, \"tinfo\": {\"Term\": [\"city\", \"day\", \"good\", \"time\", \"place\", \"visit\", \"just\", \"walk\", \"people\", \"hotel\", \"great\", \"trip\", \"tour\", \"like\", \"make\", \"stay\", \"food\", \"beautiful\", \"restaurant\", \"way\", \"want\", \"tower\", \"street\", \"travel\", \"view\", \"lot\", \"really\", \"night\", \"look\", \"experience\", \"tower\", \"night\", \"thing\", \"just\", \"time\", \"city\", \"really\", \"street\", \"look\", \"like\", \"walk\", \"nice\", \"day\", \"way\", \"people\", \"visit\", \"area\", \"love\", \"bus\", \"want\", \"hotel\", \"tourist\", \"beautiful\", \"make\", \"food\", \"lot\", \"good\", \"travel\", \"tour\", \"place\", \"great\", \"trip\", \"stay\", \"restaurant\", \"city\", \"restaurant\", \"street\", \"way\", \"shop\", \"price\", \"food\", \"area\", \"people\", \"visit\", \"walk\", \"make\", \"experience\", \"travel\", \"lot\", \"like\", \"tourist\", \"time\", \"trip\", \"place\", \"great\", \"love\", \"hotel\", \"look\", \"nice\", \"want\", \"good\", \"thing\", \"bus\", \"night\", \"day\", \"just\", \"tour\", \"stay\", \"beautiful\", \"travel\", \"tour\", \"really\", \"trip\", \"make\", \"experience\", \"lot\", \"day\", \"great\", \"hotel\", \"place\", \"tourist\", \"stay\", \"want\", \"price\", \"good\", \"restaurant\", \"area\", \"street\", \"people\", \"visit\", \"like\", \"love\", \"nice\", \"night\", \"beautiful\", \"look\", \"time\", \"shop\", \"food\", \"city\", \"just\", \"walk\", \"island\", \"view\", \"beach\", \"beautiful\", \"stay\", \"shop\", \"restaurant\", \"place\", \"want\", \"hotel\", \"tourist\", \"travel\", \"bus\", \"good\", \"look\", \"nice\", \"like\", \"walk\", \"visit\", \"lot\", \"just\", \"food\", \"way\", \"night\", \"street\", \"make\", \"trip\", \"day\", \"love\", \"people\", \"tour\", \"time\", \"great\", \"bus\", \"tour\", \"beach\", \"great\", \"view\", \"walk\", \"area\", \"day\", \"city\", \"love\", \"good\", \"way\", \"thing\", \"time\", \"nice\", \"trip\", \"lot\", \"shop\", \"place\", \"people\", \"want\", \"visit\", \"experience\", \"just\", \"food\", \"beautiful\", \"make\", \"price\", \"travel\", \"like\", \"stay\", \"hotel\", \"beach\", \"price\", \"food\", \"island\", \"trip\", \"experience\", \"love\", \"night\", \"really\", \"great\", \"just\", \"good\", \"look\", \"nice\", \"thing\", \"stay\", \"hotel\", \"tourist\", \"area\", \"want\", \"shop\", \"place\", \"like\", \"people\", \"tour\", \"time\", \"day\", \"way\", \"lot\", \"make\", \"visit\", \"island\", \"beach\", \"stay\", \"tourist\", \"good\", \"shop\", \"place\", \"beautiful\", \"look\", \"want\", \"like\", \"people\", \"hotel\", \"just\", \"restaurant\", \"day\", \"lot\", \"really\", \"make\", \"experience\", \"view\", \"price\", \"nice\", \"visit\", \"time\", \"travel\", \"thing\", \"way\", \"trip\", \"night\", \"great\", \"tour\", \"walk\", \"food\", \"travel\", \"want\", \"walk\", \"lot\", \"experience\", \"stay\", \"time\", \"street\", \"price\", \"food\", \"love\", \"area\", \"really\", \"restaurant\", \"beautiful\", \"hotel\", \"bus\", \"make\", \"tour\", \"like\", \"day\", \"city\", \"view\", \"people\", \"nice\", \"tourist\", \"good\", \"trip\", \"place\", \"look\", \"great\", \"visit\", \"just\", \"travel\", \"shop\", \"make\", \"look\", \"tourist\", \"hotel\", \"experience\", \"street\", \"tour\", \"restaurant\", \"night\", \"good\", \"thing\", \"stay\", \"beach\", \"trip\", \"time\", \"price\", \"day\", \"island\", \"really\", \"nice\", \"great\", \"lot\", \"want\", \"tower\", \"love\", \"bus\", \"like\", \"food\", \"walk\", \"place\", \"visit\", \"people\", \"city\", \"just\", \"beautiful\", \"hotel\", \"price\", \"experience\", \"night\", \"visit\", \"food\", \"tourist\", \"thing\", \"travel\", \"want\", \"street\", \"restaurant\", \"stay\", \"make\", \"way\", \"place\", \"really\", \"area\", \"love\", \"just\", \"look\", \"walk\", \"tour\", \"lot\", \"bus\", \"people\", \"time\", \"tower\", \"nice\", \"trip\", \"beautiful\", \"good\", \"great\", \"day\", \"city\", \"like\", \"area\", \"thing\", \"night\", \"tower\", \"travel\", \"tour\", \"bus\", \"like\", \"love\", \"way\", \"great\", \"city\", \"price\", \"restaurant\", \"tourist\", \"street\", \"really\", \"visit\", \"people\", \"lot\", \"good\", \"want\", \"just\", \"shop\", \"experience\", \"view\", \"look\", \"time\", \"stay\", \"make\", \"day\", \"place\", \"hotel\", \"walk\", \"trip\", \"beautiful\", \"food\", \"look\", \"area\", \"love\", \"experience\", \"tourist\", \"make\", \"hotel\", \"beautiful\", \"want\", \"food\", \"shop\", \"street\", \"price\", \"way\", \"nice\", \"restaurant\", \"like\", \"people\", \"thing\", \"travel\", \"tour\", \"walk\", \"place\", \"time\", \"great\", \"bus\", \"beach\", \"tower\", \"lot\", \"really\", \"good\", \"city\", \"day\", \"visit\", \"trip\", \"stay\", \"just\", \"beach\", \"thing\", \"really\", \"tower\", \"tourist\", \"way\", \"area\", \"experience\", \"love\", \"want\", \"price\", \"nice\", \"bus\", \"food\", \"trip\", \"shop\", \"tour\", \"lot\", \"just\", \"look\", \"view\", \"good\", \"beautiful\", \"make\", \"walk\", \"stay\", \"like\", \"street\", \"night\", \"visit\", \"great\", \"day\", \"time\", \"hotel\", \"city\", \"people\", \"place\", \"shop\", \"tourist\", \"price\", \"experience\", \"travel\", \"bus\", \"night\", \"way\", \"restaurant\", \"thing\", \"nice\", \"want\", \"great\", \"look\", \"street\", \"area\", \"love\", \"tour\", \"stay\", \"walk\", \"lot\", \"tower\", \"visit\", \"like\", \"people\", \"beautiful\", \"place\", \"city\", \"trip\", \"really\", \"just\", \"day\", \"time\", \"hotel\", \"good\", \"make\", \"food\", \"way\", \"love\", \"bus\", \"night\", \"thing\", \"travel\", \"beautiful\", \"look\", \"nice\", \"experience\", \"street\", \"walk\", \"lot\", \"view\", \"want\", \"tower\", \"food\", \"shop\", \"price\", \"place\", \"tourist\", \"stay\", \"area\", \"beach\", \"hotel\", \"good\", \"tour\", \"trip\", \"make\", \"really\", \"just\", \"city\", \"day\", \"great\", \"time\", \"visit\", \"people\", \"like\", \"beach\", \"bus\", \"tourist\", \"price\", \"thing\", \"view\", \"tour\", \"look\", \"shop\", \"lot\", \"nice\", \"area\", \"love\", \"island\", \"want\", \"great\", \"way\", \"experience\", \"night\", \"street\", \"travel\", \"beautiful\", \"food\", \"tower\", \"trip\", \"make\", \"really\", \"restaurant\", \"stay\", \"walk\", \"visit\", \"time\", \"good\", \"day\", \"city\", \"people\", \"just\", \"place\", \"hotel\", \"price\", \"tower\", \"tourist\", \"look\", \"night\", \"love\", \"way\", \"beach\", \"street\", \"want\", \"thing\", \"area\", \"really\", \"experience\", \"view\", \"nice\", \"lot\", \"travel\", \"food\", \"bus\", \"island\", \"stay\", \"shop\", \"restaurant\", \"beautiful\", \"visit\", \"walk\", \"like\", \"hotel\", \"make\", \"good\", \"just\", \"great\", \"people\", \"day\", \"time\", \"city\", \"place\", \"trip\", \"price\", \"bus\", \"look\", \"tourist\", \"shop\", \"area\", \"nice\", \"experience\", \"travel\", \"night\", \"street\", \"lot\", \"thing\", \"stay\", \"island\", \"view\", \"restaurant\", \"love\", \"tower\", \"beautiful\", \"food\", \"really\", \"tour\", \"way\", \"want\", \"make\", \"beach\", \"hotel\", \"people\", \"like\", \"visit\", \"walk\", \"place\", \"trip\", \"day\", \"good\", \"time\", \"city\", \"great\", \"just\", \"bus\", \"thing\", \"shop\", \"price\", \"tower\", \"area\", \"look\", \"night\", \"tourist\", \"beach\", \"love\", \"street\", \"way\", \"lot\", \"nice\", \"travel\", \"really\", \"want\", \"view\", \"restaurant\", \"experience\", \"island\", \"beautiful\", \"food\", \"stay\", \"make\", \"like\", \"tour\", \"trip\", \"great\", \"walk\", \"just\", \"hotel\", \"time\", \"place\", \"tourist\", \"shop\", \"area\", \"night\", \"bus\", \"experience\", \"price\", \"thing\", \"nice\", \"travel\", \"tower\", \"lot\", \"view\", \"beach\", \"love\", \"look\", \"way\", \"beautiful\", \"street\", \"want\", \"restaurant\", \"food\", \"island\", \"really\", \"make\", \"tour\", \"stay\", \"trip\", \"like\", \"walk\", \"place\", \"people\", \"city\", \"just\", \"good\", \"visit\", \"time\", \"hotel\"], \"Freq\": [1255.0, 1193.0, 1061.0, 980.0, 990.0, 888.0, 939.0, 834.0, 863.0, 828.0, 844.0, 749.0, 684.0, 659.0, 604.0, 604.0, 541.0, 535.0, 505.0, 475.0, 475.0, 384.0, 431.0, 442.0, 464.0, 437.0, 445.0, 407.0, 401.0, 407.0, 312.24225385369726, 162.1567546135892, 152.0071361541798, 357.9631726759489, 362.17696977718913, 447.47382621994694, 152.73029959320442, 147.79744757800205, 135.2480037401014, 219.20108293829352, 268.9276517549662, 120.04404496052442, 381.35748133636525, 149.43623219168614, 269.4696533288532, 275.8360957001642, 117.54952667781089, 122.62115805729404, 116.01522065456199, 139.4716061319048, 238.76617474277336, 102.85995406163022, 153.12052304106075, 169.03236194048756, 150.38582668174467, 121.30248904010105, 290.1710164852313, 111.0697150212519, 171.39918358651536, 246.23701797108825, 208.77072390990315, 171.97035893511622, 147.85562267284274, 121.28958148542023, 471.41545671659503, 163.996610178687, 139.5860375123733, 149.3017276955664, 126.91299265215883, 117.3381398250222, 158.5623447211507, 108.86810079265705, 241.20580863301888, 248.081343130654, 232.09097009652805, 167.4343550700106, 108.73830830640597, 112.7827106544038, 111.66064907491209, 164.67486342766293, 89.1203330083572, 241.8847388940306, 181.27900805075342, 239.16840984295246, 202.9365559665971, 95.43340038013167, 197.51367169898, 94.44081285214884, 84.01796165639264, 105.72238286745971, 230.35659138907621, 83.58759908262999, 81.55457587421076, 84.62680408217125, 236.42817827342378, 186.4722524526358, 135.6509752957392, 119.46045269771449, 99.88187797625878, 98.65826621700703, 144.69831695706574, 93.81128797599696, 154.29471768608084, 114.63717523077524, 72.14521624205929, 76.2959226641293, 206.61092201733882, 144.3765388836216, 136.59993096909807, 162.7696936365079, 57.62222597883502, 96.29314102964614, 71.7418184879908, 56.650859557317204, 155.26754444015017, 73.27400228529858, 51.98888434889872, 58.46671349896181, 116.82032055914637, 120.16685567588681, 83.95991318171545, 50.247270203340726, 46.915695037786904, 51.115967228470254, 65.86361542012666, 49.23929895677881, 118.25788739808655, 48.128798035898534, 64.0617086583377, 145.28142273256992, 106.32827461766013, 76.54803480509865, 318.7615124424889, 138.03399654883657, 107.73763401196175, 128.6778691593966, 113.23155102528906, 60.60596923917335, 73.5551259349331, 138.65161404083275, 60.989604024929484, 106.10152937609504, 44.861424926836236, 53.52012689637228, 45.29815722050226, 122.91989528874399, 46.40499095251153, 42.72606036080347, 73.21950876103743, 89.88984956568665, 95.39415819568129, 44.267725598805185, 89.84228219332458, 50.47983676830489, 42.92098417434006, 35.83272839392178, 37.13103565243222, 51.72397104993524, 63.056209303405225, 98.95891762913163, 32.179730072497094, 67.0005706700884, 51.77110757565352, 62.69975564380202, 49.59428364311484, 86.11171392943875, 124.77074170791008, 77.86723765091119, 149.9195674166472, 75.98753616304944, 126.46551310562225, 49.97242540549959, 152.6445022260924, 157.100566868486, 49.46319715842528, 121.8598332145831, 53.6946615328528, 42.48776247171657, 104.65630833013418, 38.25039195532933, 75.97420011501706, 44.376355307015245, 40.026900376124296, 94.65383211511686, 80.38921506907018, 43.91475190945488, 82.00836915043651, 37.36347781039256, 84.75837470685791, 44.91154504993085, 43.60061096144056, 48.15331869117686, 28.459898754386586, 32.48911252045124, 47.64161295047918, 42.950989520528566, 53.600795898182014, 186.58180588347628, 52.86800406843543, 49.50990242480015, 45.802115316094294, 66.98633339507013, 36.04181218403912, 35.049214083839296, 28.709484011527106, 28.550413947158628, 54.010863444650695, 59.77732501609603, 64.51293317371565, 24.167924498847334, 22.332821839699495, 23.39122724109982, 35.02204100032587, 47.375325755936295, 19.933099512049445, 21.017302161588482, 24.292681202819658, 19.99244022694327, 46.087307986725946, 30.62618687989763, 37.8459459741767, 29.003538334722407, 41.33974346103369, 50.255342029179765, 17.948394832923547, 15.870917689444843, 21.149260495624382, 21.688370625539022, 89.23256061484601, 40.63492705477083, 49.4879204477089, 29.04004821005741, 75.97581537726155, 28.28969302898823, 62.95837609501322, 33.15066026538873, 24.585619799274827, 28.81258861823881, 39.6724561740858, 50.40459265229527, 48.01694626181712, 53.99802569988358, 28.717083599580043, 66.94179286008281, 24.125951447867767, 23.85776705841196, 32.02558228320374, 21.374200541496933, 24.21561172657875, 19.754344082316432, 18.982865495243683, 45.08276797421137, 49.23811046038666, 22.16006755574652, 19.499418037129338, 23.57424030707046, 35.671547194616096, 19.25920590553745, 34.587756998401716, 27.227083588727048, 29.955081480564484, 23.025086899687743, 0.008000163731638973, 0.007878097833166654, 0.013758703283152067, 0.00717029905243701, 0.006277573434666472, 0.009148131384233068, 0.014018425135121531, 0.00613804193406523, 0.005319958772086388, 0.0074823364158939165, 0.0054978212095298995, 0.005219524857314972, 0.005976806436337268, 0.0067207324893335686, 0.007075628702867674, 0.010803496753540547, 0.0050222066824696645, 0.0077650536356245175, 0.008557257284651986, 0.008054315771768152, 0.014269919160789388, 0.014897798475592465, 0.005493620694223421, 0.010174965007619462, 0.004377169699962721, 0.0041890602212466465, 0.012303682938652463, 0.008631818491654227, 0.011364796574317392, 0.00452840777549664, 0.008851149576200012, 0.008939872765651911, 0.009270338952027434, 0.007955995656492689, 0.007152716938361473, 0.009408344717571035, 0.006149472921807498, 0.0052148656590992794, 0.011927213348492989, 0.005836342007386634, 0.006174280684130357, 0.009542671755990577, 0.007050086667209134, 0.005628408524942787, 0.014616915008973618, 0.0053707024778231385, 0.008234504105603774, 0.005747194339574621, 0.009892456540493833, 0.012722925487715966, 0.004879195840180436, 0.014953671906894304, 0.006275880134832527, 0.0055101283157802175, 0.004590401165471838, 0.010371571758766707, 0.005290810231930531, 0.0057118699433893316, 0.004592610003348371, 0.004760230490304165, 0.004523408179992785, 0.007635103489632548, 0.005981966166621598, 0.009186311492350555, 0.010720958203849518, 0.009533047844865913, 0.009030324110714688, 0.01042027846805967, 0.008142917160690226, 0.00576953924826478, 0.014742446254972171, 0.006725982281922365, 0.007013875635754019, 0.0062495156730096695, 0.013553928856695475, 0.008243801592243069, 0.005453386322680267, 0.005755921622684195, 0.006448266509301807, 0.006893776651271381, 0.006211532386562224, 0.007249841629078471, 0.008515512972867248, 0.008473320218464472, 0.0065184925660706885, 0.013188111859994358, 0.00585394342639892, 0.004917086997805907, 0.00510942010188762, 0.01161091149400672, 0.004961269343244403, 0.010183144107032166, 0.008340099090583353, 0.0052546512515431005, 0.004597810683114267, 0.01013154936185452, 0.01142742690601914, 0.004454295900777967, 0.0043159330962112006, 0.008634074026934628, 0.0059975043264297685, 0.010473110212645534, 0.008340525880877634, 0.010382400618587742, 0.010528758312338194, 0.006636019167171197, 0.007860476991946985, 0.007324237814794035, 0.00685875418335114, 0.006030204453149166, 0.006862594200753205, 0.010575319480849646, 0.005908001151692118, 0.01005826250053326, 0.005953538867443006, 0.006962241480192278, 0.01178405699751696, 0.017454718307360676, 0.005134513037396003, 0.006843212243470318, 0.004814206980731483, 0.005727018239525688, 0.005893340427486364, 0.011577381118044575, 0.011002855231823688, 0.00541784302992679, 0.012798924914924969, 0.005706415249742093, 0.011279160118679868, 0.0046111924312778755, 0.004605346033046993, 0.005165629887935826, 0.004450461284275178, 0.01084937409571893, 0.006581870831383788, 0.006550065924107667, 0.012295392018063444, 0.010196346726175119, 0.008444454079817015, 0.008090576464832489, 0.006824749676471483, 0.005637301993255805, 0.005624557655914155, 0.007843108852330295, 0.006946935626037199, 0.006875631549767627, 0.006867648949524371, 0.005573348032244592, 0.009266044720872894, 0.012549960996643409, 0.008104601080091601, 0.007155366601208646, 0.007728211094054398, 0.005690525014717612, 0.006015137411886631, 0.005276593799454211, 0.006529669990452011, 0.004917240760086759, 0.0066630124032625426, 0.00864991719958848, 0.01121867793030348, 0.005084112265399922, 0.005711424553912496, 0.008802385909771062, 0.010316668784997898, 0.012049589707775256, 0.011719067724454356, 0.010017298015859022, 0.004552229276207348, 0.005024311154152484, 0.004406627527504428, 0.004930292982328874, 0.00496471575830807, 0.011833666759763205, 0.013594448984234231, 0.012276827461055434, 0.008279502063859101, 0.007303913523172811, 0.005938795775986334, 0.006781524967453491, 0.00899584657265546, 0.007507469123262506, 0.008064236654545144, 0.006824349428366717, 0.005907701812055664, 0.007777720682344584, 0.006234836636626022, 0.0065398759333514175, 0.0063956594442628485, 0.007253357651992697, 0.005541088606875979, 0.0054408951543878925, 0.00556516802520378, 0.007626580612703833, 0.010545829203237706, 0.005684218366008953, 0.009294185890039209, 0.005907779058172961, 0.01231908924729314, 0.005239495271240705, 0.005970592958698678, 0.012777356098952773, 0.006319727625022282, 0.007097578002725427, 0.009742879328118745, 0.007054880902311787, 0.007641319522932986, 0.004943871834312766, 0.0045724848804794575, 0.009870684699383483, 0.009337126097457618, 0.012635103477236205, 0.00960016505745764, 0.008412454943496003, 0.010010476942054416, 0.008132186351751461, 0.008459736857273, 0.007063268284860946, 0.006151849974409077, 0.006330509578492235, 0.00676203002505097, 0.007216158768938305, 0.00626262087313564, 0.00619052628610985, 0.007204937267484869, 0.007629942300133139, 0.0057153590262254955, 0.0054050735256684895, 0.00687260612622802, 0.012128212059656134, 0.005711892234839891, 0.005917034133930521, 0.005155010259899394, 0.00528495144663887, 0.008975238554906161, 0.007727437745113168, 0.010627770982794738, 0.0055533722500714046, 0.004869210993152303, 0.010719108853736139, 0.00794237953321368, 0.010170752993843148, 0.006275775206382989, 0.01139552064183778, 0.01423765781932662, 0.008462046069362615, 0.004905986971798339, 0.010317666121644321, 0.011992398353259973, 0.009685225810829685, 0.008394144400273782, 0.00928102256728769, 0.006519390714969091, 0.005768687336938966, 0.009185759470990625, 0.006864973431682921, 0.006614992836401243, 0.006654796865942929, 0.0060227037638932, 0.006772438493973243, 0.008131683345671692, 0.0060866481998090635, 0.005594698808146353, 0.006048547998911046, 0.00636466070726996, 0.01210351051985754, 0.006249470576081619, 0.006592756765675506, 0.0066646714614337415, 0.00538790871823482, 0.007513553043144667, 0.005551907765156688, 0.005197273289234385, 0.012736892655303755, 0.004596748399633664, 0.007704789817140811, 0.0048123100580370415, 0.005222261062670202, 0.009871869990080183, 0.012498925776758601, 0.00794503283400661, 0.008583369093452475, 0.006829668376609976, 0.005024891709589981, 0.010175669447688131, 0.01269475535924914, 0.01189176455220569, 0.00859622173099866, 0.009120733676911352, 0.00857481082802702, 0.007231079510873785, 0.0060893664386702994, 0.010980315042095238, 0.009073999836000803, 0.006577185924360144, 0.006932275450799556, 0.007118957600167643, 0.008356726210299389, 0.011920037389385152, 0.006860055872249647, 0.0067120348538711, 0.007130437802672627, 0.006070567569588563, 0.006008454601415046, 0.006114193451603361, 0.007551891467957259, 0.006929912497537349, 0.012307771911517546, 0.0069159299915464165, 0.005883147778576463, 0.0057908705977826585, 0.006100794903450313, 0.00606766185716611, 0.006983460966484995, 0.00693728146571459, 0.004886845696753163, 0.009269345538058374, 0.007422423395289915, 0.005146397049129018, 0.0057299129706351115, 0.0063538348842642174, 0.008226625226314366, 0.008531936895330097, 0.009051096893220182, 0.009503571161230592, 0.009640134256997576, 0.009137802291951823, 0.007713804041750102, 0.007585400556651597, 0.007613606421659871, 0.006728350964007943, 0.008066523974104966, 0.007971720897418141, 0.00684895342749424, 0.007500763681364113, 0.007420142631396508, 0.0072487966221630945, 0.00851214315223711, 0.0076358196352973315, 0.007533731571695281, 0.008255303072102078, 0.0065774675020819654, 0.006305194978465577, 0.007080175222995082, 0.006413352963972207, 0.0070131393077999, 0.005634158748585996, 0.006608601330659474, 0.006577791489097847, 0.008041504369691602, 0.005479971335512831, 0.006955026039978855, 0.008334150376109932, 0.0055788018501615605, 0.006740568398674386, 0.006598573508643948, 0.010764576123470754, 0.00912284123930813, 0.0068976633719991945, 0.008427200401240646, 0.006141885171954859, 0.010372175713950807, 0.00908479326593913, 0.008349378823110088, 0.008250358485172265, 0.009017280428530117, 0.008033273436529874, 0.008462913877638653, 0.007081246978185371, 0.006773475792257665, 0.0073293752114769765, 0.007327020392483673, 0.007445215311454529, 0.006634534443503433, 0.007347611729409687, 0.006565894574063884, 0.006388389642834055, 0.006701310884153361, 0.007191907136765958, 0.006624107200380919, 0.006970034993929307, 0.006967246398155647, 0.0060494017750325774, 0.00917553530994803, 0.007621847663620901, 0.00699437237958058, 0.007570873222319842, 0.0059639600810013575, 0.005569602131587429, 0.007660446483236976, 0.00724825372151756, 0.005956900225768025, 0.0089526203093318, 0.006192602997865719, 0.006165778897012122, 0.007678533451867275, 0.005301150089627505, 0.009728589347136636, 0.009618635119793604, 0.007218478621466264, 0.009364084428429814, 0.00870877208030825, 0.00952213884345879, 0.007744133213115482, 0.009604199101337547, 0.00878135588080097, 0.008331777932372433, 0.009013578408542737, 0.007486220416173209, 0.00718492487928565, 0.007990846763695976, 0.007964412411815537, 0.008065720357254363, 0.007552138883967076, 0.007547965765985063, 0.007488813719865521, 0.007733665150656146, 0.007803285823357351, 0.0067458963947550155, 0.0077999801830093045, 0.00720601246094303, 0.007719470847637367, 0.008449985059088581, 0.007747672424417605, 0.006570321379956232, 0.007488668612458859, 0.007275082464696584, 0.007466478903764625, 0.007284371388143644, 0.007915867095634266, 0.006337159143010135, 0.0077864543749504005, 0.0075751981131767935, 0.0071258403790530585, 0.007697089788138873, 0.007404890656395817, 0.00786876900821926, 0.007320263745626058, 0.007883275983130288, 0.008099349476356139, 0.00782330381075382, 0.008055966744195382, 0.007470489803155941, 0.007435471243616055, 0.007256336624078307, 0.008390114258498149, 0.009317112034387086, 0.008357911509944905, 0.008348251265214133, 0.007629011141930994, 0.007819686667962466, 0.007264362390613673, 0.0074579335268572305, 0.007094479746365995, 0.008398925854717451, 0.007189322938214689, 0.007918851979082535, 0.007652455934915346, 0.007056766823887874, 0.006512343758525481, 0.006479925382197251, 0.007493169892293841, 0.008356127951892335, 0.006607128643713946, 0.007241691934744636, 0.007652957369481738, 0.007967932699888587, 0.006899263724773561, 0.00603236671081201, 0.0071116695911713325, 0.007804775871766619, 0.006764395075316889, 0.008294908059241147, 0.007272420876389819, 0.008126314520998127, 0.008425491800664126, 0.007308686188973445, 0.007871159877592421, 0.007400236235212234, 0.007447085895609212, 0.007241877960517982, 0.007188259031230611, 0.007101327729391567], \"Total\": [1255.0, 1193.0, 1061.0, 980.0, 990.0, 888.0, 939.0, 834.0, 863.0, 828.0, 844.0, 749.0, 684.0, 659.0, 604.0, 604.0, 541.0, 535.0, 505.0, 475.0, 475.0, 384.0, 431.0, 442.0, 464.0, 437.0, 445.0, 407.0, 401.0, 407.0, 384.58148605892154, 407.5530819026819, 391.8403409101175, 939.2589159615976, 980.3826971870942, 1255.4660256482055, 445.10533236828036, 431.4757076980698, 401.75929377483624, 659.0936246905977, 834.0448214694238, 373.3402450004066, 1193.3394019793361, 475.7134306777281, 863.2528204866518, 888.3819930123357, 383.001739700701, 399.82211697075013, 385.6278743448087, 475.0356285696217, 828.0989767018941, 358.9556883842894, 535.563066028598, 604.2536936297913, 541.0295417105102, 437.9821581506431, 1061.2032643958962, 442.38125593843444, 684.6351669102353, 990.6562624621318, 844.319052306164, 749.3412180752696, 604.400949323024, 505.93470784547975, 1255.4660256482055, 505.93470784547975, 431.4757076980698, 475.7134306777281, 404.6477091738167, 379.4161397329738, 541.0295417105102, 383.001739700701, 863.2528204866518, 888.3819930123357, 834.0448214694238, 604.2536936297913, 407.3274044962247, 442.38125593843444, 437.9821581506431, 659.0936246905977, 358.9556883842894, 980.3826971870942, 749.3412180752696, 990.6562624621318, 844.319052306164, 399.82211697075013, 828.0989767018941, 401.75929377483624, 373.3402450004066, 475.0356285696217, 1061.2032643958962, 391.8403409101175, 385.6278743448087, 407.5530819026819, 1193.3394019793361, 939.2589159615976, 684.6351669102353, 604.400949323024, 535.563066028598, 442.38125593843444, 684.6351669102353, 445.10533236828036, 749.3412180752696, 604.2536936297913, 407.3274044962247, 437.9821581506431, 1193.3394019793361, 844.319052306164, 828.0989767018941, 990.6562624621318, 358.9556883842894, 604.400949323024, 475.0356285696217, 379.4161397329738, 1061.2032643958962, 505.93470784547975, 383.001739700701, 431.4757076980698, 863.2528204866518, 888.3819930123357, 659.0936246905977, 399.82211697075013, 373.3402450004066, 407.5530819026819, 535.563066028598, 401.75929377483624, 980.3826971870942, 404.6477091738167, 541.0295417105102, 1255.4660256482055, 939.2589159615976, 834.0448214694238, 503.6643561545179, 464.5354452603896, 429.57736490754866, 535.563066028598, 604.400949323024, 404.6477091738167, 505.93470784547975, 990.6562624621318, 475.0356285696217, 828.0989767018941, 358.9556883842894, 442.38125593843444, 385.6278743448087, 1061.2032643958962, 401.75929377483624, 373.3402450004066, 659.0936246905977, 834.0448214694238, 888.3819930123357, 437.9821581506431, 939.2589159615976, 541.0295417105102, 475.7134306777281, 407.5530819026819, 431.4757076980698, 604.2536936297913, 749.3412180752696, 1193.3394019793361, 399.82211697075013, 863.2528204866518, 684.6351669102353, 980.3826971870942, 844.319052306164, 385.6278743448087, 684.6351669102353, 429.57736490754866, 844.319052306164, 464.5354452603896, 834.0448214694238, 383.001739700701, 1193.3394019793361, 1255.4660256482055, 399.82211697075013, 1061.2032643958962, 475.7134306777281, 391.8403409101175, 980.3826971870942, 373.3402450004066, 749.3412180752696, 437.9821581506431, 404.6477091738167, 990.6562624621318, 863.2528204866518, 475.0356285696217, 888.3819930123357, 407.3274044962247, 939.2589159615976, 541.0295417105102, 535.563066028598, 604.2536936297913, 379.4161397329738, 442.38125593843444, 659.0936246905977, 604.400949323024, 828.0989767018941, 429.57736490754866, 379.4161397329738, 541.0295417105102, 503.6643561545179, 749.3412180752696, 407.3274044962247, 399.82211697075013, 407.5530819026819, 445.10533236828036, 844.319052306164, 939.2589159615976, 1061.2032643958962, 401.75929377483624, 373.3402450004066, 391.8403409101175, 604.400949323024, 828.0989767018941, 358.9556883842894, 383.001739700701, 475.0356285696217, 404.6477091738167, 990.6562624621318, 659.0936246905977, 863.2528204866518, 684.6351669102353, 980.3826971870942, 1193.3394019793361, 475.7134306777281, 437.9821581506431, 604.2536936297913, 888.3819930123357, 503.6643561545179, 429.57736490754866, 604.400949323024, 358.9556883842894, 1061.2032643958962, 404.6477091738167, 990.6562624621318, 535.563066028598, 401.75929377483624, 475.0356285696217, 659.0936246905977, 863.2528204866518, 828.0989767018941, 939.2589159615976, 505.93470784547975, 1193.3394019793361, 437.9821581506431, 445.10533236828036, 604.2536936297913, 407.3274044962247, 464.5354452603896, 379.4161397329738, 373.3402450004066, 888.3819930123357, 980.3826971870942, 442.38125593843444, 391.8403409101175, 475.7134306777281, 749.3412180752696, 407.5530819026819, 844.319052306164, 684.6351669102353, 834.0448214694238, 541.0295417105102, 442.38125593843444, 475.0356285696217, 834.0448214694238, 437.9821581506431, 407.3274044962247, 604.400949323024, 980.3826971870942, 431.4757076980698, 379.4161397329738, 541.0295417105102, 399.82211697075013, 383.001739700701, 445.10533236828036, 505.93470784547975, 535.563066028598, 828.0989767018941, 385.6278743448087, 604.2536936297913, 684.6351669102353, 659.0936246905977, 1193.3394019793361, 1255.4660256482055, 464.5354452603896, 863.2528204866518, 373.3402450004066, 358.9556883842894, 1061.2032643958962, 749.3412180752696, 990.6562624621318, 401.75929377483624, 844.319052306164, 888.3819930123357, 939.2589159615976, 442.38125593843444, 404.6477091738167, 604.2536936297913, 401.75929377483624, 358.9556883842894, 828.0989767018941, 407.3274044962247, 431.4757076980698, 684.6351669102353, 505.93470784547975, 407.5530819026819, 1061.2032643958962, 391.8403409101175, 604.400949323024, 429.57736490754866, 749.3412180752696, 980.3826971870942, 379.4161397329738, 1193.3394019793361, 503.6643561545179, 445.10533236828036, 373.3402450004066, 844.319052306164, 437.9821581506431, 475.0356285696217, 384.58148605892154, 399.82211697075013, 385.6278743448087, 659.0936246905977, 541.0295417105102, 834.0448214694238, 990.6562624621318, 888.3819930123357, 863.2528204866518, 1255.4660256482055, 939.2589159615976, 535.563066028598, 828.0989767018941, 379.4161397329738, 407.3274044962247, 407.5530819026819, 888.3819930123357, 541.0295417105102, 358.9556883842894, 391.8403409101175, 442.38125593843444, 475.0356285696217, 431.4757076980698, 505.93470784547975, 604.400949323024, 604.2536936297913, 475.7134306777281, 990.6562624621318, 445.10533236828036, 383.001739700701, 399.82211697075013, 939.2589159615976, 401.75929377483624, 834.0448214694238, 684.6351669102353, 437.9821581506431, 385.6278743448087, 863.2528204866518, 980.3826971870942, 384.58148605892154, 373.3402450004066, 749.3412180752696, 535.563066028598, 1061.2032643958962, 844.319052306164, 1193.3394019793361, 1255.4660256482055, 659.0936246905977, 383.001739700701, 391.8403409101175, 407.5530819026819, 384.58148605892154, 442.38125593843444, 684.6351669102353, 385.6278743448087, 659.0936246905977, 399.82211697075013, 475.7134306777281, 844.319052306164, 1255.4660256482055, 379.4161397329738, 505.93470784547975, 358.9556883842894, 431.4757076980698, 445.10533236828036, 888.3819930123357, 863.2528204866518, 437.9821581506431, 1061.2032643958962, 475.0356285696217, 939.2589159615976, 404.6477091738167, 407.3274044962247, 464.5354452603896, 401.75929377483624, 980.3826971870942, 604.400949323024, 604.2536936297913, 1193.3394019793361, 990.6562624621318, 828.0989767018941, 834.0448214694238, 749.3412180752696, 535.563066028598, 541.0295417105102, 401.75929377483624, 383.001739700701, 399.82211697075013, 407.3274044962247, 358.9556883842894, 604.2536936297913, 828.0989767018941, 535.563066028598, 475.0356285696217, 541.0295417105102, 404.6477091738167, 431.4757076980698, 379.4161397329738, 475.7134306777281, 373.3402450004066, 505.93470784547975, 659.0936246905977, 863.2528204866518, 391.8403409101175, 442.38125593843444, 684.6351669102353, 834.0448214694238, 990.6562624621318, 980.3826971870942, 844.319052306164, 385.6278743448087, 429.57736490754866, 384.58148605892154, 437.9821581506431, 445.10533236828036, 1061.2032643958962, 1255.4660256482055, 1193.3394019793361, 888.3819930123357, 749.3412180752696, 604.400949323024, 939.2589159615976, 429.57736490754866, 391.8403409101175, 445.10533236828036, 384.58148605892154, 358.9556883842894, 475.7134306777281, 383.001739700701, 407.3274044962247, 399.82211697075013, 475.0356285696217, 379.4161397329738, 373.3402450004066, 385.6278743448087, 541.0295417105102, 749.3412180752696, 404.6477091738167, 684.6351669102353, 437.9821581506431, 939.2589159615976, 401.75929377483624, 464.5354452603896, 1061.2032643958962, 535.563066028598, 604.2536936297913, 834.0448214694238, 604.400949323024, 659.0936246905977, 431.4757076980698, 407.5530819026819, 888.3819930123357, 844.319052306164, 1193.3394019793361, 980.3826971870942, 828.0989767018941, 1255.4660256482055, 863.2528204866518, 990.6562624621318, 404.6477091738167, 358.9556883842894, 379.4161397329738, 407.3274044962247, 442.38125593843444, 385.6278743448087, 407.5530819026819, 475.7134306777281, 505.93470784547975, 391.8403409101175, 373.3402450004066, 475.0356285696217, 844.319052306164, 401.75929377483624, 431.4757076980698, 383.001739700701, 399.82211697075013, 684.6351669102353, 604.400949323024, 834.0448214694238, 437.9821581506431, 384.58148605892154, 888.3819930123357, 659.0936246905977, 863.2528204866518, 535.563066028598, 990.6562624621318, 1255.4660256482055, 749.3412180752696, 445.10533236828036, 939.2589159615976, 1193.3394019793361, 980.3826971870942, 828.0989767018941, 1061.2032643958962, 604.2536936297913, 541.0295417105102, 475.7134306777281, 399.82211697075013, 385.6278743448087, 407.5530819026819, 391.8403409101175, 442.38125593843444, 535.563066028598, 401.75929377483624, 373.3402450004066, 407.3274044962247, 431.4757076980698, 834.0448214694238, 437.9821581506431, 464.5354452603896, 475.0356285696217, 384.58148605892154, 541.0295417105102, 404.6477091738167, 379.4161397329738, 990.6562624621318, 358.9556883842894, 604.400949323024, 383.001739700701, 429.57736490754866, 828.0989767018941, 1061.2032643958962, 684.6351669102353, 749.3412180752696, 604.2536936297913, 445.10533236828036, 939.2589159615976, 1255.4660256482055, 1193.3394019793361, 844.319052306164, 980.3826971870942, 888.3819930123357, 863.2528204866518, 659.0936246905977, 429.57736490754866, 385.6278743448087, 358.9556883842894, 379.4161397329738, 391.8403409101175, 464.5354452603896, 684.6351669102353, 401.75929377483624, 404.6477091738167, 437.9821581506431, 373.3402450004066, 383.001739700701, 399.82211697075013, 503.6643561545179, 475.0356285696217, 844.319052306164, 475.7134306777281, 407.3274044962247, 407.5530819026819, 431.4757076980698, 442.38125593843444, 535.563066028598, 541.0295417105102, 384.58148605892154, 749.3412180752696, 604.2536936297913, 445.10533236828036, 505.93470784547975, 604.400949323024, 834.0448214694238, 888.3819930123357, 980.3826971870942, 1061.2032643958962, 1193.3394019793361, 1255.4660256482055, 863.2528204866518, 939.2589159615976, 990.6562624621318, 828.0989767018941, 379.4161397329738, 384.58148605892154, 358.9556883842894, 401.75929377483624, 407.5530819026819, 399.82211697075013, 475.7134306777281, 429.57736490754866, 431.4757076980698, 475.0356285696217, 391.8403409101175, 383.001739700701, 445.10533236828036, 407.3274044962247, 464.5354452603896, 373.3402450004066, 437.9821581506431, 442.38125593843444, 541.0295417105102, 385.6278743448087, 503.6643561545179, 604.400949323024, 404.6477091738167, 505.93470784547975, 535.563066028598, 888.3819930123357, 834.0448214694238, 659.0936246905977, 828.0989767018941, 604.2536936297913, 1061.2032643958962, 939.2589159615976, 844.319052306164, 863.2528204866518, 1193.3394019793361, 980.3826971870942, 1255.4660256482055, 990.6562624621318, 749.3412180752696, 379.4161397329738, 385.6278743448087, 401.75929377483624, 358.9556883842894, 404.6477091738167, 383.001739700701, 373.3402450004066, 407.3274044962247, 442.38125593843444, 407.5530819026819, 431.4757076980698, 437.9821581506431, 391.8403409101175, 604.400949323024, 503.6643561545179, 464.5354452603896, 505.93470784547975, 399.82211697075013, 384.58148605892154, 535.563066028598, 541.0295417105102, 445.10533236828036, 684.6351669102353, 475.7134306777281, 475.0356285696217, 604.2536936297913, 429.57736490754866, 828.0989767018941, 863.2528204866518, 659.0936246905977, 888.3819930123357, 834.0448214694238, 990.6562624621318, 749.3412180752696, 1193.3394019793361, 1061.2032643958962, 980.3826971870942, 1255.4660256482055, 844.319052306164, 939.2589159615976, 385.6278743448087, 391.8403409101175, 404.6477091738167, 379.4161397329738, 384.58148605892154, 383.001739700701, 401.75929377483624, 407.5530819026819, 358.9556883842894, 429.57736490754866, 399.82211697075013, 431.4757076980698, 475.7134306777281, 437.9821581506431, 373.3402450004066, 442.38125593843444, 445.10533236828036, 475.0356285696217, 464.5354452603896, 505.93470784547975, 407.3274044962247, 503.6643561545179, 535.563066028598, 541.0295417105102, 604.400949323024, 604.2536936297913, 659.0936246905977, 684.6351669102353, 749.3412180752696, 844.319052306164, 834.0448214694238, 939.2589159615976, 828.0989767018941, 980.3826971870942, 990.6562624621318, 358.9556883842894, 404.6477091738167, 383.001739700701, 407.5530819026819, 385.6278743448087, 407.3274044962247, 379.4161397329738, 391.8403409101175, 373.3402450004066, 442.38125593843444, 384.58148605892154, 437.9821581506431, 464.5354452603896, 429.57736490754866, 399.82211697075013, 401.75929377483624, 475.7134306777281, 535.563066028598, 431.4757076980698, 475.0356285696217, 505.93470784547975, 541.0295417105102, 503.6643561545179, 445.10533236828036, 604.2536936297913, 684.6351669102353, 604.400949323024, 749.3412180752696, 659.0936246905977, 834.0448214694238, 990.6562624621318, 863.2528204866518, 1255.4660256482055, 939.2589159615976, 1061.2032643958962, 888.3819930123357, 980.3826971870942, 828.0989767018941], \"Category\": [\"Default\", \"Default\", \"Default\", \"Default\", \"Default\", \"Default\", \"Default\", \"Default\", \"Default\", \"Default\", \"Default\", \"Default\", \"Default\", \"Default\", \"Default\", \"Default\", \"Default\", \"Default\", \"Default\", \"Default\", \"Default\", \"Default\", \"Default\", \"Default\", \"Default\", \"Default\", \"Default\", \"Default\", \"Default\", \"Default\", \"Topic1\", \"Topic1\", \"Topic1\", \"Topic1\", \"Topic1\", \"Topic1\", \"Topic1\", \"Topic1\", \"Topic1\", \"Topic1\", \"Topic1\", \"Topic1\", \"Topic1\", \"Topic1\", \"Topic1\", \"Topic1\", \"Topic1\", \"Topic1\", \"Topic1\", \"Topic1\", \"Topic1\", \"Topic1\", \"Topic1\", \"Topic1\", \"Topic1\", \"Topic1\", \"Topic1\", \"Topic1\", \"Topic1\", \"Topic1\", \"Topic1\", \"Topic1\", \"Topic1\", \"Topic1\", \"Topic2\", \"Topic2\", \"Topic2\", \"Topic2\", \"Topic2\", \"Topic2\", \"Topic2\", \"Topic2\", \"Topic2\", \"Topic2\", \"Topic2\", \"Topic2\", \"Topic2\", \"Topic2\", \"Topic2\", \"Topic2\", \"Topic2\", \"Topic2\", \"Topic2\", \"Topic2\", \"Topic2\", \"Topic2\", \"Topic2\", \"Topic2\", \"Topic2\", \"Topic2\", \"Topic2\", \"Topic2\", \"Topic2\", \"Topic2\", \"Topic2\", \"Topic2\", \"Topic2\", \"Topic2\", \"Topic2\", \"Topic3\", \"Topic3\", \"Topic3\", \"Topic3\", \"Topic3\", \"Topic3\", \"Topic3\", \"Topic3\", \"Topic3\", \"Topic3\", \"Topic3\", \"Topic3\", \"Topic3\", \"Topic3\", \"Topic3\", \"Topic3\", \"Topic3\", \"Topic3\", \"Topic3\", \"Topic3\", \"Topic3\", \"Topic3\", \"Topic3\", \"Topic3\", \"Topic3\", \"Topic3\", \"Topic3\", \"Topic3\", \"Topic3\", \"Topic3\", \"Topic3\", \"Topic3\", \"Topic3\", \"Topic4\", \"Topic4\", \"Topic4\", \"Topic4\", \"Topic4\", \"Topic4\", \"Topic4\", \"Topic4\", \"Topic4\", \"Topic4\", \"Topic4\", \"Topic4\", \"Topic4\", \"Topic4\", \"Topic4\", \"Topic4\", \"Topic4\", \"Topic4\", \"Topic4\", \"Topic4\", \"Topic4\", \"Topic4\", \"Topic4\", \"Topic4\", \"Topic4\", \"Topic4\", \"Topic4\", \"Topic4\", \"Topic4\", \"Topic4\", \"Topic4\", \"Topic4\", \"Topic4\", \"Topic5\", \"Topic5\", \"Topic5\", \"Topic5\", \"Topic5\", \"Topic5\", \"Topic5\", \"Topic5\", \"Topic5\", \"Topic5\", \"Topic5\", \"Topic5\", \"Topic5\", \"Topic5\", \"Topic5\", \"Topic5\", \"Topic5\", \"Topic5\", \"Topic5\", \"Topic5\", \"Topic5\", \"Topic5\", \"Topic5\", \"Topic5\", \"Topic5\", \"Topic5\", \"Topic5\", \"Topic5\", \"Topic5\", \"Topic5\", \"Topic5\", \"Topic5\", \"Topic6\", \"Topic6\", \"Topic6\", \"Topic6\", \"Topic6\", \"Topic6\", \"Topic6\", \"Topic6\", \"Topic6\", \"Topic6\", \"Topic6\", \"Topic6\", \"Topic6\", \"Topic6\", \"Topic6\", \"Topic6\", \"Topic6\", \"Topic6\", \"Topic6\", \"Topic6\", \"Topic6\", \"Topic6\", \"Topic6\", \"Topic6\", \"Topic6\", \"Topic6\", \"Topic6\", \"Topic6\", \"Topic6\", \"Topic6\", \"Topic6\", \"Topic7\", \"Topic7\", \"Topic7\", \"Topic7\", \"Topic7\", \"Topic7\", \"Topic7\", \"Topic7\", \"Topic7\", \"Topic7\", \"Topic7\", \"Topic7\", \"Topic7\", \"Topic7\", \"Topic7\", \"Topic7\", \"Topic7\", \"Topic7\", \"Topic7\", \"Topic7\", \"Topic7\", \"Topic7\", \"Topic7\", \"Topic7\", \"Topic7\", \"Topic7\", \"Topic7\", \"Topic7\", \"Topic7\", \"Topic7\", \"Topic7\", \"Topic7\", \"Topic7\", \"Topic7\", \"Topic8\", \"Topic8\", \"Topic8\", \"Topic8\", \"Topic8\", \"Topic8\", \"Topic8\", \"Topic8\", \"Topic8\", \"Topic8\", \"Topic8\", \"Topic8\", \"Topic8\", \"Topic8\", \"Topic8\", \"Topic8\", \"Topic8\", \"Topic8\", \"Topic8\", \"Topic8\", \"Topic8\", \"Topic8\", \"Topic8\", \"Topic8\", \"Topic8\", \"Topic8\", \"Topic8\", \"Topic8\", \"Topic8\", \"Topic8\", \"Topic8\", \"Topic8\", \"Topic8\", \"Topic9\", \"Topic9\", \"Topic9\", \"Topic9\", \"Topic9\", \"Topic9\", \"Topic9\", \"Topic9\", \"Topic9\", \"Topic9\", \"Topic9\", \"Topic9\", \"Topic9\", \"Topic9\", \"Topic9\", \"Topic9\", \"Topic9\", \"Topic9\", \"Topic9\", \"Topic9\", \"Topic9\", \"Topic9\", \"Topic9\", \"Topic9\", \"Topic9\", \"Topic9\", \"Topic9\", \"Topic9\", \"Topic9\", \"Topic9\", \"Topic9\", \"Topic9\", \"Topic9\", \"Topic9\", \"Topic9\", \"Topic9\", \"Topic9\", \"Topic10\", \"Topic10\", \"Topic10\", \"Topic10\", \"Topic10\", \"Topic10\", \"Topic10\", \"Topic10\", \"Topic10\", \"Topic10\", \"Topic10\", \"Topic10\", \"Topic10\", \"Topic10\", \"Topic10\", \"Topic10\", \"Topic10\", \"Topic10\", \"Topic10\", \"Topic10\", \"Topic10\", \"Topic10\", \"Topic10\", \"Topic10\", \"Topic10\", \"Topic10\", \"Topic10\", \"Topic10\", \"Topic10\", \"Topic10\", \"Topic10\", \"Topic10\", \"Topic10\", \"Topic10\", \"Topic10\", \"Topic10\", \"Topic11\", \"Topic11\", \"Topic11\", \"Topic11\", \"Topic11\", \"Topic11\", \"Topic11\", \"Topic11\", \"Topic11\", \"Topic11\", \"Topic11\", \"Topic11\", \"Topic11\", \"Topic11\", \"Topic11\", \"Topic11\", \"Topic11\", \"Topic11\", \"Topic11\", \"Topic11\", \"Topic11\", \"Topic11\", \"Topic11\", \"Topic11\", \"Topic11\", \"Topic11\", \"Topic11\", \"Topic11\", \"Topic11\", \"Topic11\", \"Topic11\", \"Topic11\", \"Topic11\", \"Topic11\", \"Topic11\", \"Topic11\", \"Topic11\", \"Topic12\", \"Topic12\", \"Topic12\", \"Topic12\", \"Topic12\", \"Topic12\", \"Topic12\", \"Topic12\", \"Topic12\", \"Topic12\", \"Topic12\", \"Topic12\", \"Topic12\", \"Topic12\", \"Topic12\", \"Topic12\", \"Topic12\", \"Topic12\", \"Topic12\", \"Topic12\", \"Topic12\", \"Topic12\", \"Topic12\", \"Topic12\", \"Topic12\", \"Topic12\", \"Topic12\", \"Topic12\", \"Topic12\", \"Topic12\", \"Topic12\", \"Topic12\", \"Topic12\", \"Topic12\", \"Topic12\", \"Topic12\", \"Topic12\", \"Topic13\", \"Topic13\", \"Topic13\", \"Topic13\", \"Topic13\", \"Topic13\", \"Topic13\", \"Topic13\", \"Topic13\", \"Topic13\", \"Topic13\", \"Topic13\", \"Topic13\", \"Topic13\", \"Topic13\", \"Topic13\", \"Topic13\", \"Topic13\", \"Topic13\", \"Topic13\", \"Topic13\", \"Topic13\", \"Topic13\", \"Topic13\", \"Topic13\", \"Topic13\", \"Topic13\", \"Topic13\", \"Topic13\", \"Topic13\", \"Topic13\", \"Topic13\", \"Topic13\", \"Topic13\", \"Topic13\", \"Topic13\", \"Topic13\", \"Topic14\", \"Topic14\", \"Topic14\", \"Topic14\", \"Topic14\", \"Topic14\", \"Topic14\", \"Topic14\", \"Topic14\", \"Topic14\", \"Topic14\", \"Topic14\", \"Topic14\", \"Topic14\", \"Topic14\", \"Topic14\", \"Topic14\", \"Topic14\", \"Topic14\", \"Topic14\", \"Topic14\", \"Topic14\", \"Topic14\", \"Topic14\", \"Topic14\", \"Topic14\", \"Topic14\", \"Topic14\", \"Topic14\", \"Topic14\", \"Topic14\", \"Topic14\", \"Topic14\", \"Topic14\", \"Topic14\", \"Topic14\", \"Topic14\", \"Topic15\", \"Topic15\", \"Topic15\", \"Topic15\", \"Topic15\", \"Topic15\", \"Topic15\", \"Topic15\", \"Topic15\", \"Topic15\", \"Topic15\", \"Topic15\", \"Topic15\", \"Topic15\", \"Topic15\", \"Topic15\", \"Topic15\", \"Topic15\", \"Topic15\", \"Topic15\", \"Topic15\", \"Topic15\", \"Topic15\", \"Topic15\", \"Topic15\", \"Topic15\", \"Topic15\", \"Topic15\", \"Topic15\", \"Topic15\", \"Topic15\", \"Topic15\", \"Topic15\", \"Topic15\", \"Topic15\", \"Topic15\", \"Topic15\", \"Topic15\", \"Topic16\", \"Topic16\", \"Topic16\", \"Topic16\", \"Topic16\", \"Topic16\", \"Topic16\", \"Topic16\", \"Topic16\", \"Topic16\", \"Topic16\", \"Topic16\", \"Topic16\", \"Topic16\", \"Topic16\", \"Topic16\", \"Topic16\", \"Topic16\", \"Topic16\", \"Topic16\", \"Topic16\", \"Topic16\", \"Topic16\", \"Topic16\", \"Topic16\", \"Topic16\", \"Topic16\", \"Topic16\", \"Topic16\", \"Topic16\", \"Topic16\", \"Topic16\", \"Topic16\", \"Topic16\", \"Topic16\", \"Topic16\", \"Topic16\", \"Topic16\", \"Topic16\", \"Topic17\", \"Topic17\", \"Topic17\", \"Topic17\", \"Topic17\", \"Topic17\", \"Topic17\", \"Topic17\", \"Topic17\", \"Topic17\", \"Topic17\", \"Topic17\", \"Topic17\", \"Topic17\", \"Topic17\", \"Topic17\", \"Topic17\", \"Topic17\", \"Topic17\", \"Topic17\", \"Topic17\", \"Topic17\", \"Topic17\", \"Topic17\", \"Topic17\", \"Topic17\", \"Topic17\", \"Topic17\", \"Topic17\", \"Topic17\", \"Topic17\", \"Topic17\", \"Topic17\", \"Topic17\", \"Topic17\", \"Topic17\", \"Topic17\", \"Topic17\", \"Topic17\", \"Topic18\", \"Topic18\", \"Topic18\", \"Topic18\", \"Topic18\", \"Topic18\", \"Topic18\", \"Topic18\", \"Topic18\", \"Topic18\", \"Topic18\", \"Topic18\", \"Topic18\", \"Topic18\", \"Topic18\", \"Topic18\", \"Topic18\", \"Topic18\", \"Topic18\", \"Topic18\", \"Topic18\", \"Topic18\", \"Topic18\", \"Topic18\", \"Topic18\", \"Topic18\", \"Topic18\", \"Topic18\", \"Topic18\", \"Topic18\", \"Topic18\", \"Topic18\", \"Topic18\", \"Topic18\", \"Topic18\", \"Topic18\", \"Topic18\", \"Topic18\", \"Topic18\", \"Topic18\", \"Topic19\", \"Topic19\", \"Topic19\", \"Topic19\", \"Topic19\", \"Topic19\", \"Topic19\", \"Topic19\", \"Topic19\", \"Topic19\", \"Topic19\", \"Topic19\", \"Topic19\", \"Topic19\", \"Topic19\", \"Topic19\", \"Topic19\", \"Topic19\", \"Topic19\", \"Topic19\", \"Topic19\", \"Topic19\", \"Topic19\", \"Topic19\", \"Topic19\", \"Topic19\", \"Topic19\", \"Topic19\", \"Topic19\", \"Topic19\", \"Topic19\", \"Topic19\", \"Topic19\", \"Topic19\", \"Topic19\", \"Topic20\", \"Topic20\", \"Topic20\", \"Topic20\", \"Topic20\", \"Topic20\", \"Topic20\", \"Topic20\", \"Topic20\", \"Topic20\", \"Topic20\", \"Topic20\", \"Topic20\", \"Topic20\", \"Topic20\", \"Topic20\", \"Topic20\", \"Topic20\", \"Topic20\", \"Topic20\", \"Topic20\", \"Topic20\", \"Topic20\", \"Topic20\", \"Topic20\", \"Topic20\", \"Topic20\", \"Topic20\", \"Topic20\", \"Topic20\", \"Topic20\", \"Topic20\", \"Topic20\", \"Topic20\", \"Topic20\", \"Topic20\", \"Topic20\", \"Topic20\"], \"logprob\": [30.0, 29.0, 28.0, 27.0, 26.0, 25.0, 24.0, 23.0, 22.0, 21.0, 20.0, 19.0, 18.0, 17.0, 16.0, 15.0, 14.0, 13.0, 12.0, 11.0, 10.0, 9.0, 8.0, 7.0, 6.0, 5.0, 4.0, 3.0, 2.0, 1.0, -3.1375, -3.7927, -3.8573, -3.0008, -2.9891, -2.7776, -3.8526, -3.8854, -3.9741, -3.4913, -3.2868, -4.0934, -2.9375, -3.8744, -3.2848, -3.2614, -4.1144, -4.0721, -4.1275, -3.9434, -3.4058, -4.2479, -3.85, -3.7512, -3.868, -4.083, -3.2108, -4.1711, -3.7372, -3.3749, -3.54, -3.7339, -3.885, -4.0831, -2.5194, -3.5753, -3.7365, -3.6692, -3.8317, -3.9101, -3.609, -3.9851, -3.1895, -3.1614, -3.2281, -3.5546, -3.9862, -3.9497, -3.9597, -3.5712, -4.1852, -3.1867, -3.4752, -3.198, -3.3623, -4.1168, -3.3894, -4.1272, -4.2442, -4.0144, -3.2356, -4.2493, -4.2739, -4.2369, -3.2095, -3.4469, -3.7651, -3.8922, -4.0712, -3.5304, -3.1474, -3.5808, -3.0832, -3.3803, -3.8434, -3.7874, -2.7912, -3.1496, -3.205, -3.0297, -4.0681, -3.5546, -3.849, -4.0851, -3.0769, -3.8278, -4.171, -4.0536, -3.3614, -3.3332, -3.6917, -4.2051, -4.2737, -4.1879, -3.9345, -4.2254, -3.3492, -4.2482, -3.9622, -3.1434, -3.4555, -3.7841, -2.1704, -3.0073, -3.2551, -3.0775, -3.2054, -3.8304, -3.6368, -3.0028, -3.8241, -3.2704, -4.1312, -3.9547, -4.1215, -3.1233, -4.0974, -4.18, -3.6413, -3.4362, -3.3768, -4.1445, -3.4367, -4.0132, -4.1754, -4.3559, -4.3204, -3.9889, -3.7908, -3.3401, -4.4635, -3.7301, -3.988, -3.7964, -4.0309, -3.3695, -2.9986, -3.4701, -2.815, -3.4945, -2.9851, -3.9136, -2.797, -2.7682, -3.9239, -3.0222, -3.8418, -4.0759, -3.1744, -4.181, -3.4947, -4.0324, -4.1356, -3.2749, -3.4382, -4.0429, -3.4183, -4.2044, -3.3853, -4.0204, -4.05, -3.9507, -4.4766, -4.3442, -3.9614, -4.0651, -3.8435, -1.9548, -3.2158, -3.2815, -3.3593, -2.9791, -3.599, -3.6269, -3.8264, -3.832, -3.1945, -3.093, -3.0168, -3.9986, -4.0776, -4.0313, -3.6277, -3.3255, -4.1913, -4.1383, -3.9935, -4.1883, -3.3531, -3.7618, -3.5501, -3.8162, -3.4618, -3.2665, -4.2961, -4.4191, -4.132, -4.1069, -2.6862, -3.4728, -3.2757, -3.8087, -2.847, -3.8349, -3.0349, -3.6763, -3.9752, -3.8166, -3.4967, -3.2573, -3.3058, -3.1885, -3.8199, -2.9736, -3.9941, -4.0053, -3.7109, -4.1152, -3.9904, -4.194, -4.2339, -3.3689, -3.2807, -4.0791, -4.207, -4.0172, -3.603, -4.2194, -3.6339, -3.8732, -3.7777, -4.0408, -3.624, -3.6394, -3.0818, -3.7335, -3.8665, -3.4899, -3.0631, -3.8889, -4.032, -3.6909, -3.9991, -4.051, -3.9156, -3.7983, -3.7468, -3.3236, -4.0896, -3.6538, -3.5567, -3.6172, -3.0453, -3.0022, -3.9999, -3.3835, -4.2271, -4.271, -3.1936, -3.548, -3.2729, -4.1931, -3.5229, -3.5129, -3.4766, -3.6295, -3.736, -3.4619, -3.8871, -4.0519, -3.2246, -3.9393, -3.8831, -3.4477, -3.7504, -3.9756, -3.0213, -4.0225, -3.5951, -3.9547, -3.4117, -3.16, -4.1185, -2.9985, -3.8667, -3.9969, -4.1795, -3.3644, -4.0375, -3.9609, -4.179, -4.1432, -4.1942, -3.6707, -3.9147, -3.4857, -3.3313, -3.4487, -3.5029, -3.3597, -3.6063, -3.9509, -3.0127, -3.7975, -3.7556, -3.8709, -3.0968, -3.594, -4.0072, -3.9532, -3.8396, -3.7728, -3.877, -3.7225, -3.5616, -3.5665, -3.8288, -3.1241, -3.9363, -4.1107, -4.0724, -3.2515, -4.1018, -3.3827, -3.5824, -4.0443, -4.1779, -3.3878, -3.2674, -4.2096, -4.2411, -3.5477, -3.9121, -3.3546, -3.5823, -3.3633, -3.3493, -3.8109, -3.6416, -3.7123, -3.7779, -3.9067, -3.7774, -3.3449, -3.9271, -3.3951, -3.9195, -3.763, -3.2367, -2.8438, -4.0675, -3.7802, -4.1319, -3.9583, -3.9296, -3.2544, -3.3053, -4.0138, -3.1541, -3.9619, -3.2805, -4.175, -4.1762, -4.0614, -4.2104, -3.3193, -3.8191, -3.824, -3.1942, -3.3814, -3.5699, -3.6128, -3.7829, -3.974, -3.9763, -3.6438, -3.7652, -3.7755, -3.7766, -3.9855, -3.4771, -3.1737, -3.611, -3.7356, -3.6586, -3.9647, -3.9092, -4.0402, -3.8271, -4.1107, -3.8069, -3.5459, -3.2859, -4.0773, -3.961, -3.5284, -3.3697, -3.2144, -3.2422, -3.3991, -4.1878, -4.0892, -4.2203, -4.1081, -4.1011, -3.2325, -3.0938, -3.1957, -3.5897, -3.715, -3.9219, -3.7893, -3.5067, -3.6876, -3.616, -3.783, -3.9272, -3.6522, -3.8733, -3.8255, -3.8478, -3.722, -3.9913, -4.0095, -3.9869, -3.6718, -3.3477, -3.9658, -3.4741, -3.9272, -3.1923, -4.0472, -3.9166, -3.1558, -3.8598, -3.7437, -3.4269, -3.7497, -3.6699, -4.1053, -4.1834, -3.4139, -3.4695, -3.167, -3.4417, -3.5737, -3.3998, -3.6076, -3.5681, -3.7485, -3.8867, -3.8581, -3.7921, -3.7271, -3.8689, -3.8804, -3.7287, -3.6714, -3.9603, -4.0161, -3.7759, -3.2079, -3.9609, -3.9256, -4.0635, -4.0386, -3.509, -3.6587, -3.34, -3.989, -4.1205, -3.3314, -3.6312, -3.3839, -3.8668, -3.2702, -3.0476, -3.5679, -4.113, -3.3696, -3.2192, -3.4329, -3.5759, -3.4755, -3.8287, -3.951, -3.4858, -3.777, -3.8141, -3.8081, -3.9079, -3.7906, -3.6077, -3.8974, -3.9816, -3.9036, -3.8527, -3.21, -3.871, -3.8175, -3.8066, -4.0193, -3.6867, -3.9893, -4.0553, -3.159, -4.1781, -3.6616, -4.1323, -4.0505, -3.4138, -3.1778, -3.6309, -3.5536, -3.7822, -4.089, -3.3835, -3.1623, -3.2276, -3.5521, -3.4929, -3.5546, -3.7251, -3.8969, -3.3073, -3.498, -3.8198, -3.7673, -3.7407, -3.5804, -3.2252, -3.7777, -3.7996, -3.7391, -3.9, -3.9103, -3.8928, -3.6817, -3.7676, -3.1932, -3.7696, -3.9314, -3.9472, -3.895, -3.9005, -3.7599, -3.7665, -4.1169, -3.4767, -3.6989, -4.0652, -3.9578, -3.8544, -3.5961, -3.5596, -3.5006, -3.4518, -3.4375, -3.491, -3.6604, -3.6772, -3.6735, -3.7971, -3.6157, -3.6276, -3.7794, -3.6884, -3.6993, -3.7226, -3.562, -3.6706, -3.6841, -3.5926, -3.8198, -3.8621, -3.7462, -3.8451, -3.7557, -3.9746, -3.8151, -3.8198, -3.6188, -4.0024, -3.764, -3.5831, -3.9845, -3.7953, -3.8166, -3.3272, -3.4927, -3.7723, -3.572, -3.8883, -3.3643, -3.4969, -3.5813, -3.5932, -3.5043, -3.6199, -3.5678, -3.746, -3.7904, -3.7116, -3.7119, -3.6959, -3.8112, -3.7091, -3.8216, -3.849, -3.8012, -3.7305, -3.8127, -3.7618, -3.7622, -3.9035, -3.4869, -3.6724, -3.7583, -3.6791, -3.9177, -3.9861, -3.6674, -3.7227, -3.9189, -3.5115, -3.8801, -3.8844, -3.665, -4.0355, -3.4284, -3.4398, -3.7268, -3.4666, -3.5391, -3.4498, -3.6565, -3.4413, -3.5308, -3.5834, -3.5047, -3.6904, -3.7315, -3.6252, -3.6285, -3.6158, -3.6816, -3.6822, -3.69, -3.6579, -3.6489, -3.7945, -3.6493, -3.7285, -3.6597, -3.5693, -3.6561, -3.8209, -3.6901, -3.719, -3.693, -3.7177, -3.6346, -3.857, -3.6511, -3.6786, -3.7397, -3.6626, -3.7013, -3.6406, -3.7128, -3.6387, -3.6117, -3.6463, -3.617, -3.6925, -3.6972, -3.7216, -3.5764, -3.4716, -3.5802, -3.5814, -3.6715, -3.6468, -3.7205, -3.6942, -3.7441, -3.5753, -3.7309, -3.6342, -3.6684, -3.7495, -3.8298, -3.8347, -3.6895, -3.5805, -3.8153, -3.7236, -3.6684, -3.628, -3.772, -3.9063, -3.7417, -3.6487, -3.7918, -3.5878, -3.7194, -3.6083, -3.5722, -3.7144, -3.6402, -3.7019, -3.6956, -3.7236, -3.731, -3.7432], \"loglift\": [30.0, 29.0, 28.0, 27.0, 26.0, 25.0, 24.0, 23.0, 22.0, 21.0, 20.0, 19.0, 18.0, 17.0, 16.0, 15.0, 14.0, 13.0, 12.0, 11.0, 10.0, 9.0, 8.0, 7.0, 6.0, 5.0, 4.0, 3.0, 2.0, 1.0, 1.0105, 0.2973, 0.272, 0.2542, 0.2231, 0.1872, 0.1492, 0.1475, 0.1301, 0.118, 0.087, 0.0843, 0.0781, 0.0609, 0.0546, 0.0493, 0.0377, 0.037, 0.0177, -0.0066, -0.0248, -0.0309, -0.0332, -0.055, -0.0614, -0.065, -0.0778, -0.1631, -0.166, -0.1732, -0.1784, -0.253, -0.1891, -0.2093, 0.4454, 0.2984, 0.2964, 0.2661, 0.2654, 0.2514, 0.1976, 0.167, 0.1499, 0.1493, 0.1458, 0.1415, 0.1043, 0.0582, 0.0582, 0.038, 0.0317, 0.0255, 0.0058, 0.0037, -0.0007, -0.0077, -0.0084, -0.0229, -0.0665, -0.0776, -0.1026, -0.12, -0.1287, -0.147, -0.1939, -0.1919, -0.1939, -0.1963, -0.2544, 0.4776, 0.4238, 0.4211, 0.3977, 0.3159, 0.2471, 0.2305, 0.2244, 0.212, 0.176, 0.172, 0.1488, 0.1412, 0.0878, 0.0764, 0.0561, 0.0459, -0.0189, -0.0207, -0.022, -0.0224, -0.0824, -0.096, -0.0961, -0.098, -0.1177, -0.1211, -0.137, -0.1511, -0.1556, -0.1785, -0.2005, -0.4103, 1.7079, 0.9518, 0.7822, 0.7393, 0.4905, 0.2667, 0.2369, 0.1989, 0.1126, 0.1106, 0.0857, 0.0532, 0.0237, 0.0097, 0.0069, -0.0024, -0.0321, -0.0624, -0.0661, -0.1266, -0.1817, -0.2066, -0.2401, -0.266, -0.2874, -0.2928, -0.3098, -0.3245, -0.3544, -0.3907, -0.4167, -0.5843, -0.6693, 0.7758, 0.5726, 0.5672, 0.5466, 0.4645, 0.3887, 0.2384, 0.2186, 0.1966, 0.1852, 0.1107, 0.0935, 0.0534, 0.0377, -0.0033, -0.0138, -0.0145, -0.0385, -0.0731, -0.0988, -0.1061, -0.1076, -0.1139, -0.1303, -0.2138, -0.2332, -0.2546, -0.3151, -0.3363, -0.3521, -0.3692, -0.4626, 2.0826, 0.9456, 0.5252, 0.5189, 0.5018, 0.4915, 0.4822, 0.2635, 0.1698, 0.1671, 0.162, 0.1162, 0.1057, 0.1001, 0.098, 0.0682, 0.0555, 0.0257, 0.0138, -0.0567, -0.0912, -0.1513, -0.1525, -0.2107, -0.245, -0.2496, -0.2509, -0.3608, -0.4012, -0.4359, -0.7961, 1.1921, 0.5645, 0.4202, 0.4082, 0.286, 0.2622, 0.1668, 0.1405, 0.129, 0.1201, 0.1125, 0.0821, 0.0751, 0.0666, 0.0538, 0.042, 0.0238, -0.0035, -0.0147, -0.0247, -0.0313, -0.0325, -0.0562, -0.0582, -0.0686, -0.0712, -0.0777, -0.0819, -0.1221, -0.1295, -0.2723, -0.302, -0.4039, -0.2342, 0.384, 0.2974, 0.2921, 0.2844, 0.224, 0.206, 0.1491, 0.144, 0.1295, 0.1157, 0.11, 0.101, 0.0862, 0.0755, 0.07, 0.0574, 0.0557, 0.0423, 0.0146, -0.008, -0.0297, -0.0374, -0.0408, -0.0441, -0.0494, -0.0541, -0.0606, -0.0671, -0.0712, -0.0888, -0.1613, -0.2022, -0.2216, 0.3784, 0.3611, 0.2343, 0.2172, 0.165, 0.1564, 0.1512, 0.1499, 0.1236, 0.1233, 0.1143, 0.1117, 0.1068, 0.1008, 0.0826, 0.0692, 0.0521, 0.043, 0.0171, 0.0115, 0.0049, -0.0019, -0.0028, -0.0195, -0.0242, -0.031, -0.0341, -0.0489, -0.0614, -0.1081, -0.1119, -0.1295, -0.138, -0.1635, -0.3948, -0.3513, -0.1341, 0.3683, 0.364, 0.3349, 0.219, 0.2139, 0.2127, 0.2097, 0.176, 0.1683, 0.1639, 0.1559, 0.1512, 0.1343, 0.1296, 0.1065, 0.0776, 0.0655, 0.0413, 0.0367, 0.0035, 0.0025, -0.0089, -0.0111, -0.0264, -0.0326, -0.0484, -0.0553, -0.0616, -0.0635, -0.0668, -0.0953, -0.2217, -0.2207, -0.3477, -0.3845, -0.2017, 0.5105, 0.417, 0.312, 0.2413, 0.2306, 0.2263, 0.2181, 0.2142, 0.1896, 0.1724, 0.1249, 0.121, 0.094, 0.0935, 0.085, 0.0747, 0.0722, 0.0563, 0.0341, 0.0042, -0.0211, -0.0251, -0.0255, -0.0779, -0.0857, -0.1023, -0.1062, -0.1072, -0.1232, -0.1278, -0.1786, -0.1797, -0.189, -0.2389, -0.302, -0.1572, -0.1697, 0.4605, 0.3869, 0.3336, 0.3139, 0.2315, 0.219, 0.2073, 0.2058, 0.2011, 0.1481, 0.1325, 0.1237, 0.1213, 0.1082, 0.0669, 0.0668, 0.0634, 0.0535, 0.0519, 0.047, 0.0428, 0.0041, -0.0127, -0.0301, -0.0375, -0.0426, -0.0518, -0.0724, -0.0901, -0.0993, -0.0995, -0.1289, -0.1801, -0.2789, -0.2341, -0.2261, -0.5342, 0.5306, 0.4417, 0.3858, 0.365, 0.2897, 0.2831, 0.2788, 0.265, 0.2613, 0.2147, 0.1702, 0.1681, 0.1583, 0.1348, 0.1332, 0.1313, 0.0972, 0.0908, 0.0627, 0.057, 0.0425, -0.0228, -0.043, -0.0476, -0.0531, -0.0538, -0.0606, -0.0724, -0.0934, -0.1032, -0.1079, -0.1514, -0.2295, -0.1928, -0.435, -0.2682, -0.3664, 0.3486, 0.3302, 0.3034, 0.2984, 0.2808, 0.2764, 0.2095, 0.2066, 0.2023, 0.169, 0.1615, 0.1608, 0.1537, 0.1434, 0.1073, 0.0886, 0.0705, 0.0623, 0.0372, 0.0339, 0.0289, 0.0274, -0.0207, -0.022, -0.0445, -0.05, -0.0685, -0.0827, -0.0869, -0.1112, -0.1146, -0.2036, -0.2207, -0.1949, -0.3425, -0.1325, -0.1444, 0.4495, 0.3321, 0.3311, 0.2818, 0.2214, 0.2174, 0.2091, 0.2069, 0.196, 0.1869, 0.1802, 0.1639, 0.147, 0.1416, 0.1301, 0.1287, 0.1199, 0.1078, 0.1062, 0.0428, 0.0388, 0.0343, 0.0198, -0.0132, -0.0328, -0.0448, -0.0597, -0.0727, -0.086, -0.0872, -0.1284, -0.1974, -0.212, -0.1905, -0.2807, -0.2439, -0.3857, -0.2877, 0.73, 0.6472, 0.3971, 0.3942, 0.3886, 0.3787, 0.346, 0.3265, 0.2976, 0.2789, 0.2776, 0.2418, 0.2163, 0.1966, 0.1691, 0.1684, 0.1657, 0.1591, 0.1428, 0.1379, 0.1075, 0.0569, 0.0401, 0.0311, 0.0042, -0.0028, -0.0633, -0.084, -0.1585, -0.2222, -0.2489, -0.2884, -0.3188, -0.4219, -0.5262, -0.321, -0.4222, -0.4718, -0.4161, 0.5458, 0.5204, 0.4376, 0.4158, 0.3907, 0.3865, 0.3733, 0.3667, 0.3488, 0.3441, 0.3095, 0.29, 0.2557, 0.2454, 0.2034, 0.203, 0.2029, 0.1882, 0.1878, 0.1429, 0.1142, 0.1128, 0.1126, 0.0784, 0.0002, -0.0165, -0.1188, -0.163, -0.191, -0.1922, -0.2314, -0.2418, -0.2197, -0.2538, -0.4887, -0.4077, -0.6029, -0.5442, -0.3095, 0.4499, 0.4334, 0.4084, 0.4058, 0.388, 0.3305, 0.3287, 0.2894, 0.2775, 0.2772, 0.2711, 0.2557, 0.2258, 0.209, 0.2058, 0.2007, 0.1946, 0.1914, 0.1618, 0.1494, 0.084, 0.0829, 0.0597, 0.0552, 0.0523, 0.0311, 0.0018, -0.0474, -0.1003, -0.1176, -0.1559, -0.1653, -0.2481, -0.1756, -0.4256, -0.3979, -0.3712, -0.5399, -0.3288, -0.4764, 0.5201, 0.5008, 0.4813, 0.4799, 0.4658, 0.462, 0.4464, 0.441, 0.4224, 0.388, 0.3806, 0.3732, 0.366, 0.3619, 0.3567, 0.3179, 0.2828, 0.2437, 0.2414, 0.2391, 0.2335, 0.2271, 0.1382, 0.0669, 0.0333, -0.0052, -0.0313, -0.1416, -0.1578, -0.2501, -0.2725, -0.362, -0.3115, -0.485, -0.5198, 0.6405, 0.6255, 0.5718, 0.5085, 0.4738, 0.4437, 0.441, 0.4351, 0.4335, 0.4326, 0.4171, 0.3837, 0.2907, 0.2879, 0.2793, 0.2695, 0.2458, 0.2363, 0.2176, 0.2131, 0.2054, 0.1786, 0.1062, 0.0955, -0.0456, -0.0775, -0.0959, -0.1069, -0.1101, -0.2345, -0.3704, -0.375, -0.6754, -0.4469, -0.5627, -0.4129, -0.5188, -0.3622]}, \"token.table\": {\"Topic\": [1, 2, 3, 4, 5, 6, 7, 1, 2, 3, 4, 5, 6, 7, 1, 2, 3, 4, 5, 6, 7, 1, 2, 3, 4, 5, 6, 7, 1, 2, 3, 4, 5, 6, 7, 1, 2, 3, 4, 5, 6, 7, 1, 2, 3, 4, 5, 6, 7, 1, 2, 3, 4, 5, 6, 7, 1, 2, 3, 4, 5, 6, 7, 1, 2, 3, 4, 5, 6, 7, 1, 2, 3, 4, 5, 6, 7, 1, 2, 3, 4, 5, 6, 7, 1, 2, 3, 4, 5, 6, 7, 1, 2, 3, 4, 5, 6, 7, 1, 2, 3, 4, 5, 6, 7, 1, 2, 3, 4, 5, 6, 7, 1, 2, 3, 4, 5, 6, 7, 1, 2, 3, 4, 5, 6, 7, 1, 2, 3, 4, 5, 6, 7, 1, 2, 3, 4, 5, 6, 7, 1, 2, 3, 4, 5, 6, 7, 1, 2, 3, 4, 5, 6, 7, 1, 2, 3, 4, 5, 6, 7, 1, 2, 3, 4, 5, 6, 7, 1, 2, 3, 4, 5, 6, 7, 1, 2, 3, 4, 5, 6, 7, 1, 2, 3, 4, 5, 6, 7, 1, 2, 3, 4, 5, 6, 7, 1, 2, 3, 4, 5, 6, 7, 1, 2, 3, 4, 5, 6, 7, 1, 2, 3, 4, 5, 6, 7, 1, 2, 3, 4, 5, 6, 7, 1, 2, 3, 5, 7, 1, 2, 3, 4, 5, 6, 7, 1, 2, 3, 4, 5, 6, 7, 1, 2, 3, 4, 5, 6, 7, 1, 2, 3, 4, 5, 6, 7, 1, 2, 3, 4, 5, 6, 7, 1, 2, 3, 4, 5, 6, 7, 1, 2, 3, 4, 5, 6, 7], \"Freq\": [0.30809259532923217, 0.28459400754988395, 0.1357696182806786, 0.04699717555869643, 0.13054770988526787, 0.054830038151812505, 0.039164312965580365, 0.006983608181137859, 0.013967216362275717, 0.018622955149700957, 0.2514098945209629, 0.1815738127095843, 0.43531157662425984, 0.0954426451422174, 0.28568064100191354, 0.18671937320386503, 0.12323478631455093, 0.2408679914329859, 0.08215652420970061, 0.020539131052425153, 0.06161739315727546, 0.30080813062874895, 0.21264023027204668, 0.11409963575573237, 0.11669280929563537, 0.2230129244316587, 0.005186347079806017, 0.028524908938933093, 0.3560430874815676, 0.3751594948631283, 0.11549496126359575, 0.01831989040732898, 0.1250531649543761, 0.0007965169742316948, 0.007965169742316949, 0.31927211937195166, 0.19776435740624826, 0.1734628050131076, 0.08296047196279059, 0.1282116384879491, 0.04189922826403565, 0.056144965873807774, 0.24795778257275622, 0.26759800297455866, 0.17676198361622225, 0.07610585405698458, 0.09083601935833643, 0.08838099180811113, 0.05155557855473149, 0.27724918592386366, 0.2938841370792955, 0.11829298599418184, 0.09241639530795455, 0.0831747557771591, 0.09241639530795455, 0.042511541841659096, 0.27327469649755204, 0.21673510411874816, 0.14606061364524334, 0.11590616437654792, 0.1149638378369012, 0.06125122507703752, 0.07161681701315156, 0.24753675690385007, 0.24043043852383522, 0.17055164112035603, 0.059219319833456956, 0.17765795950037086, 0.06395686542013351, 0.041453523883419864, 0.2886128430587799, 0.23910185324534905, 0.16543916108390314, 0.12800402244447978, 0.06520959633964064, 0.05675650051783538, 0.05796408563523613, 0.009927246069535368, 0.025810839780791957, 0.04963623034767684, 0.6333582992363566, 0.013898144497349515, 0.09133066383972539, 0.17670498003772955, 0.3811515588686061, 0.19802846354625903, 0.11285493083819062, 0.09582022429657695, 0.09049687850232267, 0.0638801495310513, 0.05749213457794617, 0.3322744930248817, 0.25034379611463686, 0.1274477507492697, 0.11075816434162723, 0.07282728614243981, 0.04703428896699238, 0.06068940511869985, 0.3360220960455491, 0.23397094095023419, 0.12196357560171782, 0.11449641791181674, 0.06969347177241018, 0.05973726151920873, 0.062226314082509095, 0.27626696144636625, 0.25571817919002493, 0.1735230501646598, 0.10046071325322409, 0.10046071325322409, 0.03653116845571785, 0.054796752683576776, 0.3076368084184756, 0.23760566503866, 0.12505561317824213, 0.08003559243407496, 0.12255450091467728, 0.08753892922476948, 0.037516683953472636, 0.2796838509745898, 0.2763739829157189, 0.1903174133850759, 0.08605656953064302, 0.07943683341290125, 0.034753614618144295, 0.052957888941934164, 0.32142262080496925, 0.22499583456347846, 0.1258905264819463, 0.11517643912178065, 0.10178382992157359, 0.05892748048091103, 0.050891914960786794, 0.3974942337417617, 0.20856178930894903, 0.12513707358536943, 0.08833205194261372, 0.06379537084744323, 0.07115637517599438, 0.046619694080823906, 0.3116120719401223, 0.27917661463780474, 0.13553387515611268, 0.07761341568768845, 0.09267273514947874, 0.04401954919600241, 0.05792045946842422, 0.24832023913986354, 0.24125421607490807, 0.16453739422682015, 0.1403110294326871, 0.0958960273101099, 0.046433865855421634, 0.0635942075845992, 0.208214653323917, 0.3083685372012442, 0.15023082581599076, 0.06589071307718893, 0.0737975986464516, 0.13968831172364052, 0.052712570461751145, 0.3437388610599878, 0.20669264848051552, 0.21118596692574412, 0.07189309512365757, 0.04942650289751458, 0.06515311745581467, 0.05391982134274318, 0.23916129517043386, 0.3241524992392657, 0.1442873929540634, 0.14626393258357112, 0.06127272851473925, 0.02767155481310805, 0.05731964925572382, 0.20017412223926961, 0.3138532533874968, 0.11862170206771533, 0.15074841304438824, 0.09885141838976277, 0.04942570919488139, 0.06919599287283394, 0.24487056177818964, 0.19688916791624708, 0.15883495899125813, 0.18696198297929345, 0.07114482538150105, 0.057908578798896194, 0.08107201031845468, 0.3430088817504524, 0.32446786111529285, 0.13442239960490704, 0.0857522204376131, 0.060258317064268666, 0.020858648214554538, 0.030129158532134333, 0.38791309656109807, 0.21437302704692263, 0.1173947529066481, 0.06380149614491745, 0.10718651352346131, 0.05869737645332405, 0.04848913707013726, 0.3692435627828269, 0.2468423817498456, 0.12036116134909827, 0.06426062004231518, 0.10710103340385864, 0.041820403519601944, 0.04998048225513403, 0.24976806372907273, 0.1986459454219526, 0.21179163298664064, 0.07595286148486423, 0.18257899395400054, 0.042358326597328126, 0.039437062694064114, 0.2869434956264871, 0.24794146709473155, 0.16157983248870147, 0.12536366313778563, 0.04178788771259521, 0.05571718361679361, 0.08078991624435074, 0.8112715024253628, 0.14041237541977433, 0.013001145872201327, 0.02860252091884292, 0.0026002291744402655, 0.2509147901498062, 0.2554357773597127, 0.22378886689036773, 0.12206665466747331, 0.0723357953585027, 0.027125923259438512, 0.04973085930897061, 0.22953495130268278, 0.24154550108014874, 0.20551385174775086, 0.08407384844226172, 0.10142242034304588, 0.08941187056557992, 0.04804219910986384, 0.24325377353424396, 0.17006237264783428, 0.0710387126250447, 0.29707098006836874, 0.1636043078637393, 0.004305376522729981, 0.05166451827275978, 0.3106771660962376, 0.2791591927241555, 0.1350770287374946, 0.1069359810838499, 0.09230263630395465, 0.024764121935207346, 0.05065388577656048, 0.3225246330599771, 0.27816250881009175, 0.09232117749300459, 0.10790786979701834, 0.15107101771582568, 0.011989763310779817, 0.03596928993233945, 0.2926096310260821, 0.22314115747312738, 0.15156757866099219, 0.12841142081000725, 0.09262463140393967, 0.05052252622033073, 0.061048052516232965, 0.3132137761755564, 0.3132137761755564, 0.0819821293345416, 0.09039055285603305, 0.11351371754013453, 0.03783790584671151, 0.05045054112894868], \"Term\": [\"area\", \"area\", \"area\", \"area\", \"area\", \"area\", \"area\", \"beach\", \"beach\", \"beach\", \"beach\", \"beach\", \"beach\", \"beach\", \"beautiful\", \"beautiful\", \"beautiful\", \"beautiful\", \"beautiful\", \"beautiful\", \"beautiful\", \"bus\", \"bus\", \"bus\", \"bus\", \"bus\", \"bus\", \"bus\", \"city\", \"city\", \"city\", \"city\", \"city\", \"city\", \"city\", \"day\", \"day\", \"day\", \"day\", \"day\", \"day\", \"day\", \"experience\", \"experience\", \"experience\", \"experience\", \"experience\", \"experience\", \"experience\", \"food\", \"food\", \"food\", \"food\", \"food\", \"food\", \"food\", \"good\", \"good\", \"good\", \"good\", \"good\", \"good\", \"good\", \"great\", \"great\", \"great\", \"great\", \"great\", \"great\", \"great\", \"hotel\", \"hotel\", \"hotel\", \"hotel\", \"hotel\", \"hotel\", \"hotel\", \"island\", \"island\", \"island\", \"island\", \"island\", \"island\", \"island\", \"just\", \"just\", \"just\", \"just\", \"just\", \"just\", \"just\", \"like\", \"like\", \"like\", \"like\", \"like\", \"like\", \"like\", \"look\", \"look\", \"look\", \"look\", \"look\", \"look\", \"look\", \"lot\", \"lot\", \"lot\", \"lot\", \"lot\", \"lot\", \"lot\", \"love\", \"love\", \"love\", \"love\", \"love\", \"love\", \"love\", \"make\", \"make\", \"make\", \"make\", \"make\", \"make\", \"make\", \"nice\", \"nice\", \"nice\", \"nice\", \"nice\", \"nice\", \"nice\", \"night\", \"night\", \"night\", \"night\", \"night\", \"night\", \"night\", \"people\", \"people\", \"people\", \"people\", \"people\", \"people\", \"people\", \"place\", \"place\", \"place\", \"place\", \"place\", \"place\", \"place\", \"price\", \"price\", \"price\", \"price\", \"price\", \"price\", \"price\", \"really\", \"really\", \"really\", \"really\", \"really\", \"really\", \"really\", \"restaurant\", \"restaurant\", \"restaurant\", \"restaurant\", \"restaurant\", \"restaurant\", \"restaurant\", \"shop\", \"shop\", \"shop\", \"shop\", \"shop\", \"shop\", \"shop\", \"stay\", \"stay\", \"stay\", \"stay\", \"stay\", \"stay\", \"stay\", \"street\", \"street\", \"street\", \"street\", \"street\", \"street\", \"street\", \"thing\", \"thing\", \"thing\", \"thing\", \"thing\", \"thing\", \"thing\", \"time\", \"time\", \"time\", \"time\", \"time\", \"time\", \"time\", \"tour\", \"tour\", \"tour\", \"tour\", \"tour\", \"tour\", \"tour\", \"tourist\", \"tourist\", \"tourist\", \"tourist\", \"tourist\", \"tourist\", \"tourist\", \"tower\", \"tower\", \"tower\", \"tower\", \"tower\", \"travel\", \"travel\", \"travel\", \"travel\", \"travel\", \"travel\", \"travel\", \"trip\", \"trip\", \"trip\", \"trip\", \"trip\", \"trip\", \"trip\", \"view\", \"view\", \"view\", \"view\", \"view\", \"view\", \"view\", \"visit\", \"visit\", \"visit\", \"visit\", \"visit\", \"visit\", \"visit\", \"walk\", \"walk\", \"walk\", \"walk\", \"walk\", \"walk\", \"walk\", \"want\", \"want\", \"want\", \"want\", \"want\", \"want\", \"want\", \"way\", \"way\", \"way\", \"way\", \"way\", \"way\", \"way\"]}, \"R\": 30, \"lambda.step\": 0.01, \"plot.opts\": {\"xlab\": \"PC1\", \"ylab\": \"PC2\"}, \"topic.order\": [17, 4, 20, 14, 19, 5, 2, 18, 12, 11, 8, 1, 7, 15, 13, 3, 6, 16, 9, 10]};\n",
       "\n",
       "function LDAvis_load_lib(url, callback){\n",
       "  var s = document.createElement('script');\n",
       "  s.src = url;\n",
       "  s.async = true;\n",
       "  s.onreadystatechange = s.onload = callback;\n",
       "  s.onerror = function(){console.warn(\"failed to load library \" + url);};\n",
       "  document.getElementsByTagName(\"head\")[0].appendChild(s);\n",
       "}\n",
       "\n",
       "if(typeof(LDAvis) !== \"undefined\"){\n",
       "   // already loaded: just create the visualization\n",
       "   !function(LDAvis){\n",
       "       new LDAvis(\"#\" + \"ldavis_el2627301400340758743528381199232\", ldavis_el2627301400340758743528381199232_data);\n",
       "   }(LDAvis);\n",
       "}else if(typeof define === \"function\" && define.amd){\n",
       "   // require.js is available: use it to load d3/LDAvis\n",
       "   require.config({paths: {d3: \"https://cdnjs.cloudflare.com/ajax/libs/d3/3.5.5/d3.min\"}});\n",
       "   require([\"d3\"], function(d3){\n",
       "      window.d3 = d3;\n",
       "      LDAvis_load_lib(\"https://cdn.rawgit.com/bmabey/pyLDAvis/files/ldavis.v1.0.0.js\", function(){\n",
       "        new LDAvis(\"#\" + \"ldavis_el2627301400340758743528381199232\", ldavis_el2627301400340758743528381199232_data);\n",
       "      });\n",
       "    });\n",
       "}else{\n",
       "    // require.js not available: dynamically load d3 & LDAvis\n",
       "    LDAvis_load_lib(\"https://cdnjs.cloudflare.com/ajax/libs/d3/3.5.5/d3.min.js\", function(){\n",
       "         LDAvis_load_lib(\"https://cdn.rawgit.com/bmabey/pyLDAvis/files/ldavis.v1.0.0.js\", function(){\n",
       "                 new LDAvis(\"#\" + \"ldavis_el2627301400340758743528381199232\", ldavis_el2627301400340758743528381199232_data);\n",
       "            })\n",
       "         });\n",
       "}\n",
       "</script>"
      ],
      "text/plain": [
       "PreparedData(topic_coordinates=                x           y  topics  cluster       Freq\n",
       "topic                                                    \n",
       "16     -10.878068   10.538728       1        1  29.556049\n",
       "3      -60.884026  -75.591820       2        1  24.052440\n",
       "19      -2.336119  -53.289074       3        1  13.833501\n",
       "13     -61.385319  -12.914634       4        1  11.471333\n",
       "18     -28.737743  126.296997       5        1  10.279587\n",
       "4        1.066606 -123.552811       6        1   5.412362\n",
       "1       45.140720   -7.947869       7        1   5.378714\n",
       "17    -140.795975  -98.530548       8        1   0.001232\n",
       "11      61.531681  -83.240562       9        1   0.001232\n",
       "10     -72.563057 -140.396881      10        1   0.001232\n",
       "7       15.984491   63.578186      11        1   0.001232\n",
       "0     -160.851624   68.945145      12        1   0.001232\n",
       "6       85.961830   51.922935      13        1   0.001232\n",
       "14     -99.020836  109.936348      14        1   0.001232\n",
       "12    -176.764130   -8.681684      15        1   0.001232\n",
       "2     -117.189880  -37.420200      16        1   0.001232\n",
       "5      108.829918  -22.946203      17        1   0.001232\n",
       "15      47.588097  121.934814      18        1   0.001232\n",
       "8     -106.467834   30.176889      19        1   0.001232\n",
       "9      -50.613804   59.328842      20        1   0.001232, topic_info=     Term         Freq        Total Category  logprob  loglift\n",
       "4    city  1255.000000  1255.000000  Default  30.0000  30.0000\n",
       "5     day  1193.000000  1193.000000  Default  29.0000  29.0000\n",
       "8    good  1061.000000  1061.000000  Default  28.0000  28.0000\n",
       "29   time   980.000000   980.000000  Default  27.0000  27.0000\n",
       "21  place   990.000000   990.000000  Default  26.0000  26.0000\n",
       "..    ...          ...          ...      ...      ...      ...\n",
       "12   just     0.007400   939.258916  Topic20  -3.7019  -0.4469\n",
       "8    good     0.007447  1061.203264  Topic20  -3.6956  -0.5627\n",
       "36  visit     0.007242   888.381993  Topic20  -3.7236  -0.4129\n",
       "29   time     0.007188   980.382697  Topic20  -3.7310  -0.5188\n",
       "10  hotel     0.007101   828.098977  Topic20  -3.7432  -0.3622\n",
       "\n",
       "[745 rows x 6 columns], token_table=      Topic      Freq  Term\n",
       "term                       \n",
       "0         1  0.308093  area\n",
       "0         2  0.284594  area\n",
       "0         3  0.135770  area\n",
       "0         4  0.046997  area\n",
       "0         5  0.130548  area\n",
       "...     ...       ...   ...\n",
       "39        3  0.081982   way\n",
       "39        4  0.090391   way\n",
       "39        5  0.113514   way\n",
       "39        6  0.037838   way\n",
       "39        7  0.050451   way\n",
       "\n",
       "[278 rows x 3 columns], R=30, lambda_step=0.01, plot_opts={'xlab': 'PC1', 'ylab': 'PC2'}, topic_order=[17, 4, 20, 14, 19, 5, 2, 18, 12, 11, 8, 1, 7, 15, 13, 3, 6, 16, 9, 10])"
      ]
     },
     "execution_count": 51,
     "metadata": {},
     "output_type": "execute_result"
    }
   ],
   "source": [
    "lda_model = LatentDirichletAllocation(n_components=20, # Number of topics\n",
    "                                      learning_method='online',\n",
    "                                      random_state=0,       \n",
    "                                      n_jobs = -1  # Use all available CPUs\n",
    "                                     )\n",
    "lda_output = lda_model.fit_transform(data_vectorized)\n",
    "\n",
    "pyLDAvis.enable_notebook()\n",
    "pyLDAvis.sklearn.prepare(lda_model, data_vectorized, vectorizer, mds='tsne')"
   ]
  },
  {
   "cell_type": "code",
   "execution_count": null,
   "metadata": {},
   "outputs": [],
   "source": []
  },
  {
   "cell_type": "code",
   "execution_count": null,
   "metadata": {},
   "outputs": [],
   "source": []
  },
  {
   "cell_type": "code",
   "execution_count": null,
   "metadata": {},
   "outputs": [],
   "source": []
  },
  {
   "cell_type": "code",
   "execution_count": null,
   "metadata": {},
   "outputs": [],
   "source": []
  },
  {
   "cell_type": "code",
   "execution_count": null,
   "metadata": {},
   "outputs": [],
   "source": []
  },
  {
   "cell_type": "code",
   "execution_count": null,
   "metadata": {
    "scrolled": true
   },
   "outputs": [],
   "source": [
    "def process(reviews):\n",
    "    reviews1=positive_review_string(reviews)\n",
    "\n",
    "    reviews1 = reviews1.lower()\n",
    "    # collecting a list of stop words from nltk and punctuation form\n",
    "    # string class and create single array.\n",
    "\n",
    "    #corpus= [remove_punctuation(corpus) for t in corpus]\n",
    "    reviews1= \" \".join(re.sub(\"([^0-9A-Za-z \\t])|(\\w+:\\/\\/\\S+)\", \" \", reviews1).split())\n",
    "\n",
    "    reviews1 = re.sub(r'[0-9]+', '', reviews1)\n",
    "    #print(x2) \n",
    "\n",
    "    # remove stop words from string.\n",
    "    stopset = [stopwords.words('english')]  \n",
    "    # word_tokenize is used to tokenize the input reviews1 in word tokens.\n",
    "    reviews1 = \" \".join([i for i in word_tokenize(reviews1) if i not in stopset])\n",
    "\n",
    "   \n",
    "    return(reviews1)"
   ]
  },
  {
   "cell_type": "code",
   "execution_count": null,
   "metadata": {},
   "outputs": [],
   "source": [
    "li = []"
   ]
  },
  {
   "cell_type": "code",
   "execution_count": null,
   "metadata": {},
   "outputs": [],
   "source": [
    "# Load in the dataframe\n",
    "san1 = pd.read_csv(\"../data/raw/trial/istanbul.csv\", names=['stars', 'title', 'text'])\n",
    "#../../../ each ../ goes up one folder level\n",
    "\n",
    "#remove reviews that are not in english\n",
    "san=san1[0:293]"
   ]
  },
  {
   "cell_type": "code",
   "execution_count": null,
   "metadata": {},
   "outputs": [],
   "source": [
    "# Load in the dataframe\n",
    "san1 = pd.read_csv(\"../data/raw/trial/paris.csv\", names=['stars', 'title', 'text'])\n",
    "#../../../ each ../ goes up one folder level\n",
    "\n",
    "#remove reviews that are not in english\n",
    "san=san1[0:471]"
   ]
  },
  {
   "cell_type": "code",
   "execution_count": null,
   "metadata": {},
   "outputs": [],
   "source": []
  },
  {
   "cell_type": "code",
   "execution_count": null,
   "metadata": {},
   "outputs": [],
   "source": []
  },
  {
   "cell_type": "code",
   "execution_count": null,
   "metadata": {},
   "outputs": [],
   "source": []
  },
  {
   "cell_type": "code",
   "execution_count": null,
   "metadata": {},
   "outputs": [],
   "source": []
  },
  {
   "cell_type": "code",
   "execution_count": null,
   "metadata": {},
   "outputs": [],
   "source": []
  },
  {
   "cell_type": "code",
   "execution_count": null,
   "metadata": {},
   "outputs": [],
   "source": [
    "li = []\n",
    "\n",
    "for filename in all_filenames:\n",
    "    df = pd.read_csv(filename, index_col=None, names=['stars', 'title', 'text', 'user', 'url'])\n",
    "    if (\"https://\" in df['user'])==False:\n",
    "        data=url.split(\"/\")\n",
    "        data2=data[-1]\n",
    "        attraction_name='_'.join(data2)\n",
    "        df['user_new'] = attraction_name        \n",
    "        df.groupby(['stars', 'title'],as_index=False).agg(''.join)    \n",
    "        #df.drop(['user_old'], axis=1)\n",
    "        li.append(df)"
   ]
  },
  {
   "cell_type": "code",
   "execution_count": null,
   "metadata": {},
   "outputs": [],
   "source": [
    "import pickle\n",
    "with open('../data/cleaned/phuket.pkl', 'wb') as f:    #../../../ each ../ goes up one folder level\n",
    "    pickle.dump(city_phuket, f)"
   ]
  },
  {
   "cell_type": "code",
   "execution_count": null,
   "metadata": {},
   "outputs": [],
   "source": [
    "\n"
   ]
  },
  {
   "cell_type": "code",
   "execution_count": null,
   "metadata": {},
   "outputs": [],
   "source": [
    "# Load in the dataframe\n",
    "san1 = pd.read_csv(\"../data/raw/trial/santorini.csv\", names=['stars', 'title', 'text'])\n",
    "#../../../ each ../ goes up one folder level\n",
    "\n",
    "#remove reviews that are not in english\n",
    "san=san1[0:163]"
   ]
  },
  {
   "cell_type": "code",
   "execution_count": null,
   "metadata": {},
   "outputs": [],
   "source": [
    "city_santorini=process(san)"
   ]
  },
  {
   "cell_type": "code",
   "execution_count": null,
   "metadata": {},
   "outputs": [],
   "source": [
    "import pickle\n",
    "with open('../data/cleaned/santorini.pkl', 'wb') as f:    #../../../ each ../ goes up one folder level\n",
    "    pickle.dump(city_santorini, f)"
   ]
  },
  {
   "cell_type": "code",
   "execution_count": null,
   "metadata": {
    "scrolled": true
   },
   "outputs": [],
   "source": [
    "# Load in the dataframe\n",
    "san1 = pd.read_csv(\"../data/raw/trial/cusco.csv\", names=['stars', 'title', 'text'])\n",
    "#../../../ each ../ goes up one folder level\n",
    "\n",
    "#remove reviews that are not in english\n",
    "san=san1[0:108]"
   ]
  },
  {
   "cell_type": "code",
   "execution_count": null,
   "metadata": {},
   "outputs": [],
   "source": [
    "city_cusco=process(san)"
   ]
  },
  {
   "cell_type": "code",
   "execution_count": null,
   "metadata": {},
   "outputs": [],
   "source": [
    "import pickle\n",
    "with open('../data/cleaned/cusco.pkl', 'wb') as f:    #../../../ each ../ goes up one folder level\n",
    "    pickle.dump(city_cusco, f)"
   ]
  },
  {
   "cell_type": "code",
   "execution_count": null,
   "metadata": {},
   "outputs": [],
   "source": []
  },
  {
   "cell_type": "code",
   "execution_count": null,
   "metadata": {},
   "outputs": [],
   "source": [
    "# Load in the dataframe\n",
    "san1 = pd.read_csv(\"../data/raw/trial/sydney.csv\", names=['stars', 'title', 'text'])\n",
    "#../../../ each ../ goes up one folder level\n",
    "\n",
    "#remove reviews that are not in english\n",
    "san=san1[0:122]"
   ]
  },
  {
   "cell_type": "code",
   "execution_count": null,
   "metadata": {},
   "outputs": [],
   "source": [
    "city_sydney=process(san)"
   ]
  },
  {
   "cell_type": "code",
   "execution_count": null,
   "metadata": {},
   "outputs": [],
   "source": [
    "import pickle\n",
    "with open('../data/cleaned/sydney.pkl', 'wb') as f:    #../../../ each ../ goes up one folder level\n",
    "    pickle.dump(city_sydney, f)"
   ]
  },
  {
   "cell_type": "code",
   "execution_count": null,
   "metadata": {},
   "outputs": [],
   "source": []
  },
  {
   "cell_type": "code",
   "execution_count": null,
   "metadata": {},
   "outputs": [],
   "source": [
    "# Load in the dataframe\n",
    "san1 = pd.read_csv(\"../data/raw/trial/paris.csv\", names=['stars', 'title', 'text'])\n",
    "#../../../ each ../ goes up one folder level\n",
    "\n",
    "#remove reviews that are not in english\n",
    "san=san1[0:471]"
   ]
  },
  {
   "cell_type": "code",
   "execution_count": null,
   "metadata": {},
   "outputs": [],
   "source": [
    "city_paris=process(san)"
   ]
  },
  {
   "cell_type": "code",
   "execution_count": null,
   "metadata": {},
   "outputs": [],
   "source": [
    "import pickle\n",
    "with open('../data/cleaned/paris.pkl', 'wb') as f:    #../../../ each ../ goes up one folder level\n",
    "    pickle.dump(city_paris, f)"
   ]
  },
  {
   "cell_type": "code",
   "execution_count": null,
   "metadata": {},
   "outputs": [],
   "source": []
  },
  {
   "cell_type": "code",
   "execution_count": null,
   "metadata": {},
   "outputs": [],
   "source": [
    "# Load in the dataframe\n",
    "san1 = pd.read_csv(\"../data/raw/trial/istanbul.csv\", names=['stars', 'title', 'text'])\n",
    "#../../../ each ../ goes up one folder level\n",
    "\n",
    "#remove reviews that are not in english\n",
    "san=san1[0:293]"
   ]
  },
  {
   "cell_type": "code",
   "execution_count": null,
   "metadata": {},
   "outputs": [],
   "source": [
    "city_istanbul=process(san)"
   ]
  },
  {
   "cell_type": "code",
   "execution_count": null,
   "metadata": {},
   "outputs": [],
   "source": [
    "import pickle\n",
    "with open('../data/cleaned/istanbul.pkl', 'wb') as f:    #../../../ each ../ goes up one folder level\n",
    "    pickle.dump(city_istanbul, f)"
   ]
  },
  {
   "cell_type": "code",
   "execution_count": null,
   "metadata": {},
   "outputs": [],
   "source": [
    "\n"
   ]
  },
  {
   "cell_type": "code",
   "execution_count": null,
   "metadata": {
    "scrolled": true
   },
   "outputs": [],
   "source": []
  },
  {
   "cell_type": "code",
   "execution_count": null,
   "metadata": {
    "scrolled": true
   },
   "outputs": [],
   "source": []
  },
  {
   "cell_type": "code",
   "execution_count": null,
   "metadata": {},
   "outputs": [],
   "source": []
  },
  {
   "cell_type": "code",
   "execution_count": null,
   "metadata": {},
   "outputs": [],
   "source": []
  },
  {
   "cell_type": "code",
   "execution_count": null,
   "metadata": {},
   "outputs": [],
   "source": []
  },
  {
   "cell_type": "code",
   "execution_count": null,
   "metadata": {},
   "outputs": [],
   "source": []
  },
  {
   "cell_type": "code",
   "execution_count": null,
   "metadata": {},
   "outputs": [],
   "source": []
  },
  {
   "cell_type": "code",
   "execution_count": null,
   "metadata": {},
   "outputs": [],
   "source": [
    "from sklearn.feature_extraction.text import TfidfVectorizer\n",
    "\n",
    "    \n",
    "# creating vocabulary using uni-gram and bi-gram\n",
    "tfidf_vectorizer = TfidfVectorizer(ngram_range=(1,2))\n",
    "tfidf_vectorizer.fit(x3)\n",
    "\n",
    "feature_vectors = tfidf_vectorizer.transform(x3)"
   ]
  },
  {
   "cell_type": "code",
   "execution_count": null,
   "metadata": {
    "scrolled": true
   },
   "outputs": [],
   "source": [
    "print(feature_vectors)"
   ]
  },
  {
   "cell_type": "code",
   "execution_count": null,
   "metadata": {},
   "outputs": [],
   "source": [
    "#from sklearn.feature_extraction.text import TfidfVectorizer \n",
    " \n",
    "# settings that you use for count vectorizer will go here\n",
    "#tfidf_vectorizer=TfidfVectorizer(use_idf=True)\n",
    " \n",
    "# just send in all your docs here\n",
    "#tfidf_vectorizer_vectors=tfidf_vectorizer.fit_transform(docs)\n",
    " "
   ]
  },
  {
   "cell_type": "code",
   "execution_count": null,
   "metadata": {},
   "outputs": [],
   "source": []
  },
  {
   "cell_type": "code",
   "execution_count": null,
   "metadata": {},
   "outputs": [],
   "source": [
    "# Load in the dataframe\n",
    "mill = pd.read_csv(\"../data/raw/LAmill.csv\", names=['stars', 'title', 'text', 'username'])\n",
    "#../../../ each ../ goes up one folder level"
   ]
  },
  {
   "cell_type": "code",
   "execution_count": null,
   "metadata": {},
   "outputs": [],
   "source": [
    "# Divide reviews into positive and negative based on the median grade for the dataset\n",
    "median_stars = 35\n",
    "\n",
    "mill.loc[mill['stars'] > median_stars, 'review_category'] = 'Positive' \n",
    "\n",
    "mill_pos = mill[mill['review_category'] == 'Positive']\n",
    "\n",
    "mill_texts_pos = mill_pos['text'].tolist()\n",
    "\n",
    "type(mill_texts_pos)\n",
    "\n",
    "# initialize an empty string \n",
    "str1 = \" \" \n",
    "    \n",
    "# return string   \n",
    "test=(str1.join(mill_texts_pos)) \n",
    "\n",
    "#print(test)\n",
    "\n",
    "mill1=pre_process(test)\n",
    "\n",
    "x=stemSentence(mill1)\n",
    "#print(x)\n",
    "\n",
    "import re\n",
    "\n",
    "x2 = re.sub(r'[0-9]+', '', x)\n",
    "#print(x2)\n",
    "\n",
    "mwordList = re.sub(\"[^\\w]\", \" \",  x2).split()\n",
    "\n",
    "#print(wordList)\n",
    "\n",
    "mill3 = collections.Counter(mwordList)"
   ]
  },
  {
   "cell_type": "code",
   "execution_count": null,
   "metadata": {},
   "outputs": [],
   "source": [
    "# Dataframes for most frequent common words in positive and negative reviews\n",
    "mill_common_pos = pd.DataFrame(mill3.most_common(15),\n",
    "                             columns=['words', 'count'])\n",
    "\n",
    "\n",
    "fig, ax = plt.subplots(figsize=(8, 8))\n",
    "\n",
    "# Plot horizontal bar graph\n",
    "mill_common_pos.sort_values(by='count').plot.barh(x='words',\n",
    "                      y='count',\n",
    "                      ax=ax,\n",
    "                      color=\"green\")\n",
    "\n",
    "ax.set_title(\"Common Words Found in Positive Reviews\")\n",
    "\n",
    "plt.show()"
   ]
  },
  {
   "cell_type": "code",
   "execution_count": null,
   "metadata": {
    "scrolled": false
   },
   "outputs": [],
   "source": [
    "fig, ax = plt.subplots(figsize=(8, 8))\n",
    "\n",
    "# Plot horizontal bar graph\n",
    "mill_common_pos.sort_values(by='count').plot.barh(x='words',\n",
    "                      y='count',\n",
    "                      ax=ax,\n",
    "                      color=\"green\")\n",
    "\n",
    "ax.set_title(\"Common Words Found in Positive Reviews\")\n",
    "\n",
    "plt.show()"
   ]
  },
  {
   "cell_type": "code",
   "execution_count": null,
   "metadata": {},
   "outputs": [],
   "source": [
    "# initialize an empty string \n",
    "str1 = \" \" \n",
    "    \n",
    "# return string   \n",
    "mill_wordstring=(str1.join(mwordList)) \n",
    "\n",
    "#print(mill_wordstring)\n",
    "#print(wordList)"
   ]
  },
  {
   "cell_type": "code",
   "execution_count": null,
   "metadata": {},
   "outputs": [],
   "source": [
    "import pickle\n",
    "with open('../data/cleaned/old_mill.pkl', 'wb') as f:    #../../../ each ../ goes up one folder level\n",
    "    pickle.dump(mill_wordstring, f)"
   ]
  },
  {
   "cell_type": "code",
   "execution_count": null,
   "metadata": {},
   "outputs": [],
   "source": []
  },
  {
   "cell_type": "code",
   "execution_count": null,
   "metadata": {},
   "outputs": [],
   "source": []
  },
  {
   "cell_type": "code",
   "execution_count": null,
   "metadata": {},
   "outputs": [],
   "source": []
  },
  {
   "cell_type": "code",
   "execution_count": null,
   "metadata": {},
   "outputs": [],
   "source": []
  },
  {
   "cell_type": "code",
   "execution_count": null,
   "metadata": {},
   "outputs": [],
   "source": []
  },
  {
   "cell_type": "code",
   "execution_count": null,
   "metadata": {},
   "outputs": [],
   "source": []
  },
  {
   "cell_type": "code",
   "execution_count": null,
   "metadata": {},
   "outputs": [],
   "source": []
  },
  {
   "cell_type": "code",
   "execution_count": null,
   "metadata": {},
   "outputs": [],
   "source": []
  },
  {
   "cell_type": "code",
   "execution_count": null,
   "metadata": {},
   "outputs": [],
   "source": [
    "# Load in the dataframe\n",
    "jur = pd.read_csv(\"../data/raw/LAjur.csv\", names=['stars', 'title', 'text', 'username'])\n",
    "#../../../ each ../ goes up one folder level\n",
    "\n",
    "#jur.head"
   ]
  },
  {
   "cell_type": "code",
   "execution_count": null,
   "metadata": {},
   "outputs": [],
   "source": [
    "median_stars = 35\n",
    "\n",
    "jur.loc[jur['stars'] > median_stars, 'review_category'] = 'Positive' \n",
    "\n",
    "jur_pos = jur[jur['review_category'] == 'Positive']\n",
    "\n",
    "jur_texts_pos = jur_pos['text'].tolist()\n",
    "\n",
    "type(jur_texts_pos)\n",
    "\n",
    "# initialize an empty string \n",
    "str1 = \" \" \n",
    "    \n",
    "# return string   \n",
    "test=(str1.join(jur_texts_pos)) \n",
    "\n",
    "#print(test)\n",
    "\n",
    "jur1=pre_process(test)\n",
    "\n",
    "x=stemSentence(jur1)\n",
    "#print(x)\n",
    "\n",
    "import re\n",
    "\n",
    "x2 = re.sub(r'[0-9]+', '', x)\n",
    "#print(x2)\n",
    "\n",
    "jwordList = re.sub(\"[^\\w]\", \" \",  x2).split()\n",
    "\n",
    "#print(wordList)\n",
    "\n",
    "jur3 = collections.Counter(jwordList)"
   ]
  },
  {
   "cell_type": "code",
   "execution_count": null,
   "metadata": {},
   "outputs": [],
   "source": [
    "# initialize an empty string \n",
    "str1 = \" \" \n",
    "    \n",
    "# return string   \n",
    "jur_wordstring=(str1.join(jwordList)) \n",
    "\n",
    "#print(mill_wordstring)\n",
    "#print(wordList)"
   ]
  },
  {
   "cell_type": "code",
   "execution_count": null,
   "metadata": {},
   "outputs": [],
   "source": [
    "import pickle\n",
    "with open('../data/cleaned/mus_jurrasic_tech.pkl', 'wb') as f:    #../../../ each ../ goes up one folder level\n",
    "    pickle.dump(jur_wordstring, f)"
   ]
  },
  {
   "cell_type": "code",
   "execution_count": null,
   "metadata": {},
   "outputs": [],
   "source": []
  },
  {
   "cell_type": "code",
   "execution_count": null,
   "metadata": {},
   "outputs": [],
   "source": [
    "# Load in the dataframe\n",
    "mbr = pd.read_csv(\"../data/raw/LAmusrel.csv\", names=['stars', 'title', 'text', 'username'])\n",
    "#../../../ each ../ goes up one folder level\n",
    "\n",
    "#mbr.head"
   ]
  },
  {
   "cell_type": "code",
   "execution_count": null,
   "metadata": {},
   "outputs": [],
   "source": [
    "median_stars = 35\n",
    "\n",
    "mbr.loc[mbr['stars'] > median_stars, 'review_category'] = 'Positive' \n",
    "\n",
    "mbr_pos = mbr[mbr['review_category'] == 'Positive']\n",
    "\n",
    "mbr_texts_pos = mbr_pos['text'].tolist()\n",
    "\n",
    "type(mbr_texts_pos)\n",
    "\n",
    "# initialize an empty string \n",
    "str1 = \" \" \n",
    "    \n",
    "# return string   \n",
    "test=(str1.join(mbr_texts_pos)) \n",
    "\n",
    "#print(test)\n",
    "\n",
    "mbr1=pre_process(test)\n",
    "\n",
    "x=stemSentence(mbr1)\n",
    "#print(x)\n",
    "\n",
    "import re\n",
    "\n",
    "x2 = re.sub(r'[0-9]+', '', x)\n",
    "#print(x2)\n",
    "\n",
    "mbrwordList = re.sub(\"[^\\w]\", \" \",  x2).split()\n",
    "\n",
    "#print(wordList)\n",
    "\n",
    "mbr3 = collections.Counter(mbrwordList)"
   ]
  },
  {
   "cell_type": "code",
   "execution_count": null,
   "metadata": {},
   "outputs": [],
   "source": [
    "# initialize an empty string \n",
    "str1 = \" \" \n",
    "    \n",
    "# return string   \n",
    "mbr_wordstring=(str1.join(mbrwordList)) \n",
    "\n",
    "#print(mill_wordstring)\n",
    "#print(wordList)"
   ]
  },
  {
   "cell_type": "code",
   "execution_count": null,
   "metadata": {},
   "outputs": [],
   "source": [
    "import pickle\n",
    "with open('../data/cleaned/mus_brok_relationships.pkl', 'wb') as f:    #../../../ each ../ goes up one folder level\n",
    "    pickle.dump(mbr_wordstring, f)"
   ]
  },
  {
   "cell_type": "code",
   "execution_count": null,
   "metadata": {},
   "outputs": [],
   "source": []
  },
  {
   "cell_type": "code",
   "execution_count": null,
   "metadata": {},
   "outputs": [],
   "source": []
  },
  {
   "cell_type": "code",
   "execution_count": null,
   "metadata": {},
   "outputs": [],
   "source": [
    "# Load in the dataframe\n",
    "bal = pd.read_csv(\"../data/raw/LAbalboa.csv\", names=['stars', 'title', 'text', 'username'])\n",
    "#../../../ each ../ goes up one folder level\n",
    "\n",
    "#jur.head"
   ]
  },
  {
   "cell_type": "code",
   "execution_count": null,
   "metadata": {},
   "outputs": [],
   "source": [
    "median_stars = 35\n",
    "\n",
    "bal.loc[bal['stars'] > median_stars, 'review_category'] = 'Positive' \n",
    "\n",
    "bal_pos = bal[bal['review_category'] == 'Positive']\n",
    "\n",
    "bal_texts_pos = bal_pos['text'].tolist()\n",
    "\n",
    "type(bal_texts_pos)\n",
    "\n",
    "# initialize an empty string \n",
    "str1 = \" \" \n",
    "    \n",
    "# return string   \n",
    "test=(str1.join(bal_texts_pos)) \n",
    "\n",
    "#print(test)\n",
    "\n",
    "bal1=pre_process(test)\n",
    "\n",
    "x=stemSentence(bal1)\n",
    "#print(x)\n",
    "\n",
    "import re\n",
    "\n",
    "x2 = re.sub(r'[0-9]+', '', x)\n",
    "#print(x2)\n",
    "\n",
    "bwordList = re.sub(\"[^\\w]\", \" \",  x2).split()\n",
    "\n",
    "#print(wordList)\n",
    "\n",
    "bal3 = collections.Counter(bwordList)"
   ]
  },
  {
   "cell_type": "code",
   "execution_count": null,
   "metadata": {},
   "outputs": [],
   "source": [
    "# initialize an empty string \n",
    "str1 = \" \" \n",
    "    \n",
    "# return string   \n",
    "bal_wordstring=(str1.join(bwordList)) \n",
    "\n",
    "#print(mill_wordstring)\n",
    "#print(wordList)"
   ]
  },
  {
   "cell_type": "code",
   "execution_count": null,
   "metadata": {},
   "outputs": [],
   "source": [
    "import pickle\n",
    "with open('../data/cleaned/balboa_island.pkl', 'wb') as f:    #../../../ each ../ goes up one folder level\n",
    "    pickle.dump(bal_wordstring, f)"
   ]
  },
  {
   "cell_type": "code",
   "execution_count": null,
   "metadata": {},
   "outputs": [],
   "source": []
  },
  {
   "cell_type": "code",
   "execution_count": null,
   "metadata": {},
   "outputs": [],
   "source": [
    "# Load in the dataframe\n",
    "tar = pd.read_csv(\"../data/raw/LAtarpit.csv\", names=['stars', 'title', 'text', 'username'])\n",
    "#../../../ each ../ goes up one folder level\n",
    "\n",
    "#jur.head"
   ]
  },
  {
   "cell_type": "code",
   "execution_count": null,
   "metadata": {},
   "outputs": [],
   "source": [
    "median_stars = 35\n",
    "\n",
    "tar.loc[tar['stars'] > median_stars, 'review_category'] = 'Positive' \n",
    "\n",
    "tar_pos = tar[tar['review_category'] == 'Positive']\n",
    "\n",
    "tar_texts_pos = tar_pos['text'].tolist()\n",
    "\n",
    "type(tar_texts_pos)\n",
    "\n",
    "# initialize an empty string \n",
    "str1 = \" \" \n",
    "    \n",
    "# return string   \n",
    "test=(str1.join(tar_texts_pos)) \n",
    "\n",
    "#print(test)\n",
    "\n",
    "tar1=pre_process(test)\n",
    "\n",
    "x=stemSentence(tar1)\n",
    "#print(x)\n",
    "\n",
    "import re\n",
    "\n",
    "x2 = re.sub(r'[0-9]+', '', x)\n",
    "#print(x2)\n",
    "\n",
    "bwordList = re.sub(\"[^\\w]\", \" \",  x2).split()\n",
    "\n",
    "#print(wordList)\n",
    "\n",
    "tar3 = collections.Counter(bwordList)"
   ]
  },
  {
   "cell_type": "code",
   "execution_count": null,
   "metadata": {},
   "outputs": [],
   "source": [
    "# initialize an empty string \n",
    "str1 = \" \" \n",
    "    \n",
    "# return string   \n",
    "tar_wordstring=(str1.join(bwordList)) \n",
    "\n",
    "#print(mill_wordstring)\n",
    "#print(wordList)"
   ]
  },
  {
   "cell_type": "code",
   "execution_count": null,
   "metadata": {},
   "outputs": [],
   "source": [
    "import pickle\n",
    "with open('../data/cleaned/labrea_tarpit.pkl', 'wb') as f:    #../../../ each ../ goes up one folder level\n",
    "    pickle.dump(tar_wordstring, f)"
   ]
  },
  {
   "cell_type": "code",
   "execution_count": null,
   "metadata": {},
   "outputs": [],
   "source": [
    "type(city_santorini)"
   ]
  },
  {
   "cell_type": "code",
   "execution_count": null,
   "metadata": {},
   "outputs": [],
   "source": [
    "reviews=[city_phuket, city_santorini, city_paris, city_istanbul, city_sydney, city_cusco, mbr_wordstring, bal_wordstring, jur_wordstring, mill_wordstring, tar_wordstring]"
   ]
  },
  {
   "cell_type": "code",
   "execution_count": null,
   "metadata": {},
   "outputs": [],
   "source": [
    "import pickle\n",
    "with open('../data/cleaned/old_mill.pkl', 'rb') as f:    #../../../ each ../ goes up one folder level\n",
    "    mill = pickle.load(f)\n",
    "\n",
    "import pickle\n",
    "with open('../data/cleaned/mus_jurrasic_tech.pkl', 'rb') as f:    #../../../ each ../ goes up one folder level\n",
    "    mjt = pickle.load(f)\n",
    "\n",
    "import pickle\n",
    "with open('../data/cleaned/mus_brok_relationships.pkl', 'rb') as f:    #../../../ each ../ goes up one folder level\n",
    "    mbr = pickle.load(f)\n",
    "\n",
    "import pickle\n",
    "with open('../data/cleaned/balboa_island.pkl', 'rb') as f:    #../../../ each ../ goes up one folder level\n",
    "    balboa = pickle.load(f)\n",
    "\n",
    "import pickle\n",
    "with open('../data/cleaned/labrea_tarpit.pkl', 'rb') as f:    #../../../ each ../ goes up one folder level\n",
    "    labrea = pickle.load(f)\n",
    "\n",
    "LAreviews=[mill, mjt, mbr, balboa, labrea]\n",
    "\n",
    "import pickle\n",
    "with open('../data/cleaned/LAreviews.pkl', 'wb') as f:    #../../../ each ../ goes up one folder level\n",
    "    pickle.dump(LAreviews, f)"
   ]
  },
  {
   "cell_type": "code",
   "execution_count": null,
   "metadata": {},
   "outputs": [],
   "source": []
  },
  {
   "cell_type": "code",
   "execution_count": null,
   "metadata": {},
   "outputs": [],
   "source": []
  },
  {
   "cell_type": "code",
   "execution_count": null,
   "metadata": {},
   "outputs": [],
   "source": []
  },
  {
   "cell_type": "code",
   "execution_count": null,
   "metadata": {},
   "outputs": [],
   "source": []
  },
  {
   "cell_type": "code",
   "execution_count": null,
   "metadata": {},
   "outputs": [],
   "source": [
    "#print(reviews)"
   ]
  },
  {
   "cell_type": "code",
   "execution_count": null,
   "metadata": {},
   "outputs": [],
   "source": [
    "#https://stackoverflow.com/questions/12118720/python-tf-idf-cosine-to-find-document-similarity\n",
    "tfidf = TfidfVectorizer().fit_transform(reviews)\n",
    "tfidf"
   ]
  },
  {
   "cell_type": "code",
   "execution_count": null,
   "metadata": {},
   "outputs": [],
   "source": [
    "#tfidf[0:1]"
   ]
  },
  {
   "cell_type": "code",
   "execution_count": null,
   "metadata": {},
   "outputs": [],
   "source": [
    "from sklearn.metrics.pairwise import linear_kernel\n",
    "cosine_similarities = linear_kernel(tfidf[0:1], tfidf).flatten()\n",
    "cosine_similarities"
   ]
  },
  {
   "cell_type": "code",
   "execution_count": null,
   "metadata": {},
   "outputs": [],
   "source": [
    "#phuket most similar to balboa island"
   ]
  },
  {
   "cell_type": "code",
   "execution_count": null,
   "metadata": {},
   "outputs": [],
   "source": [
    "from sklearn.metrics.pairwise import linear_kernel\n",
    "cosine_similarities = linear_kernel(tfidf[1:2], tfidf).flatten()\n",
    "cosine_similarities"
   ]
  },
  {
   "cell_type": "code",
   "execution_count": null,
   "metadata": {},
   "outputs": [],
   "source": [
    "#santorini most similar to istanbul. from LA, most similar to balboa"
   ]
  },
  {
   "cell_type": "code",
   "execution_count": null,
   "metadata": {},
   "outputs": [],
   "source": [
    "from sklearn.metrics.pairwise import linear_kernel\n",
    "cosine_similarities = linear_kernel(tfidf[2:3], tfidf).flatten()\n",
    "cosine_similarities"
   ]
  },
  {
   "cell_type": "code",
   "execution_count": null,
   "metadata": {},
   "outputs": [],
   "source": [
    "#paris most similar to museum of jurrasic technology"
   ]
  },
  {
   "cell_type": "code",
   "execution_count": null,
   "metadata": {},
   "outputs": [],
   "source": [
    "from sklearn.metrics.pairwise import linear_kernel\n",
    "cosine_similarities = linear_kernel(tfidf[4:5], tfidf).flatten()\n",
    "cosine_similarities"
   ]
  },
  {
   "cell_type": "code",
   "execution_count": null,
   "metadata": {},
   "outputs": [],
   "source": [
    "#istanbul most similar to balboa island"
   ]
  },
  {
   "cell_type": "code",
   "execution_count": null,
   "metadata": {},
   "outputs": [],
   "source": [
    "from sklearn.metrics.pairwise import linear_kernel\n",
    "cosine_similarities = linear_kernel(tfidf[5:6], tfidf).flatten()\n",
    "cosine_similarities"
   ]
  },
  {
   "cell_type": "code",
   "execution_count": null,
   "metadata": {},
   "outputs": [],
   "source": [
    "#cusco most similar to museum of jurrasic technology"
   ]
  },
  {
   "cell_type": "code",
   "execution_count": null,
   "metadata": {},
   "outputs": [],
   "source": []
  },
  {
   "cell_type": "code",
   "execution_count": null,
   "metadata": {},
   "outputs": [],
   "source": []
  },
  {
   "cell_type": "code",
   "execution_count": null,
   "metadata": {},
   "outputs": [],
   "source": []
  },
  {
   "cell_type": "code",
   "execution_count": null,
   "metadata": {},
   "outputs": [],
   "source": []
  },
  {
   "cell_type": "code",
   "execution_count": null,
   "metadata": {
    "scrolled": true
   },
   "outputs": [],
   "source": [
    "from sklearn.feature_extraction.text import TfidfVectorizer\n",
    "\n",
    "    \n",
    "# creating vocabulary using uni-gram and bi-gram\n",
    "tfidf_vectorizer = TfidfVectorizer(ngram_range=(1,2))\n",
    "tfidf_vectorizer.fit(reviews)\n",
    "\n",
    "feature_vectors = tfidf_vectorizer.transform(reviews)\n",
    "\n",
    "#print(feature_vectors)"
   ]
  },
  {
   "cell_type": "code",
   "execution_count": null,
   "metadata": {},
   "outputs": [],
   "source": []
  },
  {
   "cell_type": "code",
   "execution_count": null,
   "metadata": {},
   "outputs": [],
   "source": [
    "from sklearn.feature_extraction.text import TfidfVectorizer \n",
    " \n",
    "# settings that you use for count vectorizer will go here\n",
    "tfidf_vectorizer=TfidfVectorizer(use_idf=True)\n",
    " \n",
    "# just send in all your docs here\n",
    "tfidf_vectorizer_vectors=tfidf_vectorizer.fit_transform(reviews)"
   ]
  },
  {
   "cell_type": "code",
   "execution_count": null,
   "metadata": {},
   "outputs": [],
   "source": [
    "# get the first vector out (for the first document)\n",
    "first_vector_tfidfvectorizer=tfidf_vectorizer_vectors[0]\n",
    " \n",
    "# place tf-idf values in a pandas data frame\n",
    "df = pd.DataFrame(first_vector_tfidfvectorizer.T.todense(), index=tfidf_vectorizer.get_feature_names(), columns=[\"tfidf\"])\n",
    "df.sort_values(by=[\"tfidf\"],ascending=False)"
   ]
  },
  {
   "cell_type": "code",
   "execution_count": null,
   "metadata": {},
   "outputs": [],
   "source": [
    "# get the first vector out (for the first document)\n",
    "first_vector_tfidfvectorizer=tfidf_vectorizer_vectors[1]\n",
    " \n",
    "# place tf-idf values in a pandas data frame\n",
    "df = pd.DataFrame(first_vector_tfidfvectorizer.T.todense(), index=tfidf_vectorizer.get_feature_names(), columns=[\"tfidf\"])\n",
    "df.sort_values(by=[\"tfidf\"],ascending=False)"
   ]
  },
  {
   "cell_type": "code",
   "execution_count": null,
   "metadata": {},
   "outputs": [],
   "source": [
    "# get the first vector out (for the first document)\n",
    "first_vector_tfidfvectorizer=tfidf_vectorizer_vectors[2]\n",
    " \n",
    "# place tf-idf values in a pandas data frame\n",
    "df = pd.DataFrame(first_vector_tfidfvectorizer.T.todense(), index=tfidf_vectorizer.get_feature_names(), columns=[\"tfidf\"])\n",
    "df.sort_values(by=[\"tfidf\"],ascending=False)"
   ]
  },
  {
   "cell_type": "code",
   "execution_count": null,
   "metadata": {},
   "outputs": [],
   "source": [
    "# get the first vector out (for the first document)\n",
    "first_vector_tfidfvectorizer=tfidf_vectorizer_vectors[3]\n",
    " \n",
    "# place tf-idf values in a pandas data frame\n",
    "df = pd.DataFrame(first_vector_tfidfvectorizer.T.todense(), index=tfidf_vectorizer.get_feature_names(), columns=[\"tfidf\"])\n",
    "df.sort_values(by=[\"tfidf\"],ascending=False)"
   ]
  },
  {
   "cell_type": "code",
   "execution_count": null,
   "metadata": {},
   "outputs": [],
   "source": [
    "# get the first vector out (for the first document)\n",
    "first_vector_tfidfvectorizer=tfidf_vectorizer_vectors[4]\n",
    " \n",
    "# place tf-idf values in a pandas data frame\n",
    "df = pd.DataFrame(first_vector_tfidfvectorizer.T.todense(), index=tfidf_vectorizer.get_feature_names(), columns=[\"tfidf\"])\n",
    "df.sort_values(by=[\"tfidf\"],ascending=False)"
   ]
  },
  {
   "cell_type": "code",
   "execution_count": null,
   "metadata": {},
   "outputs": [],
   "source": [
    "# get the first vector out (for the first document)\n",
    "first_vector_tfidfvectorizer=tfidf_vectorizer_vectors[5]\n",
    " \n",
    "# place tf-idf values in a pandas data frame\n",
    "df = pd.DataFrame(first_vector_tfidfvectorizer.T.todense(), index=tfidf_vectorizer.get_feature_names(), columns=[\"tfidf\"])\n",
    "df.sort_values(by=[\"tfidf\"],ascending=False)"
   ]
  },
  {
   "cell_type": "code",
   "execution_count": null,
   "metadata": {},
   "outputs": [],
   "source": [
    "# get the first vector out (for the first document)\n",
    "first_vector_tfidfvectorizer=tfidf_vectorizer_vectors[6]\n",
    " \n",
    "# place tf-idf values in a pandas data frame\n",
    "df = pd.DataFrame(first_vector_tfidfvectorizer.T.todense(), index=tfidf_vectorizer.get_feature_names(), columns=[\"tfidf\"])\n",
    "df.sort_values(by=[\"tfidf\"],ascending=False)"
   ]
  },
  {
   "cell_type": "code",
   "execution_count": null,
   "metadata": {},
   "outputs": [],
   "source": []
  },
  {
   "cell_type": "code",
   "execution_count": null,
   "metadata": {},
   "outputs": [],
   "source": []
  },
  {
   "cell_type": "code",
   "execution_count": null,
   "metadata": {},
   "outputs": [],
   "source": []
  },
  {
   "cell_type": "code",
   "execution_count": null,
   "metadata": {},
   "outputs": [],
   "source": []
  },
  {
   "cell_type": "code",
   "execution_count": null,
   "metadata": {},
   "outputs": [],
   "source": []
  },
  {
   "cell_type": "code",
   "execution_count": null,
   "metadata": {},
   "outputs": [],
   "source": [
    "https://stackoverflow.com/questions/12118720/python-tf-idf-cosine-to-find-document-similarity"
   ]
  },
  {
   "cell_type": "code",
   "execution_count": null,
   "metadata": {},
   "outputs": [],
   "source": [
    "https://kavita-ganesan.com/tfidftransformer-tfidfvectorizer-usage-differences/#.XtXAERZlBEJ"
   ]
  },
  {
   "cell_type": "code",
   "execution_count": null,
   "metadata": {},
   "outputs": [],
   "source": [
    "https://towardsdatascience.com/natural-language-processing-feature-engineering-using-tf-idf-e8b9d00e7e76"
   ]
  },
  {
   "cell_type": "code",
   "execution_count": null,
   "metadata": {},
   "outputs": [],
   "source": [
    "https://medium.com/@Intellica.AI/comparison-of-different-word-embeddings-on-text-similarity-a-use-case-in-nlp-e83e08469c1c"
   ]
  },
  {
   "cell_type": "code",
   "execution_count": null,
   "metadata": {},
   "outputs": [],
   "source": []
  },
  {
   "cell_type": "code",
   "execution_count": null,
   "metadata": {},
   "outputs": [],
   "source": [
    "https://machinelearningmastery.com/prepare-text-data-machine-learning-scikit-learn/"
   ]
  },
  {
   "cell_type": "code",
   "execution_count": null,
   "metadata": {},
   "outputs": [],
   "source": []
  },
  {
   "cell_type": "code",
   "execution_count": null,
   "metadata": {},
   "outputs": [],
   "source": []
  },
  {
   "cell_type": "code",
   "execution_count": null,
   "metadata": {},
   "outputs": [],
   "source": []
  },
  {
   "cell_type": "code",
   "execution_count": null,
   "metadata": {},
   "outputs": [],
   "source": []
  },
  {
   "cell_type": "code",
   "execution_count": null,
   "metadata": {},
   "outputs": [],
   "source": []
  },
  {
   "cell_type": "code",
   "execution_count": null,
   "metadata": {},
   "outputs": [],
   "source": []
  },
  {
   "cell_type": "code",
   "execution_count": null,
   "metadata": {},
   "outputs": [],
   "source": []
  },
  {
   "cell_type": "code",
   "execution_count": null,
   "metadata": {},
   "outputs": [],
   "source": []
  },
  {
   "cell_type": "code",
   "execution_count": null,
   "metadata": {},
   "outputs": [],
   "source": []
  },
  {
   "cell_type": "code",
   "execution_count": null,
   "metadata": {},
   "outputs": [],
   "source": []
  },
  {
   "cell_type": "code",
   "execution_count": null,
   "metadata": {},
   "outputs": [],
   "source": []
  },
  {
   "cell_type": "code",
   "execution_count": null,
   "metadata": {},
   "outputs": [],
   "source": []
  },
  {
   "cell_type": "code",
   "execution_count": null,
   "metadata": {},
   "outputs": [],
   "source": []
  },
  {
   "cell_type": "code",
   "execution_count": null,
   "metadata": {},
   "outputs": [],
   "source": []
  },
  {
   "cell_type": "code",
   "execution_count": null,
   "metadata": {},
   "outputs": [],
   "source": []
  },
  {
   "cell_type": "code",
   "execution_count": null,
   "metadata": {},
   "outputs": [],
   "source": []
  },
  {
   "cell_type": "code",
   "execution_count": null,
   "metadata": {},
   "outputs": [],
   "source": []
  },
  {
   "cell_type": "code",
   "execution_count": null,
   "metadata": {},
   "outputs": [],
   "source": []
  },
  {
   "cell_type": "code",
   "execution_count": null,
   "metadata": {},
   "outputs": [],
   "source": []
  },
  {
   "cell_type": "code",
   "execution_count": null,
   "metadata": {},
   "outputs": [],
   "source": []
  },
  {
   "cell_type": "code",
   "execution_count": null,
   "metadata": {},
   "outputs": [],
   "source": []
  },
  {
   "cell_type": "code",
   "execution_count": null,
   "metadata": {},
   "outputs": [],
   "source": []
  },
  {
   "cell_type": "code",
   "execution_count": null,
   "metadata": {},
   "outputs": [],
   "source": []
  },
  {
   "cell_type": "code",
   "execution_count": null,
   "metadata": {},
   "outputs": [],
   "source": []
  },
  {
   "cell_type": "code",
   "execution_count": null,
   "metadata": {},
   "outputs": [],
   "source": []
  },
  {
   "cell_type": "code",
   "execution_count": null,
   "metadata": {},
   "outputs": [],
   "source": [
    "# Load in the dataframe\n",
    "san1 = pd.read_csv(\"../data/raw/santorini.csv\", names=['stars', 'title', 'text'])\n",
    "#../../../ each ../ goes up one folder level\n",
    "\n",
    "#remove reviews that are not in english\n",
    "san=san1[0:163]\n",
    "\n",
    "san.head"
   ]
  },
  {
   "cell_type": "code",
   "execution_count": null,
   "metadata": {},
   "outputs": [],
   "source": [
    "median_stars = 35\n",
    "\n",
    "san.loc[san['stars'] > median_stars, 'review_category'] = 'Positive' \n",
    "\n",
    "san_pos = san[san['review_category'] == 'Positive']\n",
    "\n",
    "san_texts_pos = san_pos['text'].tolist()\n",
    "\n",
    "san_clean_texts_pos = clean_text(san_texts_pos)\n",
    "\n",
    "# Dataframes for most frequent common words in positive and negative reviews\n",
    "san_common_pos = pd.DataFrame(san_clean_texts_pos.most_common(15),\n",
    "                             columns=['words', 'count'])"
   ]
  },
  {
   "cell_type": "code",
   "execution_count": null,
   "metadata": {},
   "outputs": [],
   "source": []
  },
  {
   "cell_type": "code",
   "execution_count": null,
   "metadata": {},
   "outputs": [],
   "source": []
  },
  {
   "cell_type": "code",
   "execution_count": null,
   "metadata": {},
   "outputs": [],
   "source": []
  },
  {
   "cell_type": "code",
   "execution_count": null,
   "metadata": {},
   "outputs": [],
   "source": []
  },
  {
   "cell_type": "code",
   "execution_count": null,
   "metadata": {},
   "outputs": [],
   "source": [
    "fig, ax = plt.subplots(figsize=(8, 8))\n",
    "\n",
    "# Plot horizontal bar graph\n",
    "san_common_pos.sort_values(by='count').plot.barh(x='words',\n",
    "                      y='count',\n",
    "                      ax=ax,\n",
    "                      color=\"green\")\n",
    "\n",
    "ax.set_title(\"Common Words Found in Positive Reviews\")\n",
    "\n",
    "plt.show()"
   ]
  },
  {
   "cell_type": "code",
   "execution_count": null,
   "metadata": {},
   "outputs": [],
   "source": []
  },
  {
   "cell_type": "code",
   "execution_count": null,
   "metadata": {},
   "outputs": [],
   "source": [
    "# Get an entropy shift\n",
    "entropy_shift = rs.EntropyShift(reference=san_clean_texts_pos,\n",
    "                                comparison=phu_clean_texts_pos,\n",
    "                                base=2)\n",
    "entropy_shift.get_shift_graph() "
   ]
  },
  {
   "cell_type": "code",
   "execution_count": null,
   "metadata": {},
   "outputs": [],
   "source": [
    "# Get a Jensen-Shannon divergence shift\n",
    "#The Jensen-Shannon divergence symmetrizes the Kullback-Leibler divergence by measuring the \n",
    "#average divergence of each text from another text representing their average. \n",
    "#The measure is symmetric, meaning there is no order in how the texts are specified.\n",
    "from shifterator import symmetric_shift as ss\n",
    "jsd_shift = ss.JSDivergenceShift(system_1=san_clean_texts_pos,\n",
    "                                 system_2=phu_clean_texts_pos,\n",
    "                                 base=2)\n",
    "jsd_shift.get_shift_graph()"
   ]
  },
  {
   "cell_type": "code",
   "execution_count": null,
   "metadata": {},
   "outputs": [],
   "source": []
  },
  {
   "cell_type": "code",
   "execution_count": null,
   "metadata": {},
   "outputs": [],
   "source": []
  },
  {
   "cell_type": "code",
   "execution_count": null,
   "metadata": {},
   "outputs": [],
   "source": []
  },
  {
   "cell_type": "code",
   "execution_count": null,
   "metadata": {},
   "outputs": [],
   "source": [
    "# Load in the dataframe\n",
    "jur = pd.read_csv(\"../data/raw/LAjur.csv\", names=['stars', 'title', 'text', 'username'])\n",
    "#../../../ each ../ goes up one folder level\n",
    "\n",
    "jur.head"
   ]
  },
  {
   "cell_type": "code",
   "execution_count": null,
   "metadata": {},
   "outputs": [],
   "source": [
    "median_stars = 35\n",
    "\n",
    "jur.loc[jur['stars'] > median_stars, 'review_category'] = 'Positive' \n",
    "\n",
    "jur_pos = jur[jur['review_category'] == 'Positive']\n",
    "\n",
    "jur_texts_pos = jur_pos['text'].tolist()\n",
    "\n",
    "jur_clean_texts_pos = clean_text(jur_texts_pos)\n",
    "\n",
    "# Dataframes for most frequent common words in positive and negative reviews\n",
    "jur_common_pos = pd.DataFrame(jur_clean_texts_pos.most_common(15),\n",
    "                             columns=['words', 'count'])"
   ]
  },
  {
   "cell_type": "code",
   "execution_count": null,
   "metadata": {},
   "outputs": [],
   "source": []
  },
  {
   "cell_type": "code",
   "execution_count": null,
   "metadata": {},
   "outputs": [],
   "source": [
    "# Load in the dataframe\n",
    "mbr = pd.read_csv(\"../data/raw/LAmusrel.csv\", names=['stars', 'title', 'text', 'username'])\n",
    "#../../../ each ../ goes up one folder level\n",
    "\n",
    "#mbr.head"
   ]
  },
  {
   "cell_type": "code",
   "execution_count": null,
   "metadata": {},
   "outputs": [],
   "source": [
    "median_stars = 35\n",
    "\n",
    "mbr.loc[mbr['stars'] > median_stars, 'review_category'] = 'Positive' \n",
    "\n",
    "mbr_pos = mbr[mbr['review_category'] == 'Positive']\n",
    "\n",
    "mbr_texts_pos = mbr_pos['text'].tolist()\n",
    "\n",
    "mbr_clean_texts_pos = clean_text(mbr_texts_pos)\n",
    "\n",
    "# Dataframes for most frequent common words in positive and negative reviews\n",
    "mbr_common_pos = pd.DataFrame(mbr_clean_texts_pos.most_common(15),\n",
    "                             columns=['words', 'count'])"
   ]
  },
  {
   "cell_type": "code",
   "execution_count": null,
   "metadata": {},
   "outputs": [],
   "source": []
  },
  {
   "cell_type": "code",
   "execution_count": null,
   "metadata": {},
   "outputs": [],
   "source": [
    "# Load in the dataframe\n",
    "mill = pd.read_csv(\"../data/raw/LAmill.csv\", names=['stars', 'title', 'text', 'username'])\n",
    "#../../../ each ../ goes up one folder level\n",
    "\n",
    "#mbr.head"
   ]
  },
  {
   "cell_type": "code",
   "execution_count": null,
   "metadata": {},
   "outputs": [],
   "source": [
    "median_stars = 35\n",
    "\n",
    "mill.loc[mill['stars'] > median_stars, 'review_category'] = 'Positive' \n",
    "\n",
    "mill_pos = mill[mill['review_category'] == 'Positive']\n",
    "\n",
    "mill_texts_pos = mill_pos['text'].tolist()\n"
   ]
  },
  {
   "cell_type": "code",
   "execution_count": null,
   "metadata": {},
   "outputs": [],
   "source": [
    "pip install unidecode"
   ]
  },
  {
   "cell_type": "code",
   "execution_count": null,
   "metadata": {},
   "outputs": [],
   "source": [
    "import nltk\n",
    "from nltk import word_tokenize\n",
    "from nltk.corpus import stopwords\n",
    "from unidecode import unidecode"
   ]
  },
  {
   "cell_type": "code",
   "execution_count": null,
   "metadata": {},
   "outputs": [],
   "source": [
    "corpus= mill_texts_pos\n",
    "\n",
    "#import stringdef pre_process(corpus):\n",
    "    # convert input corpus to lower case.\n",
    "corpus = corpus.lower()"
   ]
  },
  {
   "cell_type": "code",
   "execution_count": null,
   "metadata": {},
   "outputs": [],
   "source": [
    "\n",
    "    # collecting a list of stop words from nltk and punctuation form\n",
    "    # string class and create single array.\n",
    "    stopset = stopwords.words('english') + list(string.punctuation)\n",
    "    # remove stop words and punctuations from string.\n",
    "    # word_tokenize is used to tokenize the input corpus in word tokens.\n",
    "   corpus = \" \".join([i for i in word_tokenize(corpus) if i not in stopset])\n",
    "    # remove non-ascii characters\n",
    "    corpus = unidecode(corpus)\n",
    "    return corpuspre_process(\"Sample of non ASCII: Ceñía. How to remove stopwords and punctuations?\")"
   ]
  },
  {
   "cell_type": "code",
   "execution_count": null,
   "metadata": {},
   "outputs": [],
   "source": [
    "\n",
    "\n",
    "mill_clean_texts_pos = clean_text(mill_texts_pos)"
   ]
  },
  {
   "cell_type": "code",
   "execution_count": null,
   "metadata": {
    "scrolled": true
   },
   "outputs": [],
   "source": [
    "print(mill_clean_texts_pos)"
   ]
  },
  {
   "cell_type": "code",
   "execution_count": null,
   "metadata": {},
   "outputs": [],
   "source": [
    "#from nltk.stem import WordNetLemmatizer\n",
    "#from nltk.tokenize import word_tokenize\n",
    "from nltk.stem.snowball import SnowballStemmer\n",
    "stemmer = SnowballStemmer(\"english\")"
   ]
  },
  {
   "cell_type": "code",
   "execution_count": null,
   "metadata": {},
   "outputs": [],
   "source": [
    "mill_final= stemmer.stem(mill_clean_texts_pos)"
   ]
  },
  {
   "cell_type": "code",
   "execution_count": null,
   "metadata": {},
   "outputs": [],
   "source": [
    "\n",
    "print(stemmer.stem(\"Blessing\"))\n",
    "bless\n",
    "\n",
    "\n",
    "lemmatizer = WordNetLemmatizer()\n",
    "sentence = \"The striped bats are hanging on their feet for best\"\n",
    "words = word_tokenize(sentence)for w in words:\n",
    "    print(w, \" : \", lemmatizer.lemmatize(w)"
   ]
  },
  {
   "cell_type": "code",
   "execution_count": null,
   "metadata": {},
   "outputs": [],
   "source": [
    "\n",
    "# Dataframes for most frequent common words in positive and negative reviews\n",
    "mill_common_pos = pd.DataFrame(mill_clean_texts_pos.most_common(15),\n",
    "                             columns=['words', 'count'])"
   ]
  },
  {
   "cell_type": "code",
   "execution_count": null,
   "metadata": {},
   "outputs": [],
   "source": []
  },
  {
   "cell_type": "code",
   "execution_count": null,
   "metadata": {},
   "outputs": [],
   "source": [
    "# Load in the dataframe\n",
    "jur = pd.read_csv(\"../data/raw/LAjur.csv\", names=['stars', 'title', 'text', 'username'])\n",
    "#../../../ each ../ goes up one folder level\n",
    "\n",
    "jur.head"
   ]
  },
  {
   "cell_type": "code",
   "execution_count": null,
   "metadata": {},
   "outputs": [],
   "source": [
    "median_stars = 35\n",
    "\n",
    "jur.loc[jur['stars'] > median_stars, 'review_category'] = 'Positive' \n",
    "\n",
    "jur_pos = jur[jur['review_category'] == 'Positive']\n",
    "\n",
    "jur_texts_pos = jur_pos['text'].tolist()\n",
    "\n",
    "jur_clean_texts_pos = clean_text(jur_texts_pos)\n",
    "\n",
    "# Dataframes for most frequent common words in positive and negative reviews\n",
    "jur_common_pos = pd.DataFrame(jur_clean_texts_pos.most_common(15),\n",
    "                             columns=['words', 'count'])"
   ]
  },
  {
   "cell_type": "code",
   "execution_count": null,
   "metadata": {},
   "outputs": [],
   "source": []
  },
  {
   "cell_type": "code",
   "execution_count": null,
   "metadata": {},
   "outputs": [],
   "source": [
    "# Load in the dataframe\n",
    "mbr = pd.read_csv(\"../data/raw/LAmusrel.csv\", names=['stars', 'title', 'text', 'username'])\n",
    "#../../../ each ../ goes up one folder level\n",
    "\n",
    "#mbr.head"
   ]
  },
  {
   "cell_type": "code",
   "execution_count": null,
   "metadata": {},
   "outputs": [],
   "source": [
    "median_stars = 35\n",
    "\n",
    "mbr.loc[mbr['stars'] > median_stars, 'review_category'] = 'Positive' \n",
    "\n",
    "mbr_pos = mbr[mbr['review_category'] == 'Positive']\n",
    "\n",
    "mbr_texts_pos = mbr_pos['text'].tolist()\n",
    "\n",
    "mbr_clean_texts_pos = clean_text(mbr_texts_pos)\n",
    "\n",
    "# Dataframes for most frequent common words in positive and negative reviews\n",
    "mbr_common_pos = pd.DataFrame(mbr_clean_texts_pos.most_common(15),\n",
    "                             columns=['words', 'count'])"
   ]
  },
  {
   "cell_type": "code",
   "execution_count": null,
   "metadata": {},
   "outputs": [],
   "source": [
    "fig, ax = plt.subplots(figsize=(8, 8))\n",
    "\n",
    "# Plot horizontal bar graph\n",
    "jur_common_pos.sort_values(by='count').plot.barh(x='words',\n",
    "                      y='count',\n",
    "                      ax=ax,\n",
    "                      color=\"green\")\n",
    "\n",
    "ax.set_title(\"Common Words Found in Positive Reviews\")\n",
    "\n",
    "plt.show()"
   ]
  },
  {
   "cell_type": "code",
   "execution_count": null,
   "metadata": {},
   "outputs": [],
   "source": [
    "fig, ax = plt.subplots(figsize=(8, 8))\n",
    "\n",
    "# Plot horizontal bar graph\n",
    "mbr_common_pos.sort_values(by='count').plot.barh(x='words',\n",
    "                      y='count',\n",
    "                      ax=ax,\n",
    "                      color=\"green\")\n",
    "\n",
    "ax.set_title(\"Common Words Found in Positive Reviews\")\n",
    "\n",
    "plt.show()"
   ]
  },
  {
   "cell_type": "code",
   "execution_count": null,
   "metadata": {
    "scrolled": true
   },
   "outputs": [],
   "source": [
    "# Get an entropy shift\n",
    "entropy_shift = rs.EntropyShift(reference=jur_clean_texts_pos,\n",
    "                                comparison=mbr_clean_texts_pos,\n",
    "                                base=2)\n",
    "entropy_shift.get_shift_graph() \n"
   ]
  },
  {
   "cell_type": "code",
   "execution_count": null,
   "metadata": {},
   "outputs": [],
   "source": [
    "# Get a Jensen-Shannon divergence shift\n",
    "#The Jensen-Shannon divergence symmetrizes the Kullback-Leibler divergence by measuring the \n",
    "#average divergence of each text from another text representing their average. \n",
    "#The measure is symmetric, meaning there is no order in how the texts are specified.\n",
    "from shifterator import symmetric_shift as ss\n",
    "jsd_shift = ss.JSDivergenceShift(system_1=jur_clean_texts_pos,\n",
    "                                 system_2=mbr_clean_texts_pos,\n",
    "                                 base=2)\n",
    "jsd_shift.get_shift_graph()"
   ]
  },
  {
   "cell_type": "code",
   "execution_count": null,
   "metadata": {},
   "outputs": [],
   "source": []
  },
  {
   "cell_type": "code",
   "execution_count": null,
   "metadata": {},
   "outputs": [],
   "source": []
  },
  {
   "cell_type": "code",
   "execution_count": null,
   "metadata": {},
   "outputs": [],
   "source": []
  },
  {
   "cell_type": "code",
   "execution_count": null,
   "metadata": {},
   "outputs": [],
   "source": []
  }
 ],
 "metadata": {
  "kernelspec": {
   "display_name": "Python 3",
   "language": "python",
   "name": "python3"
  },
  "language_info": {
   "codemirror_mode": {
    "name": "ipython",
    "version": 3
   },
   "file_extension": ".py",
   "mimetype": "text/x-python",
   "name": "python",
   "nbconvert_exporter": "python",
   "pygments_lexer": "ipython3",
   "version": "3.8.3"
  }
 },
 "nbformat": 4,
 "nbformat_minor": 4
}
